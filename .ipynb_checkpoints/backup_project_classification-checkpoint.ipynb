{
 "cells": [
  {
   "cell_type": "markdown",
   "metadata": {},
   "source": [
    "# Project classification"
   ]
  },
  {
   "cell_type": "markdown",
   "metadata": {},
   "source": [
    "## Import libraries"
   ]
  },
  {
   "cell_type": "code",
   "execution_count": 399,
   "metadata": {},
   "outputs": [],
   "source": [
    "# Import pandas, numpy\n",
    "import pandas as pd\n",
    "import numpy as np\n",
    "\n",
    "# Import warnings\n",
    "import warnings\n",
    "warnings.filterwarnings('ignore')\n",
    "\n",
    "# Import matplotlib for plots\n",
    "import matplotlib.pyplot as plt\n",
    "import seaborn as sns\n",
    "%matplotlib inline\n",
    "\n",
    "pd.set_option('display.max_columns', 500)"
   ]
  },
  {
   "cell_type": "markdown",
   "metadata": {},
   "source": [
    "## Expore csv file before importing in SQL"
   ]
  },
  {
   "cell_type": "code",
   "execution_count": 400,
   "metadata": {},
   "outputs": [
    {
     "data": {
      "text/html": [
       "<div>\n",
       "<style scoped>\n",
       "    .dataframe tbody tr th:only-of-type {\n",
       "        vertical-align: middle;\n",
       "    }\n",
       "\n",
       "    .dataframe tbody tr th {\n",
       "        vertical-align: top;\n",
       "    }\n",
       "\n",
       "    .dataframe thead th {\n",
       "        text-align: right;\n",
       "    }\n",
       "</style>\n",
       "<table border=\"1\" class=\"dataframe\">\n",
       "  <thead>\n",
       "    <tr style=\"text-align: right;\">\n",
       "      <th></th>\n",
       "      <th>1</th>\n",
       "      <th>No</th>\n",
       "      <th>Air Miles</th>\n",
       "      <th>Letter</th>\n",
       "      <th>High</th>\n",
       "      <th>1.1</th>\n",
       "      <th>No.1</th>\n",
       "      <th>High.1</th>\n",
       "      <th>2</th>\n",
       "      <th>1.2</th>\n",
       "      <th>4</th>\n",
       "      <th>No.2</th>\n",
       "      <th>1160.75</th>\n",
       "      <th>1669</th>\n",
       "      <th>877</th>\n",
       "      <th>1095</th>\n",
       "      <th>1002</th>\n",
       "    </tr>\n",
       "  </thead>\n",
       "  <tbody>\n",
       "    <tr>\n",
       "      <th>0</th>\n",
       "      <td>2</td>\n",
       "      <td>No</td>\n",
       "      <td>Air Miles</td>\n",
       "      <td>Letter</td>\n",
       "      <td>Medium</td>\n",
       "      <td>1</td>\n",
       "      <td>No</td>\n",
       "      <td>Medium</td>\n",
       "      <td>2</td>\n",
       "      <td>2</td>\n",
       "      <td>5</td>\n",
       "      <td>Yes</td>\n",
       "      <td>147.25</td>\n",
       "      <td>39.0</td>\n",
       "      <td>106.0</td>\n",
       "      <td>78.0</td>\n",
       "      <td>366.0</td>\n",
       "    </tr>\n",
       "    <tr>\n",
       "      <th>1</th>\n",
       "      <td>3</td>\n",
       "      <td>No</td>\n",
       "      <td>Air Miles</td>\n",
       "      <td>Postcard</td>\n",
       "      <td>High</td>\n",
       "      <td>2</td>\n",
       "      <td>No</td>\n",
       "      <td>Medium</td>\n",
       "      <td>2</td>\n",
       "      <td>1</td>\n",
       "      <td>2</td>\n",
       "      <td>Yes</td>\n",
       "      <td>276.50</td>\n",
       "      <td>367.0</td>\n",
       "      <td>352.0</td>\n",
       "      <td>145.0</td>\n",
       "      <td>242.0</td>\n",
       "    </tr>\n",
       "    <tr>\n",
       "      <th>2</th>\n",
       "      <td>4</td>\n",
       "      <td>No</td>\n",
       "      <td>Air Miles</td>\n",
       "      <td>Letter</td>\n",
       "      <td>Medium</td>\n",
       "      <td>2</td>\n",
       "      <td>No</td>\n",
       "      <td>High</td>\n",
       "      <td>1</td>\n",
       "      <td>1</td>\n",
       "      <td>4</td>\n",
       "      <td>No</td>\n",
       "      <td>1219.00</td>\n",
       "      <td>1578.0</td>\n",
       "      <td>1760.0</td>\n",
       "      <td>1119.0</td>\n",
       "      <td>419.0</td>\n",
       "    </tr>\n",
       "    <tr>\n",
       "      <th>3</th>\n",
       "      <td>5</td>\n",
       "      <td>No</td>\n",
       "      <td>Air Miles</td>\n",
       "      <td>Letter</td>\n",
       "      <td>Medium</td>\n",
       "      <td>1</td>\n",
       "      <td>No</td>\n",
       "      <td>Medium</td>\n",
       "      <td>2</td>\n",
       "      <td>1</td>\n",
       "      <td>6</td>\n",
       "      <td>Yes</td>\n",
       "      <td>1211.00</td>\n",
       "      <td>2140.0</td>\n",
       "      <td>1357.0</td>\n",
       "      <td>982.0</td>\n",
       "      <td>365.0</td>\n",
       "    </tr>\n",
       "    <tr>\n",
       "      <th>4</th>\n",
       "      <td>6</td>\n",
       "      <td>No</td>\n",
       "      <td>Air Miles</td>\n",
       "      <td>Letter</td>\n",
       "      <td>Medium</td>\n",
       "      <td>1</td>\n",
       "      <td>No</td>\n",
       "      <td>High</td>\n",
       "      <td>3</td>\n",
       "      <td>1</td>\n",
       "      <td>4</td>\n",
       "      <td>No</td>\n",
       "      <td>1114.75</td>\n",
       "      <td>1847.0</td>\n",
       "      <td>1365.0</td>\n",
       "      <td>750.0</td>\n",
       "      <td>497.0</td>\n",
       "    </tr>\n",
       "  </tbody>\n",
       "</table>\n",
       "</div>"
      ],
      "text/plain": [
       "   1  No  Air Miles    Letter    High  1.1 No.1  High.1  2  1.2  4 No.2  \\\n",
       "0  2  No  Air Miles    Letter  Medium    1   No  Medium  2    2  5  Yes   \n",
       "1  3  No  Air Miles  Postcard    High    2   No  Medium  2    1  2  Yes   \n",
       "2  4  No  Air Miles    Letter  Medium    2   No    High  1    1  4   No   \n",
       "3  5  No  Air Miles    Letter  Medium    1   No  Medium  2    1  6  Yes   \n",
       "4  6  No  Air Miles    Letter  Medium    1   No    High  3    1  4   No   \n",
       "\n",
       "   1160.75    1669     877    1095   1002  \n",
       "0   147.25    39.0   106.0    78.0  366.0  \n",
       "1   276.50   367.0   352.0   145.0  242.0  \n",
       "2  1219.00  1578.0  1760.0  1119.0  419.0  \n",
       "3  1211.00  2140.0  1357.0   982.0  365.0  \n",
       "4  1114.75  1847.0  1365.0   750.0  497.0  "
      ]
     },
     "execution_count": 400,
     "metadata": {},
     "output_type": "execute_result"
    }
   ],
   "source": [
    "df = pd.read_csv(\"../data_files/creditcardmarketing.csv\")\n",
    "df.head()"
   ]
  },
  {
   "cell_type": "code",
   "execution_count": 401,
   "metadata": {},
   "outputs": [
    {
     "data": {
      "text/plain": [
       "1              int64\n",
       "No            object\n",
       "Air Miles     object\n",
       "Letter        object\n",
       "High          object\n",
       "1.1            int64\n",
       "No.1          object\n",
       "High.1        object\n",
       "2              int64\n",
       "1.2            int64\n",
       "4              int64\n",
       "No.2          object\n",
       "1160.75      float64\n",
       "1669         float64\n",
       "877          float64\n",
       "1095         float64\n",
       "1002         float64\n",
       "dtype: object"
      ]
     },
     "execution_count": 401,
     "metadata": {},
     "output_type": "execute_result"
    }
   ],
   "source": [
    "df.dtypes"
   ]
  },
  {
   "cell_type": "markdown",
   "metadata": {},
   "source": [
    "## Import library for SQL connection"
   ]
  },
  {
   "cell_type": "code",
   "execution_count": 402,
   "metadata": {},
   "outputs": [
    {
     "name": "stdout",
     "output_type": "stream",
     "text": [
      "········\n"
     ]
    }
   ],
   "source": [
    "# Import for connection SQL\n",
    "import pymysql\n",
    "from sqlalchemy import create_engine\n",
    "import getpass  # To get the password without showing the input\n",
    "password = getpass.getpass()"
   ]
  },
  {
   "cell_type": "code",
   "execution_count": 403,
   "metadata": {},
   "outputs": [
    {
     "data": {
      "text/html": [
       "<div>\n",
       "<style scoped>\n",
       "    .dataframe tbody tr th:only-of-type {\n",
       "        vertical-align: middle;\n",
       "    }\n",
       "\n",
       "    .dataframe tbody tr th {\n",
       "        vertical-align: top;\n",
       "    }\n",
       "\n",
       "    .dataframe thead th {\n",
       "        text-align: right;\n",
       "    }\n",
       "</style>\n",
       "<table border=\"1\" class=\"dataframe\">\n",
       "  <thead>\n",
       "    <tr style=\"text-align: right;\">\n",
       "      <th></th>\n",
       "      <th>customer_id</th>\n",
       "      <th>offer_accepted</th>\n",
       "      <th>reward</th>\n",
       "      <th>mailer_type</th>\n",
       "      <th>income_level</th>\n",
       "      <th>nr_of_bank_accounts_open</th>\n",
       "      <th>overdraft_protection</th>\n",
       "      <th>credit_rating</th>\n",
       "      <th>credit_cards_held</th>\n",
       "      <th>nr_of_homes_owned</th>\n",
       "      <th>household_size</th>\n",
       "      <th>own_your_home</th>\n",
       "      <th>average_balance</th>\n",
       "      <th>balance_q1</th>\n",
       "      <th>balance_q2</th>\n",
       "      <th>balance_q3</th>\n",
       "    </tr>\n",
       "  </thead>\n",
       "  <tbody>\n",
       "    <tr>\n",
       "      <th>0</th>\n",
       "      <td>1</td>\n",
       "      <td>No</td>\n",
       "      <td>Air Miles</td>\n",
       "      <td>Letter</td>\n",
       "      <td>High</td>\n",
       "      <td>1</td>\n",
       "      <td>No</td>\n",
       "      <td>High</td>\n",
       "      <td>2</td>\n",
       "      <td>1</td>\n",
       "      <td>4</td>\n",
       "      <td>No</td>\n",
       "      <td>1160.75</td>\n",
       "      <td>1669.0</td>\n",
       "      <td>877.0</td>\n",
       "      <td>1095.0</td>\n",
       "    </tr>\n",
       "    <tr>\n",
       "      <th>1</th>\n",
       "      <td>2</td>\n",
       "      <td>No</td>\n",
       "      <td>Air Miles</td>\n",
       "      <td>Letter</td>\n",
       "      <td>Medium</td>\n",
       "      <td>1</td>\n",
       "      <td>No</td>\n",
       "      <td>Medium</td>\n",
       "      <td>2</td>\n",
       "      <td>2</td>\n",
       "      <td>5</td>\n",
       "      <td>Yes</td>\n",
       "      <td>147.25</td>\n",
       "      <td>39.0</td>\n",
       "      <td>106.0</td>\n",
       "      <td>78.0</td>\n",
       "    </tr>\n",
       "    <tr>\n",
       "      <th>2</th>\n",
       "      <td>3</td>\n",
       "      <td>No</td>\n",
       "      <td>Air Miles</td>\n",
       "      <td>Postcard</td>\n",
       "      <td>High</td>\n",
       "      <td>2</td>\n",
       "      <td>No</td>\n",
       "      <td>Medium</td>\n",
       "      <td>2</td>\n",
       "      <td>1</td>\n",
       "      <td>2</td>\n",
       "      <td>Yes</td>\n",
       "      <td>276.50</td>\n",
       "      <td>367.0</td>\n",
       "      <td>352.0</td>\n",
       "      <td>145.0</td>\n",
       "    </tr>\n",
       "    <tr>\n",
       "      <th>3</th>\n",
       "      <td>4</td>\n",
       "      <td>No</td>\n",
       "      <td>Air Miles</td>\n",
       "      <td>Letter</td>\n",
       "      <td>Medium</td>\n",
       "      <td>2</td>\n",
       "      <td>No</td>\n",
       "      <td>High</td>\n",
       "      <td>1</td>\n",
       "      <td>1</td>\n",
       "      <td>4</td>\n",
       "      <td>No</td>\n",
       "      <td>1219.00</td>\n",
       "      <td>1578.0</td>\n",
       "      <td>1760.0</td>\n",
       "      <td>1119.0</td>\n",
       "    </tr>\n",
       "    <tr>\n",
       "      <th>4</th>\n",
       "      <td>5</td>\n",
       "      <td>No</td>\n",
       "      <td>Air Miles</td>\n",
       "      <td>Letter</td>\n",
       "      <td>Medium</td>\n",
       "      <td>1</td>\n",
       "      <td>No</td>\n",
       "      <td>Medium</td>\n",
       "      <td>2</td>\n",
       "      <td>1</td>\n",
       "      <td>6</td>\n",
       "      <td>Yes</td>\n",
       "      <td>1211.00</td>\n",
       "      <td>2140.0</td>\n",
       "      <td>1357.0</td>\n",
       "      <td>982.0</td>\n",
       "    </tr>\n",
       "  </tbody>\n",
       "</table>\n",
       "</div>"
      ],
      "text/plain": [
       "   customer_id offer_accepted     reward mailer_type income_level  \\\n",
       "0            1             No  Air Miles      Letter         High   \n",
       "1            2             No  Air Miles      Letter       Medium   \n",
       "2            3             No  Air Miles    Postcard         High   \n",
       "3            4             No  Air Miles      Letter       Medium   \n",
       "4            5             No  Air Miles      Letter       Medium   \n",
       "\n",
       "   nr_of_bank_accounts_open overdraft_protection credit_rating  \\\n",
       "0                         1                   No          High   \n",
       "1                         1                   No        Medium   \n",
       "2                         2                   No        Medium   \n",
       "3                         2                   No          High   \n",
       "4                         1                   No        Medium   \n",
       "\n",
       "   credit_cards_held  nr_of_homes_owned  household_size own_your_home  \\\n",
       "0                  2                  1               4            No   \n",
       "1                  2                  2               5           Yes   \n",
       "2                  2                  1               2           Yes   \n",
       "3                  1                  1               4            No   \n",
       "4                  2                  1               6           Yes   \n",
       "\n",
       "   average_balance  balance_q1  balance_q2  balance_q3  \n",
       "0          1160.75      1669.0       877.0      1095.0  \n",
       "1           147.25        39.0       106.0        78.0  \n",
       "2           276.50       367.0       352.0       145.0  \n",
       "3          1219.00      1578.0      1760.0      1119.0  \n",
       "4          1211.00      2140.0      1357.0       982.0  "
      ]
     },
     "execution_count": 403,
     "metadata": {},
     "output_type": "execute_result"
    }
   ],
   "source": [
    "connection_string = 'mysql+pymysql://root:' + password + '@localhost/credit_card_classification'\n",
    "engine = create_engine(connection_string)\n",
    "df = pd.read_sql_query('SELECT * FROM credit_card_classification.credit_card_data', engine)\n",
    "df.head()"
   ]
  },
  {
   "cell_type": "markdown",
   "metadata": {},
   "source": [
    "## Explore the data"
   ]
  },
  {
   "cell_type": "markdown",
   "metadata": {},
   "source": [
    "### Function for basic information"
   ]
  },
  {
   "cell_type": "code",
   "execution_count": 404,
   "metadata": {},
   "outputs": [],
   "source": [
    "#getting basic information\n",
    "def basic_information(df):\n",
    "    df_cols=list(df.columns)\n",
    "    print(\"Basic information\")\n",
    "    print(\"Shape of DF:\", df.shape)\n",
    "\n",
    "    for col in df_cols:\n",
    "        print(\"----------------\")\n",
    "        print(\"Name: {}\".format(df[col].name))\n",
    "        print(\"Type: {}\".format(df[col].dtype))\n",
    "        print(\"Unique values: {}\".format(len(df[col].unique())))\n",
    "        print(\"NaN values: {}\".format(df[col].isna().sum()))\n",
    "        print(\"0 values: {}\".format(df[col].isin([0]).sum()))\n",
    "        plt.hist(df[col],bins=20)\n",
    "        plt.show()"
   ]
  },
  {
   "cell_type": "markdown",
   "metadata": {},
   "source": [
    "### Apply basic information"
   ]
  },
  {
   "cell_type": "code",
   "execution_count": 405,
   "metadata": {},
   "outputs": [
    {
     "data": {
      "text/plain": [
       "customer_id                 0\n",
       "offer_accepted              0\n",
       "reward                      0\n",
       "mailer_type                 0\n",
       "income_level                0\n",
       "nr_of_bank_accounts_open    0\n",
       "overdraft_protection        0\n",
       "credit_rating               0\n",
       "credit_cards_held           0\n",
       "nr_of_homes_owned           0\n",
       "household_size              0\n",
       "own_your_home               0\n",
       "average_balance             0\n",
       "balance_q1                  0\n",
       "balance_q2                  0\n",
       "balance_q3                  0\n",
       "dtype: int64"
      ]
     },
     "execution_count": 405,
     "metadata": {},
     "output_type": "execute_result"
    }
   ],
   "source": [
    "df.isna().sum()"
   ]
  },
  {
   "cell_type": "code",
   "execution_count": 406,
   "metadata": {
    "scrolled": true
   },
   "outputs": [
    {
     "name": "stdout",
     "output_type": "stream",
     "text": [
      "Basic information\n",
      "Shape of DF: (18000, 16)\n",
      "----------------\n",
      "Name: customer_id\n",
      "Type: int64\n",
      "Unique values: 18000\n",
      "NaN values: 0\n",
      "0 values: 0\n"
     ]
    },
    {
     "data": {
      "image/png": "[encoded data removed]",
      "text/plain": [
       "<Figure size 432x288 with 1 Axes>"
      ]
     },
     "metadata": {
      "needs_background": "light"
     },
     "output_type": "display_data"
    },
    {
     "name": "stdout",
     "output_type": "stream",
     "text": [
      "----------------\n",
      "Name: offer_accepted\n",
      "Type: object\n",
      "Unique values: 2\n",
      "NaN values: 0\n",
      "0 values: 0\n"
     ]
    },
    {
     "data": {
      "image/png": "[encoded data removed]",
      "text/plain": [
       "<Figure size 432x288 with 1 Axes>"
      ]
     },
     "metadata": {
      "needs_background": "light"
     },
     "output_type": "display_data"
    },
    {
     "name": "stdout",
     "output_type": "stream",
     "text": [
      "----------------\n",
      "Name: reward\n",
      "Type: object\n",
      "Unique values: 3\n",
      "NaN values: 0\n",
      "0 values: 0\n"
     ]
    },
    {
     "data": {
      "image/png": "[encoded data removed]",
      "text/plain": [
       "<Figure size 432x288 with 1 Axes>"
      ]
     },
     "metadata": {
      "needs_background": "light"
     },
     "output_type": "display_data"
    },
    {
     "name": "stdout",
     "output_type": "stream",
     "text": [
      "----------------\n",
      "Name: mailer_type\n",
      "Type: object\n",
      "Unique values: 2\n",
      "NaN values: 0\n",
      "0 values: 0\n"
     ]
    },
    {
     "data": {
      "image/png": "[encoded data removed]",
      "text/plain": [
       "<Figure size 432x288 with 1 Axes>"
      ]
     },
     "metadata": {
      "needs_background": "light"
     },
     "output_type": "display_data"
    },
    {
     "name": "stdout",
     "output_type": "stream",
     "text": [
      "----------------\n",
      "Name: income_level\n",
      "Type: object\n",
      "Unique values: 3\n",
      "NaN values: 0\n",
      "0 values: 0\n"
     ]
    },
    {
     "data": {
      "image/png": "[encoded data removed]",
      "text/plain": [
       "<Figure size 432x288 with 1 Axes>"
      ]
     },
     "metadata": {
      "needs_background": "light"
     },
     "output_type": "display_data"
    },
    {
     "name": "stdout",
     "output_type": "stream",
     "text": [
      "----------------\n",
      "Name: nr_of_bank_accounts_open\n",
      "Type: int64\n",
      "Unique values: 3\n",
      "NaN values: 0\n",
      "0 values: 0\n"
     ]
    },
    {
     "data": {
      "image/png": "[encoded data removed]",
      "text/plain": [
       "<Figure size 432x288 with 1 Axes>"
      ]
     },
     "metadata": {
      "needs_background": "light"
     },
     "output_type": "display_data"
    },
    {
     "name": "stdout",
     "output_type": "stream",
     "text": [
      "----------------\n",
      "Name: overdraft_protection\n",
      "Type: object\n",
      "Unique values: 2\n",
      "NaN values: 0\n",
      "0 values: 0\n"
     ]
    },
    {
     "data": {
      "image/png": "[encoded data removed]",
      "text/plain": [
       "<Figure size 432x288 with 1 Axes>"
      ]
     },
     "metadata": {
      "needs_background": "light"
     },
     "output_type": "display_data"
    },
    {
     "name": "stdout",
     "output_type": "stream",
     "text": [
      "----------------\n",
      "Name: credit_rating\n",
      "Type: object\n",
      "Unique values: 3\n",
      "NaN values: 0\n",
      "0 values: 0\n"
     ]
    },
    {
     "data": {
      "image/png": "[encoded data removed]",
      "text/plain": [
       "<Figure size 432x288 with 1 Axes>"
      ]
     },
     "metadata": {
      "needs_background": "light"
     },
     "output_type": "display_data"
    },
    {
     "name": "stdout",
     "output_type": "stream",
     "text": [
      "----------------\n",
      "Name: credit_cards_held\n",
      "Type: int64\n",
      "Unique values: 4\n",
      "NaN values: 0\n",
      "0 values: 0\n"
     ]
    },
    {
     "data": {
      "image/png": "[encoded data removed]",
      "text/plain": [
       "<Figure size 432x288 with 1 Axes>"
      ]
     },
     "metadata": {
      "needs_background": "light"
     },
     "output_type": "display_data"
    },
    {
     "name": "stdout",
     "output_type": "stream",
     "text": [
      "----------------\n",
      "Name: nr_of_homes_owned\n",
      "Type: int64\n",
      "Unique values: 3\n",
      "NaN values: 0\n",
      "0 values: 0\n"
     ]
    },
    {
     "data": {
      "image/png": "[encoded data removed]",
      "text/plain": [
       "<Figure size 432x288 with 1 Axes>"
      ]
     },
     "metadata": {
      "needs_background": "light"
     },
     "output_type": "display_data"
    },
    {
     "name": "stdout",
     "output_type": "stream",
     "text": [
      "----------------\n",
      "Name: household_size\n",
      "Type: int64\n",
      "Unique values: 8\n",
      "NaN values: 0\n",
      "0 values: 0\n"
     ]
    },
    {
     "data": {
      "image/png": "[encoded data removed]",
      "text/plain": [
       "<Figure size 432x288 with 1 Axes>"
      ]
     },
     "metadata": {
      "needs_background": "light"
     },
     "output_type": "display_data"
    },
    {
     "name": "stdout",
     "output_type": "stream",
     "text": [
      "----------------\n",
      "Name: own_your_home\n",
      "Type: object\n",
      "Unique values: 2\n",
      "NaN values: 0\n",
      "0 values: 0\n"
     ]
    },
    {
     "data": {
      "image/png": "[encoded data removed]",
      "text/plain": [
       "<Figure size 432x288 with 1 Axes>"
      ]
     },
     "metadata": {
      "needs_background": "light"
     },
     "output_type": "display_data"
    },
    {
     "name": "stdout",
     "output_type": "stream",
     "text": [
      "----------------\n",
      "Name: average_balance\n",
      "Type: float64\n",
      "Unique values: 4729\n",
      "NaN values: 0\n",
      "0 values: 24\n"
     ]
    },
    {
     "data": {
      "image/png": "[encoded data removed]",
      "text/plain": [
       "<Figure size 432x288 with 1 Axes>"
      ]
     },
     "metadata": {
      "needs_background": "light"
     },
     "output_type": "display_data"
    },
    {
     "name": "stdout",
     "output_type": "stream",
     "text": [
      "----------------\n",
      "Name: balance_q1\n",
      "Type: float64\n",
      "Unique values: 2158\n",
      "NaN values: 0\n",
      "0 values: 29\n"
     ]
    },
    {
     "data": {
      "image/png": "[encoded data removed]",
      "text/plain": [
       "<Figure size 432x288 with 1 Axes>"
      ]
     },
     "metadata": {
      "needs_background": "light"
     },
     "output_type": "display_data"
    },
    {
     "name": "stdout",
     "output_type": "stream",
     "text": [
      "----------------\n",
      "Name: balance_q2\n",
      "Type: float64\n",
      "Unique values: 1945\n",
      "NaN values: 0\n",
      "0 values: 25\n"
     ]
    },
    {
     "data": {
      "image/png": "[encoded data removed]",
      "text/plain": [
       "<Figure size 432x288 with 1 Axes>"
      ]
     },
     "metadata": {
      "needs_background": "light"
     },
     "output_type": "display_data"
    },
    {
     "name": "stdout",
     "output_type": "stream",
     "text": [
      "----------------\n",
      "Name: balance_q3\n",
      "Type: float64\n",
      "Unique values: 2281\n",
      "NaN values: 0\n",
      "0 values: 25\n"
     ]
    },
    {
     "data": {
      "image/png": "[encoded data removed]",
      "text/plain": [
       "<Figure size 432x288 with 1 Axes>"
      ]
     },
     "metadata": {
      "needs_background": "light"
     },
     "output_type": "display_data"
    }
   ],
   "source": [
    "basic_information(df)"
   ]
  },
  {
   "cell_type": "code",
   "execution_count": 407,
   "metadata": {},
   "outputs": [
    {
     "name": "stdout",
     "output_type": "stream",
     "text": [
      "customer_id\n",
      "2047     1\n",
      "17053    1\n",
      "14994    1\n",
      "12947    1\n",
      "2708     1\n",
      "        ..\n",
      "15661    1\n",
      "13612    1\n",
      "3371     1\n",
      "1322     1\n",
      "2049     1\n",
      "Name: customer_id, Length: 18000, dtype: int64\n",
      "---------------------------\n",
      "offer_accepted\n",
      "No     16977\n",
      "Yes     1023\n",
      "Name: offer_accepted, dtype: int64\n",
      "---------------------------\n",
      "reward\n",
      "Air Miles    6061\n",
      "Cash Back    5999\n",
      "Points       5940\n",
      "Name: reward, dtype: int64\n",
      "---------------------------\n",
      "mailer_type\n",
      "Postcard    9147\n",
      "Letter      8853\n",
      "Name: mailer_type, dtype: int64\n",
      "---------------------------\n",
      "income_level\n",
      "Medium    9013\n",
      "High      4526\n",
      "Low       4461\n",
      "Name: income_level, dtype: int64\n",
      "---------------------------\n",
      "nr_of_bank_accounts_open\n",
      "1    13692\n",
      "2     4012\n",
      "3      296\n",
      "Name: nr_of_bank_accounts_open, dtype: int64\n",
      "---------------------------\n",
      "overdraft_protection\n",
      "No     15322\n",
      "Yes     2678\n",
      "Name: overdraft_protection, dtype: int64\n",
      "---------------------------\n",
      "credit_rating\n",
      "High      6071\n",
      "Medium    5972\n",
      "Low       5957\n",
      "Name: credit_rating, dtype: int64\n",
      "---------------------------\n",
      "credit_cards_held\n",
      "2    7944\n",
      "1    6154\n",
      "3    3387\n",
      "4     515\n",
      "Name: credit_cards_held, dtype: int64\n",
      "---------------------------\n",
      "nr_of_homes_owned\n",
      "1    14523\n",
      "2     3292\n",
      "3      185\n",
      "Name: nr_of_homes_owned, dtype: int64\n",
      "---------------------------\n",
      "household_size\n",
      "3    5712\n",
      "4    5543\n",
      "5    2853\n",
      "2    2813\n",
      "1     539\n",
      "6     538\n",
      "9       1\n",
      "8       1\n",
      "Name: household_size, dtype: int64\n",
      "---------------------------\n",
      "own_your_home\n",
      "Yes    11655\n",
      "No      6345\n",
      "Name: own_your_home, dtype: int64\n",
      "---------------------------\n",
      "average_balance\n",
      "0.00       24\n",
      "1127.00    17\n",
      "1033.00    16\n",
      "1036.00    16\n",
      "1053.50    16\n",
      "           ..\n",
      "596.75      1\n",
      "379.50      1\n",
      "1514.00     1\n",
      "375.75      1\n",
      "782.50      1\n",
      "Name: average_balance, Length: 4729, dtype: int64\n",
      "---------------------------\n",
      "balance_q1\n",
      "0.0       29\n",
      "675.0     23\n",
      "81.0      23\n",
      "676.0     22\n",
      "823.0     22\n",
      "          ..\n",
      "2002.0     1\n",
      "1180.0     1\n",
      "2310.0     1\n",
      "2185.0     1\n",
      "1186.0     1\n",
      "Name: balance_q1, Length: 2158, dtype: int64\n",
      "---------------------------\n",
      "balance_q2\n",
      "1060.0    30\n",
      "1197.0    26\n",
      "0.0       25\n",
      "1271.0    25\n",
      "1267.0    24\n",
      "          ..\n",
      "257.0      1\n",
      "2134.0     1\n",
      "1938.0     1\n",
      "108.0      1\n",
      "1898.0     1\n",
      "Name: balance_q2, Length: 1945, dtype: int64\n",
      "---------------------------\n",
      "balance_q3\n",
      "809.0     30\n",
      "833.0     27\n",
      "972.0     26\n",
      "842.0     26\n",
      "997.0     26\n",
      "          ..\n",
      "2039.0     1\n",
      "2242.0     1\n",
      "2209.0     1\n",
      "301.0      1\n",
      "2030.0     1\n",
      "Name: balance_q3, Length: 2281, dtype: int64\n",
      "---------------------------\n"
     ]
    }
   ],
   "source": [
    "# checking value counts in every column\n",
    "for i in df.columns:\n",
    "    print(i)\n",
    "    print(df[i].value_counts())\n",
    "    print('---------------------------')"
   ]
  },
  {
   "cell_type": "code",
   "execution_count": 408,
   "metadata": {},
   "outputs": [
    {
     "data": {
      "text/plain": [
       "customer_id                   int64\n",
       "offer_accepted               object\n",
       "reward                       object\n",
       "mailer_type                  object\n",
       "income_level                 object\n",
       "nr_of_bank_accounts_open      int64\n",
       "overdraft_protection         object\n",
       "credit_rating                object\n",
       "credit_cards_held             int64\n",
       "nr_of_homes_owned             int64\n",
       "household_size                int64\n",
       "own_your_home                object\n",
       "average_balance             float64\n",
       "balance_q1                  float64\n",
       "balance_q2                  float64\n",
       "balance_q3                  float64\n",
       "dtype: object"
      ]
     },
     "execution_count": 408,
     "metadata": {},
     "output_type": "execute_result"
    }
   ],
   "source": [
    "df.dtypes"
   ]
  },
  {
   "cell_type": "code",
   "execution_count": 409,
   "metadata": {},
   "outputs": [
    {
     "data": {
      "text/plain": [
       "customer_id                 0\n",
       "offer_accepted              0\n",
       "reward                      0\n",
       "mailer_type                 0\n",
       "income_level                0\n",
       "nr_of_bank_accounts_open    0\n",
       "overdraft_protection        0\n",
       "credit_rating               0\n",
       "credit_cards_held           0\n",
       "nr_of_homes_owned           0\n",
       "household_size              0\n",
       "own_your_home               0\n",
       "average_balance             0\n",
       "balance_q1                  0\n",
       "balance_q2                  0\n",
       "balance_q3                  0\n",
       "dtype: int64"
      ]
     },
     "execution_count": 409,
     "metadata": {},
     "output_type": "execute_result"
    }
   ],
   "source": [
    "df.isnull().sum()"
   ]
  },
  {
   "cell_type": "code",
   "execution_count": 410,
   "metadata": {},
   "outputs": [],
   "source": [
    "df = df.dropna()"
   ]
  },
  {
   "cell_type": "code",
   "execution_count": 411,
   "metadata": {},
   "outputs": [
    {
     "data": {
      "text/plain": [
       "customer_id                 0\n",
       "offer_accepted              0\n",
       "reward                      0\n",
       "mailer_type                 0\n",
       "income_level                0\n",
       "nr_of_bank_accounts_open    0\n",
       "overdraft_protection        0\n",
       "credit_rating               0\n",
       "credit_cards_held           0\n",
       "nr_of_homes_owned           0\n",
       "household_size              0\n",
       "own_your_home               0\n",
       "average_balance             0\n",
       "balance_q1                  0\n",
       "balance_q2                  0\n",
       "balance_q3                  0\n",
       "dtype: int64"
      ]
     },
     "execution_count": 411,
     "metadata": {},
     "output_type": "execute_result"
    }
   ],
   "source": [
    "df.isna().sum()"
   ]
  },
  {
   "cell_type": "code",
   "execution_count": 412,
   "metadata": {},
   "outputs": [
    {
     "data": {
      "text/plain": [
       "0.00       24\n",
       "1127.00    17\n",
       "1033.00    16\n",
       "1036.00    16\n",
       "1053.50    16\n",
       "           ..\n",
       "596.75      1\n",
       "379.50      1\n",
       "1514.00     1\n",
       "375.75      1\n",
       "782.50      1\n",
       "Name: average_balance, Length: 4729, dtype: int64"
      ]
     },
     "execution_count": 412,
     "metadata": {},
     "output_type": "execute_result"
    }
   ],
   "source": [
    "df.average_balance.value_counts(dropna=False)"
   ]
  },
  {
   "cell_type": "code",
   "execution_count": 413,
   "metadata": {},
   "outputs": [],
   "source": [
    "df = df[df.average_balance > 0.0]"
   ]
  },
  {
   "cell_type": "code",
   "execution_count": 414,
   "metadata": {},
   "outputs": [],
   "source": [
    "# Drop the column customer_id\n",
    "df = df.drop(['customer_id'], axis = 1)"
   ]
  },
  {
   "cell_type": "code",
   "execution_count": 415,
   "metadata": {},
   "outputs": [
    {
     "data": {
      "text/plain": [
       "No     16955\n",
       "Yes     1021\n",
       "Name: offer_accepted, dtype: int64"
      ]
     },
     "execution_count": 415,
     "metadata": {},
     "output_type": "execute_result"
    }
   ],
   "source": [
    "df.offer_accepted.value_counts()"
   ]
  },
  {
   "cell_type": "markdown",
   "metadata": {},
   "source": [
    "### Function for data separation"
   ]
  },
  {
   "cell_type": "code",
   "execution_count": 416,
   "metadata": {},
   "outputs": [],
   "source": [
    "# data separation in types\n",
    "#def data_sep(df,types, target=None):\n",
    "def data_sep(df,types):\n",
    "    num_discrete = []\n",
    "    num_continuous = []\n",
    "    num = df.select_dtypes(include = np.number)\n",
    "    for i in num.columns:\n",
    "        if 'balance' in i:\n",
    "            num_continuous.append(i)\n",
    "        else:\n",
    "            num_discrete.append(i)\n",
    "    if types == 'numerical':\n",
    "        return num\n",
    "    elif types == 'discrete':\n",
    "        return df[num_discrete]\n",
    "    elif types == 'continuous':\n",
    "        return df[num_continuous]\n",
    "    else:\n",
    "        cat = df.select_dtypes(include = np.object)\n",
    "        #cat = cat.drop(target, axis = 1)\n",
    "        return cat"
   ]
  },
  {
   "cell_type": "code",
   "execution_count": 417,
   "metadata": {},
   "outputs": [
    {
     "data": {
      "text/plain": [
       "nr_of_bank_accounts_open    0\n",
       "credit_cards_held           0\n",
       "nr_of_homes_owned           0\n",
       "household_size              0\n",
       "average_balance             0\n",
       "balance_q1                  0\n",
       "balance_q2                  0\n",
       "balance_q3                  0\n",
       "dtype: int64"
      ]
     },
     "execution_count": 417,
     "metadata": {},
     "output_type": "execute_result"
    }
   ],
   "source": [
    "num.isnull().sum()"
   ]
  },
  {
   "cell_type": "code",
   "execution_count": 418,
   "metadata": {},
   "outputs": [
    {
     "data": {
      "text/html": [
       "<div>\n",
       "<style scoped>\n",
       "    .dataframe tbody tr th:only-of-type {\n",
       "        vertical-align: middle;\n",
       "    }\n",
       "\n",
       "    .dataframe tbody tr th {\n",
       "        vertical-align: top;\n",
       "    }\n",
       "\n",
       "    .dataframe thead th {\n",
       "        text-align: right;\n",
       "    }\n",
       "</style>\n",
       "<table border=\"1\" class=\"dataframe\">\n",
       "  <thead>\n",
       "    <tr style=\"text-align: right;\">\n",
       "      <th></th>\n",
       "      <th>reward</th>\n",
       "      <th>mailer_type</th>\n",
       "      <th>income_level</th>\n",
       "      <th>nr_of_bank_accounts_open</th>\n",
       "      <th>overdraft_protection</th>\n",
       "      <th>credit_rating</th>\n",
       "      <th>credit_cards_held</th>\n",
       "      <th>nr_of_homes_owned</th>\n",
       "      <th>household_size</th>\n",
       "      <th>own_your_home</th>\n",
       "      <th>average_balance</th>\n",
       "      <th>balance_q1</th>\n",
       "      <th>balance_q2</th>\n",
       "      <th>balance_q3</th>\n",
       "    </tr>\n",
       "  </thead>\n",
       "  <tbody>\n",
       "    <tr>\n",
       "      <th>0</th>\n",
       "      <td>Air Miles</td>\n",
       "      <td>Letter</td>\n",
       "      <td>High</td>\n",
       "      <td>1</td>\n",
       "      <td>No</td>\n",
       "      <td>High</td>\n",
       "      <td>2</td>\n",
       "      <td>1</td>\n",
       "      <td>4</td>\n",
       "      <td>No</td>\n",
       "      <td>1160.75</td>\n",
       "      <td>1669.0</td>\n",
       "      <td>877.0</td>\n",
       "      <td>1095.0</td>\n",
       "    </tr>\n",
       "    <tr>\n",
       "      <th>1</th>\n",
       "      <td>Air Miles</td>\n",
       "      <td>Letter</td>\n",
       "      <td>Medium</td>\n",
       "      <td>1</td>\n",
       "      <td>No</td>\n",
       "      <td>Medium</td>\n",
       "      <td>2</td>\n",
       "      <td>2</td>\n",
       "      <td>5</td>\n",
       "      <td>Yes</td>\n",
       "      <td>147.25</td>\n",
       "      <td>39.0</td>\n",
       "      <td>106.0</td>\n",
       "      <td>78.0</td>\n",
       "    </tr>\n",
       "    <tr>\n",
       "      <th>2</th>\n",
       "      <td>Air Miles</td>\n",
       "      <td>Postcard</td>\n",
       "      <td>High</td>\n",
       "      <td>2</td>\n",
       "      <td>No</td>\n",
       "      <td>Medium</td>\n",
       "      <td>2</td>\n",
       "      <td>1</td>\n",
       "      <td>2</td>\n",
       "      <td>Yes</td>\n",
       "      <td>276.50</td>\n",
       "      <td>367.0</td>\n",
       "      <td>352.0</td>\n",
       "      <td>145.0</td>\n",
       "    </tr>\n",
       "    <tr>\n",
       "      <th>3</th>\n",
       "      <td>Air Miles</td>\n",
       "      <td>Letter</td>\n",
       "      <td>Medium</td>\n",
       "      <td>2</td>\n",
       "      <td>No</td>\n",
       "      <td>High</td>\n",
       "      <td>1</td>\n",
       "      <td>1</td>\n",
       "      <td>4</td>\n",
       "      <td>No</td>\n",
       "      <td>1219.00</td>\n",
       "      <td>1578.0</td>\n",
       "      <td>1760.0</td>\n",
       "      <td>1119.0</td>\n",
       "    </tr>\n",
       "    <tr>\n",
       "      <th>4</th>\n",
       "      <td>Air Miles</td>\n",
       "      <td>Letter</td>\n",
       "      <td>Medium</td>\n",
       "      <td>1</td>\n",
       "      <td>No</td>\n",
       "      <td>Medium</td>\n",
       "      <td>2</td>\n",
       "      <td>1</td>\n",
       "      <td>6</td>\n",
       "      <td>Yes</td>\n",
       "      <td>1211.00</td>\n",
       "      <td>2140.0</td>\n",
       "      <td>1357.0</td>\n",
       "      <td>982.0</td>\n",
       "    </tr>\n",
       "    <tr>\n",
       "      <th>...</th>\n",
       "      <td>...</td>\n",
       "      <td>...</td>\n",
       "      <td>...</td>\n",
       "      <td>...</td>\n",
       "      <td>...</td>\n",
       "      <td>...</td>\n",
       "      <td>...</td>\n",
       "      <td>...</td>\n",
       "      <td>...</td>\n",
       "      <td>...</td>\n",
       "      <td>...</td>\n",
       "      <td>...</td>\n",
       "      <td>...</td>\n",
       "      <td>...</td>\n",
       "    </tr>\n",
       "    <tr>\n",
       "      <th>17995</th>\n",
       "      <td>Cash Back</td>\n",
       "      <td>Letter</td>\n",
       "      <td>High</td>\n",
       "      <td>1</td>\n",
       "      <td>No</td>\n",
       "      <td>Low</td>\n",
       "      <td>1</td>\n",
       "      <td>1</td>\n",
       "      <td>5</td>\n",
       "      <td>Yes</td>\n",
       "      <td>167.50</td>\n",
       "      <td>136.0</td>\n",
       "      <td>65.0</td>\n",
       "      <td>71.0</td>\n",
       "    </tr>\n",
       "    <tr>\n",
       "      <th>17996</th>\n",
       "      <td>Cash Back</td>\n",
       "      <td>Letter</td>\n",
       "      <td>High</td>\n",
       "      <td>1</td>\n",
       "      <td>No</td>\n",
       "      <td>Low</td>\n",
       "      <td>3</td>\n",
       "      <td>1</td>\n",
       "      <td>3</td>\n",
       "      <td>Yes</td>\n",
       "      <td>850.50</td>\n",
       "      <td>984.0</td>\n",
       "      <td>940.0</td>\n",
       "      <td>943.0</td>\n",
       "    </tr>\n",
       "    <tr>\n",
       "      <th>17997</th>\n",
       "      <td>Cash Back</td>\n",
       "      <td>Letter</td>\n",
       "      <td>High</td>\n",
       "      <td>1</td>\n",
       "      <td>No</td>\n",
       "      <td>Low</td>\n",
       "      <td>2</td>\n",
       "      <td>1</td>\n",
       "      <td>4</td>\n",
       "      <td>No</td>\n",
       "      <td>1087.25</td>\n",
       "      <td>918.0</td>\n",
       "      <td>767.0</td>\n",
       "      <td>1170.0</td>\n",
       "    </tr>\n",
       "    <tr>\n",
       "      <th>17998</th>\n",
       "      <td>Cash Back</td>\n",
       "      <td>Letter</td>\n",
       "      <td>Medium</td>\n",
       "      <td>1</td>\n",
       "      <td>No</td>\n",
       "      <td>Medium</td>\n",
       "      <td>4</td>\n",
       "      <td>2</td>\n",
       "      <td>2</td>\n",
       "      <td>Yes</td>\n",
       "      <td>1022.25</td>\n",
       "      <td>626.0</td>\n",
       "      <td>983.0</td>\n",
       "      <td>865.0</td>\n",
       "    </tr>\n",
       "    <tr>\n",
       "      <th>17999</th>\n",
       "      <td>Cash Back</td>\n",
       "      <td>Letter</td>\n",
       "      <td>Low</td>\n",
       "      <td>2</td>\n",
       "      <td>No</td>\n",
       "      <td>Medium</td>\n",
       "      <td>2</td>\n",
       "      <td>1</td>\n",
       "      <td>3</td>\n",
       "      <td>No</td>\n",
       "      <td>1056.00</td>\n",
       "      <td>265.0</td>\n",
       "      <td>1378.0</td>\n",
       "      <td>1978.0</td>\n",
       "    </tr>\n",
       "  </tbody>\n",
       "</table>\n",
       "<p>17976 rows × 14 columns</p>\n",
       "</div>"
      ],
      "text/plain": [
       "          reward mailer_type income_level  nr_of_bank_accounts_open  \\\n",
       "0      Air Miles      Letter         High                         1   \n",
       "1      Air Miles      Letter       Medium                         1   \n",
       "2      Air Miles    Postcard         High                         2   \n",
       "3      Air Miles      Letter       Medium                         2   \n",
       "4      Air Miles      Letter       Medium                         1   \n",
       "...          ...         ...          ...                       ...   \n",
       "17995  Cash Back      Letter         High                         1   \n",
       "17996  Cash Back      Letter         High                         1   \n",
       "17997  Cash Back      Letter         High                         1   \n",
       "17998  Cash Back      Letter       Medium                         1   \n",
       "17999  Cash Back      Letter          Low                         2   \n",
       "\n",
       "      overdraft_protection credit_rating  credit_cards_held  \\\n",
       "0                       No          High                  2   \n",
       "1                       No        Medium                  2   \n",
       "2                       No        Medium                  2   \n",
       "3                       No          High                  1   \n",
       "4                       No        Medium                  2   \n",
       "...                    ...           ...                ...   \n",
       "17995                   No           Low                  1   \n",
       "17996                   No           Low                  3   \n",
       "17997                   No           Low                  2   \n",
       "17998                   No        Medium                  4   \n",
       "17999                   No        Medium                  2   \n",
       "\n",
       "       nr_of_homes_owned  household_size own_your_home  average_balance  \\\n",
       "0                      1               4            No          1160.75   \n",
       "1                      2               5           Yes           147.25   \n",
       "2                      1               2           Yes           276.50   \n",
       "3                      1               4            No          1219.00   \n",
       "4                      1               6           Yes          1211.00   \n",
       "...                  ...             ...           ...              ...   \n",
       "17995                  1               5           Yes           167.50   \n",
       "17996                  1               3           Yes           850.50   \n",
       "17997                  1               4            No          1087.25   \n",
       "17998                  2               2           Yes          1022.25   \n",
       "17999                  1               3            No          1056.00   \n",
       "\n",
       "       balance_q1  balance_q2  balance_q3  \n",
       "0          1669.0       877.0      1095.0  \n",
       "1            39.0       106.0        78.0  \n",
       "2           367.0       352.0       145.0  \n",
       "3          1578.0      1760.0      1119.0  \n",
       "4          2140.0      1357.0       982.0  \n",
       "...           ...         ...         ...  \n",
       "17995       136.0        65.0        71.0  \n",
       "17996       984.0       940.0       943.0  \n",
       "17997       918.0       767.0      1170.0  \n",
       "17998       626.0       983.0       865.0  \n",
       "17999       265.0      1378.0      1978.0  \n",
       "\n",
       "[17976 rows x 14 columns]"
      ]
     },
     "metadata": {},
     "output_type": "display_data"
    },
    {
     "data": {
      "text/plain": [
       "0        0\n",
       "1        0\n",
       "2        0\n",
       "3        0\n",
       "4        0\n",
       "        ..\n",
       "17995    0\n",
       "17996    0\n",
       "17997    0\n",
       "17998    0\n",
       "17999    0\n",
       "Name: offer_accepted, Length: 17976, dtype: int64"
      ]
     },
     "metadata": {},
     "output_type": "display_data"
    }
   ],
   "source": [
    "# Convert target y to 0 and 1 and drop it\n",
    "y=df[\"offer_accepted\"].map({\"Yes\":1,\"No\":0})\n",
    "df.drop(\"offer_accepted\",axis=1,inplace=True)\n",
    "display(df)\n",
    "display(y)"
   ]
  },
  {
   "cell_type": "code",
   "execution_count": 419,
   "metadata": {},
   "outputs": [
    {
     "data": {
      "text/plain": [
       "(17976,)"
      ]
     },
     "execution_count": 419,
     "metadata": {},
     "output_type": "execute_result"
    }
   ],
   "source": [
    "y.shape"
   ]
  },
  {
   "cell_type": "code",
   "execution_count": 420,
   "metadata": {},
   "outputs": [
    {
     "data": {
      "text/html": [
       "<div>\n",
       "<style scoped>\n",
       "    .dataframe tbody tr th:only-of-type {\n",
       "        vertical-align: middle;\n",
       "    }\n",
       "\n",
       "    .dataframe tbody tr th {\n",
       "        vertical-align: top;\n",
       "    }\n",
       "\n",
       "    .dataframe thead th {\n",
       "        text-align: right;\n",
       "    }\n",
       "</style>\n",
       "<table border=\"1\" class=\"dataframe\">\n",
       "  <thead>\n",
       "    <tr style=\"text-align: right;\">\n",
       "      <th></th>\n",
       "      <th>reward</th>\n",
       "      <th>mailer_type</th>\n",
       "      <th>income_level</th>\n",
       "      <th>overdraft_protection</th>\n",
       "      <th>credit_rating</th>\n",
       "      <th>own_your_home</th>\n",
       "    </tr>\n",
       "  </thead>\n",
       "  <tbody>\n",
       "    <tr>\n",
       "      <th>0</th>\n",
       "      <td>Air Miles</td>\n",
       "      <td>Letter</td>\n",
       "      <td>High</td>\n",
       "      <td>No</td>\n",
       "      <td>High</td>\n",
       "      <td>No</td>\n",
       "    </tr>\n",
       "    <tr>\n",
       "      <th>1</th>\n",
       "      <td>Air Miles</td>\n",
       "      <td>Letter</td>\n",
       "      <td>Medium</td>\n",
       "      <td>No</td>\n",
       "      <td>Medium</td>\n",
       "      <td>Yes</td>\n",
       "    </tr>\n",
       "    <tr>\n",
       "      <th>2</th>\n",
       "      <td>Air Miles</td>\n",
       "      <td>Postcard</td>\n",
       "      <td>High</td>\n",
       "      <td>No</td>\n",
       "      <td>Medium</td>\n",
       "      <td>Yes</td>\n",
       "    </tr>\n",
       "    <tr>\n",
       "      <th>3</th>\n",
       "      <td>Air Miles</td>\n",
       "      <td>Letter</td>\n",
       "      <td>Medium</td>\n",
       "      <td>No</td>\n",
       "      <td>High</td>\n",
       "      <td>No</td>\n",
       "    </tr>\n",
       "    <tr>\n",
       "      <th>4</th>\n",
       "      <td>Air Miles</td>\n",
       "      <td>Letter</td>\n",
       "      <td>Medium</td>\n",
       "      <td>No</td>\n",
       "      <td>Medium</td>\n",
       "      <td>Yes</td>\n",
       "    </tr>\n",
       "  </tbody>\n",
       "</table>\n",
       "</div>"
      ],
      "text/plain": [
       "      reward mailer_type income_level overdraft_protection credit_rating  \\\n",
       "0  Air Miles      Letter         High                   No          High   \n",
       "1  Air Miles      Letter       Medium                   No        Medium   \n",
       "2  Air Miles    Postcard         High                   No        Medium   \n",
       "3  Air Miles      Letter       Medium                   No          High   \n",
       "4  Air Miles      Letter       Medium                   No        Medium   \n",
       "\n",
       "  own_your_home  \n",
       "0            No  \n",
       "1           Yes  \n",
       "2           Yes  \n",
       "3            No  \n",
       "4           Yes  "
      ]
     },
     "execution_count": 420,
     "metadata": {},
     "output_type": "execute_result"
    }
   ],
   "source": [
    "# Show categoricals\n",
    "#cat = data_sep(df,'cat','offer_accepted')\n",
    "cat = data_sep(df,'cat')\n",
    "cat.head()"
   ]
  },
  {
   "cell_type": "code",
   "execution_count": 421,
   "metadata": {},
   "outputs": [
    {
     "data": {
      "text/html": [
       "<div>\n",
       "<style scoped>\n",
       "    .dataframe tbody tr th:only-of-type {\n",
       "        vertical-align: middle;\n",
       "    }\n",
       "\n",
       "    .dataframe tbody tr th {\n",
       "        vertical-align: top;\n",
       "    }\n",
       "\n",
       "    .dataframe thead th {\n",
       "        text-align: right;\n",
       "    }\n",
       "</style>\n",
       "<table border=\"1\" class=\"dataframe\">\n",
       "  <thead>\n",
       "    <tr style=\"text-align: right;\">\n",
       "      <th></th>\n",
       "      <th>nr_of_bank_accounts_open</th>\n",
       "      <th>credit_cards_held</th>\n",
       "      <th>nr_of_homes_owned</th>\n",
       "      <th>household_size</th>\n",
       "      <th>average_balance</th>\n",
       "      <th>balance_q1</th>\n",
       "      <th>balance_q2</th>\n",
       "      <th>balance_q3</th>\n",
       "    </tr>\n",
       "  </thead>\n",
       "  <tbody>\n",
       "    <tr>\n",
       "      <th>0</th>\n",
       "      <td>1</td>\n",
       "      <td>2</td>\n",
       "      <td>1</td>\n",
       "      <td>4</td>\n",
       "      <td>1160.75</td>\n",
       "      <td>1669.0</td>\n",
       "      <td>877.0</td>\n",
       "      <td>1095.0</td>\n",
       "    </tr>\n",
       "    <tr>\n",
       "      <th>1</th>\n",
       "      <td>1</td>\n",
       "      <td>2</td>\n",
       "      <td>2</td>\n",
       "      <td>5</td>\n",
       "      <td>147.25</td>\n",
       "      <td>39.0</td>\n",
       "      <td>106.0</td>\n",
       "      <td>78.0</td>\n",
       "    </tr>\n",
       "    <tr>\n",
       "      <th>2</th>\n",
       "      <td>2</td>\n",
       "      <td>2</td>\n",
       "      <td>1</td>\n",
       "      <td>2</td>\n",
       "      <td>276.50</td>\n",
       "      <td>367.0</td>\n",
       "      <td>352.0</td>\n",
       "      <td>145.0</td>\n",
       "    </tr>\n",
       "    <tr>\n",
       "      <th>3</th>\n",
       "      <td>2</td>\n",
       "      <td>1</td>\n",
       "      <td>1</td>\n",
       "      <td>4</td>\n",
       "      <td>1219.00</td>\n",
       "      <td>1578.0</td>\n",
       "      <td>1760.0</td>\n",
       "      <td>1119.0</td>\n",
       "    </tr>\n",
       "    <tr>\n",
       "      <th>4</th>\n",
       "      <td>1</td>\n",
       "      <td>2</td>\n",
       "      <td>1</td>\n",
       "      <td>6</td>\n",
       "      <td>1211.00</td>\n",
       "      <td>2140.0</td>\n",
       "      <td>1357.0</td>\n",
       "      <td>982.0</td>\n",
       "    </tr>\n",
       "  </tbody>\n",
       "</table>\n",
       "</div>"
      ],
      "text/plain": [
       "   nr_of_bank_accounts_open  credit_cards_held  nr_of_homes_owned  \\\n",
       "0                         1                  2                  1   \n",
       "1                         1                  2                  2   \n",
       "2                         2                  2                  1   \n",
       "3                         2                  1                  1   \n",
       "4                         1                  2                  1   \n",
       "\n",
       "   household_size  average_balance  balance_q1  balance_q2  balance_q3  \n",
       "0               4          1160.75      1669.0       877.0      1095.0  \n",
       "1               5           147.25        39.0       106.0        78.0  \n",
       "2               2           276.50       367.0       352.0       145.0  \n",
       "3               4          1219.00      1578.0      1760.0      1119.0  \n",
       "4               6          1211.00      2140.0      1357.0       982.0  "
      ]
     },
     "execution_count": 421,
     "metadata": {},
     "output_type": "execute_result"
    }
   ],
   "source": [
    "# Show numericals\n",
    "num = data_sep(df,'numerical')\n",
    "num.head()"
   ]
  },
  {
   "cell_type": "code",
   "execution_count": 422,
   "metadata": {},
   "outputs": [
    {
     "data": {
      "text/plain": [
       "nr_of_bank_accounts_open    0\n",
       "credit_cards_held           0\n",
       "nr_of_homes_owned           0\n",
       "household_size              0\n",
       "average_balance             0\n",
       "balance_q1                  0\n",
       "balance_q2                  0\n",
       "balance_q3                  0\n",
       "dtype: int64"
      ]
     },
     "execution_count": 422,
     "metadata": {},
     "output_type": "execute_result"
    }
   ],
   "source": [
    "num.isnull().sum()"
   ]
  },
  {
   "cell_type": "code",
   "execution_count": 423,
   "metadata": {},
   "outputs": [
    {
     "data": {
      "text/html": [
       "<div>\n",
       "<style scoped>\n",
       "    .dataframe tbody tr th:only-of-type {\n",
       "        vertical-align: middle;\n",
       "    }\n",
       "\n",
       "    .dataframe tbody tr th {\n",
       "        vertical-align: top;\n",
       "    }\n",
       "\n",
       "    .dataframe thead th {\n",
       "        text-align: right;\n",
       "    }\n",
       "</style>\n",
       "<table border=\"1\" class=\"dataframe\">\n",
       "  <thead>\n",
       "    <tr style=\"text-align: right;\">\n",
       "      <th></th>\n",
       "      <th>nr_of_bank_accounts_open</th>\n",
       "      <th>credit_cards_held</th>\n",
       "      <th>nr_of_homes_owned</th>\n",
       "      <th>household_size</th>\n",
       "    </tr>\n",
       "  </thead>\n",
       "  <tbody>\n",
       "    <tr>\n",
       "      <th>0</th>\n",
       "      <td>1</td>\n",
       "      <td>2</td>\n",
       "      <td>1</td>\n",
       "      <td>4</td>\n",
       "    </tr>\n",
       "    <tr>\n",
       "      <th>1</th>\n",
       "      <td>1</td>\n",
       "      <td>2</td>\n",
       "      <td>2</td>\n",
       "      <td>5</td>\n",
       "    </tr>\n",
       "    <tr>\n",
       "      <th>2</th>\n",
       "      <td>2</td>\n",
       "      <td>2</td>\n",
       "      <td>1</td>\n",
       "      <td>2</td>\n",
       "    </tr>\n",
       "    <tr>\n",
       "      <th>3</th>\n",
       "      <td>2</td>\n",
       "      <td>1</td>\n",
       "      <td>1</td>\n",
       "      <td>4</td>\n",
       "    </tr>\n",
       "    <tr>\n",
       "      <th>4</th>\n",
       "      <td>1</td>\n",
       "      <td>2</td>\n",
       "      <td>1</td>\n",
       "      <td>6</td>\n",
       "    </tr>\n",
       "  </tbody>\n",
       "</table>\n",
       "</div>"
      ],
      "text/plain": [
       "   nr_of_bank_accounts_open  credit_cards_held  nr_of_homes_owned  \\\n",
       "0                         1                  2                  1   \n",
       "1                         1                  2                  2   \n",
       "2                         2                  2                  1   \n",
       "3                         2                  1                  1   \n",
       "4                         1                  2                  1   \n",
       "\n",
       "   household_size  \n",
       "0               4  \n",
       "1               5  \n",
       "2               2  \n",
       "3               4  \n",
       "4               6  "
      ]
     },
     "execution_count": 423,
     "metadata": {},
     "output_type": "execute_result"
    }
   ],
   "source": [
    "# Show discrete features\n",
    "num_disc = data_sep(df, 'discrete')\n",
    "num_disc.head()"
   ]
  },
  {
   "cell_type": "code",
   "execution_count": 424,
   "metadata": {},
   "outputs": [
    {
     "data": {
      "text/html": [
       "<div>\n",
       "<style scoped>\n",
       "    .dataframe tbody tr th:only-of-type {\n",
       "        vertical-align: middle;\n",
       "    }\n",
       "\n",
       "    .dataframe tbody tr th {\n",
       "        vertical-align: top;\n",
       "    }\n",
       "\n",
       "    .dataframe thead th {\n",
       "        text-align: right;\n",
       "    }\n",
       "</style>\n",
       "<table border=\"1\" class=\"dataframe\">\n",
       "  <thead>\n",
       "    <tr style=\"text-align: right;\">\n",
       "      <th></th>\n",
       "      <th>average_balance</th>\n",
       "      <th>balance_q1</th>\n",
       "      <th>balance_q2</th>\n",
       "      <th>balance_q3</th>\n",
       "    </tr>\n",
       "  </thead>\n",
       "  <tbody>\n",
       "    <tr>\n",
       "      <th>0</th>\n",
       "      <td>1160.75</td>\n",
       "      <td>1669.0</td>\n",
       "      <td>877.0</td>\n",
       "      <td>1095.0</td>\n",
       "    </tr>\n",
       "    <tr>\n",
       "      <th>1</th>\n",
       "      <td>147.25</td>\n",
       "      <td>39.0</td>\n",
       "      <td>106.0</td>\n",
       "      <td>78.0</td>\n",
       "    </tr>\n",
       "    <tr>\n",
       "      <th>2</th>\n",
       "      <td>276.50</td>\n",
       "      <td>367.0</td>\n",
       "      <td>352.0</td>\n",
       "      <td>145.0</td>\n",
       "    </tr>\n",
       "    <tr>\n",
       "      <th>3</th>\n",
       "      <td>1219.00</td>\n",
       "      <td>1578.0</td>\n",
       "      <td>1760.0</td>\n",
       "      <td>1119.0</td>\n",
       "    </tr>\n",
       "    <tr>\n",
       "      <th>4</th>\n",
       "      <td>1211.00</td>\n",
       "      <td>2140.0</td>\n",
       "      <td>1357.0</td>\n",
       "      <td>982.0</td>\n",
       "    </tr>\n",
       "  </tbody>\n",
       "</table>\n",
       "</div>"
      ],
      "text/plain": [
       "   average_balance  balance_q1  balance_q2  balance_q3\n",
       "0          1160.75      1669.0       877.0      1095.0\n",
       "1           147.25        39.0       106.0        78.0\n",
       "2           276.50       367.0       352.0       145.0\n",
       "3          1219.00      1578.0      1760.0      1119.0\n",
       "4          1211.00      2140.0      1357.0       982.0"
      ]
     },
     "execution_count": 424,
     "metadata": {},
     "output_type": "execute_result"
    }
   ],
   "source": [
    "# Show continuous features\n",
    "num_cont = data_sep(df, 'continuous')\n",
    "num_cont.head()"
   ]
  },
  {
   "cell_type": "code",
   "execution_count": 425,
   "metadata": {},
   "outputs": [
    {
     "data": {
      "text/html": [
       "<div>\n",
       "<style scoped>\n",
       "    .dataframe tbody tr th:only-of-type {\n",
       "        vertical-align: middle;\n",
       "    }\n",
       "\n",
       "    .dataframe tbody tr th {\n",
       "        vertical-align: top;\n",
       "    }\n",
       "\n",
       "    .dataframe thead th {\n",
       "        text-align: right;\n",
       "    }\n",
       "</style>\n",
       "<table border=\"1\" class=\"dataframe\">\n",
       "  <thead>\n",
       "    <tr style=\"text-align: right;\">\n",
       "      <th></th>\n",
       "      <th>count</th>\n",
       "      <th>mean</th>\n",
       "      <th>std</th>\n",
       "      <th>min</th>\n",
       "      <th>25%</th>\n",
       "      <th>50%</th>\n",
       "      <th>75%</th>\n",
       "      <th>max</th>\n",
       "    </tr>\n",
       "  </thead>\n",
       "  <tbody>\n",
       "    <tr>\n",
       "      <th>nr_of_bank_accounts_open</th>\n",
       "      <td>17976.0</td>\n",
       "      <td>1.255730</td>\n",
       "      <td>0.472405</td>\n",
       "      <td>1.00</td>\n",
       "      <td>1.00</td>\n",
       "      <td>1.0</td>\n",
       "      <td>1.00</td>\n",
       "      <td>3.00</td>\n",
       "    </tr>\n",
       "    <tr>\n",
       "      <th>credit_cards_held</th>\n",
       "      <td>17976.0</td>\n",
       "      <td>1.903427</td>\n",
       "      <td>0.797086</td>\n",
       "      <td>1.00</td>\n",
       "      <td>1.00</td>\n",
       "      <td>2.0</td>\n",
       "      <td>2.00</td>\n",
       "      <td>4.00</td>\n",
       "    </tr>\n",
       "    <tr>\n",
       "      <th>nr_of_homes_owned</th>\n",
       "      <td>17976.0</td>\n",
       "      <td>1.203549</td>\n",
       "      <td>0.427446</td>\n",
       "      <td>1.00</td>\n",
       "      <td>1.00</td>\n",
       "      <td>1.0</td>\n",
       "      <td>1.00</td>\n",
       "      <td>3.00</td>\n",
       "    </tr>\n",
       "    <tr>\n",
       "      <th>household_size</th>\n",
       "      <td>17976.0</td>\n",
       "      <td>3.499110</td>\n",
       "      <td>1.114476</td>\n",
       "      <td>1.00</td>\n",
       "      <td>3.00</td>\n",
       "      <td>3.0</td>\n",
       "      <td>4.00</td>\n",
       "      <td>9.00</td>\n",
       "    </tr>\n",
       "    <tr>\n",
       "      <th>average_balance</th>\n",
       "      <td>17976.0</td>\n",
       "      <td>940.515562</td>\n",
       "      <td>350.297837</td>\n",
       "      <td>48.25</td>\n",
       "      <td>787.50</td>\n",
       "      <td>1007.0</td>\n",
       "      <td>1153.25</td>\n",
       "      <td>3366.25</td>\n",
       "    </tr>\n",
       "    <tr>\n",
       "      <th>balance_q1</th>\n",
       "      <td>17976.0</td>\n",
       "      <td>910.450656</td>\n",
       "      <td>620.077060</td>\n",
       "      <td>0.00</td>\n",
       "      <td>392.75</td>\n",
       "      <td>772.0</td>\n",
       "      <td>1521.00</td>\n",
       "      <td>3450.00</td>\n",
       "    </tr>\n",
       "    <tr>\n",
       "      <th>balance_q2</th>\n",
       "      <td>17976.0</td>\n",
       "      <td>999.392190</td>\n",
       "      <td>457.402268</td>\n",
       "      <td>0.00</td>\n",
       "      <td>663.00</td>\n",
       "      <td>1032.0</td>\n",
       "      <td>1342.00</td>\n",
       "      <td>3421.00</td>\n",
       "    </tr>\n",
       "    <tr>\n",
       "      <th>balance_q3</th>\n",
       "      <td>17976.0</td>\n",
       "      <td>1042.033600</td>\n",
       "      <td>553.452599</td>\n",
       "      <td>0.00</td>\n",
       "      <td>633.00</td>\n",
       "      <td>945.5</td>\n",
       "      <td>1463.00</td>\n",
       "      <td>3823.00</td>\n",
       "    </tr>\n",
       "  </tbody>\n",
       "</table>\n",
       "</div>"
      ],
      "text/plain": [
       "                            count         mean         std    min     25%  \\\n",
       "nr_of_bank_accounts_open  17976.0     1.255730    0.472405   1.00    1.00   \n",
       "credit_cards_held         17976.0     1.903427    0.797086   1.00    1.00   \n",
       "nr_of_homes_owned         17976.0     1.203549    0.427446   1.00    1.00   \n",
       "household_size            17976.0     3.499110    1.114476   1.00    3.00   \n",
       "average_balance           17976.0   940.515562  350.297837  48.25  787.50   \n",
       "balance_q1                17976.0   910.450656  620.077060   0.00  392.75   \n",
       "balance_q2                17976.0   999.392190  457.402268   0.00  663.00   \n",
       "balance_q3                17976.0  1042.033600  553.452599   0.00  633.00   \n",
       "\n",
       "                             50%      75%      max  \n",
       "nr_of_bank_accounts_open     1.0     1.00     3.00  \n",
       "credit_cards_held            2.0     2.00     4.00  \n",
       "nr_of_homes_owned            1.0     1.00     3.00  \n",
       "household_size               3.0     4.00     9.00  \n",
       "average_balance           1007.0  1153.25  3366.25  \n",
       "balance_q1                 772.0  1521.00  3450.00  \n",
       "balance_q2                1032.0  1342.00  3421.00  \n",
       "balance_q3                 945.5  1463.00  3823.00  "
      ]
     },
     "execution_count": 425,
     "metadata": {},
     "output_type": "execute_result"
    }
   ],
   "source": [
    "df.describe().T"
   ]
  },
  {
   "cell_type": "markdown",
   "metadata": {},
   "source": [
    "### Function for Plotting types"
   ]
  },
  {
   "cell_type": "code",
   "execution_count": 426,
   "metadata": {},
   "outputs": [],
   "source": [
    "# plotting types\n",
    "def plots(df, types,target=None):\n",
    "    import seaborn as sns\n",
    "    if types == 'correlation matrix':\n",
    "        corr_matrix=df.corr(method='pearson')\n",
    "        fig, ax = plt.subplots(figsize=(10, 8))\n",
    "        mask = np.zeros_like(corr_matrix)\n",
    "        mask[np.triu_indices_from(mask)] = True\n",
    "        ax = sns.heatmap(corr_matrix, mask=mask, annot=True)\n",
    "        return plt.show()\n",
    "    for i in df.columns:\n",
    "            print('Column: ',i)\n",
    "            print('====================')\n",
    "            if types == 'continuous':\n",
    "                sns.distplot(df[i])\n",
    "            elif types == 'categorical' or types == 'discrete':\n",
    "                sns.countplot(x=i,data=df)\n",
    "            elif types == 'boxplot':\n",
    "                sns.boxplot(x=i, data=df)\n",
    "            plt.show()\n",
    "            print('====================')"
   ]
  },
  {
   "cell_type": "code",
   "execution_count": 427,
   "metadata": {},
   "outputs": [
    {
     "name": "stdout",
     "output_type": "stream",
     "text": [
      "Column:  average_balance\n",
      "====================\n"
     ]
    },
    {
     "data": {
      "image/png": "[encoded data removed]",
      "text/plain": [
       "<Figure size 432x288 with 1 Axes>"
      ]
     },
     "metadata": {
      "needs_background": "light"
     },
     "output_type": "display_data"
    },
    {
     "name": "stdout",
     "output_type": "stream",
     "text": [
      "====================\n",
      "Column:  balance_q1\n",
      "====================\n"
     ]
    },
    {
     "data": {
      "image/png": "[encoded data removed]",
      "text/plain": [
       "<Figure size 432x288 with 1 Axes>"
      ]
     },
     "metadata": {
      "needs_background": "light"
     },
     "output_type": "display_data"
    },
    {
     "name": "stdout",
     "output_type": "stream",
     "text": [
      "====================\n",
      "Column:  balance_q2\n",
      "====================\n"
     ]
    },
    {
     "data": {
      "image/png": "[encoded data removed]",
      "text/plain": [
       "<Figure size 432x288 with 1 Axes>"
      ]
     },
     "metadata": {
      "needs_background": "light"
     },
     "output_type": "display_data"
    },
    {
     "name": "stdout",
     "output_type": "stream",
     "text": [
      "====================\n",
      "Column:  balance_q3\n",
      "====================\n"
     ]
    },
    {
     "data": {
      "image/png": "[encoded data removed]",
      "text/plain": [
       "<Figure size 432x288 with 1 Axes>"
      ]
     },
     "metadata": {
      "needs_background": "light"
     },
     "output_type": "display_data"
    },
    {
     "name": "stdout",
     "output_type": "stream",
     "text": [
      "====================\n"
     ]
    }
   ],
   "source": [
    "# plotting continuous data\n",
    "plots(num_cont,'continuous')"
   ]
  },
  {
   "cell_type": "code",
   "execution_count": 428,
   "metadata": {},
   "outputs": [
    {
     "name": "stdout",
     "output_type": "stream",
     "text": [
      "Column:  nr_of_bank_accounts_open\n",
      "====================\n"
     ]
    },
    {
     "data": {
      "image/png": "[encoded data removed]",
      "text/plain": [
       "<Figure size 432x288 with 1 Axes>"
      ]
     },
     "metadata": {
      "needs_background": "light"
     },
     "output_type": "display_data"
    },
    {
     "name": "stdout",
     "output_type": "stream",
     "text": [
      "====================\n",
      "Column:  credit_cards_held\n",
      "====================\n"
     ]
    },
    {
     "data": {
      "image/png": "[encoded data removed]",
      "text/plain": [
       "<Figure size 432x288 with 1 Axes>"
      ]
     },
     "metadata": {
      "needs_background": "light"
     },
     "output_type": "display_data"
    },
    {
     "name": "stdout",
     "output_type": "stream",
     "text": [
      "====================\n",
      "Column:  nr_of_homes_owned\n",
      "====================\n"
     ]
    },
    {
     "data": {
      "image/png": "[encoded data removed]",
      "text/plain": [
       "<Figure size 432x288 with 1 Axes>"
      ]
     },
     "metadata": {
      "needs_background": "light"
     },
     "output_type": "display_data"
    },
    {
     "name": "stdout",
     "output_type": "stream",
     "text": [
      "====================\n",
      "Column:  household_size\n",
      "====================\n"
     ]
    },
    {
     "data": {
      "image/png": "[encoded data removed]",
      "text/plain": [
       "<Figure size 432x288 with 1 Axes>"
      ]
     },
     "metadata": {
      "needs_background": "light"
     },
     "output_type": "display_data"
    },
    {
     "name": "stdout",
     "output_type": "stream",
     "text": [
      "====================\n"
     ]
    }
   ],
   "source": [
    "# plotting discrete data\n",
    "plots(num_disc,'discrete')"
   ]
  },
  {
   "cell_type": "code",
   "execution_count": 429,
   "metadata": {},
   "outputs": [
    {
     "name": "stdout",
     "output_type": "stream",
     "text": [
      "Column:  nr_of_bank_accounts_open\n",
      "====================\n"
     ]
    },
    {
     "data": {
      "image/png": "[encoded data removed]",
      "text/plain": [
       "<Figure size 432x288 with 1 Axes>"
      ]
     },
     "metadata": {
      "needs_background": "light"
     },
     "output_type": "display_data"
    },
    {
     "name": "stdout",
     "output_type": "stream",
     "text": [
      "====================\n",
      "Column:  credit_cards_held\n",
      "====================\n"
     ]
    },
    {
     "data": {
      "image/png": "[encoded data removed]",
      "text/plain": [
       "<Figure size 432x288 with 1 Axes>"
      ]
     },
     "metadata": {
      "needs_background": "light"
     },
     "output_type": "display_data"
    },
    {
     "name": "stdout",
     "output_type": "stream",
     "text": [
      "====================\n",
      "Column:  nr_of_homes_owned\n",
      "====================\n"
     ]
    },
    {
     "data": {
      "image/png": "[encoded data removed]",
      "text/plain": [
       "<Figure size 432x288 with 1 Axes>"
      ]
     },
     "metadata": {
      "needs_background": "light"
     },
     "output_type": "display_data"
    },
    {
     "name": "stdout",
     "output_type": "stream",
     "text": [
      "====================\n",
      "Column:  household_size\n",
      "====================\n"
     ]
    },
    {
     "data": {
      "image/png": "[encoded data removed]",
      "text/plain": [
       "<Figure size 432x288 with 1 Axes>"
      ]
     },
     "metadata": {
      "needs_background": "light"
     },
     "output_type": "display_data"
    },
    {
     "name": "stdout",
     "output_type": "stream",
     "text": [
      "====================\n",
      "Column:  average_balance\n",
      "====================\n"
     ]
    },
    {
     "data": {
      "image/png": "[encoded data removed]",
      "text/plain": [
       "<Figure size 432x288 with 1 Axes>"
      ]
     },
     "metadata": {
      "needs_background": "light"
     },
     "output_type": "display_data"
    },
    {
     "name": "stdout",
     "output_type": "stream",
     "text": [
      "====================\n",
      "Column:  balance_q1\n",
      "====================\n"
     ]
    },
    {
     "data": {
      "image/png": "[encoded data removed]",
      "text/plain": [
       "<Figure size 432x288 with 1 Axes>"
      ]
     },
     "metadata": {
      "needs_background": "light"
     },
     "output_type": "display_data"
    },
    {
     "name": "stdout",
     "output_type": "stream",
     "text": [
      "====================\n",
      "Column:  balance_q2\n",
      "====================\n"
     ]
    },
    {
     "data": {
      "image/png": "[encoded data removed]",
      "text/plain": [
       "<Figure size 432x288 with 1 Axes>"
      ]
     },
     "metadata": {
      "needs_background": "light"
     },
     "output_type": "display_data"
    },
    {
     "name": "stdout",
     "output_type": "stream",
     "text": [
      "====================\n",
      "Column:  balance_q3\n",
      "====================\n"
     ]
    },
    {
     "data": {
      "image/png": "[encoded data removed]",
      "text/plain": [
       "<Figure size 432x288 with 1 Axes>"
      ]
     },
     "metadata": {
      "needs_background": "light"
     },
     "output_type": "display_data"
    },
    {
     "name": "stdout",
     "output_type": "stream",
     "text": [
      "====================\n"
     ]
    }
   ],
   "source": [
    "# plotting numerical data\n",
    "plots(num,'boxplot')"
   ]
  },
  {
   "cell_type": "code",
   "execution_count": 430,
   "metadata": {},
   "outputs": [
    {
     "name": "stdout",
     "output_type": "stream",
     "text": [
      "Column:  reward\n",
      "====================\n"
     ]
    },
    {
     "data": {
      "image/png": "[encoded data removed]",
      "text/plain": [
       "<Figure size 432x288 with 1 Axes>"
      ]
     },
     "metadata": {
      "needs_background": "light"
     },
     "output_type": "display_data"
    },
    {
     "name": "stdout",
     "output_type": "stream",
     "text": [
      "====================\n",
      "Column:  mailer_type\n",
      "====================\n"
     ]
    },
    {
     "data": {
      "image/png": "[encoded data removed]",
      "text/plain": [
       "<Figure size 432x288 with 1 Axes>"
      ]
     },
     "metadata": {
      "needs_background": "light"
     },
     "output_type": "display_data"
    },
    {
     "name": "stdout",
     "output_type": "stream",
     "text": [
      "====================\n",
      "Column:  income_level\n",
      "====================\n"
     ]
    },
    {
     "data": {
      "image/png": "[encoded data removed]",
      "text/plain": [
       "<Figure size 432x288 with 1 Axes>"
      ]
     },
     "metadata": {
      "needs_background": "light"
     },
     "output_type": "display_data"
    },
    {
     "name": "stdout",
     "output_type": "stream",
     "text": [
      "====================\n",
      "Column:  overdraft_protection\n",
      "====================\n"
     ]
    },
    {
     "data": {
      "image/png": "[encoded data removed]",
      "text/plain": [
       "<Figure size 432x288 with 1 Axes>"
      ]
     },
     "metadata": {
      "needs_background": "light"
     },
     "output_type": "display_data"
    },
    {
     "name": "stdout",
     "output_type": "stream",
     "text": [
      "====================\n",
      "Column:  credit_rating\n",
      "====================\n"
     ]
    },
    {
     "data": {
      "image/png": "[encoded data removed]",
      "text/plain": [
       "<Figure size 432x288 with 1 Axes>"
      ]
     },
     "metadata": {
      "needs_background": "light"
     },
     "output_type": "display_data"
    },
    {
     "name": "stdout",
     "output_type": "stream",
     "text": [
      "====================\n",
      "Column:  own_your_home\n",
      "====================\n"
     ]
    },
    {
     "data": {
      "image/png": "[encoded data removed]",
      "text/plain": [
       "<Figure size 432x288 with 1 Axes>"
      ]
     },
     "metadata": {
      "needs_background": "light"
     },
     "output_type": "display_data"
    },
    {
     "name": "stdout",
     "output_type": "stream",
     "text": [
      "====================\n"
     ]
    }
   ],
   "source": [
    "# plotting categorical data\n",
    "plots(cat,'categorical')"
   ]
  },
  {
   "cell_type": "markdown",
   "metadata": {},
   "source": [
    "### Function skew"
   ]
  },
  {
   "cell_type": "code",
   "execution_count": 222,
   "metadata": {},
   "outputs": [],
   "source": [
    "def skew_df(df):\n",
    "    from scipy.stats import skew\n",
    "    \n",
    "    cols=list(df.columns)\n",
    "    \n",
    "    for col in cols:\n",
    "        sk=df[col].skew()\n",
    "        print(\"the skew of {} is: {}\".format(col,sk))"
   ]
  },
  {
   "cell_type": "code",
   "execution_count": 223,
   "metadata": {},
   "outputs": [
    {
     "name": "stdout",
     "output_type": "stream",
     "text": [
      "the skew of nr_of_bank_accounts_open is: 1.5774006502627758\n",
      "the skew of credit_cards_held is: 0.5140513822808801\n",
      "the skew of nr_of_homes_owned is: 1.860769745992946\n",
      "the skew of household_size is: 0.016946629549552998\n",
      "the skew of average_balance is: -0.5723407970872233\n",
      "the skew of balance_q1 is: 0.4109111821855019\n",
      "the skew of balance_q2 is: -0.18299270673139534\n",
      "the skew of balance_q3 is: 0.28962875846919944\n"
     ]
    }
   ],
   "source": [
    "skew_df(num)"
   ]
  },
  {
   "cell_type": "markdown",
   "metadata": {},
   "source": [
    "### Using log transformat"
   ]
  },
  {
   "cell_type": "code",
   "execution_count": 224,
   "metadata": {},
   "outputs": [],
   "source": [
    "'''def log_transfom_clean(x):\n",
    "    x = np.log(x)\n",
    "    if np.isfinite(x):\n",
    "        return x\n",
    "    else:\n",
    "        return np.NAN\n",
    "'''"
   ]
  },
  {
   "cell_type": "markdown",
   "metadata": {},
   "source": [
    "### Function for converting ordinals"
   ]
  },
  {
   "cell_type": "code",
   "execution_count": 431,
   "metadata": {},
   "outputs": [],
   "source": [
    "# Convert ordinals to numericals\n",
    "def ordinals_conversor(df):\n",
    "    df2 = df.copy()\n",
    "    for col in ['income_level','overdraft_protection','credit_rating','own_your_home']:\n",
    "        if len(df2[col].unique()) > 2:\n",
    "            # df2[col] = np.where(df2[col] == 'High',2, np.where(df2[col]== 'Low',0, 1))\n",
    "            df2[col]= list(map(lambda x: 2 if x == 'High' else (0 if x == 'Low' else 1),df2[col]))\n",
    "        else:\n",
    "            df2[col]= list(map(lambda x: 1 if x =='Yes' else 0,df2[col]))\n",
    "    return df2"
   ]
  },
  {
   "cell_type": "code",
   "execution_count": 432,
   "metadata": {},
   "outputs": [
    {
     "data": {
      "text/html": [
       "<div>\n",
       "<style scoped>\n",
       "    .dataframe tbody tr th:only-of-type {\n",
       "        vertical-align: middle;\n",
       "    }\n",
       "\n",
       "    .dataframe tbody tr th {\n",
       "        vertical-align: top;\n",
       "    }\n",
       "\n",
       "    .dataframe thead th {\n",
       "        text-align: right;\n",
       "    }\n",
       "</style>\n",
       "<table border=\"1\" class=\"dataframe\">\n",
       "  <thead>\n",
       "    <tr style=\"text-align: right;\">\n",
       "      <th></th>\n",
       "      <th>income_level</th>\n",
       "      <th>overdraft_protection</th>\n",
       "      <th>credit_rating</th>\n",
       "      <th>own_your_home</th>\n",
       "    </tr>\n",
       "  </thead>\n",
       "  <tbody>\n",
       "    <tr>\n",
       "      <th>0</th>\n",
       "      <td>2</td>\n",
       "      <td>0</td>\n",
       "      <td>2</td>\n",
       "      <td>0</td>\n",
       "    </tr>\n",
       "    <tr>\n",
       "      <th>1</th>\n",
       "      <td>1</td>\n",
       "      <td>0</td>\n",
       "      <td>1</td>\n",
       "      <td>1</td>\n",
       "    </tr>\n",
       "    <tr>\n",
       "      <th>2</th>\n",
       "      <td>2</td>\n",
       "      <td>0</td>\n",
       "      <td>1</td>\n",
       "      <td>1</td>\n",
       "    </tr>\n",
       "    <tr>\n",
       "      <th>3</th>\n",
       "      <td>1</td>\n",
       "      <td>0</td>\n",
       "      <td>2</td>\n",
       "      <td>0</td>\n",
       "    </tr>\n",
       "    <tr>\n",
       "      <th>4</th>\n",
       "      <td>1</td>\n",
       "      <td>0</td>\n",
       "      <td>1</td>\n",
       "      <td>1</td>\n",
       "    </tr>\n",
       "  </tbody>\n",
       "</table>\n",
       "</div>"
      ],
      "text/plain": [
       "   income_level  overdraft_protection  credit_rating  own_your_home\n",
       "0             2                     0              2              0\n",
       "1             1                     0              1              1\n",
       "2             2                     0              1              1\n",
       "3             1                     0              2              0\n",
       "4             1                     0              1              1"
      ]
     },
     "execution_count": 432,
     "metadata": {},
     "output_type": "execute_result"
    }
   ],
   "source": [
    "# Convert ordinals to numericals\n",
    "cat = ordinals_conversor(cat)\n",
    "cat[['income_level','overdraft_protection','credit_rating','own_your_home']].head()"
   ]
  },
  {
   "cell_type": "code",
   "execution_count": 433,
   "metadata": {},
   "outputs": [
    {
     "data": {
      "text/html": [
       "<div>\n",
       "<style scoped>\n",
       "    .dataframe tbody tr th:only-of-type {\n",
       "        vertical-align: middle;\n",
       "    }\n",
       "\n",
       "    .dataframe tbody tr th {\n",
       "        vertical-align: top;\n",
       "    }\n",
       "\n",
       "    .dataframe thead th {\n",
       "        text-align: right;\n",
       "    }\n",
       "</style>\n",
       "<table border=\"1\" class=\"dataframe\">\n",
       "  <thead>\n",
       "    <tr style=\"text-align: right;\">\n",
       "      <th></th>\n",
       "      <th>income_level</th>\n",
       "      <th>overdraft_protection</th>\n",
       "      <th>credit_rating</th>\n",
       "      <th>own_your_home</th>\n",
       "      <th>reward_Air Miles</th>\n",
       "      <th>reward_Cash Back</th>\n",
       "      <th>reward_Points</th>\n",
       "      <th>mailer_type_Letter</th>\n",
       "      <th>mailer_type_Postcard</th>\n",
       "    </tr>\n",
       "  </thead>\n",
       "  <tbody>\n",
       "    <tr>\n",
       "      <th>0</th>\n",
       "      <td>2</td>\n",
       "      <td>0</td>\n",
       "      <td>2</td>\n",
       "      <td>0</td>\n",
       "      <td>1</td>\n",
       "      <td>0</td>\n",
       "      <td>0</td>\n",
       "      <td>1</td>\n",
       "      <td>0</td>\n",
       "    </tr>\n",
       "    <tr>\n",
       "      <th>1</th>\n",
       "      <td>1</td>\n",
       "      <td>0</td>\n",
       "      <td>1</td>\n",
       "      <td>1</td>\n",
       "      <td>1</td>\n",
       "      <td>0</td>\n",
       "      <td>0</td>\n",
       "      <td>1</td>\n",
       "      <td>0</td>\n",
       "    </tr>\n",
       "    <tr>\n",
       "      <th>2</th>\n",
       "      <td>2</td>\n",
       "      <td>0</td>\n",
       "      <td>1</td>\n",
       "      <td>1</td>\n",
       "      <td>1</td>\n",
       "      <td>0</td>\n",
       "      <td>0</td>\n",
       "      <td>0</td>\n",
       "      <td>1</td>\n",
       "    </tr>\n",
       "    <tr>\n",
       "      <th>3</th>\n",
       "      <td>1</td>\n",
       "      <td>0</td>\n",
       "      <td>2</td>\n",
       "      <td>0</td>\n",
       "      <td>1</td>\n",
       "      <td>0</td>\n",
       "      <td>0</td>\n",
       "      <td>1</td>\n",
       "      <td>0</td>\n",
       "    </tr>\n",
       "    <tr>\n",
       "      <th>4</th>\n",
       "      <td>1</td>\n",
       "      <td>0</td>\n",
       "      <td>1</td>\n",
       "      <td>1</td>\n",
       "      <td>1</td>\n",
       "      <td>0</td>\n",
       "      <td>0</td>\n",
       "      <td>1</td>\n",
       "      <td>0</td>\n",
       "    </tr>\n",
       "    <tr>\n",
       "      <th>...</th>\n",
       "      <td>...</td>\n",
       "      <td>...</td>\n",
       "      <td>...</td>\n",
       "      <td>...</td>\n",
       "      <td>...</td>\n",
       "      <td>...</td>\n",
       "      <td>...</td>\n",
       "      <td>...</td>\n",
       "      <td>...</td>\n",
       "    </tr>\n",
       "    <tr>\n",
       "      <th>17995</th>\n",
       "      <td>2</td>\n",
       "      <td>0</td>\n",
       "      <td>0</td>\n",
       "      <td>1</td>\n",
       "      <td>0</td>\n",
       "      <td>1</td>\n",
       "      <td>0</td>\n",
       "      <td>1</td>\n",
       "      <td>0</td>\n",
       "    </tr>\n",
       "    <tr>\n",
       "      <th>17996</th>\n",
       "      <td>2</td>\n",
       "      <td>0</td>\n",
       "      <td>0</td>\n",
       "      <td>1</td>\n",
       "      <td>0</td>\n",
       "      <td>1</td>\n",
       "      <td>0</td>\n",
       "      <td>1</td>\n",
       "      <td>0</td>\n",
       "    </tr>\n",
       "    <tr>\n",
       "      <th>17997</th>\n",
       "      <td>2</td>\n",
       "      <td>0</td>\n",
       "      <td>0</td>\n",
       "      <td>0</td>\n",
       "      <td>0</td>\n",
       "      <td>1</td>\n",
       "      <td>0</td>\n",
       "      <td>1</td>\n",
       "      <td>0</td>\n",
       "    </tr>\n",
       "    <tr>\n",
       "      <th>17998</th>\n",
       "      <td>1</td>\n",
       "      <td>0</td>\n",
       "      <td>1</td>\n",
       "      <td>1</td>\n",
       "      <td>0</td>\n",
       "      <td>1</td>\n",
       "      <td>0</td>\n",
       "      <td>1</td>\n",
       "      <td>0</td>\n",
       "    </tr>\n",
       "    <tr>\n",
       "      <th>17999</th>\n",
       "      <td>0</td>\n",
       "      <td>0</td>\n",
       "      <td>1</td>\n",
       "      <td>0</td>\n",
       "      <td>0</td>\n",
       "      <td>1</td>\n",
       "      <td>0</td>\n",
       "      <td>1</td>\n",
       "      <td>0</td>\n",
       "    </tr>\n",
       "  </tbody>\n",
       "</table>\n",
       "<p>17976 rows × 9 columns</p>\n",
       "</div>"
      ],
      "text/plain": [
       "       income_level  overdraft_protection  credit_rating  own_your_home  \\\n",
       "0                 2                     0              2              0   \n",
       "1                 1                     0              1              1   \n",
       "2                 2                     0              1              1   \n",
       "3                 1                     0              2              0   \n",
       "4                 1                     0              1              1   \n",
       "...             ...                   ...            ...            ...   \n",
       "17995             2                     0              0              1   \n",
       "17996             2                     0              0              1   \n",
       "17997             2                     0              0              0   \n",
       "17998             1                     0              1              1   \n",
       "17999             0                     0              1              0   \n",
       "\n",
       "       reward_Air Miles  reward_Cash Back  reward_Points  mailer_type_Letter  \\\n",
       "0                     1                 0              0                   1   \n",
       "1                     1                 0              0                   1   \n",
       "2                     1                 0              0                   0   \n",
       "3                     1                 0              0                   1   \n",
       "4                     1                 0              0                   1   \n",
       "...                 ...               ...            ...                 ...   \n",
       "17995                 0                 1              0                   1   \n",
       "17996                 0                 1              0                   1   \n",
       "17997                 0                 1              0                   1   \n",
       "17998                 0                 1              0                   1   \n",
       "17999                 0                 1              0                   1   \n",
       "\n",
       "       mailer_type_Postcard  \n",
       "0                         0  \n",
       "1                         0  \n",
       "2                         1  \n",
       "3                         0  \n",
       "4                         0  \n",
       "...                     ...  \n",
       "17995                     0  \n",
       "17996                     0  \n",
       "17997                     0  \n",
       "17998                     0  \n",
       "17999                     0  \n",
       "\n",
       "[17976 rows x 9 columns]"
      ]
     },
     "execution_count": 433,
     "metadata": {},
     "output_type": "execute_result"
    }
   ],
   "source": [
    "# Dummifying categorical nominals\n",
    "cat_df = pd.get_dummies(cat, columns=['reward', 'mailer_type'])\n",
    "cat_df"
   ]
  },
  {
   "cell_type": "code",
   "execution_count": 434,
   "metadata": {},
   "outputs": [
    {
     "name": "stdout",
     "output_type": "stream",
     "text": [
      "==========================================================\n",
      "RELATIONSHIP REWARD and MAILER_TYPE\n",
      "mailer_type  Letter  Postcard\n",
      "reward                       \n",
      "Air Miles      2946      3101\n",
      "Cash Back      2965      3030\n",
      "Points         2931      3003\n",
      "dof=2\n",
      "[[2974.38662661 3072.61337339]\n",
      " [2948.80896751 3046.19103249]\n",
      " [2918.80440587 3015.19559413]]\n",
      "probability=0.950, critical=5.991, stat=0.808\n",
      "Independent (fail to reject H0)\n",
      "significance=0.050, p=0.668\n",
      "Independent (fail to reject H0)\n",
      "==========================================================\n",
      "==========================================================\n",
      "RELATIONSHIP REWARD and INCOME_LEVEL\n",
      "income_level     0     1     2\n",
      "reward                        \n",
      "Air Miles     1533  3023  1491\n",
      "Cash Back     1466  2993  1536\n",
      "Points        1456  2986  1492\n",
      "dof=4\n",
      "[[1498.63067423 3028.20950156 1520.15982421]\n",
      " [1485.74349132 3002.16900312 1507.08750556]\n",
      " [1470.62583445 2971.62149533 1491.75267023]]\n",
      "probability=0.950, critical=9.488, stat=2.417\n",
      "Independent (fail to reject H0)\n",
      "significance=0.050, p=0.660\n",
      "Independent (fail to reject H0)\n",
      "==========================================================\n",
      "==========================================================\n",
      "RELATIONSHIP REWARD and OVERDRAFT_PROTECTION\n",
      "overdraft_protection     0    1\n",
      "reward                         \n",
      "Air Miles             5122  925\n",
      "Cash Back             5102  893\n",
      "Points                5076  858\n",
      "dof=2\n",
      "[[5146.81241656  900.18758344]\n",
      " [5102.55340454  892.44659546]\n",
      " [5050.63417891  883.36582109]]\n",
      "probability=0.950, critical=5.991, stat=1.660\n",
      "Independent (fail to reject H0)\n",
      "significance=0.050, p=0.436\n",
      "Independent (fail to reject H0)\n",
      "==========================================================\n",
      "==========================================================\n",
      "RELATIONSHIP REWARD and CREDIT_RATING\n",
      "credit_rating     0     1     2\n",
      "reward                         \n",
      "Air Miles      1991  1980  2076\n",
      "Cash Back      2004  1979  2012\n",
      "Points         1953  2005  1976\n",
      "dof=4\n",
      "[[2000.86537606 2006.24766355 2039.88696039]\n",
      " [1983.65932354 1988.9953271  2022.34534935]\n",
      " [1963.4753004  1968.75700935 2001.76769025]]\n",
      "probability=0.950, critical=9.488, stat=2.398\n",
      "Independent (fail to reject H0)\n",
      "significance=0.050, p=0.663\n",
      "Independent (fail to reject H0)\n",
      "==========================================================\n",
      "==========================================================\n",
      "RELATIONSHIP REWARD and OWN_YOUR_HOME\n",
      "own_your_home     0     1\n",
      "reward                   \n",
      "Air Miles      2126  3921\n",
      "Cash Back      2153  3842\n",
      "Points         2061  3873\n",
      "dof=2\n",
      "[[2132.73141967 3914.26858033]\n",
      " [2114.39141077 3880.60858923]\n",
      " [2092.87716956 3841.12283044]]\n",
      "probability=0.950, critical=5.991, stat=1.872\n",
      "Independent (fail to reject H0)\n",
      "significance=0.050, p=0.392\n",
      "Independent (fail to reject H0)\n",
      "==========================================================\n",
      "==========================================================\n",
      "RELATIONSHIP MAILER_TYPE and REWARD\n",
      "reward       Air Miles  Cash Back  Points\n",
      "mailer_type                              \n",
      "Letter            2946       2965    2931\n",
      "Postcard          3101       3030    3003\n",
      "dof=2\n",
      "[[2974.38662661 2948.80896751 2918.80440587]\n",
      " [3072.61337339 3046.19103249 3015.19559413]]\n",
      "probability=0.950, critical=5.991, stat=0.808\n",
      "Independent (fail to reject H0)\n",
      "significance=0.050, p=0.668\n",
      "Independent (fail to reject H0)\n",
      "==========================================================\n",
      "==========================================================\n",
      "RELATIONSHIP MAILER_TYPE and INCOME_LEVEL\n",
      "income_level     0     1     2\n",
      "mailer_type                   \n",
      "Letter        2218  4423  2201\n",
      "Postcard      2237  4579  2318\n",
      "dof=2\n",
      "[[2191.31675567 4427.88629283 2222.79695149]\n",
      " [2263.68324433 4574.11370717 2296.20304851]]\n",
      "probability=0.950, critical=5.991, stat=1.071\n",
      "Independent (fail to reject H0)\n",
      "significance=0.050, p=0.585\n",
      "Independent (fail to reject H0)\n",
      "==========================================================\n",
      "==========================================================\n",
      "RELATIONSHIP MAILER_TYPE and OVERDRAFT_PROTECTION\n",
      "overdraft_protection     0     1\n",
      "mailer_type                     \n",
      "Letter                7535  1307\n",
      "Postcard              7765  1369\n",
      "dof=1\n",
      "[[7525.73431242 1316.26568758]\n",
      " [7774.26568758 1359.73431242]]\n",
      "probability=0.950, critical=3.841, stat=0.135\n",
      "Independent (fail to reject H0)\n",
      "significance=0.050, p=0.713\n",
      "Independent (fail to reject H0)\n",
      "==========================================================\n",
      "==========================================================\n",
      "RELATIONSHIP MAILER_TYPE and CREDIT_RATING\n",
      "credit_rating     0     1     2\n",
      "mailer_type                    \n",
      "Letter         2911  2959  2972\n",
      "Postcard       3037  3005  3092\n",
      "dof=2\n",
      "[[2925.69069871 2933.56074766 2982.74855363]\n",
      " [3022.30930129 3030.43925234 3081.25144637]]\n",
      "probability=0.950, critical=5.991, stat=0.656\n",
      "Independent (fail to reject H0)\n",
      "significance=0.050, p=0.721\n",
      "Independent (fail to reject H0)\n",
      "==========================================================\n",
      "==========================================================\n",
      "RELATIONSHIP MAILER_TYPE and OWN_YOUR_HOME\n",
      "own_your_home     0     1\n",
      "mailer_type              \n",
      "Letter         3100  5742\n",
      "Postcard       3240  5894\n",
      "dof=1\n",
      "[[3118.50689809 5723.49310191]\n",
      " [3221.49310191 5912.50689809]]\n",
      "probability=0.950, critical=3.841, stat=0.316\n",
      "Independent (fail to reject H0)\n",
      "significance=0.050, p=0.574\n",
      "Independent (fail to reject H0)\n",
      "==========================================================\n",
      "==========================================================\n",
      "RELATIONSHIP INCOME_LEVEL and REWARD\n",
      "reward        Air Miles  Cash Back  Points\n",
      "income_level                              \n",
      "0                  1533       1466    1456\n",
      "1                  3023       2993    2986\n",
      "2                  1491       1536    1492\n",
      "dof=4\n",
      "[[1498.63067423 1485.74349132 1470.62583445]\n",
      " [3028.20950156 3002.16900312 2971.62149533]\n",
      " [1520.15982421 1507.08750556 1491.75267023]]\n",
      "probability=0.950, critical=9.488, stat=2.417\n",
      "Independent (fail to reject H0)\n",
      "significance=0.050, p=0.660\n",
      "Independent (fail to reject H0)\n",
      "==========================================================\n",
      "==========================================================\n",
      "RELATIONSHIP INCOME_LEVEL and MAILER_TYPE\n",
      "mailer_type   Letter  Postcard\n",
      "income_level                  \n",
      "0               2218      2237\n",
      "1               4423      4579\n",
      "2               2201      2318\n",
      "dof=2\n",
      "[[2191.31675567 2263.68324433]\n",
      " [4427.88629283 4574.11370717]\n",
      " [2222.79695149 2296.20304851]]\n",
      "probability=0.950, critical=5.991, stat=1.071\n",
      "Independent (fail to reject H0)\n",
      "significance=0.050, p=0.585\n",
      "Independent (fail to reject H0)\n",
      "==========================================================\n",
      "==========================================================\n",
      "RELATIONSHIP INCOME_LEVEL and OVERDRAFT_PROTECTION\n",
      "overdraft_protection     0     1\n",
      "income_level                    \n",
      "0                     3782   673\n",
      "1                     7649  1353\n",
      "2                     3869   650\n",
      "dof=2\n",
      "[[3791.80574099  663.19425901]\n",
      " [7661.91588785 1340.08411215]\n",
      " [3846.27837116  672.72162884]]\n",
      "probability=0.950, critical=5.991, stat=1.218\n",
      "Independent (fail to reject H0)\n",
      "significance=0.050, p=0.544\n",
      "Independent (fail to reject H0)\n",
      "==========================================================\n",
      "==========================================================\n",
      "RELATIONSHIP INCOME_LEVEL and CREDIT_RATING\n",
      "credit_rating     0     1     2\n",
      "income_level                   \n",
      "0              1439  1477  1539\n",
      "1              2983  3006  3013\n",
      "2              1526  1481  1512\n",
      "dof=4\n",
      "[[1474.09546061 1478.06074766 1502.84379172]\n",
      " [2978.63239875 2986.64485981 3036.72274143]\n",
      " [1495.27214063 1499.29439252 1524.43346684]]\n",
      "probability=0.950, critical=9.488, stat=2.979\n",
      "Independent (fail to reject H0)\n",
      "significance=0.050, p=0.561\n",
      "Independent (fail to reject H0)\n",
      "==========================================================\n",
      "==========================================================\n",
      "RELATIONSHIP INCOME_LEVEL and OWN_YOUR_HOME\n",
      "own_your_home     0     1\n",
      "income_level             \n",
      "0              1551  2904\n",
      "1              3155  5847\n",
      "2              1634  2885\n",
      "dof=2\n",
      "[[1571.24499332 2883.75500668]\n",
      " [3174.9376947  5827.0623053 ]\n",
      " [1593.81731197 2925.18268803]]\n",
      "probability=0.950, critical=5.991, stat=2.161\n",
      "Independent (fail to reject H0)\n",
      "significance=0.050, p=0.339\n",
      "Independent (fail to reject H0)\n",
      "==========================================================\n",
      "==========================================================\n",
      "RELATIONSHIP OVERDRAFT_PROTECTION and REWARD\n",
      "reward                Air Miles  Cash Back  Points\n",
      "overdraft_protection                              \n",
      "0                          5122       5102    5076\n",
      "1                           925        893     858\n",
      "dof=2\n",
      "[[5146.81241656 5102.55340454 5050.63417891]\n",
      " [ 900.18758344  892.44659546  883.36582109]]\n",
      "probability=0.950, critical=5.991, stat=1.660\n",
      "Independent (fail to reject H0)\n",
      "significance=0.050, p=0.436\n",
      "Independent (fail to reject H0)\n",
      "==========================================================\n",
      "==========================================================\n",
      "RELATIONSHIP OVERDRAFT_PROTECTION and MAILER_TYPE\n",
      "mailer_type           Letter  Postcard\n",
      "overdraft_protection                  \n",
      "0                       7535      7765\n",
      "1                       1307      1369\n",
      "dof=1\n",
      "[[7525.73431242 7774.26568758]\n",
      " [1316.26568758 1359.73431242]]\n",
      "probability=0.950, critical=3.841, stat=0.135\n",
      "Independent (fail to reject H0)\n",
      "significance=0.050, p=0.713\n",
      "Independent (fail to reject H0)\n",
      "==========================================================\n",
      "==========================================================\n",
      "RELATIONSHIP OVERDRAFT_PROTECTION and INCOME_LEVEL\n",
      "income_level             0     1     2\n",
      "overdraft_protection                  \n",
      "0                     3782  7649  3869\n",
      "1                      673  1353   650\n",
      "dof=2\n",
      "[[3791.80574099 7661.91588785 3846.27837116]\n",
      " [ 663.19425901 1340.08411215  672.72162884]]\n",
      "probability=0.950, critical=5.991, stat=1.218\n",
      "Independent (fail to reject H0)\n",
      "significance=0.050, p=0.544\n",
      "Independent (fail to reject H0)\n",
      "==========================================================\n",
      "==========================================================\n",
      "RELATIONSHIP OVERDRAFT_PROTECTION and CREDIT_RATING\n",
      "credit_rating            0     1     2\n",
      "overdraft_protection                  \n",
      "0                     5069  5051  5180\n",
      "1                      879   913   884\n",
      "dof=2\n",
      "[[5062.55006676 5076.1682243  5161.28170895]\n",
      " [ 885.44993324  887.8317757   902.71829105]]\n",
      "probability=0.950, critical=5.991, stat=1.349\n",
      "Independent (fail to reject H0)\n",
      "significance=0.050, p=0.509\n",
      "Independent (fail to reject H0)\n",
      "==========================================================\n",
      "==========================================================\n",
      "RELATIONSHIP OVERDRAFT_PROTECTION and OWN_YOUR_HOME\n",
      "own_your_home            0     1\n",
      "overdraft_protection            \n",
      "0                     5422  9878\n",
      "1                      918  1758\n",
      "dof=1\n",
      "[[5396.19492657 9903.80507343]\n",
      " [ 943.80507343 1732.19492657]]\n",
      "probability=0.950, critical=3.841, stat=1.231\n",
      "Independent (fail to reject H0)\n",
      "significance=0.050, p=0.267\n",
      "Independent (fail to reject H0)\n",
      "==========================================================\n",
      "==========================================================\n",
      "RELATIONSHIP CREDIT_RATING and REWARD\n"
     ]
    },
    {
     "name": "stdout",
     "output_type": "stream",
     "text": [
      "reward         Air Miles  Cash Back  Points\n",
      "credit_rating                              \n",
      "0                   1991       2004    1953\n",
      "1                   1980       1979    2005\n",
      "2                   2076       2012    1976\n",
      "dof=4\n",
      "[[2000.86537606 1983.65932354 1963.4753004 ]\n",
      " [2006.24766355 1988.9953271  1968.75700935]\n",
      " [2039.88696039 2022.34534935 2001.76769025]]\n",
      "probability=0.950, critical=9.488, stat=2.398\n",
      "Independent (fail to reject H0)\n",
      "significance=0.050, p=0.663\n",
      "Independent (fail to reject H0)\n",
      "==========================================================\n",
      "==========================================================\n",
      "RELATIONSHIP CREDIT_RATING and MAILER_TYPE\n",
      "mailer_type    Letter  Postcard\n",
      "credit_rating                  \n",
      "0                2911      3037\n",
      "1                2959      3005\n",
      "2                2972      3092\n",
      "dof=2\n",
      "[[2925.69069871 3022.30930129]\n",
      " [2933.56074766 3030.43925234]\n",
      " [2982.74855363 3081.25144637]]\n",
      "probability=0.950, critical=5.991, stat=0.656\n",
      "Independent (fail to reject H0)\n",
      "significance=0.050, p=0.721\n",
      "Independent (fail to reject H0)\n",
      "==========================================================\n",
      "==========================================================\n",
      "RELATIONSHIP CREDIT_RATING and INCOME_LEVEL\n",
      "income_level      0     1     2\n",
      "credit_rating                  \n",
      "0              1439  2983  1526\n",
      "1              1477  3006  1481\n",
      "2              1539  3013  1512\n",
      "dof=4\n",
      "[[1474.09546061 2978.63239875 1495.27214063]\n",
      " [1478.06074766 2986.64485981 1499.29439252]\n",
      " [1502.84379172 3036.72274143 1524.43346684]]\n",
      "probability=0.950, critical=9.488, stat=2.979\n",
      "Independent (fail to reject H0)\n",
      "significance=0.050, p=0.561\n",
      "Independent (fail to reject H0)\n",
      "==========================================================\n",
      "==========================================================\n",
      "RELATIONSHIP CREDIT_RATING and OVERDRAFT_PROTECTION\n",
      "overdraft_protection     0    1\n",
      "credit_rating                  \n",
      "0                     5069  879\n",
      "1                     5051  913\n",
      "2                     5180  884\n",
      "dof=2\n",
      "[[5062.55006676  885.44993324]\n",
      " [5076.1682243   887.8317757 ]\n",
      " [5161.28170895  902.71829105]]\n",
      "probability=0.950, critical=5.991, stat=1.349\n",
      "Independent (fail to reject H0)\n",
      "significance=0.050, p=0.509\n",
      "Independent (fail to reject H0)\n",
      "==========================================================\n",
      "==========================================================\n",
      "RELATIONSHIP CREDIT_RATING and OWN_YOUR_HOME\n",
      "own_your_home     0     1\n",
      "credit_rating            \n",
      "0              2124  3824\n",
      "1              2076  3888\n",
      "2              2140  3924\n",
      "dof=2\n",
      "[[2097.81486426 3850.18513574]\n",
      " [2103.45794393 3860.54205607]\n",
      " [2138.72719181 3925.27280819]]\n",
      "probability=0.950, critical=5.991, stat=1.060\n",
      "Independent (fail to reject H0)\n",
      "significance=0.050, p=0.589\n",
      "Independent (fail to reject H0)\n",
      "==========================================================\n",
      "==========================================================\n",
      "RELATIONSHIP OWN_YOUR_HOME and REWARD\n",
      "reward         Air Miles  Cash Back  Points\n",
      "own_your_home                              \n",
      "0                   2126       2153    2061\n",
      "1                   3921       3842    3873\n",
      "dof=2\n",
      "[[2132.73141967 2114.39141077 2092.87716956]\n",
      " [3914.26858033 3880.60858923 3841.12283044]]\n",
      "probability=0.950, critical=5.991, stat=1.872\n",
      "Independent (fail to reject H0)\n",
      "significance=0.050, p=0.392\n",
      "Independent (fail to reject H0)\n",
      "==========================================================\n",
      "==========================================================\n",
      "RELATIONSHIP OWN_YOUR_HOME and MAILER_TYPE\n",
      "mailer_type    Letter  Postcard\n",
      "own_your_home                  \n",
      "0                3100      3240\n",
      "1                5742      5894\n",
      "dof=1\n",
      "[[3118.50689809 3221.49310191]\n",
      " [5723.49310191 5912.50689809]]\n",
      "probability=0.950, critical=3.841, stat=0.316\n",
      "Independent (fail to reject H0)\n",
      "significance=0.050, p=0.574\n",
      "Independent (fail to reject H0)\n",
      "==========================================================\n",
      "==========================================================\n",
      "RELATIONSHIP OWN_YOUR_HOME and INCOME_LEVEL\n",
      "income_level      0     1     2\n",
      "own_your_home                  \n",
      "0              1551  3155  1634\n",
      "1              2904  5847  2885\n",
      "dof=2\n",
      "[[1571.24499332 3174.9376947  1593.81731197]\n",
      " [2883.75500668 5827.0623053  2925.18268803]]\n",
      "probability=0.950, critical=5.991, stat=2.161\n",
      "Independent (fail to reject H0)\n",
      "significance=0.050, p=0.339\n",
      "Independent (fail to reject H0)\n",
      "==========================================================\n",
      "==========================================================\n",
      "RELATIONSHIP OWN_YOUR_HOME and OVERDRAFT_PROTECTION\n",
      "overdraft_protection     0     1\n",
      "own_your_home                   \n",
      "0                     5422   918\n",
      "1                     9878  1758\n",
      "dof=1\n",
      "[[5396.19492657  943.80507343]\n",
      " [9903.80507343 1732.19492657]]\n",
      "probability=0.950, critical=3.841, stat=1.231\n",
      "Independent (fail to reject H0)\n",
      "significance=0.050, p=0.267\n",
      "Independent (fail to reject H0)\n",
      "==========================================================\n",
      "==========================================================\n",
      "RELATIONSHIP OWN_YOUR_HOME and CREDIT_RATING\n",
      "credit_rating     0     1     2\n",
      "own_your_home                  \n",
      "0              2124  2076  2140\n",
      "1              3824  3888  3924\n",
      "dof=2\n",
      "[[2097.81486426 2103.45794393 2138.72719181]\n",
      " [3850.18513574 3860.54205607 3925.27280819]]\n",
      "probability=0.950, critical=5.991, stat=1.060\n",
      "Independent (fail to reject H0)\n",
      "significance=0.050, p=0.589\n",
      "Independent (fail to reject H0)\n",
      "==========================================================\n"
     ]
    }
   ],
   "source": [
    "for i in cat.columns:\n",
    "    for v in cat.columns:\n",
    "        if i != v:\n",
    "            print('==========================================================')\n",
    "            print('RELATIONSHIP {} and {}'.format(i.upper(),v.upper()))\n",
    "            chi_test(cat,i,v)"
   ]
  },
  {
   "cell_type": "markdown",
   "metadata": {},
   "source": [
    "### Function for crosstab"
   ]
  },
  {
   "cell_type": "code",
   "execution_count": 435,
   "metadata": {},
   "outputs": [],
   "source": [
    "def crosstab(df,y):\n",
    "    for i in df.columns:\n",
    "        crosstab = pd.crosstab(df[i],y)\n",
    "        import scipy.stats as stats\n",
    "        [chi2, p_value, dof, arr] = stats.chi2_contingency(crosstab)\n",
    "        print('Feature ',i)\n",
    "        print(\"The p-value is: \",round(p_value,2))\n",
    "        print('The chi2 value is: ',round(chi2,2))\n",
    "        print('The degrees of freedom value is: ',round(dof,2))\n",
    "        print('The expected frequenciese are: ',arr)\n",
    "        print('=================================')\n"
   ]
  },
  {
   "cell_type": "code",
   "execution_count": 436,
   "metadata": {},
   "outputs": [
    {
     "name": "stdout",
     "output_type": "stream",
     "text": [
      "Feature  income_level\n",
      "The p-value is:  0.0\n",
      "The chi2 value is:  113.62\n",
      "The degrees of freedom value is:  2\n",
      "The expected frequenciese are:  [[4201.96512016  253.03487984]\n",
      " [8490.70482866  511.29517134]\n",
      " [4262.33005118  256.66994882]]\n",
      "=================================\n",
      "Feature  overdraft_protection\n",
      "The p-value is:  0.75\n",
      "The chi2 value is:  0.1\n",
      "The degrees of freedom value is:  1\n",
      "The expected frequenciese are:  [[14430.99132176   869.00867824]\n",
      " [ 2524.00867824   151.99132176]]\n",
      "=================================\n",
      "Feature  credit_rating\n",
      "The p-value is:  0.0\n",
      "The chi2 value is:  445.06\n",
      "The degrees of freedom value is:  2\n",
      "The expected frequenciese are:  [[5610.16577659  337.83422341]\n",
      " [5625.25700935  338.74299065]\n",
      " [5719.57721406  344.42278594]]\n",
      "=================================\n",
      "Feature  own_your_home\n",
      "The p-value is:  0.98\n",
      "The chi2 value is:  0.0\n",
      "The degrees of freedom value is:  1\n",
      "The expected frequenciese are:  [[ 5979.90097908   360.09902092]\n",
      " [10975.09902092   660.90097908]]\n",
      "=================================\n",
      "Feature  reward_Air Miles\n",
      "The p-value is:  0.0\n",
      "The chi2 value is:  65.92\n",
      "The degrees of freedom value is:  1\n",
      "The expected frequenciese are:  [[11251.45722074   677.54277926]\n",
      " [ 5703.54277926   343.45722074]]\n",
      "=================================\n",
      "Feature  reward_Cash Back\n",
      "The p-value is:  0.0\n",
      "The chi2 value is:  83.89\n",
      "The degrees of freedom value is:  1\n",
      "The expected frequenciese are:  [[11300.50372719   680.49627281]\n",
      " [ 5654.49627281   340.50372719]]\n",
      "=================================\n",
      "Feature  reward_Points\n",
      "The p-value is:  0.32\n",
      "The chi2 value is:  0.98\n",
      "The degrees of freedom value is:  1\n",
      "The expected frequenciese are:  [[11358.03905207   683.96094793]\n",
      " [ 5596.96094793   337.03905207]]\n",
      "=================================\n",
      "Feature  mailer_type_Letter\n",
      "The p-value is:  0.0\n",
      "The chi2 value is:  169.04\n",
      "The degrees of freedom value is:  1\n",
      "The expected frequenciese are:  [[8615.20749889  518.79250111]\n",
      " [8339.79250111  502.20749889]]\n",
      "=================================\n",
      "Feature  mailer_type_Postcard\n",
      "The p-value is:  0.0\n",
      "The chi2 value is:  169.04\n",
      "The degrees of freedom value is:  1\n",
      "The expected frequenciese are:  [[8339.79250111  502.20749889]\n",
      " [8615.20749889  518.79250111]]\n",
      "=================================\n"
     ]
    }
   ],
   "source": [
    "crosstab(cat_df,y)"
   ]
  },
  {
   "cell_type": "code",
   "execution_count": 437,
   "metadata": {},
   "outputs": [
    {
     "data": {
      "text/plain": [
       "(17976,)"
      ]
     },
     "execution_count": 437,
     "metadata": {},
     "output_type": "execute_result"
    }
   ],
   "source": [
    "y.shape"
   ]
  },
  {
   "cell_type": "markdown",
   "metadata": {},
   "source": [
    "### Multicolleanarity & VIF"
   ]
  },
  {
   "cell_type": "code",
   "execution_count": 438,
   "metadata": {},
   "outputs": [
    {
     "data": {
      "text/plain": [
       "nr_of_bank_accounts_open    0\n",
       "credit_cards_held           0\n",
       "nr_of_homes_owned           0\n",
       "household_size              0\n",
       "average_balance             0\n",
       "balance_q1                  0\n",
       "balance_q2                  0\n",
       "balance_q3                  0\n",
       "dtype: int64"
      ]
     },
     "execution_count": 438,
     "metadata": {},
     "output_type": "execute_result"
    }
   ],
   "source": [
    "num.isna().sum()"
   ]
  },
  {
   "cell_type": "code",
   "execution_count": 439,
   "metadata": {},
   "outputs": [],
   "source": [
    "#num = num.dropna()"
   ]
  },
  {
   "cell_type": "code",
   "execution_count": 440,
   "metadata": {},
   "outputs": [],
   "source": [
    "from statsmodels.stats.outliers_influence import variance_inflation_factor\n",
    "def vif_scores(df):\n",
    "    VIF_Scores = pd.DataFrame()\n",
    "    VIF_Scores['independent_features'] = num.columns\n",
    "    print(VIF_Scores)\n",
    "    VIF_Scores['vif_score'] = [variance_inflation_factor(num.values,i) for i in range(num.shape[1])]\n",
    "    return VIF_Scores"
   ]
  },
  {
   "cell_type": "code",
   "execution_count": 441,
   "metadata": {
    "scrolled": true
   },
   "outputs": [
    {
     "name": "stdout",
     "output_type": "stream",
     "text": [
      "       independent_features\n",
      "0  nr_of_bank_accounts_open\n",
      "1         credit_cards_held\n",
      "2         nr_of_homes_owned\n",
      "3            household_size\n",
      "4           average_balance\n",
      "5                balance_q1\n",
      "6                balance_q2\n",
      "7                balance_q3\n"
     ]
    },
    {
     "data": {
      "text/html": [
       "<div>\n",
       "<style scoped>\n",
       "    .dataframe tbody tr th:only-of-type {\n",
       "        vertical-align: middle;\n",
       "    }\n",
       "\n",
       "    .dataframe tbody tr th {\n",
       "        vertical-align: top;\n",
       "    }\n",
       "\n",
       "    .dataframe thead th {\n",
       "        text-align: right;\n",
       "    }\n",
       "</style>\n",
       "<table border=\"1\" class=\"dataframe\">\n",
       "  <thead>\n",
       "    <tr style=\"text-align: right;\">\n",
       "      <th></th>\n",
       "      <th>independent_features</th>\n",
       "      <th>vif_score</th>\n",
       "    </tr>\n",
       "  </thead>\n",
       "  <tbody>\n",
       "    <tr>\n",
       "      <th>0</th>\n",
       "      <td>nr_of_bank_accounts_open</td>\n",
       "      <td>6.614891</td>\n",
       "    </tr>\n",
       "    <tr>\n",
       "      <th>1</th>\n",
       "      <td>credit_cards_held</td>\n",
       "      <td>5.688677</td>\n",
       "    </tr>\n",
       "    <tr>\n",
       "      <th>2</th>\n",
       "      <td>nr_of_homes_owned</td>\n",
       "      <td>7.187923</td>\n",
       "    </tr>\n",
       "    <tr>\n",
       "      <th>3</th>\n",
       "      <td>household_size</td>\n",
       "      <td>8.113760</td>\n",
       "    </tr>\n",
       "    <tr>\n",
       "      <th>4</th>\n",
       "      <td>average_balance</td>\n",
       "      <td>79.409578</td>\n",
       "    </tr>\n",
       "    <tr>\n",
       "      <th>5</th>\n",
       "      <td>balance_q1</td>\n",
       "      <td>8.920678</td>\n",
       "    </tr>\n",
       "    <tr>\n",
       "      <th>6</th>\n",
       "      <td>balance_q2</td>\n",
       "      <td>17.572811</td>\n",
       "    </tr>\n",
       "    <tr>\n",
       "      <th>7</th>\n",
       "      <td>balance_q3</td>\n",
       "      <td>24.019698</td>\n",
       "    </tr>\n",
       "  </tbody>\n",
       "</table>\n",
       "</div>"
      ],
      "text/plain": [
       "       independent_features  vif_score\n",
       "0  nr_of_bank_accounts_open   6.614891\n",
       "1         credit_cards_held   5.688677\n",
       "2         nr_of_homes_owned   7.187923\n",
       "3            household_size   8.113760\n",
       "4           average_balance  79.409578\n",
       "5                balance_q1   8.920678\n",
       "6                balance_q2  17.572811\n",
       "7                balance_q3  24.019698"
      ]
     },
     "execution_count": 441,
     "metadata": {},
     "output_type": "execute_result"
    }
   ],
   "source": [
    "#num_vif = num.iloc[:,:]\n",
    "vif_scores(num)"
   ]
  },
  {
   "cell_type": "code",
   "execution_count": 442,
   "metadata": {},
   "outputs": [
    {
     "data": {
      "text/plain": [
       "nr_of_bank_accounts_open    0\n",
       "credit_cards_held           0\n",
       "nr_of_homes_owned           0\n",
       "household_size              0\n",
       "balance_q1                  0\n",
       "balance_q2                  0\n",
       "dtype: int64"
      ]
     },
     "execution_count": 442,
     "metadata": {},
     "output_type": "execute_result"
    }
   ],
   "source": [
    "num3.isna().sum()"
   ]
  },
  {
   "cell_type": "code",
   "execution_count": 443,
   "metadata": {},
   "outputs": [
    {
     "data": {
      "text/html": [
       "<div>\n",
       "<style scoped>\n",
       "    .dataframe tbody tr th:only-of-type {\n",
       "        vertical-align: middle;\n",
       "    }\n",
       "\n",
       "    .dataframe tbody tr th {\n",
       "        vertical-align: top;\n",
       "    }\n",
       "\n",
       "    .dataframe thead th {\n",
       "        text-align: right;\n",
       "    }\n",
       "</style>\n",
       "<table border=\"1\" class=\"dataframe\">\n",
       "  <thead>\n",
       "    <tr style=\"text-align: right;\">\n",
       "      <th></th>\n",
       "      <th>nr_of_bank_accounts_open</th>\n",
       "      <th>credit_cards_held</th>\n",
       "      <th>nr_of_homes_owned</th>\n",
       "      <th>household_size</th>\n",
       "      <th>balance_q1</th>\n",
       "      <th>balance_q2</th>\n",
       "      <th>balance_q3</th>\n",
       "    </tr>\n",
       "  </thead>\n",
       "  <tbody>\n",
       "    <tr>\n",
       "      <th>0</th>\n",
       "      <td>1</td>\n",
       "      <td>2</td>\n",
       "      <td>1</td>\n",
       "      <td>4</td>\n",
       "      <td>1669.0</td>\n",
       "      <td>877.0</td>\n",
       "      <td>1095.0</td>\n",
       "    </tr>\n",
       "    <tr>\n",
       "      <th>1</th>\n",
       "      <td>1</td>\n",
       "      <td>2</td>\n",
       "      <td>2</td>\n",
       "      <td>5</td>\n",
       "      <td>39.0</td>\n",
       "      <td>106.0</td>\n",
       "      <td>78.0</td>\n",
       "    </tr>\n",
       "    <tr>\n",
       "      <th>2</th>\n",
       "      <td>2</td>\n",
       "      <td>2</td>\n",
       "      <td>1</td>\n",
       "      <td>2</td>\n",
       "      <td>367.0</td>\n",
       "      <td>352.0</td>\n",
       "      <td>145.0</td>\n",
       "    </tr>\n",
       "    <tr>\n",
       "      <th>3</th>\n",
       "      <td>2</td>\n",
       "      <td>1</td>\n",
       "      <td>1</td>\n",
       "      <td>4</td>\n",
       "      <td>1578.0</td>\n",
       "      <td>1760.0</td>\n",
       "      <td>1119.0</td>\n",
       "    </tr>\n",
       "    <tr>\n",
       "      <th>4</th>\n",
       "      <td>1</td>\n",
       "      <td>2</td>\n",
       "      <td>1</td>\n",
       "      <td>6</td>\n",
       "      <td>2140.0</td>\n",
       "      <td>1357.0</td>\n",
       "      <td>982.0</td>\n",
       "    </tr>\n",
       "  </tbody>\n",
       "</table>\n",
       "</div>"
      ],
      "text/plain": [
       "   nr_of_bank_accounts_open  credit_cards_held  nr_of_homes_owned  \\\n",
       "0                         1                  2                  1   \n",
       "1                         1                  2                  2   \n",
       "2                         2                  2                  1   \n",
       "3                         2                  1                  1   \n",
       "4                         1                  2                  1   \n",
       "\n",
       "   household_size  balance_q1  balance_q2  balance_q3  \n",
       "0               4      1669.0       877.0      1095.0  \n",
       "1               5        39.0       106.0        78.0  \n",
       "2               2       367.0       352.0       145.0  \n",
       "3               4      1578.0      1760.0      1119.0  \n",
       "4               6      2140.0      1357.0       982.0  "
      ]
     },
     "execution_count": 443,
     "metadata": {},
     "output_type": "execute_result"
    }
   ],
   "source": [
    "num1a = num.copy()\n",
    "num1b = num1a.drop(['average_balance'], axis=1)\n",
    "num1b.head()"
   ]
  },
  {
   "cell_type": "code",
   "execution_count": 444,
   "metadata": {},
   "outputs": [
    {
     "data": {
      "text/html": [
       "<div>\n",
       "<style scoped>\n",
       "    .dataframe tbody tr th:only-of-type {\n",
       "        vertical-align: middle;\n",
       "    }\n",
       "\n",
       "    .dataframe tbody tr th {\n",
       "        vertical-align: top;\n",
       "    }\n",
       "\n",
       "    .dataframe thead th {\n",
       "        text-align: right;\n",
       "    }\n",
       "</style>\n",
       "<table border=\"1\" class=\"dataframe\">\n",
       "  <thead>\n",
       "    <tr style=\"text-align: right;\">\n",
       "      <th></th>\n",
       "      <th>independent_features</th>\n",
       "      <th>vif_score</th>\n",
       "    </tr>\n",
       "  </thead>\n",
       "  <tbody>\n",
       "    <tr>\n",
       "      <th>0</th>\n",
       "      <td>nr_of_bank_accounts_open</td>\n",
       "      <td>6.591342</td>\n",
       "    </tr>\n",
       "    <tr>\n",
       "      <th>1</th>\n",
       "      <td>credit_cards_held</td>\n",
       "      <td>5.652774</td>\n",
       "    </tr>\n",
       "    <tr>\n",
       "      <th>2</th>\n",
       "      <td>nr_of_homes_owned</td>\n",
       "      <td>7.138533</td>\n",
       "    </tr>\n",
       "    <tr>\n",
       "      <th>3</th>\n",
       "      <td>household_size</td>\n",
       "      <td>8.071960</td>\n",
       "    </tr>\n",
       "    <tr>\n",
       "      <th>4</th>\n",
       "      <td>balance_q1</td>\n",
       "      <td>4.749205</td>\n",
       "    </tr>\n",
       "    <tr>\n",
       "      <th>5</th>\n",
       "      <td>balance_q2</td>\n",
       "      <td>11.444651</td>\n",
       "    </tr>\n",
       "    <tr>\n",
       "      <th>6</th>\n",
       "      <td>balance_q3</td>\n",
       "      <td>6.769560</td>\n",
       "    </tr>\n",
       "  </tbody>\n",
       "</table>\n",
       "</div>"
      ],
      "text/plain": [
       "       independent_features  vif_score\n",
       "0  nr_of_bank_accounts_open   6.591342\n",
       "1         credit_cards_held   5.652774\n",
       "2         nr_of_homes_owned   7.138533\n",
       "3            household_size   8.071960\n",
       "4                balance_q1   4.749205\n",
       "5                balance_q2  11.444651\n",
       "6                balance_q3   6.769560"
      ]
     },
     "execution_count": 444,
     "metadata": {},
     "output_type": "execute_result"
    }
   ],
   "source": [
    "def vif_scores(num1b):\n",
    "    VIF_Scores = pd.DataFrame()\n",
    "    VIF_Scores[\"independent_features\"] = num1b.columns\n",
    "    VIF_Scores[\"vif_score\"] = [variance_inflation_factor(num1b.values,i) for i in range(num1b.shape[1])]\n",
    "    return VIF_Scores\n",
    "\n",
    "#df3 = df3.iloc[:,:-1]\n",
    "vif_scores(num1b)"
   ]
  },
  {
   "cell_type": "code",
   "execution_count": 445,
   "metadata": {},
   "outputs": [
    {
     "data": {
      "text/html": [
       "<div>\n",
       "<style scoped>\n",
       "    .dataframe tbody tr th:only-of-type {\n",
       "        vertical-align: middle;\n",
       "    }\n",
       "\n",
       "    .dataframe tbody tr th {\n",
       "        vertical-align: top;\n",
       "    }\n",
       "\n",
       "    .dataframe thead th {\n",
       "        text-align: right;\n",
       "    }\n",
       "</style>\n",
       "<table border=\"1\" class=\"dataframe\">\n",
       "  <thead>\n",
       "    <tr style=\"text-align: right;\">\n",
       "      <th></th>\n",
       "      <th>nr_of_bank_accounts_open</th>\n",
       "      <th>credit_cards_held</th>\n",
       "      <th>nr_of_homes_owned</th>\n",
       "      <th>household_size</th>\n",
       "      <th>average_balance</th>\n",
       "    </tr>\n",
       "  </thead>\n",
       "  <tbody>\n",
       "    <tr>\n",
       "      <th>0</th>\n",
       "      <td>1</td>\n",
       "      <td>2</td>\n",
       "      <td>1</td>\n",
       "      <td>4</td>\n",
       "      <td>1160.75</td>\n",
       "    </tr>\n",
       "    <tr>\n",
       "      <th>1</th>\n",
       "      <td>1</td>\n",
       "      <td>2</td>\n",
       "      <td>2</td>\n",
       "      <td>5</td>\n",
       "      <td>147.25</td>\n",
       "    </tr>\n",
       "    <tr>\n",
       "      <th>2</th>\n",
       "      <td>2</td>\n",
       "      <td>2</td>\n",
       "      <td>1</td>\n",
       "      <td>2</td>\n",
       "      <td>276.50</td>\n",
       "    </tr>\n",
       "    <tr>\n",
       "      <th>3</th>\n",
       "      <td>2</td>\n",
       "      <td>1</td>\n",
       "      <td>1</td>\n",
       "      <td>4</td>\n",
       "      <td>1219.00</td>\n",
       "    </tr>\n",
       "    <tr>\n",
       "      <th>4</th>\n",
       "      <td>1</td>\n",
       "      <td>2</td>\n",
       "      <td>1</td>\n",
       "      <td>6</td>\n",
       "      <td>1211.00</td>\n",
       "    </tr>\n",
       "  </tbody>\n",
       "</table>\n",
       "</div>"
      ],
      "text/plain": [
       "   nr_of_bank_accounts_open  credit_cards_held  nr_of_homes_owned  \\\n",
       "0                         1                  2                  1   \n",
       "1                         1                  2                  2   \n",
       "2                         2                  2                  1   \n",
       "3                         2                  1                  1   \n",
       "4                         1                  2                  1   \n",
       "\n",
       "   household_size  average_balance  \n",
       "0               4          1160.75  \n",
       "1               5           147.25  \n",
       "2               2           276.50  \n",
       "3               4          1219.00  \n",
       "4               6          1211.00  "
      ]
     },
     "execution_count": 445,
     "metadata": {},
     "output_type": "execute_result"
    }
   ],
   "source": [
    "num1c = num.copy()\n",
    "num1d = num1c.drop(['balance_q1','balance_q2','balance_q3'], axis=1)\n",
    "num1d.head()"
   ]
  },
  {
   "cell_type": "code",
   "execution_count": 446,
   "metadata": {},
   "outputs": [
    {
     "data": {
      "text/html": [
       "<div>\n",
       "<style scoped>\n",
       "    .dataframe tbody tr th:only-of-type {\n",
       "        vertical-align: middle;\n",
       "    }\n",
       "\n",
       "    .dataframe tbody tr th {\n",
       "        vertical-align: top;\n",
       "    }\n",
       "\n",
       "    .dataframe thead th {\n",
       "        text-align: right;\n",
       "    }\n",
       "</style>\n",
       "<table border=\"1\" class=\"dataframe\">\n",
       "  <thead>\n",
       "    <tr style=\"text-align: right;\">\n",
       "      <th></th>\n",
       "      <th>independent_features</th>\n",
       "      <th>vif_score</th>\n",
       "    </tr>\n",
       "  </thead>\n",
       "  <tbody>\n",
       "    <tr>\n",
       "      <th>0</th>\n",
       "      <td>nr_of_bank_accounts_open</td>\n",
       "      <td>6.613268</td>\n",
       "    </tr>\n",
       "    <tr>\n",
       "      <th>1</th>\n",
       "      <td>credit_cards_held</td>\n",
       "      <td>5.684102</td>\n",
       "    </tr>\n",
       "    <tr>\n",
       "      <th>2</th>\n",
       "      <td>nr_of_homes_owned</td>\n",
       "      <td>7.182500</td>\n",
       "    </tr>\n",
       "    <tr>\n",
       "      <th>3</th>\n",
       "      <td>household_size</td>\n",
       "      <td>8.111368</td>\n",
       "    </tr>\n",
       "    <tr>\n",
       "      <th>4</th>\n",
       "      <td>average_balance</td>\n",
       "      <td>6.695256</td>\n",
       "    </tr>\n",
       "  </tbody>\n",
       "</table>\n",
       "</div>"
      ],
      "text/plain": [
       "       independent_features  vif_score\n",
       "0  nr_of_bank_accounts_open   6.613268\n",
       "1         credit_cards_held   5.684102\n",
       "2         nr_of_homes_owned   7.182500\n",
       "3            household_size   8.111368\n",
       "4           average_balance   6.695256"
      ]
     },
     "execution_count": 446,
     "metadata": {},
     "output_type": "execute_result"
    }
   ],
   "source": [
    "def vif_scores(num1d):\n",
    "    VIF_Scores = pd.DataFrame()\n",
    "    VIF_Scores[\"independent_features\"] = num1d.columns\n",
    "    VIF_Scores[\"vif_score\"] = [variance_inflation_factor(num1d.values,i) for i in range(num1d.shape[1])]\n",
    "    return VIF_Scores\n",
    "\n",
    "#df3 = df3.iloc[:,:-1]\n",
    "vif_scores(num1d)"
   ]
  },
  {
   "cell_type": "code",
   "execution_count": 447,
   "metadata": {},
   "outputs": [],
   "source": [
    "#temp_df = pd.concat([num_vif,cat_df],axis=1).dropna()"
   ]
  },
  {
   "cell_type": "markdown",
   "metadata": {},
   "source": [
    "### Function for Chi-square"
   ]
  },
  {
   "cell_type": "code",
   "execution_count": 448,
   "metadata": {},
   "outputs": [],
   "source": [
    "def chi_test(df,x,y):\n",
    "    from scipy.stats import chi2_contingency\n",
    "    from scipy.stats import chi2\n",
    "    # contingency table\n",
    "    table = pd.crosstab(df[x], df[y])\n",
    "    print(table)\n",
    "    stat, p, dof, expected = chi2_contingency(table)\n",
    "    print('dof=%d' % dof)\n",
    "    print(expected)\n",
    "    # interpret test-statistic\n",
    "    prob = 0.95\n",
    "    critical = chi2.ppf(prob, dof)\n",
    "    print('probability=%.3f, critical=%.3f, stat=%.3f' % (prob, critical, stat))\n",
    "    if abs(stat) >= critical:\n",
    "        print('Dependent (reject H0)')\n",
    "    else:\n",
    "        print('Independent (fail to reject H0)')\n",
    "    # interpret p-value\n",
    "    alpha = 1.0 - prob\n",
    "    print('significance=%.3f, p=%.3f' % (alpha, p))\n",
    "    if p <= alpha:\n",
    "        print('!!!!! DEPENDENT (reject H0)')\n",
    "    else:\n",
    "        print('Independent (fail to reject H0)')\n",
    "    print('==========================================================')"
   ]
  },
  {
   "cell_type": "code",
   "execution_count": 449,
   "metadata": {},
   "outputs": [
    {
     "data": {
      "text/plain": [
       "nr_of_bank_accounts_open    0\n",
       "credit_cards_held           0\n",
       "nr_of_homes_owned           0\n",
       "household_size              0\n",
       "average_balance             0\n",
       "balance_q1                  0\n",
       "balance_q2                  0\n",
       "balance_q3                  0\n",
       "income_level                0\n",
       "overdraft_protection        0\n",
       "credit_rating               0\n",
       "own_your_home               0\n",
       "reward_Air Miles            0\n",
       "reward_Cash Back            0\n",
       "reward_Points               0\n",
       "mailer_type_Letter          0\n",
       "mailer_type_Postcard        0\n",
       "dtype: int64"
      ]
     },
     "execution_count": 449,
     "metadata": {},
     "output_type": "execute_result"
    }
   ],
   "source": [
    "temp_df.isna().sum()"
   ]
  },
  {
   "cell_type": "code",
   "execution_count": 450,
   "metadata": {},
   "outputs": [
    {
     "data": {
      "image/png": "[encoded data removed]",
      "text/plain": [
       "<Figure size 720x576 with 2 Axes>"
      ]
     },
     "metadata": {
      "needs_background": "light"
     },
     "output_type": "display_data"
    }
   ],
   "source": [
    "plots(pd.concat([num,y],axis=1), 'correlation matrix')"
   ]
  },
  {
   "cell_type": "code",
   "execution_count": 451,
   "metadata": {},
   "outputs": [
    {
     "data": {
      "image/png": "[encoded data removed]",
      "text/plain": [
       "<Figure size 720x576 with 2 Axes>"
      ]
     },
     "metadata": {
      "needs_background": "light"
     },
     "output_type": "display_data"
    }
   ],
   "source": [
    "num_corr = plots(pd.concat([num1d,y],axis=1), 'correlation matrix')"
   ]
  },
  {
   "cell_type": "code",
   "execution_count": 452,
   "metadata": {},
   "outputs": [
    {
     "data": {
      "text/plain": [
       "(17976,)"
      ]
     },
     "execution_count": 452,
     "metadata": {},
     "output_type": "execute_result"
    }
   ],
   "source": [
    "y.shape"
   ]
  },
  {
   "cell_type": "code",
   "execution_count": 453,
   "metadata": {},
   "outputs": [
    {
     "data": {
      "text/plain": [
       "(17976, 5)"
      ]
     },
     "execution_count": 453,
     "metadata": {},
     "output_type": "execute_result"
    }
   ],
   "source": [
    "num1d.shape"
   ]
  },
  {
   "cell_type": "markdown",
   "metadata": {},
   "source": [
    "## Predicting our raw data"
   ]
  },
  {
   "cell_type": "code",
   "execution_count": 454,
   "metadata": {},
   "outputs": [],
   "source": [
    "#y = df['offer_accepted']\n",
    "X = pd.concat([cat_df,num],axis=1)"
   ]
  },
  {
   "cell_type": "code",
   "execution_count": 455,
   "metadata": {},
   "outputs": [
    {
     "data": {
      "text/plain": [
       "(17976, 9)"
      ]
     },
     "execution_count": 455,
     "metadata": {},
     "output_type": "execute_result"
    }
   ],
   "source": [
    "cat_df.shape"
   ]
  },
  {
   "cell_type": "code",
   "execution_count": 456,
   "metadata": {},
   "outputs": [
    {
     "data": {
      "text/plain": [
       "(17976, 8)"
      ]
     },
     "execution_count": 456,
     "metadata": {},
     "output_type": "execute_result"
    }
   ],
   "source": [
    "num.shape"
   ]
  },
  {
   "cell_type": "code",
   "execution_count": 457,
   "metadata": {},
   "outputs": [
    {
     "data": {
      "text/plain": [
       "(17976, 17)"
      ]
     },
     "execution_count": 457,
     "metadata": {},
     "output_type": "execute_result"
    }
   ],
   "source": [
    "X.shape"
   ]
  },
  {
   "cell_type": "code",
   "execution_count": 458,
   "metadata": {},
   "outputs": [
    {
     "data": {
      "text/plain": [
       "(17976,)"
      ]
     },
     "execution_count": 458,
     "metadata": {},
     "output_type": "execute_result"
    }
   ],
   "source": [
    "y.shape"
   ]
  },
  {
   "cell_type": "code",
   "execution_count": 459,
   "metadata": {},
   "outputs": [],
   "source": [
    "from sklearn.model_selection import train_test_split\n",
    "from sklearn.preprocessing import Normalizer\n",
    "from sklearn.preprocessing import StandardScaler\n",
    "from sklearn.preprocessing import MinMaxScaler\n",
    "from sklearn.preprocessing import PowerTransformer\n",
    "from sklearn.preprocessing import StandardScaler\n",
    "from imblearn.under_sampling import RandomUnderSampler\n",
    "from imblearn.over_sampling import RandomOverSampler\n",
    "from imblearn.under_sampling import TomekLinks\n",
    "from sklearn.linear_model import LogisticRegression\n",
    "from sklearn.metrics import cohen_kappa_score \n",
    "from sklearn.tree import DecisionTreeClassifier\n",
    "from sklearn.neighbors import KNeighborsClassifier"
   ]
  },
  {
   "cell_type": "markdown",
   "metadata": {},
   "source": [
    "### Function Split Train/Test"
   ]
  },
  {
   "cell_type": "code",
   "execution_count": 460,
   "metadata": {},
   "outputs": [],
   "source": [
    "def splitting_data(X,y):\n",
    "    X_train, X_test, y_train, y_test = train_test_split(X, y, test_size=0.3, random_state=42)\n",
    "    return X_train, X_test, y_train, y_test"
   ]
  },
  {
   "cell_type": "markdown",
   "metadata": {},
   "source": [
    "### Function Scalers"
   ]
  },
  {
   "cell_type": "code",
   "execution_count": 461,
   "metadata": {},
   "outputs": [],
   "source": [
    "def scalers(X_train, X_test, scaler):\n",
    "    if scaler == 'normalizer':\n",
    "        transformer = Normalizer().fit(X_train)\n",
    "        X_train_t = transformer.transform(X_train)\n",
    "        X_test_t = transformer.transform(X_test) \n",
    "    elif scaler == 'standard':\n",
    "        transformer = StandardScaler().fit(X_train)\n",
    "        X_train_t = transformer.transform(X_train)\n",
    "        X_test_t = transformer.transform(X_test)\n",
    "    elif scaler == 'minmax':\n",
    "        transformer = MinMaxScaler().fit(X_train)\n",
    "        X_train_t = transformer.transform(X_train)\n",
    "        X_test_t = transformer.transform(X_test)\n",
    "    elif scaler == 'power':\n",
    "        transformer = PowerTransformer().fit(X_train)\n",
    "        X_train_t = transformer.transform(X_train)\n",
    "        X_test_t = transformer.transform(X_test)\n",
    "\n",
    "    X_train_t = pd.DataFrame(X_train_t, columns = X_train.columns)\n",
    "    X_test_t = pd.DataFrame(X_test_t, columns = X_test.columns)\n",
    "\n",
    "    return X_train_t, X_test_t"
   ]
  },
  {
   "cell_type": "markdown",
   "metadata": {},
   "source": [
    "### Function Sampling"
   ]
  },
  {
   "cell_type": "code",
   "execution_count": 462,
   "metadata": {},
   "outputs": [],
   "source": [
    "def samplings_type(X_train, y_train, samp):\n",
    "    if samp =='downsampling':\n",
    "        s = RandomUnderSampler()\n",
    "    elif samp == 'upsampling':\n",
    "        s = RandomOverSampler()\n",
    "    elif  samp == 'tomeklinks':\n",
    "        s = TomekLinks('majority')\n",
    "\n",
    "    X_s, y_s = s.fit_sample(X_train, y_train)\n",
    "    X_train_s = pd.DataFrame(X_s, columns = X_train.columns)\n",
    "    y_train_s = pd.DataFrame(y_s, columns = ['offer_accepted'])\n",
    "\n",
    "    return X_train_s, y_train_s"
   ]
  },
  {
   "cell_type": "code",
   "execution_count": 463,
   "metadata": {},
   "outputs": [
    {
     "data": {
      "text/plain": [
       "(12583,)"
      ]
     },
     "execution_count": 463,
     "metadata": {},
     "output_type": "execute_result"
    }
   ],
   "source": [
    "y_train.shape"
   ]
  },
  {
   "cell_type": "code",
   "execution_count": 464,
   "metadata": {},
   "outputs": [
    {
     "data": {
      "text/plain": [
       "(12583, 17)"
      ]
     },
     "execution_count": 464,
     "metadata": {},
     "output_type": "execute_result"
    }
   ],
   "source": [
    "X_train.shape"
   ]
  },
  {
   "cell_type": "code",
   "execution_count": 465,
   "metadata": {},
   "outputs": [
    {
     "data": {
      "text/plain": [
       "(12583,)"
      ]
     },
     "execution_count": 465,
     "metadata": {},
     "output_type": "execute_result"
    }
   ],
   "source": [
    "y_train.shape"
   ]
  },
  {
   "cell_type": "code",
   "execution_count": 466,
   "metadata": {},
   "outputs": [],
   "source": [
    "X1, y1 = samplings_type(X_train, y_train, 'downsampling')"
   ]
  },
  {
   "cell_type": "code",
   "execution_count": 467,
   "metadata": {},
   "outputs": [
    {
     "data": {
      "text/plain": [
       "(1414, 17)"
      ]
     },
     "execution_count": 467,
     "metadata": {},
     "output_type": "execute_result"
    }
   ],
   "source": [
    "X1.shape"
   ]
  },
  {
   "cell_type": "code",
   "execution_count": 468,
   "metadata": {},
   "outputs": [
    {
     "data": {
      "text/plain": [
       "(1414, 1)"
      ]
     },
     "execution_count": 468,
     "metadata": {},
     "output_type": "execute_result"
    }
   ],
   "source": [
    "y1.shape"
   ]
  },
  {
   "cell_type": "code",
   "execution_count": 469,
   "metadata": {},
   "outputs": [
    {
     "data": {
      "text/plain": [
       "(1414, 1)"
      ]
     },
     "execution_count": 469,
     "metadata": {},
     "output_type": "execute_result"
    }
   ],
   "source": [
    "y_train_s.shape"
   ]
  },
  {
   "cell_type": "markdown",
   "metadata": {},
   "source": [
    "### Function Predict our model"
   ]
  },
  {
   "cell_type": "code",
   "execution_count": 481,
   "metadata": {},
   "outputs": [],
   "source": [
    "def fit_predict(X_train, X_test, y_train, y_test, model='logistic', k=None):\n",
    "    import sys\n",
    "    from sklearn.metrics import accuracy_score, precision_score\n",
    "    if ( model == 'logistic' ):\n",
    "        classification = LogisticRegression(random_state=0, solver='lbfgs',multi_class='ovr').fit(X_train, y_train)\n",
    "    elif ( model == 'decision_tree' ):\n",
    "        classification = DecisionTreeClassifier().fit(X_train, y_train)\n",
    "    elif ( model == 'k-nn' ):\n",
    "        classification = KNeighborsClassifier(n_neighbors=k).fit(X_train, y_train)\n",
    "    else:\n",
    "        print('Incorrect input model')\n",
    "        sys.exit()\n",
    "\n",
    "    y_train_pred = classification.predict(X_train)\n",
    "    y_test_pred  = classification.predict(X_test)\n",
    "\n",
    "    accuracy_train = round(accuracy_score(y_train, y_train_pred),2)\n",
    "    accuracy_test  = round(accuracy_score(y_test, y_test_pred),2)\n",
    "\n",
    "    kappa_train = round(cohen_kappa_score(y_train, y_train_pred),2)\n",
    "    kappa_test  = round(cohen_kappa_score(y_test, y_test_pred),2)\n",
    "\n",
    "    return accuracy_train, accuracy_test, kappa_train, kappa_test\n",
    "\n",
    "#compare_scale_sampling(X,y)"
   ]
  },
  {
   "cell_type": "markdown",
   "metadata": {},
   "source": [
    "### Apply splitting, scaling, sampling and predicting "
   ]
  },
  {
   "cell_type": "code",
   "execution_count": 472,
   "metadata": {},
   "outputs": [
    {
     "data": {
      "text/plain": [
       "(17976, 17)"
      ]
     },
     "execution_count": 472,
     "metadata": {},
     "output_type": "execute_result"
    }
   ],
   "source": [
    "X.shape"
   ]
  },
  {
   "cell_type": "code",
   "execution_count": 473,
   "metadata": {},
   "outputs": [
    {
     "data": {
      "text/plain": [
       "(17976,)"
      ]
     },
     "execution_count": 473,
     "metadata": {},
     "output_type": "execute_result"
    }
   ],
   "source": [
    "y.shape"
   ]
  },
  {
   "cell_type": "code",
   "execution_count": 474,
   "metadata": {},
   "outputs": [
    {
     "data": {
      "text/plain": [
       "(1414, 17)"
      ]
     },
     "execution_count": 474,
     "metadata": {},
     "output_type": "execute_result"
    }
   ],
   "source": [
    "X_train_s.shape"
   ]
  },
  {
   "cell_type": "code",
   "execution_count": 475,
   "metadata": {},
   "outputs": [
    {
     "data": {
      "text/plain": [
       "(1414, 1)"
      ]
     },
     "execution_count": 475,
     "metadata": {},
     "output_type": "execute_result"
    }
   ],
   "source": [
    "y_train_s.shape"
   ]
  },
  {
   "cell_type": "code",
   "execution_count": 484,
   "metadata": {},
   "outputs": [
    {
     "data": {
      "text/html": [
       "<div>\n",
       "<style scoped>\n",
       "    .dataframe tbody tr th:only-of-type {\n",
       "        vertical-align: middle;\n",
       "    }\n",
       "\n",
       "    .dataframe tbody tr th {\n",
       "        vertical-align: top;\n",
       "    }\n",
       "\n",
       "    .dataframe thead th {\n",
       "        text-align: right;\n",
       "    }\n",
       "</style>\n",
       "<table border=\"1\" class=\"dataframe\">\n",
       "  <thead>\n",
       "    <tr style=\"text-align: right;\">\n",
       "      <th></th>\n",
       "      <th>scaler</th>\n",
       "      <th>sampling</th>\n",
       "      <th>precision</th>\n",
       "      <th>recall</th>\n",
       "      <th>accuracy</th>\n",
       "      <th>kappa</th>\n",
       "      <th>set</th>\n",
       "    </tr>\n",
       "  </thead>\n",
       "  <tbody>\n",
       "    <tr>\n",
       "      <th>0</th>\n",
       "      <td>normalizer</td>\n",
       "      <td>downsampling</td>\n",
       "      <td>-</td>\n",
       "      <td>-</td>\n",
       "      <td>0.52</td>\n",
       "      <td>0.04</td>\n",
       "      <td>train</td>\n",
       "    </tr>\n",
       "    <tr>\n",
       "      <th>1</th>\n",
       "      <td>normalizer</td>\n",
       "      <td>downsampling</td>\n",
       "      <td>0.058062</td>\n",
       "      <td>0.471338</td>\n",
       "      <td>0.52</td>\n",
       "      <td>-0.00</td>\n",
       "      <td>test</td>\n",
       "    </tr>\n",
       "    <tr>\n",
       "      <th>2</th>\n",
       "      <td>normalizer</td>\n",
       "      <td>upsampling</td>\n",
       "      <td>-</td>\n",
       "      <td>-</td>\n",
       "      <td>0.53</td>\n",
       "      <td>0.05</td>\n",
       "      <td>train</td>\n",
       "    </tr>\n",
       "    <tr>\n",
       "      <th>3</th>\n",
       "      <td>normalizer</td>\n",
       "      <td>upsampling</td>\n",
       "      <td>0.0640496</td>\n",
       "      <td>0.394904</td>\n",
       "      <td>0.63</td>\n",
       "      <td>0.01</td>\n",
       "      <td>test</td>\n",
       "    </tr>\n",
       "    <tr>\n",
       "      <th>4</th>\n",
       "      <td>normalizer</td>\n",
       "      <td>tomeklinks</td>\n",
       "      <td>-</td>\n",
       "      <td>-</td>\n",
       "      <td>0.94</td>\n",
       "      <td>0.00</td>\n",
       "      <td>train</td>\n",
       "    </tr>\n",
       "    <tr>\n",
       "      <th>5</th>\n",
       "      <td>normalizer</td>\n",
       "      <td>tomeklinks</td>\n",
       "      <td>0</td>\n",
       "      <td>0</td>\n",
       "      <td>0.94</td>\n",
       "      <td>0.00</td>\n",
       "      <td>test</td>\n",
       "    </tr>\n",
       "    <tr>\n",
       "      <th>6</th>\n",
       "      <td>standard</td>\n",
       "      <td>downsampling</td>\n",
       "      <td>-</td>\n",
       "      <td>-</td>\n",
       "      <td>0.68</td>\n",
       "      <td>0.37</td>\n",
       "      <td>train</td>\n",
       "    </tr>\n",
       "    <tr>\n",
       "      <th>7</th>\n",
       "      <td>standard</td>\n",
       "      <td>downsampling</td>\n",
       "      <td>0.123625</td>\n",
       "      <td>0.751592</td>\n",
       "      <td>0.68</td>\n",
       "      <td>0.12</td>\n",
       "      <td>test</td>\n",
       "    </tr>\n",
       "    <tr>\n",
       "      <th>8</th>\n",
       "      <td>standard</td>\n",
       "      <td>upsampling</td>\n",
       "      <td>-</td>\n",
       "      <td>-</td>\n",
       "      <td>0.69</td>\n",
       "      <td>0.38</td>\n",
       "      <td>train</td>\n",
       "    </tr>\n",
       "    <tr>\n",
       "      <th>9</th>\n",
       "      <td>standard</td>\n",
       "      <td>upsampling</td>\n",
       "      <td>0.121914</td>\n",
       "      <td>0.754777</td>\n",
       "      <td>0.67</td>\n",
       "      <td>0.12</td>\n",
       "      <td>test</td>\n",
       "    </tr>\n",
       "    <tr>\n",
       "      <th>10</th>\n",
       "      <td>standard</td>\n",
       "      <td>tomeklinks</td>\n",
       "      <td>-</td>\n",
       "      <td>-</td>\n",
       "      <td>0.94</td>\n",
       "      <td>0.00</td>\n",
       "      <td>train</td>\n",
       "    </tr>\n",
       "    <tr>\n",
       "      <th>11</th>\n",
       "      <td>standard</td>\n",
       "      <td>tomeklinks</td>\n",
       "      <td>0</td>\n",
       "      <td>0</td>\n",
       "      <td>0.94</td>\n",
       "      <td>0.00</td>\n",
       "      <td>test</td>\n",
       "    </tr>\n",
       "    <tr>\n",
       "      <th>12</th>\n",
       "      <td>minmax</td>\n",
       "      <td>downsampling</td>\n",
       "      <td>-</td>\n",
       "      <td>-</td>\n",
       "      <td>0.69</td>\n",
       "      <td>0.38</td>\n",
       "      <td>train</td>\n",
       "    </tr>\n",
       "    <tr>\n",
       "      <th>13</th>\n",
       "      <td>minmax</td>\n",
       "      <td>downsampling</td>\n",
       "      <td>0.119205</td>\n",
       "      <td>0.745223</td>\n",
       "      <td>0.66</td>\n",
       "      <td>0.12</td>\n",
       "      <td>test</td>\n",
       "    </tr>\n",
       "    <tr>\n",
       "      <th>14</th>\n",
       "      <td>minmax</td>\n",
       "      <td>upsampling</td>\n",
       "      <td>-</td>\n",
       "      <td>-</td>\n",
       "      <td>0.69</td>\n",
       "      <td>0.38</td>\n",
       "      <td>train</td>\n",
       "    </tr>\n",
       "    <tr>\n",
       "      <th>15</th>\n",
       "      <td>minmax</td>\n",
       "      <td>upsampling</td>\n",
       "      <td>0.12247</td>\n",
       "      <td>0.751592</td>\n",
       "      <td>0.67</td>\n",
       "      <td>0.12</td>\n",
       "      <td>test</td>\n",
       "    </tr>\n",
       "    <tr>\n",
       "      <th>16</th>\n",
       "      <td>minmax</td>\n",
       "      <td>tomeklinks</td>\n",
       "      <td>-</td>\n",
       "      <td>-</td>\n",
       "      <td>0.94</td>\n",
       "      <td>0.00</td>\n",
       "      <td>train</td>\n",
       "    </tr>\n",
       "    <tr>\n",
       "      <th>17</th>\n",
       "      <td>minmax</td>\n",
       "      <td>tomeklinks</td>\n",
       "      <td>0</td>\n",
       "      <td>0</td>\n",
       "      <td>0.94</td>\n",
       "      <td>0.00</td>\n",
       "      <td>test</td>\n",
       "    </tr>\n",
       "    <tr>\n",
       "      <th>18</th>\n",
       "      <td>power</td>\n",
       "      <td>downsampling</td>\n",
       "      <td>-</td>\n",
       "      <td>-</td>\n",
       "      <td>0.66</td>\n",
       "      <td>0.33</td>\n",
       "      <td>train</td>\n",
       "    </tr>\n",
       "    <tr>\n",
       "      <th>19</th>\n",
       "      <td>power</td>\n",
       "      <td>downsampling</td>\n",
       "      <td>0.118859</td>\n",
       "      <td>0.716561</td>\n",
       "      <td>0.67</td>\n",
       "      <td>0.12</td>\n",
       "      <td>test</td>\n",
       "    </tr>\n",
       "    <tr>\n",
       "      <th>20</th>\n",
       "      <td>power</td>\n",
       "      <td>upsampling</td>\n",
       "      <td>-</td>\n",
       "      <td>-</td>\n",
       "      <td>0.69</td>\n",
       "      <td>0.38</td>\n",
       "      <td>train</td>\n",
       "    </tr>\n",
       "    <tr>\n",
       "      <th>21</th>\n",
       "      <td>power</td>\n",
       "      <td>upsampling</td>\n",
       "      <td>0.121748</td>\n",
       "      <td>0.745223</td>\n",
       "      <td>0.67</td>\n",
       "      <td>0.12</td>\n",
       "      <td>test</td>\n",
       "    </tr>\n",
       "    <tr>\n",
       "      <th>22</th>\n",
       "      <td>power</td>\n",
       "      <td>tomeklinks</td>\n",
       "      <td>-</td>\n",
       "      <td>-</td>\n",
       "      <td>0.94</td>\n",
       "      <td>0.00</td>\n",
       "      <td>train</td>\n",
       "    </tr>\n",
       "    <tr>\n",
       "      <th>23</th>\n",
       "      <td>power</td>\n",
       "      <td>tomeklinks</td>\n",
       "      <td>0</td>\n",
       "      <td>0</td>\n",
       "      <td>0.94</td>\n",
       "      <td>0.00</td>\n",
       "      <td>test</td>\n",
       "    </tr>\n",
       "  </tbody>\n",
       "</table>\n",
       "</div>"
      ],
      "text/plain": [
       "        scaler      sampling  precision    recall  accuracy  kappa    set\n",
       "0   normalizer  downsampling          -         -      0.52   0.04  train\n",
       "1   normalizer  downsampling   0.058062  0.471338      0.52  -0.00   test\n",
       "2   normalizer    upsampling          -         -      0.53   0.05  train\n",
       "3   normalizer    upsampling  0.0640496  0.394904      0.63   0.01   test\n",
       "4   normalizer    tomeklinks          -         -      0.94   0.00  train\n",
       "5   normalizer    tomeklinks          0         0      0.94   0.00   test\n",
       "6     standard  downsampling          -         -      0.68   0.37  train\n",
       "7     standard  downsampling   0.123625  0.751592      0.68   0.12   test\n",
       "8     standard    upsampling          -         -      0.69   0.38  train\n",
       "9     standard    upsampling   0.121914  0.754777      0.67   0.12   test\n",
       "10    standard    tomeklinks          -         -      0.94   0.00  train\n",
       "11    standard    tomeklinks          0         0      0.94   0.00   test\n",
       "12      minmax  downsampling          -         -      0.69   0.38  train\n",
       "13      minmax  downsampling   0.119205  0.745223      0.66   0.12   test\n",
       "14      minmax    upsampling          -         -      0.69   0.38  train\n",
       "15      minmax    upsampling    0.12247  0.751592      0.67   0.12   test\n",
       "16      minmax    tomeklinks          -         -      0.94   0.00  train\n",
       "17      minmax    tomeklinks          0         0      0.94   0.00   test\n",
       "18       power  downsampling          -         -      0.66   0.33  train\n",
       "19       power  downsampling   0.118859  0.716561      0.67   0.12   test\n",
       "20       power    upsampling          -         -      0.69   0.38  train\n",
       "21       power    upsampling   0.121748  0.745223      0.67   0.12   test\n",
       "22       power    tomeklinks          -         -      0.94   0.00  train\n",
       "23       power    tomeklinks          0         0      0.94   0.00   test"
      ]
     },
     "execution_count": 484,
     "metadata": {},
     "output_type": "execute_result"
    }
   ],
   "source": [
    "from sklearn.metrics import precision_score, recall_score\n",
    "X_train, X_test, y_train, y_test = splitting_data(X,y)\n",
    "\n",
    "my_dict =  {'scaler': [], 'sampling': [], 'precision':[],'recall':[],'accuracy': [], 'kappa': [], 'set': []}\n",
    "\n",
    "for scaler in ['normalizer','standard','minmax','power']:\n",
    "    for sampling in ['downsampling','upsampling','tomeklinks']:\n",
    "\n",
    "        X_train_t, X_test_t = scalers(X_train, X_test, scaler)\n",
    "        X_train_s, y_train_s = samplings_type(X_train_t, y_train, sampling)\n",
    "\n",
    "        accuracy_train, accuracy_test, kappa_train, kappa_test = fit_predict(X_train_s, X_test_t, y_train_s, y_test, 'logistic')\n",
    "        y_pred = y_predict(X_train_s, X_test_t, y_train_s, y_test, 'logistic')\n",
    "        precision = precision_score(y_test, y_pred)\n",
    "        recall = recall_score(y_test, y_pred)\n",
    "        \n",
    "        my_dict['scaler'].append(scaler)\n",
    "        my_dict['sampling'].append(sampling)\n",
    "        my_dict['precision'].append('-')\n",
    "        my_dict['recall'].append('-')\n",
    "        my_dict['accuracy'].append(accuracy_train)\n",
    "        #my_dict['accuracy'].append('-')\n",
    "        my_dict['kappa'].append(kappa_train)\n",
    "        my_dict['set'].append('train')\n",
    "\n",
    "        my_dict['scaler'].append(scaler)\n",
    "        my_dict['sampling'].append(sampling)\n",
    "        my_dict['precision'].append(precision)\n",
    "        my_dict['recall'].append(recall)\n",
    "        my_dict['accuracy'].append(accuracy_test)\n",
    "        my_dict['kappa'].append(kappa_test)\n",
    "        #my_dict['kappa'].append('-')\n",
    "        my_dict['set'].append('test')\n",
    "\n",
    "results = pd.DataFrame(my_dict)\n",
    "results"
   ]
  },
  {
   "cell_type": "code",
   "execution_count": null,
   "metadata": {},
   "outputs": [],
   "source": [
    "model = load('model_name')\n",
    "scaler = load('scaler_name')\n",
    "\n",
    "new_client_df_processed = preprocess(new_client_df) # drop the unwanted columns, dummify_cat_cols, groups_cols_\n",
    "new_client_df_processed_scaled = scaler.transform(new_client_df_processed)\n",
    "model.predict(new_client_df_processed_scaled)"
   ]
  },
  {
   "cell_type": "code",
   "execution_count": null,
   "metadata": {},
   "outputs": [],
   "source": [
    "import pickle\n",
    "scaler.to_pickle('normalizer.pkl')\n",
    "model.to_pickle('logistic_model_with_normalizer_downsampling.pkl')\n",
    "\n",
    "scaler = load('normalizer.pkl')\n",
    "model = load('logistic_model_with_normlizer_downsampling.pkl')\n",
    "\n",
    "model.predict(scaler.transform(new_observation))\n",
    "\n",
    "results.to_pickle('logistic_model_measures')\n",
    "logistic_model_measures = pd.read_pickle('logistic_model_measures')\n",
    "logistic_model_measures"
   ]
  },
  {
   "cell_type": "markdown",
   "metadata": {},
   "source": [
    "## Data preprosessing"
   ]
  },
  {
   "cell_type": "code",
   "execution_count": 225,
   "metadata": {},
   "outputs": [
    {
     "name": "stdout",
     "output_type": "stream",
     "text": [
      "nr_of_bank_accounts_open\n"
     ]
    },
    {
     "data": {
      "image/png": "[encoded data removed]",
      "text/plain": [
       "<Figure size 432x288 with 1 Axes>"
      ]
     },
     "metadata": {
      "needs_background": "light"
     },
     "output_type": "display_data"
    },
    {
     "name": "stdout",
     "output_type": "stream",
     "text": [
      "credit_cards_held\n"
     ]
    },
    {
     "data": {
      "image/png": "[encoded data removed]",
      "text/plain": [
       "<Figure size 432x288 with 1 Axes>"
      ]
     },
     "metadata": {
      "needs_background": "light"
     },
     "output_type": "display_data"
    },
    {
     "name": "stdout",
     "output_type": "stream",
     "text": [
      "nr_of_homes_owned\n"
     ]
    },
    {
     "data": {
      "image/png": "[encoded data removed]",
      "text/plain": [
       "<Figure size 432x288 with 1 Axes>"
      ]
     },
     "metadata": {
      "needs_background": "light"
     },
     "output_type": "display_data"
    },
    {
     "name": "stdout",
     "output_type": "stream",
     "text": [
      "household_size\n"
     ]
    },
    {
     "data": {
      "image/png": "[encoded data removed]",
      "text/plain": [
       "<Figure size 432x288 with 1 Axes>"
      ]
     },
     "metadata": {
      "needs_background": "light"
     },
     "output_type": "display_data"
    },
    {
     "name": "stdout",
     "output_type": "stream",
     "text": [
      "average_balance\n"
     ]
    },
    {
     "data": {
      "image/png": "[encoded data removed]",
      "text/plain": [
       "<Figure size 432x288 with 1 Axes>"
      ]
     },
     "metadata": {
      "needs_background": "light"
     },
     "output_type": "display_data"
    },
    {
     "name": "stdout",
     "output_type": "stream",
     "text": [
      "balance_q1\n"
     ]
    },
    {
     "data": {
      "image/png": "[encoded data removed]",
      "text/plain": [
       "<Figure size 432x288 with 1 Axes>"
      ]
     },
     "metadata": {
      "needs_background": "light"
     },
     "output_type": "display_data"
    },
    {
     "name": "stdout",
     "output_type": "stream",
     "text": [
      "balance_q2\n"
     ]
    },
    {
     "data": {
      "image/png": "[encoded data removed]",
      "text/plain": [
       "<Figure size 432x288 with 1 Axes>"
      ]
     },
     "metadata": {
      "needs_background": "light"
     },
     "output_type": "display_data"
    },
    {
     "name": "stdout",
     "output_type": "stream",
     "text": [
      "balance_q3\n"
     ]
    },
    {
     "data": {
      "image/png": "[encoded data removed]",
      "text/plain": [
       "<Figure size 432x288 with 1 Axes>"
      ]
     },
     "metadata": {
      "needs_background": "light"
     },
     "output_type": "display_data"
    }
   ],
   "source": [
    "'''for i in num.columns:\n",
    "    num[i] = list(map(log_transfom_clean, num[i]))\n",
    "    print(i)\n",
    "    sns.distplot(num[i])\n",
    "    plt.show()\n",
    "    '''"
   ]
  },
  {
   "cell_type": "markdown",
   "metadata": {},
   "source": [
    "## Scale and sampling"
   ]
  },
  {
   "cell_type": "markdown",
   "metadata": {},
   "source": [
    "### Function for scaling and sampling"
   ]
  },
  {
   "cell_type": "markdown",
   "metadata": {},
   "source": [
    "## Train-test split"
   ]
  },
  {
   "cell_type": "markdown",
   "metadata": {},
   "source": [
    "### Function for test/train models "
   ]
  },
  {
   "cell_type": "code",
   "execution_count": 153,
   "metadata": {},
   "outputs": [
    {
     "ename": "NameError",
     "evalue": "name 'y_true' is not defined",
     "output_type": "error",
     "traceback": [
      "\u001b[1;31m---------------------------------------------------------------------------\u001b[0m",
      "\u001b[1;31mNameError\u001b[0m                                 Traceback (most recent call last)",
      "\u001b[1;32m<ipython-input-153-d3cca8d3e5fa>\u001b[0m in \u001b[0;36m<module>\u001b[1;34m\u001b[0m\n\u001b[0;32m      1\u001b[0m \u001b[1;32mfrom\u001b[0m \u001b[0msklearn\u001b[0m\u001b[1;33m.\u001b[0m\u001b[0mmetrics\u001b[0m \u001b[1;32mimport\u001b[0m \u001b[0mclassification_report\u001b[0m\u001b[1;33m\u001b[0m\u001b[1;33m\u001b[0m\u001b[0m\n\u001b[1;32m----> 2\u001b[1;33m \u001b[0mprint\u001b[0m\u001b[1;33m(\u001b[0m\u001b[0mclassification_report\u001b[0m\u001b[1;33m(\u001b[0m\u001b[0my_true\u001b[0m\u001b[1;33m,\u001b[0m \u001b[0my_pred\u001b[0m\u001b[1;33m,\u001b[0m \u001b[0mtarget_names\u001b[0m\u001b[1;33m=\u001b[0m\u001b[0mtarget_names\u001b[0m\u001b[1;33m)\u001b[0m\u001b[1;33m)\u001b[0m\u001b[1;33m\u001b[0m\u001b[1;33m\u001b[0m\u001b[0m\n\u001b[0m",
      "\u001b[1;31mNameError\u001b[0m: name 'y_true' is not defined"
     ]
    }
   ],
   "source": [
    "from sklearn.metrics import classification_report\n",
    "print(classification_report(y_true, y_pred, target_names=target_names))"
   ]
  },
  {
   "cell_type": "markdown",
   "metadata": {},
   "source": [
    "## Step by step"
   ]
  },
  {
   "cell_type": "markdown",
   "metadata": {},
   "source": [
    "## Split Train/Test"
   ]
  },
  {
   "cell_type": "code",
   "execution_count": 232,
   "metadata": {},
   "outputs": [],
   "source": [
    "from sklearn.model_selection import train_test_split\n",
    "\n",
    "X_train, X_test, y_train, y_test = train_test_split(X, y, test_size=0.3, random_state=42)"
   ]
  },
  {
   "cell_type": "markdown",
   "metadata": {},
   "source": [
    "## Scale & transform"
   ]
  },
  {
   "cell_type": "markdown",
   "metadata": {},
   "source": [
    "### Using Normalizer"
   ]
  },
  {
   "cell_type": "code",
   "execution_count": 233,
   "metadata": {},
   "outputs": [],
   "source": [
    "from sklearn.preprocessing import Normalizer"
   ]
  },
  {
   "cell_type": "code",
   "execution_count": 234,
   "metadata": {},
   "outputs": [
    {
     "name": "stdout",
     "output_type": "stream",
     "text": [
      "(12583, 17)\n",
      "(5393, 17)\n"
     ]
    },
    {
     "data": {
      "text/html": [
       "<div>\n",
       "<style scoped>\n",
       "    .dataframe tbody tr th:only-of-type {\n",
       "        vertical-align: middle;\n",
       "    }\n",
       "\n",
       "    .dataframe tbody tr th {\n",
       "        vertical-align: top;\n",
       "    }\n",
       "\n",
       "    .dataframe thead th {\n",
       "        text-align: right;\n",
       "    }\n",
       "</style>\n",
       "<table border=\"1\" class=\"dataframe\">\n",
       "  <thead>\n",
       "    <tr style=\"text-align: right;\">\n",
       "      <th></th>\n",
       "      <th>income_level</th>\n",
       "      <th>overdraft_protection</th>\n",
       "      <th>credit_rating</th>\n",
       "      <th>own_your_home</th>\n",
       "      <th>reward_Air Miles</th>\n",
       "      <th>reward_Cash Back</th>\n",
       "      <th>reward_Points</th>\n",
       "      <th>mailer_type_Letter</th>\n",
       "      <th>mailer_type_Postcard</th>\n",
       "      <th>nr_of_bank_accounts_open</th>\n",
       "      <th>credit_cards_held</th>\n",
       "      <th>nr_of_homes_owned</th>\n",
       "      <th>household_size</th>\n",
       "      <th>average_balance</th>\n",
       "      <th>balance_q1</th>\n",
       "      <th>balance_q2</th>\n",
       "      <th>balance_q3</th>\n",
       "    </tr>\n",
       "  </thead>\n",
       "  <tbody>\n",
       "    <tr>\n",
       "      <th>0</th>\n",
       "      <td>0.000375</td>\n",
       "      <td>0.0</td>\n",
       "      <td>0.000375</td>\n",
       "      <td>0.000375</td>\n",
       "      <td>0.000375</td>\n",
       "      <td>0.0</td>\n",
       "      <td>0.000000</td>\n",
       "      <td>0.0</td>\n",
       "      <td>0.000375</td>\n",
       "      <td>0.000375</td>\n",
       "      <td>0.000750</td>\n",
       "      <td>0.000750</td>\n",
       "      <td>0.001125</td>\n",
       "      <td>0.414001</td>\n",
       "      <td>0.770827</td>\n",
       "      <td>0.379790</td>\n",
       "      <td>0.300308</td>\n",
       "    </tr>\n",
       "    <tr>\n",
       "      <th>1</th>\n",
       "      <td>0.000000</td>\n",
       "      <td>0.0</td>\n",
       "      <td>0.000000</td>\n",
       "      <td>0.000430</td>\n",
       "      <td>0.000430</td>\n",
       "      <td>0.0</td>\n",
       "      <td>0.000000</td>\n",
       "      <td>0.0</td>\n",
       "      <td>0.000430</td>\n",
       "      <td>0.000430</td>\n",
       "      <td>0.000430</td>\n",
       "      <td>0.000430</td>\n",
       "      <td>0.001291</td>\n",
       "      <td>0.549408</td>\n",
       "      <td>0.234477</td>\n",
       "      <td>0.601466</td>\n",
       "      <td>0.530478</td>\n",
       "    </tr>\n",
       "    <tr>\n",
       "      <th>2</th>\n",
       "      <td>0.003406</td>\n",
       "      <td>0.0</td>\n",
       "      <td>0.000000</td>\n",
       "      <td>0.001703</td>\n",
       "      <td>0.001703</td>\n",
       "      <td>0.0</td>\n",
       "      <td>0.000000</td>\n",
       "      <td>0.0</td>\n",
       "      <td>0.001703</td>\n",
       "      <td>0.001703</td>\n",
       "      <td>0.003406</td>\n",
       "      <td>0.001703</td>\n",
       "      <td>0.006812</td>\n",
       "      <td>0.472607</td>\n",
       "      <td>0.810670</td>\n",
       "      <td>0.057905</td>\n",
       "      <td>0.340618</td>\n",
       "    </tr>\n",
       "    <tr>\n",
       "      <th>3</th>\n",
       "      <td>0.001785</td>\n",
       "      <td>0.0</td>\n",
       "      <td>0.000000</td>\n",
       "      <td>0.001785</td>\n",
       "      <td>0.000000</td>\n",
       "      <td>0.0</td>\n",
       "      <td>0.001785</td>\n",
       "      <td>0.0</td>\n",
       "      <td>0.001785</td>\n",
       "      <td>0.001785</td>\n",
       "      <td>0.005356</td>\n",
       "      <td>0.001785</td>\n",
       "      <td>0.005356</td>\n",
       "      <td>0.454328</td>\n",
       "      <td>0.285629</td>\n",
       "      <td>0.826538</td>\n",
       "      <td>0.169592</td>\n",
       "    </tr>\n",
       "    <tr>\n",
       "      <th>4</th>\n",
       "      <td>0.000382</td>\n",
       "      <td>0.0</td>\n",
       "      <td>0.000764</td>\n",
       "      <td>0.000382</td>\n",
       "      <td>0.000382</td>\n",
       "      <td>0.0</td>\n",
       "      <td>0.000000</td>\n",
       "      <td>0.0</td>\n",
       "      <td>0.000382</td>\n",
       "      <td>0.000764</td>\n",
       "      <td>0.000764</td>\n",
       "      <td>0.000382</td>\n",
       "      <td>0.001146</td>\n",
       "      <td>0.432949</td>\n",
       "      <td>0.714103</td>\n",
       "      <td>0.485361</td>\n",
       "      <td>0.258910</td>\n",
       "    </tr>\n",
       "  </tbody>\n",
       "</table>\n",
       "</div>"
      ],
      "text/plain": [
       "   income_level  overdraft_protection  credit_rating  own_your_home  \\\n",
       "0      0.000375                   0.0       0.000375       0.000375   \n",
       "1      0.000000                   0.0       0.000000       0.000430   \n",
       "2      0.003406                   0.0       0.000000       0.001703   \n",
       "3      0.001785                   0.0       0.000000       0.001785   \n",
       "4      0.000382                   0.0       0.000764       0.000382   \n",
       "\n",
       "   reward_Air Miles  reward_Cash Back  reward_Points  mailer_type_Letter  \\\n",
       "0          0.000375               0.0       0.000000                 0.0   \n",
       "1          0.000430               0.0       0.000000                 0.0   \n",
       "2          0.001703               0.0       0.000000                 0.0   \n",
       "3          0.000000               0.0       0.001785                 0.0   \n",
       "4          0.000382               0.0       0.000000                 0.0   \n",
       "\n",
       "   mailer_type_Postcard  nr_of_bank_accounts_open  credit_cards_held  \\\n",
       "0              0.000375                  0.000375           0.000750   \n",
       "1              0.000430                  0.000430           0.000430   \n",
       "2              0.001703                  0.001703           0.003406   \n",
       "3              0.001785                  0.001785           0.005356   \n",
       "4              0.000382                  0.000764           0.000764   \n",
       "\n",
       "   nr_of_homes_owned  household_size  average_balance  balance_q1  balance_q2  \\\n",
       "0           0.000750        0.001125         0.414001    0.770827    0.379790   \n",
       "1           0.000430        0.001291         0.549408    0.234477    0.601466   \n",
       "2           0.001703        0.006812         0.472607    0.810670    0.057905   \n",
       "3           0.001785        0.005356         0.454328    0.285629    0.826538   \n",
       "4           0.000382        0.001146         0.432949    0.714103    0.485361   \n",
       "\n",
       "   balance_q3  \n",
       "0    0.300308  \n",
       "1    0.530478  \n",
       "2    0.340618  \n",
       "3    0.169592  \n",
       "4    0.258910  "
      ]
     },
     "execution_count": 234,
     "metadata": {},
     "output_type": "execute_result"
    }
   ],
   "source": [
    "#Normalize the numerical data\n",
    "transformer = Normalizer().fit(X_train) # rules for normalizer\n",
    "X_norm_train = transformer.transform(X_train)\n",
    "X_norm_test = transformer.transform(X_test)\n",
    "#Change from numpy array to dataframe\n",
    "X_norm_train_df = pd.DataFrame(X_norm_train)\n",
    "X_norm_test_df = pd.DataFrame(X_norm_test)\n",
    "#Print the shape of train and test\n",
    "print(X_norm_train_df.shape)\n",
    "print(X_norm_test_df.shape)\n",
    "#Show the normalized train data\n",
    "X_norm_train_df.columns = X.columns\n",
    "X_norm_train_df.head()"
   ]
  },
  {
   "cell_type": "code",
   "execution_count": 235,
   "metadata": {},
   "outputs": [
    {
     "data": {
      "text/html": [
       "<div>\n",
       "<style scoped>\n",
       "    .dataframe tbody tr th:only-of-type {\n",
       "        vertical-align: middle;\n",
       "    }\n",
       "\n",
       "    .dataframe tbody tr th {\n",
       "        vertical-align: top;\n",
       "    }\n",
       "\n",
       "    .dataframe thead th {\n",
       "        text-align: right;\n",
       "    }\n",
       "</style>\n",
       "<table border=\"1\" class=\"dataframe\">\n",
       "  <thead>\n",
       "    <tr style=\"text-align: right;\">\n",
       "      <th></th>\n",
       "      <th>income_level</th>\n",
       "      <th>overdraft_protection</th>\n",
       "      <th>credit_rating</th>\n",
       "      <th>own_your_home</th>\n",
       "      <th>reward_Air Miles</th>\n",
       "      <th>reward_Cash Back</th>\n",
       "      <th>reward_Points</th>\n",
       "      <th>mailer_type_Letter</th>\n",
       "      <th>mailer_type_Postcard</th>\n",
       "      <th>nr_of_bank_accounts_open</th>\n",
       "      <th>credit_cards_held</th>\n",
       "      <th>nr_of_homes_owned</th>\n",
       "      <th>household_size</th>\n",
       "      <th>average_balance</th>\n",
       "      <th>balance_q1</th>\n",
       "      <th>balance_q2</th>\n",
       "      <th>balance_q3</th>\n",
       "    </tr>\n",
       "  </thead>\n",
       "  <tbody>\n",
       "    <tr>\n",
       "      <th>0</th>\n",
       "      <td>0.000449</td>\n",
       "      <td>0.0</td>\n",
       "      <td>0.000449</td>\n",
       "      <td>0.000449</td>\n",
       "      <td>0.0</td>\n",
       "      <td>0.000449</td>\n",
       "      <td>0.000000</td>\n",
       "      <td>0.000000</td>\n",
       "      <td>0.000449</td>\n",
       "      <td>0.000449</td>\n",
       "      <td>0.000898</td>\n",
       "      <td>0.000898</td>\n",
       "      <td>0.001347</td>\n",
       "      <td>0.503905</td>\n",
       "      <td>0.316484</td>\n",
       "      <td>0.444873</td>\n",
       "      <td>0.669329</td>\n",
       "    </tr>\n",
       "    <tr>\n",
       "      <th>1</th>\n",
       "      <td>0.000000</td>\n",
       "      <td>0.0</td>\n",
       "      <td>0.000886</td>\n",
       "      <td>0.000443</td>\n",
       "      <td>0.0</td>\n",
       "      <td>0.000443</td>\n",
       "      <td>0.000000</td>\n",
       "      <td>0.000000</td>\n",
       "      <td>0.000443</td>\n",
       "      <td>0.000443</td>\n",
       "      <td>0.001329</td>\n",
       "      <td>0.000443</td>\n",
       "      <td>0.001771</td>\n",
       "      <td>0.454935</td>\n",
       "      <td>0.250220</td>\n",
       "      <td>0.673158</td>\n",
       "      <td>0.526569</td>\n",
       "    </tr>\n",
       "    <tr>\n",
       "      <th>2</th>\n",
       "      <td>0.000544</td>\n",
       "      <td>0.0</td>\n",
       "      <td>0.000544</td>\n",
       "      <td>0.000000</td>\n",
       "      <td>0.0</td>\n",
       "      <td>0.000000</td>\n",
       "      <td>0.000544</td>\n",
       "      <td>0.000544</td>\n",
       "      <td>0.000000</td>\n",
       "      <td>0.000544</td>\n",
       "      <td>0.001089</td>\n",
       "      <td>0.000544</td>\n",
       "      <td>0.001089</td>\n",
       "      <td>0.460503</td>\n",
       "      <td>0.465540</td>\n",
       "      <td>0.534146</td>\n",
       "      <td>0.534690</td>\n",
       "    </tr>\n",
       "    <tr>\n",
       "      <th>3</th>\n",
       "      <td>0.001015</td>\n",
       "      <td>0.0</td>\n",
       "      <td>0.001015</td>\n",
       "      <td>0.000508</td>\n",
       "      <td>0.0</td>\n",
       "      <td>0.000508</td>\n",
       "      <td>0.000000</td>\n",
       "      <td>0.000000</td>\n",
       "      <td>0.000508</td>\n",
       "      <td>0.000508</td>\n",
       "      <td>0.000508</td>\n",
       "      <td>0.000508</td>\n",
       "      <td>0.001015</td>\n",
       "      <td>0.463337</td>\n",
       "      <td>0.330465</td>\n",
       "      <td>0.704587</td>\n",
       "      <td>0.423869</td>\n",
       "    </tr>\n",
       "    <tr>\n",
       "      <th>4</th>\n",
       "      <td>0.000466</td>\n",
       "      <td>0.0</td>\n",
       "      <td>0.000932</td>\n",
       "      <td>0.000466</td>\n",
       "      <td>0.0</td>\n",
       "      <td>0.000466</td>\n",
       "      <td>0.000000</td>\n",
       "      <td>0.000466</td>\n",
       "      <td>0.000000</td>\n",
       "      <td>0.000932</td>\n",
       "      <td>0.000932</td>\n",
       "      <td>0.000932</td>\n",
       "      <td>0.000932</td>\n",
       "      <td>0.442200</td>\n",
       "      <td>0.093168</td>\n",
       "      <td>0.526401</td>\n",
       "      <td>0.720191</td>\n",
       "    </tr>\n",
       "  </tbody>\n",
       "</table>\n",
       "</div>"
      ],
      "text/plain": [
       "   income_level  overdraft_protection  credit_rating  own_your_home  \\\n",
       "0      0.000449                   0.0       0.000449       0.000449   \n",
       "1      0.000000                   0.0       0.000886       0.000443   \n",
       "2      0.000544                   0.0       0.000544       0.000000   \n",
       "3      0.001015                   0.0       0.001015       0.000508   \n",
       "4      0.000466                   0.0       0.000932       0.000466   \n",
       "\n",
       "   reward_Air Miles  reward_Cash Back  reward_Points  mailer_type_Letter  \\\n",
       "0               0.0          0.000449       0.000000            0.000000   \n",
       "1               0.0          0.000443       0.000000            0.000000   \n",
       "2               0.0          0.000000       0.000544            0.000544   \n",
       "3               0.0          0.000508       0.000000            0.000000   \n",
       "4               0.0          0.000466       0.000000            0.000466   \n",
       "\n",
       "   mailer_type_Postcard  nr_of_bank_accounts_open  credit_cards_held  \\\n",
       "0              0.000449                  0.000449           0.000898   \n",
       "1              0.000443                  0.000443           0.001329   \n",
       "2              0.000000                  0.000544           0.001089   \n",
       "3              0.000508                  0.000508           0.000508   \n",
       "4              0.000000                  0.000932           0.000932   \n",
       "\n",
       "   nr_of_homes_owned  household_size  average_balance  balance_q1  balance_q2  \\\n",
       "0           0.000898        0.001347         0.503905    0.316484    0.444873   \n",
       "1           0.000443        0.001771         0.454935    0.250220    0.673158   \n",
       "2           0.000544        0.001089         0.460503    0.465540    0.534146   \n",
       "3           0.000508        0.001015         0.463337    0.330465    0.704587   \n",
       "4           0.000932        0.000932         0.442200    0.093168    0.526401   \n",
       "\n",
       "   balance_q3  \n",
       "0    0.669329  \n",
       "1    0.526569  \n",
       "2    0.534690  \n",
       "3    0.423869  \n",
       "4    0.720191  "
      ]
     },
     "execution_count": 235,
     "metadata": {},
     "output_type": "execute_result"
    }
   ],
   "source": [
    "# Transform testset\n",
    "#Show the normalized test data\n",
    "X_norm_test_df.columns = X.columns\n",
    "X_norm_test_df.head()"
   ]
  },
  {
   "cell_type": "markdown",
   "metadata": {},
   "source": [
    "### Using StandardScaler"
   ]
  },
  {
   "cell_type": "code",
   "execution_count": 236,
   "metadata": {},
   "outputs": [],
   "source": [
    "from sklearn.preprocessing import StandardScaler"
   ]
  },
  {
   "cell_type": "code",
   "execution_count": 237,
   "metadata": {},
   "outputs": [],
   "source": [
    "trans_test = transformer.transform(X_test)"
   ]
  },
  {
   "cell_type": "code",
   "execution_count": 238,
   "metadata": {},
   "outputs": [
    {
     "name": "stdout",
     "output_type": "stream",
     "text": [
      "(12583, 17)\n",
      "(5393, 17)\n"
     ]
    },
    {
     "data": {
      "text/html": [
       "<div>\n",
       "<style scoped>\n",
       "    .dataframe tbody tr th:only-of-type {\n",
       "        vertical-align: middle;\n",
       "    }\n",
       "\n",
       "    .dataframe tbody tr th {\n",
       "        vertical-align: top;\n",
       "    }\n",
       "\n",
       "    .dataframe thead th {\n",
       "        text-align: right;\n",
       "    }\n",
       "</style>\n",
       "<table border=\"1\" class=\"dataframe\">\n",
       "  <thead>\n",
       "    <tr style=\"text-align: right;\">\n",
       "      <th></th>\n",
       "      <th>income_level</th>\n",
       "      <th>overdraft_protection</th>\n",
       "      <th>credit_rating</th>\n",
       "      <th>own_your_home</th>\n",
       "      <th>reward_Air Miles</th>\n",
       "      <th>reward_Cash Back</th>\n",
       "      <th>reward_Points</th>\n",
       "      <th>mailer_type_Letter</th>\n",
       "      <th>mailer_type_Postcard</th>\n",
       "      <th>nr_of_bank_accounts_open</th>\n",
       "      <th>credit_cards_held</th>\n",
       "      <th>nr_of_homes_owned</th>\n",
       "      <th>household_size</th>\n",
       "      <th>average_balance</th>\n",
       "      <th>balance_q1</th>\n",
       "      <th>balance_q2</th>\n",
       "      <th>balance_q3</th>\n",
       "    </tr>\n",
       "  </thead>\n",
       "  <tbody>\n",
       "    <tr>\n",
       "      <th>0</th>\n",
       "      <td>-0.001910</td>\n",
       "      <td>-0.419501</td>\n",
       "      <td>-0.003302</td>\n",
       "      <td>0.737128</td>\n",
       "      <td>1.421664</td>\n",
       "      <td>-0.712508</td>\n",
       "      <td>-0.705422</td>\n",
       "      <td>-0.988228</td>\n",
       "      <td>0.988228</td>\n",
       "      <td>-0.534791</td>\n",
       "      <td>0.124853</td>\n",
       "      <td>1.862057</td>\n",
       "      <td>-0.451753</td>\n",
       "      <td>0.464583</td>\n",
       "      <td>1.841462</td>\n",
       "      <td>0.024139</td>\n",
       "      <td>-0.442191</td>\n",
       "    </tr>\n",
       "    <tr>\n",
       "      <th>1</th>\n",
       "      <td>-1.415508</td>\n",
       "      <td>-0.419501</td>\n",
       "      <td>-1.225483</td>\n",
       "      <td>0.737128</td>\n",
       "      <td>1.421664</td>\n",
       "      <td>-0.712508</td>\n",
       "      <td>-0.705422</td>\n",
       "      <td>-0.988228</td>\n",
       "      <td>0.988228</td>\n",
       "      <td>-0.534791</td>\n",
       "      <td>-1.129962</td>\n",
       "      <td>-0.477694</td>\n",
       "      <td>-0.451753</td>\n",
       "      <td>0.961569</td>\n",
       "      <td>-0.593134</td>\n",
       "      <td>0.869015</td>\n",
       "      <td>0.341153</td>\n",
       "    </tr>\n",
       "    <tr>\n",
       "      <th>2</th>\n",
       "      <td>1.411689</td>\n",
       "      <td>-0.419501</td>\n",
       "      <td>-1.225483</td>\n",
       "      <td>0.737128</td>\n",
       "      <td>1.421664</td>\n",
       "      <td>-0.712508</td>\n",
       "      <td>-0.705422</td>\n",
       "      <td>-0.988228</td>\n",
       "      <td>0.988228</td>\n",
       "      <td>-0.534791</td>\n",
       "      <td>0.124853</td>\n",
       "      <td>-0.477694</td>\n",
       "      <td>0.444135</td>\n",
       "      <td>-1.913903</td>\n",
       "      <td>-0.704310</td>\n",
       "      <td>-2.124262</td>\n",
       "      <td>-1.531983</td>\n",
       "    </tr>\n",
       "    <tr>\n",
       "      <th>3</th>\n",
       "      <td>-0.001910</td>\n",
       "      <td>-0.419501</td>\n",
       "      <td>-1.225483</td>\n",
       "      <td>0.737128</td>\n",
       "      <td>-0.703401</td>\n",
       "      <td>-0.712508</td>\n",
       "      <td>1.417592</td>\n",
       "      <td>-0.988228</td>\n",
       "      <td>0.988228</td>\n",
       "      <td>-0.534791</td>\n",
       "      <td>1.379669</td>\n",
       "      <td>-0.477694</td>\n",
       "      <td>-0.451753</td>\n",
       "      <td>-1.980072</td>\n",
       "      <td>-1.213465</td>\n",
       "      <td>-1.182828</td>\n",
       "      <td>-1.722379</td>\n",
       "    </tr>\n",
       "    <tr>\n",
       "      <th>4</th>\n",
       "      <td>-0.001910</td>\n",
       "      <td>-0.419501</td>\n",
       "      <td>1.218878</td>\n",
       "      <td>0.737128</td>\n",
       "      <td>1.421664</td>\n",
       "      <td>-0.712508</td>\n",
       "      <td>-0.705422</td>\n",
       "      <td>-0.988228</td>\n",
       "      <td>0.988228</td>\n",
       "      <td>1.578011</td>\n",
       "      <td>0.124853</td>\n",
       "      <td>-0.477694</td>\n",
       "      <td>-0.451753</td>\n",
       "      <td>0.549452</td>\n",
       "      <td>1.541770</td>\n",
       "      <td>0.590316</td>\n",
       "      <td>-0.665227</td>\n",
       "    </tr>\n",
       "  </tbody>\n",
       "</table>\n",
       "</div>"
      ],
      "text/plain": [
       "   income_level  overdraft_protection  credit_rating  own_your_home  \\\n",
       "0     -0.001910             -0.419501      -0.003302       0.737128   \n",
       "1     -1.415508             -0.419501      -1.225483       0.737128   \n",
       "2      1.411689             -0.419501      -1.225483       0.737128   \n",
       "3     -0.001910             -0.419501      -1.225483       0.737128   \n",
       "4     -0.001910             -0.419501       1.218878       0.737128   \n",
       "\n",
       "   reward_Air Miles  reward_Cash Back  reward_Points  mailer_type_Letter  \\\n",
       "0          1.421664         -0.712508      -0.705422           -0.988228   \n",
       "1          1.421664         -0.712508      -0.705422           -0.988228   \n",
       "2          1.421664         -0.712508      -0.705422           -0.988228   \n",
       "3         -0.703401         -0.712508       1.417592           -0.988228   \n",
       "4          1.421664         -0.712508      -0.705422           -0.988228   \n",
       "\n",
       "   mailer_type_Postcard  nr_of_bank_accounts_open  credit_cards_held  \\\n",
       "0              0.988228                 -0.534791           0.124853   \n",
       "1              0.988228                 -0.534791          -1.129962   \n",
       "2              0.988228                 -0.534791           0.124853   \n",
       "3              0.988228                 -0.534791           1.379669   \n",
       "4              0.988228                  1.578011           0.124853   \n",
       "\n",
       "   nr_of_homes_owned  household_size  average_balance  balance_q1  balance_q2  \\\n",
       "0           1.862057       -0.451753         0.464583    1.841462    0.024139   \n",
       "1          -0.477694       -0.451753         0.961569   -0.593134    0.869015   \n",
       "2          -0.477694        0.444135        -1.913903   -0.704310   -2.124262   \n",
       "3          -0.477694       -0.451753        -1.980072   -1.213465   -1.182828   \n",
       "4          -0.477694       -0.451753         0.549452    1.541770    0.590316   \n",
       "\n",
       "   balance_q3  \n",
       "0   -0.442191  \n",
       "1    0.341153  \n",
       "2   -1.531983  \n",
       "3   -1.722379  \n",
       "4   -0.665227  "
      ]
     },
     "execution_count": 238,
     "metadata": {},
     "output_type": "execute_result"
    }
   ],
   "source": [
    "#StandardScaler for the numerical data\n",
    "transformer = StandardScaler().fit(X_train) # rules for normalizer\n",
    "X_ss_train = transformer.transform(X_train)\n",
    "X_ss_test = transformer.transform(X_test)\n",
    "#Change from numpy array to dataframe\n",
    "X_ss_train_df = pd.DataFrame(X_ss_train)\n",
    "X_ss_test_df = pd.DataFrame(X_ss_test)\n",
    "#Print the shape of train and test\n",
    "print(X_ss_train_df.shape)\n",
    "print(X_ss_test_df.shape)\n",
    "#Show the standardized train data\n",
    "X_ss_train_df.columns = X.columns\n",
    "X_ss_train_df.head()"
   ]
  },
  {
   "cell_type": "code",
   "execution_count": 239,
   "metadata": {},
   "outputs": [
    {
     "data": {
      "text/html": [
       "<div>\n",
       "<style scoped>\n",
       "    .dataframe tbody tr th:only-of-type {\n",
       "        vertical-align: middle;\n",
       "    }\n",
       "\n",
       "    .dataframe tbody tr th {\n",
       "        vertical-align: top;\n",
       "    }\n",
       "\n",
       "    .dataframe thead th {\n",
       "        text-align: right;\n",
       "    }\n",
       "</style>\n",
       "<table border=\"1\" class=\"dataframe\">\n",
       "  <thead>\n",
       "    <tr style=\"text-align: right;\">\n",
       "      <th></th>\n",
       "      <th>income_level</th>\n",
       "      <th>overdraft_protection</th>\n",
       "      <th>credit_rating</th>\n",
       "      <th>own_your_home</th>\n",
       "      <th>reward_Air Miles</th>\n",
       "      <th>reward_Cash Back</th>\n",
       "      <th>reward_Points</th>\n",
       "      <th>mailer_type_Letter</th>\n",
       "      <th>mailer_type_Postcard</th>\n",
       "      <th>nr_of_bank_accounts_open</th>\n",
       "      <th>credit_cards_held</th>\n",
       "      <th>nr_of_homes_owned</th>\n",
       "      <th>household_size</th>\n",
       "      <th>average_balance</th>\n",
       "      <th>balance_q1</th>\n",
       "      <th>balance_q2</th>\n",
       "      <th>balance_q3</th>\n",
       "    </tr>\n",
       "  </thead>\n",
       "  <tbody>\n",
       "    <tr>\n",
       "      <th>0</th>\n",
       "      <td>-0.001910</td>\n",
       "      <td>-0.419501</td>\n",
       "      <td>-0.003302</td>\n",
       "      <td>0.737128</td>\n",
       "      <td>-0.703401</td>\n",
       "      <td>1.403492</td>\n",
       "      <td>-0.705422</td>\n",
       "      <td>-0.988228</td>\n",
       "      <td>0.988228</td>\n",
       "      <td>-0.534791</td>\n",
       "      <td>0.124853</td>\n",
       "      <td>1.862057</td>\n",
       "      <td>-0.451753</td>\n",
       "      <td>0.517086</td>\n",
       "      <td>-0.335334</td>\n",
       "      <td>-0.024140</td>\n",
       "      <td>0.808984</td>\n",
       "    </tr>\n",
       "    <tr>\n",
       "      <th>1</th>\n",
       "      <td>-1.415508</td>\n",
       "      <td>-0.419501</td>\n",
       "      <td>1.218878</td>\n",
       "      <td>0.737128</td>\n",
       "      <td>-0.703401</td>\n",
       "      <td>1.403492</td>\n",
       "      <td>-0.705422</td>\n",
       "      <td>-0.988228</td>\n",
       "      <td>0.988228</td>\n",
       "      <td>-0.534791</td>\n",
       "      <td>1.379669</td>\n",
       "      <td>-0.477694</td>\n",
       "      <td>0.444135</td>\n",
       "      <td>0.243061</td>\n",
       "      <td>-0.560909</td>\n",
       "      <td>1.136742</td>\n",
       "      <td>0.261368</td>\n",
       "    </tr>\n",
       "    <tr>\n",
       "      <th>2</th>\n",
       "      <td>-0.001910</td>\n",
       "      <td>-0.419501</td>\n",
       "      <td>-0.003302</td>\n",
       "      <td>-1.356616</td>\n",
       "      <td>-0.703401</td>\n",
       "      <td>-0.712508</td>\n",
       "      <td>1.417592</td>\n",
       "      <td>1.011912</td>\n",
       "      <td>-1.011912</td>\n",
       "      <td>-0.534791</td>\n",
       "      <td>0.124853</td>\n",
       "      <td>-0.477694</td>\n",
       "      <td>-1.347640</td>\n",
       "      <td>-0.279099</td>\n",
       "      <td>-0.093647</td>\n",
       "      <td>-0.046085</td>\n",
       "      <td>-0.113984</td>\n",
       "    </tr>\n",
       "    <tr>\n",
       "      <th>3</th>\n",
       "      <td>1.411689</td>\n",
       "      <td>-0.419501</td>\n",
       "      <td>1.218878</td>\n",
       "      <td>0.737128</td>\n",
       "      <td>-0.703401</td>\n",
       "      <td>1.403492</td>\n",
       "      <td>-0.705422</td>\n",
       "      <td>-0.988228</td>\n",
       "      <td>0.988228</td>\n",
       "      <td>-0.534791</td>\n",
       "      <td>-1.129962</td>\n",
       "      <td>-0.477694</td>\n",
       "      <td>-1.347640</td>\n",
       "      <td>-0.086346</td>\n",
       "      <td>-0.422342</td>\n",
       "      <td>0.847070</td>\n",
       "      <td>-0.380539</td>\n",
       "    </tr>\n",
       "    <tr>\n",
       "      <th>4</th>\n",
       "      <td>-0.001910</td>\n",
       "      <td>-0.419501</td>\n",
       "      <td>1.218878</td>\n",
       "      <td>0.737128</td>\n",
       "      <td>-0.703401</td>\n",
       "      <td>1.403492</td>\n",
       "      <td>-0.705422</td>\n",
       "      <td>1.011912</td>\n",
       "      <td>-1.011912</td>\n",
       "      <td>1.578011</td>\n",
       "      <td>0.124853</td>\n",
       "      <td>1.862057</td>\n",
       "      <td>-1.347640</td>\n",
       "      <td>0.018662</td>\n",
       "      <td>-1.149015</td>\n",
       "      <td>0.280893</td>\n",
       "      <td>0.908716</td>\n",
       "    </tr>\n",
       "  </tbody>\n",
       "</table>\n",
       "</div>"
      ],
      "text/plain": [
       "   income_level  overdraft_protection  credit_rating  own_your_home  \\\n",
       "0     -0.001910             -0.419501      -0.003302       0.737128   \n",
       "1     -1.415508             -0.419501       1.218878       0.737128   \n",
       "2     -0.001910             -0.419501      -0.003302      -1.356616   \n",
       "3      1.411689             -0.419501       1.218878       0.737128   \n",
       "4     -0.001910             -0.419501       1.218878       0.737128   \n",
       "\n",
       "   reward_Air Miles  reward_Cash Back  reward_Points  mailer_type_Letter  \\\n",
       "0         -0.703401          1.403492      -0.705422           -0.988228   \n",
       "1         -0.703401          1.403492      -0.705422           -0.988228   \n",
       "2         -0.703401         -0.712508       1.417592            1.011912   \n",
       "3         -0.703401          1.403492      -0.705422           -0.988228   \n",
       "4         -0.703401          1.403492      -0.705422            1.011912   \n",
       "\n",
       "   mailer_type_Postcard  nr_of_bank_accounts_open  credit_cards_held  \\\n",
       "0              0.988228                 -0.534791           0.124853   \n",
       "1              0.988228                 -0.534791           1.379669   \n",
       "2             -1.011912                 -0.534791           0.124853   \n",
       "3              0.988228                 -0.534791          -1.129962   \n",
       "4             -1.011912                  1.578011           0.124853   \n",
       "\n",
       "   nr_of_homes_owned  household_size  average_balance  balance_q1  balance_q2  \\\n",
       "0           1.862057       -0.451753         0.517086   -0.335334   -0.024140   \n",
       "1          -0.477694        0.444135         0.243061   -0.560909    1.136742   \n",
       "2          -0.477694       -1.347640        -0.279099   -0.093647   -0.046085   \n",
       "3          -0.477694       -1.347640        -0.086346   -0.422342    0.847070   \n",
       "4           1.862057       -1.347640         0.018662   -1.149015    0.280893   \n",
       "\n",
       "   balance_q3  \n",
       "0    0.808984  \n",
       "1    0.261368  \n",
       "2   -0.113984  \n",
       "3   -0.380539  \n",
       "4    0.908716  "
      ]
     },
     "execution_count": 239,
     "metadata": {},
     "output_type": "execute_result"
    }
   ],
   "source": [
    "#Show the standardized test data\n",
    "X_ss_test_df.columns = X.columns\n",
    "X_ss_test_df.head()"
   ]
  },
  {
   "cell_type": "markdown",
   "metadata": {},
   "source": [
    "### Using MinMaxScaler"
   ]
  },
  {
   "cell_type": "code",
   "execution_count": 240,
   "metadata": {},
   "outputs": [],
   "source": [
    "from sklearn.preprocessing import MinMaxScaler\n"
   ]
  },
  {
   "cell_type": "code",
   "execution_count": 241,
   "metadata": {},
   "outputs": [
    {
     "name": "stdout",
     "output_type": "stream",
     "text": [
      "(12583, 17)\n",
      "(5393, 17)\n"
     ]
    },
    {
     "data": {
      "text/html": [
       "<div>\n",
       "<style scoped>\n",
       "    .dataframe tbody tr th:only-of-type {\n",
       "        vertical-align: middle;\n",
       "    }\n",
       "\n",
       "    .dataframe tbody tr th {\n",
       "        vertical-align: top;\n",
       "    }\n",
       "\n",
       "    .dataframe thead th {\n",
       "        text-align: right;\n",
       "    }\n",
       "</style>\n",
       "<table border=\"1\" class=\"dataframe\">\n",
       "  <thead>\n",
       "    <tr style=\"text-align: right;\">\n",
       "      <th></th>\n",
       "      <th>income_level</th>\n",
       "      <th>overdraft_protection</th>\n",
       "      <th>credit_rating</th>\n",
       "      <th>own_your_home</th>\n",
       "      <th>reward_Air Miles</th>\n",
       "      <th>reward_Cash Back</th>\n",
       "      <th>reward_Points</th>\n",
       "      <th>mailer_type_Letter</th>\n",
       "      <th>mailer_type_Postcard</th>\n",
       "      <th>nr_of_bank_accounts_open</th>\n",
       "      <th>credit_cards_held</th>\n",
       "      <th>nr_of_homes_owned</th>\n",
       "      <th>household_size</th>\n",
       "      <th>average_balance</th>\n",
       "      <th>balance_q1</th>\n",
       "      <th>balance_q2</th>\n",
       "      <th>balance_q3</th>\n",
       "    </tr>\n",
       "  </thead>\n",
       "  <tbody>\n",
       "    <tr>\n",
       "      <th>0</th>\n",
       "      <td>0.5</td>\n",
       "      <td>0.0</td>\n",
       "      <td>0.5</td>\n",
       "      <td>1.0</td>\n",
       "      <td>1.0</td>\n",
       "      <td>0.0</td>\n",
       "      <td>0.0</td>\n",
       "      <td>0.0</td>\n",
       "      <td>1.0</td>\n",
       "      <td>0.0</td>\n",
       "      <td>0.333333</td>\n",
       "      <td>0.5</td>\n",
       "      <td>0.285714</td>\n",
       "      <td>0.318264</td>\n",
       "      <td>0.595942</td>\n",
       "      <td>0.315184</td>\n",
       "      <td>0.209521</td>\n",
       "    </tr>\n",
       "    <tr>\n",
       "      <th>1</th>\n",
       "      <td>0.0</td>\n",
       "      <td>0.0</td>\n",
       "      <td>0.0</td>\n",
       "      <td>1.0</td>\n",
       "      <td>1.0</td>\n",
       "      <td>0.0</td>\n",
       "      <td>0.0</td>\n",
       "      <td>0.0</td>\n",
       "      <td>1.0</td>\n",
       "      <td>0.0</td>\n",
       "      <td>0.000000</td>\n",
       "      <td>0.0</td>\n",
       "      <td>0.285714</td>\n",
       "      <td>0.370329</td>\n",
       "      <td>0.157971</td>\n",
       "      <td>0.434972</td>\n",
       "      <td>0.322522</td>\n",
       "    </tr>\n",
       "    <tr>\n",
       "      <th>2</th>\n",
       "      <td>1.0</td>\n",
       "      <td>0.0</td>\n",
       "      <td>0.0</td>\n",
       "      <td>1.0</td>\n",
       "      <td>1.0</td>\n",
       "      <td>0.0</td>\n",
       "      <td>0.0</td>\n",
       "      <td>0.0</td>\n",
       "      <td>1.0</td>\n",
       "      <td>0.0</td>\n",
       "      <td>0.333333</td>\n",
       "      <td>0.0</td>\n",
       "      <td>0.428571</td>\n",
       "      <td>0.069093</td>\n",
       "      <td>0.137971</td>\n",
       "      <td>0.010579</td>\n",
       "      <td>0.052315</td>\n",
       "    </tr>\n",
       "    <tr>\n",
       "      <th>3</th>\n",
       "      <td>0.5</td>\n",
       "      <td>0.0</td>\n",
       "      <td>0.0</td>\n",
       "      <td>1.0</td>\n",
       "      <td>0.0</td>\n",
       "      <td>0.0</td>\n",
       "      <td>1.0</td>\n",
       "      <td>0.0</td>\n",
       "      <td>1.0</td>\n",
       "      <td>0.0</td>\n",
       "      <td>0.666667</td>\n",
       "      <td>0.0</td>\n",
       "      <td>0.285714</td>\n",
       "      <td>0.062161</td>\n",
       "      <td>0.046377</td>\n",
       "      <td>0.144057</td>\n",
       "      <td>0.024850</td>\n",
       "    </tr>\n",
       "    <tr>\n",
       "      <th>4</th>\n",
       "      <td>0.5</td>\n",
       "      <td>0.0</td>\n",
       "      <td>1.0</td>\n",
       "      <td>1.0</td>\n",
       "      <td>1.0</td>\n",
       "      <td>0.0</td>\n",
       "      <td>0.0</td>\n",
       "      <td>0.0</td>\n",
       "      <td>1.0</td>\n",
       "      <td>0.5</td>\n",
       "      <td>0.333333</td>\n",
       "      <td>0.0</td>\n",
       "      <td>0.285714</td>\n",
       "      <td>0.327155</td>\n",
       "      <td>0.542029</td>\n",
       "      <td>0.395457</td>\n",
       "      <td>0.177348</td>\n",
       "    </tr>\n",
       "  </tbody>\n",
       "</table>\n",
       "</div>"
      ],
      "text/plain": [
       "   income_level  overdraft_protection  credit_rating  own_your_home  \\\n",
       "0           0.5                   0.0            0.5            1.0   \n",
       "1           0.0                   0.0            0.0            1.0   \n",
       "2           1.0                   0.0            0.0            1.0   \n",
       "3           0.5                   0.0            0.0            1.0   \n",
       "4           0.5                   0.0            1.0            1.0   \n",
       "\n",
       "   reward_Air Miles  reward_Cash Back  reward_Points  mailer_type_Letter  \\\n",
       "0               1.0               0.0            0.0                 0.0   \n",
       "1               1.0               0.0            0.0                 0.0   \n",
       "2               1.0               0.0            0.0                 0.0   \n",
       "3               0.0               0.0            1.0                 0.0   \n",
       "4               1.0               0.0            0.0                 0.0   \n",
       "\n",
       "   mailer_type_Postcard  nr_of_bank_accounts_open  credit_cards_held  \\\n",
       "0                   1.0                       0.0           0.333333   \n",
       "1                   1.0                       0.0           0.000000   \n",
       "2                   1.0                       0.0           0.333333   \n",
       "3                   1.0                       0.0           0.666667   \n",
       "4                   1.0                       0.5           0.333333   \n",
       "\n",
       "   nr_of_homes_owned  household_size  average_balance  balance_q1  balance_q2  \\\n",
       "0                0.5        0.285714         0.318264    0.595942    0.315184   \n",
       "1                0.0        0.285714         0.370329    0.157971    0.434972   \n",
       "2                0.0        0.428571         0.069093    0.137971    0.010579   \n",
       "3                0.0        0.285714         0.062161    0.046377    0.144057   \n",
       "4                0.0        0.285714         0.327155    0.542029    0.395457   \n",
       "\n",
       "   balance_q3  \n",
       "0    0.209521  \n",
       "1    0.322522  \n",
       "2    0.052315  \n",
       "3    0.024850  \n",
       "4    0.177348  "
      ]
     },
     "execution_count": 241,
     "metadata": {},
     "output_type": "execute_result"
    }
   ],
   "source": [
    "#MinMax for the numerical data\n",
    "transformer = MinMaxScaler().fit(X_train) # rules for normalizer\n",
    "X_mm_train = transformer.transform(X_train)\n",
    "X_mm_test = transformer.transform(X_test)\n",
    "#Change from numpy array to dataframe\n",
    "X_mm_train_df = pd.DataFrame(X_mm_train)\n",
    "X_mm_test_df = pd.DataFrame(X_mm_test)\n",
    "#Print the shape of train and test\n",
    "print(X_mm_train_df.shape)\n",
    "print(X_mm_test_df.shape)\n",
    "#Show the minmax train data\n",
    "X_mm_train_df.columns = X.columns\n",
    "X_mm_train_df.head()"
   ]
  },
  {
   "cell_type": "code",
   "execution_count": 242,
   "metadata": {},
   "outputs": [
    {
     "data": {
      "text/html": [
       "<div>\n",
       "<style scoped>\n",
       "    .dataframe tbody tr th:only-of-type {\n",
       "        vertical-align: middle;\n",
       "    }\n",
       "\n",
       "    .dataframe tbody tr th {\n",
       "        vertical-align: top;\n",
       "    }\n",
       "\n",
       "    .dataframe thead th {\n",
       "        text-align: right;\n",
       "    }\n",
       "</style>\n",
       "<table border=\"1\" class=\"dataframe\">\n",
       "  <thead>\n",
       "    <tr style=\"text-align: right;\">\n",
       "      <th></th>\n",
       "      <th>income_level</th>\n",
       "      <th>overdraft_protection</th>\n",
       "      <th>credit_rating</th>\n",
       "      <th>own_your_home</th>\n",
       "      <th>reward_Air Miles</th>\n",
       "      <th>reward_Cash Back</th>\n",
       "      <th>reward_Points</th>\n",
       "      <th>mailer_type_Letter</th>\n",
       "      <th>mailer_type_Postcard</th>\n",
       "      <th>nr_of_bank_accounts_open</th>\n",
       "      <th>credit_cards_held</th>\n",
       "      <th>nr_of_homes_owned</th>\n",
       "      <th>household_size</th>\n",
       "      <th>average_balance</th>\n",
       "      <th>balance_q1</th>\n",
       "      <th>balance_q2</th>\n",
       "      <th>balance_q3</th>\n",
       "    </tr>\n",
       "  </thead>\n",
       "  <tbody>\n",
       "    <tr>\n",
       "      <th>0</th>\n",
       "      <td>0.5</td>\n",
       "      <td>0.0</td>\n",
       "      <td>0.5</td>\n",
       "      <td>1.0</td>\n",
       "      <td>0.0</td>\n",
       "      <td>1.0</td>\n",
       "      <td>0.0</td>\n",
       "      <td>0.0</td>\n",
       "      <td>1.0</td>\n",
       "      <td>0.0</td>\n",
       "      <td>0.333333</td>\n",
       "      <td>0.5</td>\n",
       "      <td>0.285714</td>\n",
       "      <td>0.323764</td>\n",
       "      <td>0.204348</td>\n",
       "      <td>0.308339</td>\n",
       "      <td>0.390008</td>\n",
       "    </tr>\n",
       "    <tr>\n",
       "      <th>1</th>\n",
       "      <td>0.0</td>\n",
       "      <td>0.0</td>\n",
       "      <td>1.0</td>\n",
       "      <td>1.0</td>\n",
       "      <td>0.0</td>\n",
       "      <td>1.0</td>\n",
       "      <td>0.0</td>\n",
       "      <td>0.0</td>\n",
       "      <td>1.0</td>\n",
       "      <td>0.0</td>\n",
       "      <td>0.666667</td>\n",
       "      <td>0.0</td>\n",
       "      <td>0.428571</td>\n",
       "      <td>0.295057</td>\n",
       "      <td>0.163768</td>\n",
       "      <td>0.472931</td>\n",
       "      <td>0.311012</td>\n",
       "    </tr>\n",
       "    <tr>\n",
       "      <th>2</th>\n",
       "      <td>0.5</td>\n",
       "      <td>0.0</td>\n",
       "      <td>0.5</td>\n",
       "      <td>0.0</td>\n",
       "      <td>0.0</td>\n",
       "      <td>0.0</td>\n",
       "      <td>1.0</td>\n",
       "      <td>1.0</td>\n",
       "      <td>0.0</td>\n",
       "      <td>0.0</td>\n",
       "      <td>0.333333</td>\n",
       "      <td>0.0</td>\n",
       "      <td>0.142857</td>\n",
       "      <td>0.240356</td>\n",
       "      <td>0.247826</td>\n",
       "      <td>0.305227</td>\n",
       "      <td>0.256866</td>\n",
       "    </tr>\n",
       "    <tr>\n",
       "      <th>3</th>\n",
       "      <td>1.0</td>\n",
       "      <td>0.0</td>\n",
       "      <td>1.0</td>\n",
       "      <td>1.0</td>\n",
       "      <td>0.0</td>\n",
       "      <td>1.0</td>\n",
       "      <td>0.0</td>\n",
       "      <td>0.0</td>\n",
       "      <td>1.0</td>\n",
       "      <td>0.0</td>\n",
       "      <td>0.000000</td>\n",
       "      <td>0.0</td>\n",
       "      <td>0.142857</td>\n",
       "      <td>0.260549</td>\n",
       "      <td>0.188696</td>\n",
       "      <td>0.431861</td>\n",
       "      <td>0.218415</td>\n",
       "    </tr>\n",
       "    <tr>\n",
       "      <th>4</th>\n",
       "      <td>0.5</td>\n",
       "      <td>0.0</td>\n",
       "      <td>1.0</td>\n",
       "      <td>1.0</td>\n",
       "      <td>0.0</td>\n",
       "      <td>1.0</td>\n",
       "      <td>0.0</td>\n",
       "      <td>1.0</td>\n",
       "      <td>0.0</td>\n",
       "      <td>0.5</td>\n",
       "      <td>0.333333</td>\n",
       "      <td>0.5</td>\n",
       "      <td>0.142857</td>\n",
       "      <td>0.271549</td>\n",
       "      <td>0.057971</td>\n",
       "      <td>0.351587</td>\n",
       "      <td>0.404394</td>\n",
       "    </tr>\n",
       "  </tbody>\n",
       "</table>\n",
       "</div>"
      ],
      "text/plain": [
       "   income_level  overdraft_protection  credit_rating  own_your_home  \\\n",
       "0           0.5                   0.0            0.5            1.0   \n",
       "1           0.0                   0.0            1.0            1.0   \n",
       "2           0.5                   0.0            0.5            0.0   \n",
       "3           1.0                   0.0            1.0            1.0   \n",
       "4           0.5                   0.0            1.0            1.0   \n",
       "\n",
       "   reward_Air Miles  reward_Cash Back  reward_Points  mailer_type_Letter  \\\n",
       "0               0.0               1.0            0.0                 0.0   \n",
       "1               0.0               1.0            0.0                 0.0   \n",
       "2               0.0               0.0            1.0                 1.0   \n",
       "3               0.0               1.0            0.0                 0.0   \n",
       "4               0.0               1.0            0.0                 1.0   \n",
       "\n",
       "   mailer_type_Postcard  nr_of_bank_accounts_open  credit_cards_held  \\\n",
       "0                   1.0                       0.0           0.333333   \n",
       "1                   1.0                       0.0           0.666667   \n",
       "2                   0.0                       0.0           0.333333   \n",
       "3                   1.0                       0.0           0.000000   \n",
       "4                   0.0                       0.5           0.333333   \n",
       "\n",
       "   nr_of_homes_owned  household_size  average_balance  balance_q1  balance_q2  \\\n",
       "0                0.5        0.285714         0.323764    0.204348    0.308339   \n",
       "1                0.0        0.428571         0.295057    0.163768    0.472931   \n",
       "2                0.0        0.142857         0.240356    0.247826    0.305227   \n",
       "3                0.0        0.142857         0.260549    0.188696    0.431861   \n",
       "4                0.5        0.142857         0.271549    0.057971    0.351587   \n",
       "\n",
       "   balance_q3  \n",
       "0    0.390008  \n",
       "1    0.311012  \n",
       "2    0.256866  \n",
       "3    0.218415  \n",
       "4    0.404394  "
      ]
     },
     "execution_count": 242,
     "metadata": {},
     "output_type": "execute_result"
    }
   ],
   "source": [
    "#Show the minmax test data\n",
    "X_mm_test_df.columns = X.columns\n",
    "X_mm_test_df.head()"
   ]
  },
  {
   "cell_type": "markdown",
   "metadata": {},
   "source": [
    "### Using PowerScaler"
   ]
  },
  {
   "cell_type": "code",
   "execution_count": 243,
   "metadata": {},
   "outputs": [],
   "source": [
    "from sklearn.preprocessing import PowerTransformer"
   ]
  },
  {
   "cell_type": "code",
   "execution_count": 244,
   "metadata": {},
   "outputs": [
    {
     "name": "stdout",
     "output_type": "stream",
     "text": [
      "(12583, 17)\n",
      "(5393, 17)\n"
     ]
    },
    {
     "data": {
      "text/html": [
       "<div>\n",
       "<style scoped>\n",
       "    .dataframe tbody tr th:only-of-type {\n",
       "        vertical-align: middle;\n",
       "    }\n",
       "\n",
       "    .dataframe tbody tr th {\n",
       "        vertical-align: top;\n",
       "    }\n",
       "\n",
       "    .dataframe thead th {\n",
       "        text-align: right;\n",
       "    }\n",
       "</style>\n",
       "<table border=\"1\" class=\"dataframe\">\n",
       "  <thead>\n",
       "    <tr style=\"text-align: right;\">\n",
       "      <th></th>\n",
       "      <th>income_level</th>\n",
       "      <th>overdraft_protection</th>\n",
       "      <th>credit_rating</th>\n",
       "      <th>own_your_home</th>\n",
       "      <th>reward_Air Miles</th>\n",
       "      <th>reward_Cash Back</th>\n",
       "      <th>reward_Points</th>\n",
       "      <th>mailer_type_Letter</th>\n",
       "      <th>mailer_type_Postcard</th>\n",
       "      <th>nr_of_bank_accounts_open</th>\n",
       "      <th>credit_cards_held</th>\n",
       "      <th>nr_of_homes_owned</th>\n",
       "      <th>household_size</th>\n",
       "      <th>average_balance</th>\n",
       "      <th>balance_q1</th>\n",
       "      <th>balance_q2</th>\n",
       "      <th>balance_q3</th>\n",
       "    </tr>\n",
       "  </thead>\n",
       "  <tbody>\n",
       "    <tr>\n",
       "      <th>0</th>\n",
       "      <td>0.035649</td>\n",
       "      <td>-0.419501</td>\n",
       "      <td>0.086405</td>\n",
       "      <td>0.737128</td>\n",
       "      <td>1.421664</td>\n",
       "      <td>-0.712508</td>\n",
       "      <td>-0.705422</td>\n",
       "      <td>-0.988228</td>\n",
       "      <td>0.988228</td>\n",
       "      <td>-0.555212</td>\n",
       "      <td>0.280740</td>\n",
       "      <td>2.036746</td>\n",
       "      <td>-0.443052</td>\n",
       "      <td>0.432179</td>\n",
       "      <td>1.541228</td>\n",
       "      <td>0.036109</td>\n",
       "      <td>-0.350202</td>\n",
       "    </tr>\n",
       "    <tr>\n",
       "      <th>1</th>\n",
       "      <td>-1.452105</td>\n",
       "      <td>-0.419501</td>\n",
       "      <td>-1.267512</td>\n",
       "      <td>0.737128</td>\n",
       "      <td>1.421664</td>\n",
       "      <td>-0.712508</td>\n",
       "      <td>-0.705422</td>\n",
       "      <td>-0.988228</td>\n",
       "      <td>0.988228</td>\n",
       "      <td>-0.555212</td>\n",
       "      <td>-1.238767</td>\n",
       "      <td>-0.490718</td>\n",
       "      <td>-0.443052</td>\n",
       "      <td>1.000601</td>\n",
       "      <td>-0.421062</td>\n",
       "      <td>0.867359</td>\n",
       "      <td>0.411578</td>\n",
       "    </tr>\n",
       "    <tr>\n",
       "      <th>2</th>\n",
       "      <td>1.373303</td>\n",
       "      <td>-0.419501</td>\n",
       "      <td>-1.267512</td>\n",
       "      <td>0.737128</td>\n",
       "      <td>1.421664</td>\n",
       "      <td>-0.712508</td>\n",
       "      <td>-0.705422</td>\n",
       "      <td>-0.988228</td>\n",
       "      <td>0.988228</td>\n",
       "      <td>-0.555212</td>\n",
       "      <td>0.280740</td>\n",
       "      <td>-0.490718</td>\n",
       "      <td>0.451005</td>\n",
       "      <td>-1.801332</td>\n",
       "      <td>-0.558648</td>\n",
       "      <td>-2.182753</td>\n",
       "      <td>-1.706605</td>\n",
       "    </tr>\n",
       "    <tr>\n",
       "      <th>3</th>\n",
       "      <td>0.035649</td>\n",
       "      <td>-0.419501</td>\n",
       "      <td>-1.267512</td>\n",
       "      <td>0.737128</td>\n",
       "      <td>-0.703401</td>\n",
       "      <td>-0.712508</td>\n",
       "      <td>1.417592</td>\n",
       "      <td>-0.988228</td>\n",
       "      <td>0.988228</td>\n",
       "      <td>-0.555212</td>\n",
       "      <td>1.300376</td>\n",
       "      <td>-0.490718</td>\n",
       "      <td>-0.443052</td>\n",
       "      <td>-1.847110</td>\n",
       "      <td>-1.389435</td>\n",
       "      <td>-1.179432</td>\n",
       "      <td>-2.046696</td>\n",
       "    </tr>\n",
       "    <tr>\n",
       "      <th>4</th>\n",
       "      <td>0.035649</td>\n",
       "      <td>-0.419501</td>\n",
       "      <td>1.172347</td>\n",
       "      <td>0.737128</td>\n",
       "      <td>1.421664</td>\n",
       "      <td>-0.712508</td>\n",
       "      <td>-0.705422</td>\n",
       "      <td>-0.988228</td>\n",
       "      <td>0.988228</td>\n",
       "      <td>1.796803</td>\n",
       "      <td>0.280740</td>\n",
       "      <td>-0.490718</td>\n",
       "      <td>-0.443052</td>\n",
       "      <td>0.527263</td>\n",
       "      <td>1.355160</td>\n",
       "      <td>0.594475</td>\n",
       "      <td>-0.589168</td>\n",
       "    </tr>\n",
       "  </tbody>\n",
       "</table>\n",
       "</div>"
      ],
      "text/plain": [
       "   income_level  overdraft_protection  credit_rating  own_your_home  \\\n",
       "0      0.035649             -0.419501       0.086405       0.737128   \n",
       "1     -1.452105             -0.419501      -1.267512       0.737128   \n",
       "2      1.373303             -0.419501      -1.267512       0.737128   \n",
       "3      0.035649             -0.419501      -1.267512       0.737128   \n",
       "4      0.035649             -0.419501       1.172347       0.737128   \n",
       "\n",
       "   reward_Air Miles  reward_Cash Back  reward_Points  mailer_type_Letter  \\\n",
       "0          1.421664         -0.712508      -0.705422           -0.988228   \n",
       "1          1.421664         -0.712508      -0.705422           -0.988228   \n",
       "2          1.421664         -0.712508      -0.705422           -0.988228   \n",
       "3         -0.703401         -0.712508       1.417592           -0.988228   \n",
       "4          1.421664         -0.712508      -0.705422           -0.988228   \n",
       "\n",
       "   mailer_type_Postcard  nr_of_bank_accounts_open  credit_cards_held  \\\n",
       "0              0.988228                 -0.555212           0.280740   \n",
       "1              0.988228                 -0.555212          -1.238767   \n",
       "2              0.988228                 -0.555212           0.280740   \n",
       "3              0.988228                 -0.555212           1.300376   \n",
       "4              0.988228                  1.796803           0.280740   \n",
       "\n",
       "   nr_of_homes_owned  household_size  average_balance  balance_q1  balance_q2  \\\n",
       "0           2.036746       -0.443052         0.432179    1.541228    0.036109   \n",
       "1          -0.490718       -0.443052         1.000601   -0.421062    0.867359   \n",
       "2          -0.490718        0.451005        -1.801332   -0.558648   -2.182753   \n",
       "3          -0.490718       -0.443052        -1.847110   -1.389435   -1.179432   \n",
       "4          -0.490718       -0.443052         0.527263    1.355160    0.594475   \n",
       "\n",
       "   balance_q3  \n",
       "0   -0.350202  \n",
       "1    0.411578  \n",
       "2   -1.706605  \n",
       "3   -2.046696  \n",
       "4   -0.589168  "
      ]
     },
     "execution_count": 244,
     "metadata": {},
     "output_type": "execute_result"
    }
   ],
   "source": [
    "#PowerTransformer for the numerical data\n",
    "transformer = PowerTransformer().fit(X_train) # rules for normalizer\n",
    "X_pt_train = transformer.transform(X_train)\n",
    "X_pt_test = transformer.transform(X_test)\n",
    "#Change from numpy array to dataframe\n",
    "X_pt_train_df = pd.DataFrame(X_pt_train)\n",
    "X_pt_test_df = pd.DataFrame(X_pt_test)\n",
    "#Print the shape of train and test\n",
    "print(X_pt_train_df.shape)\n",
    "print(X_pt_test_df.shape)\n",
    "#Show the PowerTransformer train data\n",
    "X_pt_train_df.columns = X.columns\n",
    "X_pt_train_df.head()"
   ]
  },
  {
   "cell_type": "code",
   "execution_count": 245,
   "metadata": {},
   "outputs": [
    {
     "data": {
      "text/html": [
       "<div>\n",
       "<style scoped>\n",
       "    .dataframe tbody tr th:only-of-type {\n",
       "        vertical-align: middle;\n",
       "    }\n",
       "\n",
       "    .dataframe tbody tr th {\n",
       "        vertical-align: top;\n",
       "    }\n",
       "\n",
       "    .dataframe thead th {\n",
       "        text-align: right;\n",
       "    }\n",
       "</style>\n",
       "<table border=\"1\" class=\"dataframe\">\n",
       "  <thead>\n",
       "    <tr style=\"text-align: right;\">\n",
       "      <th></th>\n",
       "      <th>income_level</th>\n",
       "      <th>overdraft_protection</th>\n",
       "      <th>credit_rating</th>\n",
       "      <th>own_your_home</th>\n",
       "      <th>reward_Air Miles</th>\n",
       "      <th>reward_Cash Back</th>\n",
       "      <th>reward_Points</th>\n",
       "      <th>mailer_type_Letter</th>\n",
       "      <th>mailer_type_Postcard</th>\n",
       "      <th>nr_of_bank_accounts_open</th>\n",
       "      <th>credit_cards_held</th>\n",
       "      <th>nr_of_homes_owned</th>\n",
       "      <th>household_size</th>\n",
       "      <th>average_balance</th>\n",
       "      <th>balance_q1</th>\n",
       "      <th>balance_q2</th>\n",
       "      <th>balance_q3</th>\n",
       "    </tr>\n",
       "  </thead>\n",
       "  <tbody>\n",
       "    <tr>\n",
       "      <th>0</th>\n",
       "      <td>0.035649</td>\n",
       "      <td>-0.419501</td>\n",
       "      <td>0.086405</td>\n",
       "      <td>0.737128</td>\n",
       "      <td>-0.703401</td>\n",
       "      <td>1.403492</td>\n",
       "      <td>-0.705422</td>\n",
       "      <td>-0.988228</td>\n",
       "      <td>0.988228</td>\n",
       "      <td>-0.555212</td>\n",
       "      <td>0.280740</td>\n",
       "      <td>2.036746</td>\n",
       "      <td>-0.443052</td>\n",
       "      <td>0.490903</td>\n",
       "      <td>-0.132954</td>\n",
       "      <td>-0.011784</td>\n",
       "      <td>0.825790</td>\n",
       "    </tr>\n",
       "    <tr>\n",
       "      <th>1</th>\n",
       "      <td>-1.452105</td>\n",
       "      <td>-0.419501</td>\n",
       "      <td>1.172347</td>\n",
       "      <td>0.737128</td>\n",
       "      <td>-0.703401</td>\n",
       "      <td>1.403492</td>\n",
       "      <td>-0.705422</td>\n",
       "      <td>-0.988228</td>\n",
       "      <td>0.988228</td>\n",
       "      <td>-0.555212</td>\n",
       "      <td>1.300376</td>\n",
       "      <td>-0.490718</td>\n",
       "      <td>0.451005</td>\n",
       "      <td>0.188035</td>\n",
       "      <td>-0.382871</td>\n",
       "      <td>1.128433</td>\n",
       "      <td>0.338338</td>\n",
       "    </tr>\n",
       "    <tr>\n",
       "      <th>2</th>\n",
       "      <td>0.035649</td>\n",
       "      <td>-0.419501</td>\n",
       "      <td>0.086405</td>\n",
       "      <td>-1.356616</td>\n",
       "      <td>-0.703401</td>\n",
       "      <td>-0.712508</td>\n",
       "      <td>1.417592</td>\n",
       "      <td>1.011912</td>\n",
       "      <td>-1.011912</td>\n",
       "      <td>-0.555212</td>\n",
       "      <td>0.280740</td>\n",
       "      <td>-0.490718</td>\n",
       "      <td>-1.354395</td>\n",
       "      <td>-0.362829</td>\n",
       "      <td>0.107973</td>\n",
       "      <td>-0.033569</td>\n",
       "      <td>-0.018425</td>\n",
       "    </tr>\n",
       "    <tr>\n",
       "      <th>3</th>\n",
       "      <td>1.373303</td>\n",
       "      <td>-0.419501</td>\n",
       "      <td>1.172347</td>\n",
       "      <td>0.737128</td>\n",
       "      <td>-0.703401</td>\n",
       "      <td>1.403492</td>\n",
       "      <td>-0.705422</td>\n",
       "      <td>-0.988228</td>\n",
       "      <td>0.988228</td>\n",
       "      <td>-0.555212</td>\n",
       "      <td>-1.238767</td>\n",
       "      <td>-0.490718</td>\n",
       "      <td>-1.354395</td>\n",
       "      <td>-0.163683</td>\n",
       "      <td>-0.226045</td>\n",
       "      <td>0.845914</td>\n",
       "      <td>-0.286224</td>\n",
       "    </tr>\n",
       "    <tr>\n",
       "      <th>4</th>\n",
       "      <td>0.035649</td>\n",
       "      <td>-0.419501</td>\n",
       "      <td>1.172347</td>\n",
       "      <td>0.737128</td>\n",
       "      <td>-0.703401</td>\n",
       "      <td>1.403492</td>\n",
       "      <td>-0.705422</td>\n",
       "      <td>1.011912</td>\n",
       "      <td>-1.011912</td>\n",
       "      <td>1.796803</td>\n",
       "      <td>0.280740</td>\n",
       "      <td>2.036746</td>\n",
       "      <td>-1.354395</td>\n",
       "      <td>-0.053085</td>\n",
       "      <td>-1.253467</td>\n",
       "      <td>0.290039</td>\n",
       "      <td>0.911089</td>\n",
       "    </tr>\n",
       "  </tbody>\n",
       "</table>\n",
       "</div>"
      ],
      "text/plain": [
       "   income_level  overdraft_protection  credit_rating  own_your_home  \\\n",
       "0      0.035649             -0.419501       0.086405       0.737128   \n",
       "1     -1.452105             -0.419501       1.172347       0.737128   \n",
       "2      0.035649             -0.419501       0.086405      -1.356616   \n",
       "3      1.373303             -0.419501       1.172347       0.737128   \n",
       "4      0.035649             -0.419501       1.172347       0.737128   \n",
       "\n",
       "   reward_Air Miles  reward_Cash Back  reward_Points  mailer_type_Letter  \\\n",
       "0         -0.703401          1.403492      -0.705422           -0.988228   \n",
       "1         -0.703401          1.403492      -0.705422           -0.988228   \n",
       "2         -0.703401         -0.712508       1.417592            1.011912   \n",
       "3         -0.703401          1.403492      -0.705422           -0.988228   \n",
       "4         -0.703401          1.403492      -0.705422            1.011912   \n",
       "\n",
       "   mailer_type_Postcard  nr_of_bank_accounts_open  credit_cards_held  \\\n",
       "0              0.988228                 -0.555212           0.280740   \n",
       "1              0.988228                 -0.555212           1.300376   \n",
       "2             -1.011912                 -0.555212           0.280740   \n",
       "3              0.988228                 -0.555212          -1.238767   \n",
       "4             -1.011912                  1.796803           0.280740   \n",
       "\n",
       "   nr_of_homes_owned  household_size  average_balance  balance_q1  balance_q2  \\\n",
       "0           2.036746       -0.443052         0.490903   -0.132954   -0.011784   \n",
       "1          -0.490718        0.451005         0.188035   -0.382871    1.128433   \n",
       "2          -0.490718       -1.354395        -0.362829    0.107973   -0.033569   \n",
       "3          -0.490718       -1.354395        -0.163683   -0.226045    0.845914   \n",
       "4           2.036746       -1.354395        -0.053085   -1.253467    0.290039   \n",
       "\n",
       "   balance_q3  \n",
       "0    0.825790  \n",
       "1    0.338338  \n",
       "2   -0.018425  \n",
       "3   -0.286224  \n",
       "4    0.911089  "
      ]
     },
     "execution_count": 245,
     "metadata": {},
     "output_type": "execute_result"
    }
   ],
   "source": [
    "#Show the PowerTransformer test data\n",
    "X_pt_test_df.columns = X.columns\n",
    "X_pt_test_df.head()"
   ]
  },
  {
   "cell_type": "markdown",
   "metadata": {},
   "source": [
    "## Class ballancing"
   ]
  },
  {
   "cell_type": "code",
   "execution_count": 246,
   "metadata": {},
   "outputs": [],
   "source": [
    "def samplings(X, y, sampling):\n",
    "    from sklearn.preprocessing import StandardScaler\n",
    "    from imblearn.under_sampling import RandomUnderSampler\n",
    "    from imblearn.over_sampling import RandomOverSampler\n",
    "    from imblearn.under_sampling import TomekLinks\n",
    "\n",
    "    if sampling =='downsampling':\n",
    "        s = RandomUnderSampler()\n",
    "    elif sampling == 'upsampling':\n",
    "        s = RandomOverSampler()\n",
    "    elif  sampling == 'tomeklinks':\n",
    "        s = TomekLinks('majority')\n",
    "    #X_scaled = s.fit(X).transform(X)\n",
    "    X_s, y_s = s.fit_sample(X, y)\n",
    "    X_resampled = pd.DataFrame(X_s)\n",
    "    y_resampled = pd.DataFrame(y_s)\n",
    "    return X_resampled, y_resampled\n",
    "\n",
    "#_,second_counts = samplings(X,'downsampling')\n",
    "#second_counts.head()"
   ]
  },
  {
   "cell_type": "code",
   "execution_count": 247,
   "metadata": {},
   "outputs": [
    {
     "data": {
      "text/html": [
       "<div>\n",
       "<style scoped>\n",
       "    .dataframe tbody tr th:only-of-type {\n",
       "        vertical-align: middle;\n",
       "    }\n",
       "\n",
       "    .dataframe tbody tr th {\n",
       "        vertical-align: top;\n",
       "    }\n",
       "\n",
       "    .dataframe thead th {\n",
       "        text-align: right;\n",
       "    }\n",
       "</style>\n",
       "<table border=\"1\" class=\"dataframe\">\n",
       "  <thead>\n",
       "    <tr style=\"text-align: right;\">\n",
       "      <th></th>\n",
       "      <th>income_level</th>\n",
       "      <th>overdraft_protection</th>\n",
       "      <th>credit_rating</th>\n",
       "      <th>own_your_home</th>\n",
       "      <th>reward_Air Miles</th>\n",
       "      <th>reward_Cash Back</th>\n",
       "      <th>reward_Points</th>\n",
       "      <th>mailer_type_Letter</th>\n",
       "      <th>mailer_type_Postcard</th>\n",
       "      <th>nr_of_bank_accounts_open</th>\n",
       "      <th>credit_cards_held</th>\n",
       "      <th>nr_of_homes_owned</th>\n",
       "      <th>household_size</th>\n",
       "      <th>average_balance</th>\n",
       "      <th>balance_q1</th>\n",
       "      <th>balance_q2</th>\n",
       "      <th>balance_q3</th>\n",
       "    </tr>\n",
       "  </thead>\n",
       "  <tbody>\n",
       "    <tr>\n",
       "      <th>0</th>\n",
       "      <td>-0.001910</td>\n",
       "      <td>-0.419501</td>\n",
       "      <td>-0.003302</td>\n",
       "      <td>0.737128</td>\n",
       "      <td>1.421664</td>\n",
       "      <td>-0.712508</td>\n",
       "      <td>-0.705422</td>\n",
       "      <td>-0.988228</td>\n",
       "      <td>0.988228</td>\n",
       "      <td>-0.534791</td>\n",
       "      <td>0.124853</td>\n",
       "      <td>1.862057</td>\n",
       "      <td>-0.451753</td>\n",
       "      <td>0.464583</td>\n",
       "      <td>1.841462</td>\n",
       "      <td>0.024139</td>\n",
       "      <td>-0.442191</td>\n",
       "    </tr>\n",
       "    <tr>\n",
       "      <th>1</th>\n",
       "      <td>-1.415508</td>\n",
       "      <td>-0.419501</td>\n",
       "      <td>-1.225483</td>\n",
       "      <td>0.737128</td>\n",
       "      <td>1.421664</td>\n",
       "      <td>-0.712508</td>\n",
       "      <td>-0.705422</td>\n",
       "      <td>-0.988228</td>\n",
       "      <td>0.988228</td>\n",
       "      <td>-0.534791</td>\n",
       "      <td>-1.129962</td>\n",
       "      <td>-0.477694</td>\n",
       "      <td>-0.451753</td>\n",
       "      <td>0.961569</td>\n",
       "      <td>-0.593134</td>\n",
       "      <td>0.869015</td>\n",
       "      <td>0.341153</td>\n",
       "    </tr>\n",
       "    <tr>\n",
       "      <th>2</th>\n",
       "      <td>1.411689</td>\n",
       "      <td>-0.419501</td>\n",
       "      <td>-1.225483</td>\n",
       "      <td>0.737128</td>\n",
       "      <td>1.421664</td>\n",
       "      <td>-0.712508</td>\n",
       "      <td>-0.705422</td>\n",
       "      <td>-0.988228</td>\n",
       "      <td>0.988228</td>\n",
       "      <td>-0.534791</td>\n",
       "      <td>0.124853</td>\n",
       "      <td>-0.477694</td>\n",
       "      <td>0.444135</td>\n",
       "      <td>-1.913903</td>\n",
       "      <td>-0.704310</td>\n",
       "      <td>-2.124262</td>\n",
       "      <td>-1.531983</td>\n",
       "    </tr>\n",
       "    <tr>\n",
       "      <th>3</th>\n",
       "      <td>-0.001910</td>\n",
       "      <td>-0.419501</td>\n",
       "      <td>-1.225483</td>\n",
       "      <td>0.737128</td>\n",
       "      <td>-0.703401</td>\n",
       "      <td>-0.712508</td>\n",
       "      <td>1.417592</td>\n",
       "      <td>-0.988228</td>\n",
       "      <td>0.988228</td>\n",
       "      <td>-0.534791</td>\n",
       "      <td>1.379669</td>\n",
       "      <td>-0.477694</td>\n",
       "      <td>-0.451753</td>\n",
       "      <td>-1.980072</td>\n",
       "      <td>-1.213465</td>\n",
       "      <td>-1.182828</td>\n",
       "      <td>-1.722379</td>\n",
       "    </tr>\n",
       "    <tr>\n",
       "      <th>4</th>\n",
       "      <td>-0.001910</td>\n",
       "      <td>-0.419501</td>\n",
       "      <td>1.218878</td>\n",
       "      <td>0.737128</td>\n",
       "      <td>1.421664</td>\n",
       "      <td>-0.712508</td>\n",
       "      <td>-0.705422</td>\n",
       "      <td>-0.988228</td>\n",
       "      <td>0.988228</td>\n",
       "      <td>1.578011</td>\n",
       "      <td>0.124853</td>\n",
       "      <td>-0.477694</td>\n",
       "      <td>-0.451753</td>\n",
       "      <td>0.549452</td>\n",
       "      <td>1.541770</td>\n",
       "      <td>0.590316</td>\n",
       "      <td>-0.665227</td>\n",
       "    </tr>\n",
       "  </tbody>\n",
       "</table>\n",
       "</div>"
      ],
      "text/plain": [
       "   income_level  overdraft_protection  credit_rating  own_your_home  \\\n",
       "0     -0.001910             -0.419501      -0.003302       0.737128   \n",
       "1     -1.415508             -0.419501      -1.225483       0.737128   \n",
       "2      1.411689             -0.419501      -1.225483       0.737128   \n",
       "3     -0.001910             -0.419501      -1.225483       0.737128   \n",
       "4     -0.001910             -0.419501       1.218878       0.737128   \n",
       "\n",
       "   reward_Air Miles  reward_Cash Back  reward_Points  mailer_type_Letter  \\\n",
       "0          1.421664         -0.712508      -0.705422           -0.988228   \n",
       "1          1.421664         -0.712508      -0.705422           -0.988228   \n",
       "2          1.421664         -0.712508      -0.705422           -0.988228   \n",
       "3         -0.703401         -0.712508       1.417592           -0.988228   \n",
       "4          1.421664         -0.712508      -0.705422           -0.988228   \n",
       "\n",
       "   mailer_type_Postcard  nr_of_bank_accounts_open  credit_cards_held  \\\n",
       "0              0.988228                 -0.534791           0.124853   \n",
       "1              0.988228                 -0.534791          -1.129962   \n",
       "2              0.988228                 -0.534791           0.124853   \n",
       "3              0.988228                 -0.534791           1.379669   \n",
       "4              0.988228                  1.578011           0.124853   \n",
       "\n",
       "   nr_of_homes_owned  household_size  average_balance  balance_q1  balance_q2  \\\n",
       "0           1.862057       -0.451753         0.464583    1.841462    0.024139   \n",
       "1          -0.477694       -0.451753         0.961569   -0.593134    0.869015   \n",
       "2          -0.477694        0.444135        -1.913903   -0.704310   -2.124262   \n",
       "3          -0.477694       -0.451753        -1.980072   -1.213465   -1.182828   \n",
       "4          -0.477694       -0.451753         0.549452    1.541770    0.590316   \n",
       "\n",
       "   balance_q3  \n",
       "0   -0.442191  \n",
       "1    0.341153  \n",
       "2   -1.531983  \n",
       "3   -1.722379  \n",
       "4   -0.665227  "
      ]
     },
     "execution_count": 247,
     "metadata": {},
     "output_type": "execute_result"
    }
   ],
   "source": [
    "# Fit transform trainset with undersampling\n",
    "X_resampled_up, y_resampled_up = samplings(X_ss_train_df,y_train,'upsampling')\n",
    "X_resampled_up.head()"
   ]
  },
  {
   "cell_type": "code",
   "execution_count": 248,
   "metadata": {},
   "outputs": [
    {
     "data": {
      "text/html": [
       "<div>\n",
       "<style scoped>\n",
       "    .dataframe tbody tr th:only-of-type {\n",
       "        vertical-align: middle;\n",
       "    }\n",
       "\n",
       "    .dataframe tbody tr th {\n",
       "        vertical-align: top;\n",
       "    }\n",
       "\n",
       "    .dataframe thead th {\n",
       "        text-align: right;\n",
       "    }\n",
       "</style>\n",
       "<table border=\"1\" class=\"dataframe\">\n",
       "  <thead>\n",
       "    <tr style=\"text-align: right;\">\n",
       "      <th></th>\n",
       "      <th>income_level</th>\n",
       "      <th>overdraft_protection</th>\n",
       "      <th>credit_rating</th>\n",
       "      <th>own_your_home</th>\n",
       "      <th>reward_Air Miles</th>\n",
       "      <th>reward_Cash Back</th>\n",
       "      <th>reward_Points</th>\n",
       "      <th>mailer_type_Letter</th>\n",
       "      <th>mailer_type_Postcard</th>\n",
       "      <th>nr_of_bank_accounts_open</th>\n",
       "      <th>credit_cards_held</th>\n",
       "      <th>nr_of_homes_owned</th>\n",
       "      <th>household_size</th>\n",
       "      <th>average_balance</th>\n",
       "      <th>balance_q1</th>\n",
       "      <th>balance_q2</th>\n",
       "      <th>balance_q3</th>\n",
       "    </tr>\n",
       "  </thead>\n",
       "  <tbody>\n",
       "    <tr>\n",
       "      <th>0</th>\n",
       "      <td>-1.415508</td>\n",
       "      <td>-0.419501</td>\n",
       "      <td>1.218878</td>\n",
       "      <td>-1.356616</td>\n",
       "      <td>-0.703401</td>\n",
       "      <td>1.403492</td>\n",
       "      <td>-0.705422</td>\n",
       "      <td>1.011912</td>\n",
       "      <td>-1.011912</td>\n",
       "      <td>-0.534791</td>\n",
       "      <td>-1.129962</td>\n",
       "      <td>-0.477694</td>\n",
       "      <td>0.444135</td>\n",
       "      <td>-1.929726</td>\n",
       "      <td>-0.929885</td>\n",
       "      <td>-2.082567</td>\n",
       "      <td>-1.493904</td>\n",
       "    </tr>\n",
       "    <tr>\n",
       "      <th>1</th>\n",
       "      <td>-1.415508</td>\n",
       "      <td>-0.419501</td>\n",
       "      <td>-0.003302</td>\n",
       "      <td>-1.356616</td>\n",
       "      <td>-0.703401</td>\n",
       "      <td>-0.712508</td>\n",
       "      <td>1.417592</td>\n",
       "      <td>1.011912</td>\n",
       "      <td>-1.011912</td>\n",
       "      <td>1.578011</td>\n",
       "      <td>-1.129962</td>\n",
       "      <td>1.862057</td>\n",
       "      <td>-1.347640</td>\n",
       "      <td>0.728539</td>\n",
       "      <td>0.249549</td>\n",
       "      <td>1.439581</td>\n",
       "      <td>0.070972</td>\n",
       "    </tr>\n",
       "    <tr>\n",
       "      <th>2</th>\n",
       "      <td>1.411689</td>\n",
       "      <td>-0.419501</td>\n",
       "      <td>1.218878</td>\n",
       "      <td>-1.356616</td>\n",
       "      <td>1.421664</td>\n",
       "      <td>-0.712508</td>\n",
       "      <td>-0.705422</td>\n",
       "      <td>-0.988228</td>\n",
       "      <td>0.988228</td>\n",
       "      <td>-0.534791</td>\n",
       "      <td>-1.129962</td>\n",
       "      <td>1.862057</td>\n",
       "      <td>-0.451753</td>\n",
       "      <td>1.066576</td>\n",
       "      <td>1.669059</td>\n",
       "      <td>0.897544</td>\n",
       "      <td>0.598642</td>\n",
       "    </tr>\n",
       "    <tr>\n",
       "      <th>3</th>\n",
       "      <td>1.411689</td>\n",
       "      <td>-0.419501</td>\n",
       "      <td>1.218878</td>\n",
       "      <td>-1.356616</td>\n",
       "      <td>1.421664</td>\n",
       "      <td>-0.712508</td>\n",
       "      <td>-0.705422</td>\n",
       "      <td>1.011912</td>\n",
       "      <td>-1.011912</td>\n",
       "      <td>-0.534791</td>\n",
       "      <td>0.124853</td>\n",
       "      <td>-0.477694</td>\n",
       "      <td>0.444135</td>\n",
       "      <td>0.306353</td>\n",
       "      <td>1.583662</td>\n",
       "      <td>1.044574</td>\n",
       "      <td>-0.750452</td>\n",
       "    </tr>\n",
       "    <tr>\n",
       "      <th>4</th>\n",
       "      <td>-0.001910</td>\n",
       "      <td>-0.419501</td>\n",
       "      <td>-0.003302</td>\n",
       "      <td>0.737128</td>\n",
       "      <td>-0.703401</td>\n",
       "      <td>1.403492</td>\n",
       "      <td>-0.705422</td>\n",
       "      <td>1.011912</td>\n",
       "      <td>-1.011912</td>\n",
       "      <td>-0.534791</td>\n",
       "      <td>0.124853</td>\n",
       "      <td>1.862057</td>\n",
       "      <td>-0.451753</td>\n",
       "      <td>0.067569</td>\n",
       "      <td>-1.392313</td>\n",
       "      <td>0.937044</td>\n",
       "      <td>1.516170</td>\n",
       "    </tr>\n",
       "  </tbody>\n",
       "</table>\n",
       "</div>"
      ],
      "text/plain": [
       "   income_level  overdraft_protection  credit_rating  own_your_home  \\\n",
       "0     -1.415508             -0.419501       1.218878      -1.356616   \n",
       "1     -1.415508             -0.419501      -0.003302      -1.356616   \n",
       "2      1.411689             -0.419501       1.218878      -1.356616   \n",
       "3      1.411689             -0.419501       1.218878      -1.356616   \n",
       "4     -0.001910             -0.419501      -0.003302       0.737128   \n",
       "\n",
       "   reward_Air Miles  reward_Cash Back  reward_Points  mailer_type_Letter  \\\n",
       "0         -0.703401          1.403492      -0.705422            1.011912   \n",
       "1         -0.703401         -0.712508       1.417592            1.011912   \n",
       "2          1.421664         -0.712508      -0.705422           -0.988228   \n",
       "3          1.421664         -0.712508      -0.705422            1.011912   \n",
       "4         -0.703401          1.403492      -0.705422            1.011912   \n",
       "\n",
       "   mailer_type_Postcard  nr_of_bank_accounts_open  credit_cards_held  \\\n",
       "0             -1.011912                 -0.534791          -1.129962   \n",
       "1             -1.011912                  1.578011          -1.129962   \n",
       "2              0.988228                 -0.534791          -1.129962   \n",
       "3             -1.011912                 -0.534791           0.124853   \n",
       "4             -1.011912                 -0.534791           0.124853   \n",
       "\n",
       "   nr_of_homes_owned  household_size  average_balance  balance_q1  balance_q2  \\\n",
       "0          -0.477694        0.444135        -1.929726   -0.929885   -2.082567   \n",
       "1           1.862057       -1.347640         0.728539    0.249549    1.439581   \n",
       "2           1.862057       -0.451753         1.066576    1.669059    0.897544   \n",
       "3          -0.477694        0.444135         0.306353    1.583662    1.044574   \n",
       "4           1.862057       -0.451753         0.067569   -1.392313    0.937044   \n",
       "\n",
       "   balance_q3  \n",
       "0   -1.493904  \n",
       "1    0.070972  \n",
       "2    0.598642  \n",
       "3   -0.750452  \n",
       "4    1.516170  "
      ]
     },
     "execution_count": 248,
     "metadata": {},
     "output_type": "execute_result"
    }
   ],
   "source": [
    "# Fit transform trainset with downsampling\n",
    "X_resampled_down, y_resampled_down = samplings(X_ss_train_df,y_train,'downsampling')\n",
    "X_resampled_down.head()"
   ]
  },
  {
   "cell_type": "code",
   "execution_count": 249,
   "metadata": {},
   "outputs": [
    {
     "data": {
      "text/html": [
       "<div>\n",
       "<style scoped>\n",
       "    .dataframe tbody tr th:only-of-type {\n",
       "        vertical-align: middle;\n",
       "    }\n",
       "\n",
       "    .dataframe tbody tr th {\n",
       "        vertical-align: top;\n",
       "    }\n",
       "\n",
       "    .dataframe thead th {\n",
       "        text-align: right;\n",
       "    }\n",
       "</style>\n",
       "<table border=\"1\" class=\"dataframe\">\n",
       "  <thead>\n",
       "    <tr style=\"text-align: right;\">\n",
       "      <th></th>\n",
       "      <th>income_level</th>\n",
       "      <th>overdraft_protection</th>\n",
       "      <th>credit_rating</th>\n",
       "      <th>own_your_home</th>\n",
       "      <th>reward_Air Miles</th>\n",
       "      <th>reward_Cash Back</th>\n",
       "      <th>reward_Points</th>\n",
       "      <th>mailer_type_Letter</th>\n",
       "      <th>mailer_type_Postcard</th>\n",
       "      <th>nr_of_bank_accounts_open</th>\n",
       "      <th>credit_cards_held</th>\n",
       "      <th>nr_of_homes_owned</th>\n",
       "      <th>household_size</th>\n",
       "      <th>average_balance</th>\n",
       "      <th>balance_q1</th>\n",
       "      <th>balance_q2</th>\n",
       "      <th>balance_q3</th>\n",
       "    </tr>\n",
       "  </thead>\n",
       "  <tbody>\n",
       "    <tr>\n",
       "      <th>0</th>\n",
       "      <td>0.000712</td>\n",
       "      <td>0.0</td>\n",
       "      <td>0.001425</td>\n",
       "      <td>0.000712</td>\n",
       "      <td>0.00000</td>\n",
       "      <td>0.000712</td>\n",
       "      <td>0.000000</td>\n",
       "      <td>0.000712</td>\n",
       "      <td>0.000000</td>\n",
       "      <td>0.001425</td>\n",
       "      <td>0.001425</td>\n",
       "      <td>0.000712</td>\n",
       "      <td>0.003561</td>\n",
       "      <td>0.465814</td>\n",
       "      <td>0.647439</td>\n",
       "      <td>0.383193</td>\n",
       "      <td>0.465814</td>\n",
       "    </tr>\n",
       "    <tr>\n",
       "      <th>1</th>\n",
       "      <td>0.000878</td>\n",
       "      <td>0.0</td>\n",
       "      <td>0.000000</td>\n",
       "      <td>0.000439</td>\n",
       "      <td>0.00000</td>\n",
       "      <td>0.000439</td>\n",
       "      <td>0.000000</td>\n",
       "      <td>0.000000</td>\n",
       "      <td>0.000439</td>\n",
       "      <td>0.000439</td>\n",
       "      <td>0.000878</td>\n",
       "      <td>0.000439</td>\n",
       "      <td>0.000878</td>\n",
       "      <td>0.435373</td>\n",
       "      <td>0.357690</td>\n",
       "      <td>0.374368</td>\n",
       "      <td>0.736447</td>\n",
       "    </tr>\n",
       "    <tr>\n",
       "      <th>2</th>\n",
       "      <td>0.000380</td>\n",
       "      <td>0.0</td>\n",
       "      <td>0.000380</td>\n",
       "      <td>0.000000</td>\n",
       "      <td>0.00038</td>\n",
       "      <td>0.000000</td>\n",
       "      <td>0.000000</td>\n",
       "      <td>0.000000</td>\n",
       "      <td>0.000380</td>\n",
       "      <td>0.000759</td>\n",
       "      <td>0.000759</td>\n",
       "      <td>0.000380</td>\n",
       "      <td>0.001898</td>\n",
       "      <td>0.408407</td>\n",
       "      <td>0.739383</td>\n",
       "      <td>0.452815</td>\n",
       "      <td>0.285429</td>\n",
       "    </tr>\n",
       "    <tr>\n",
       "      <th>3</th>\n",
       "      <td>0.000818</td>\n",
       "      <td>0.0</td>\n",
       "      <td>0.000818</td>\n",
       "      <td>0.000409</td>\n",
       "      <td>0.00000</td>\n",
       "      <td>0.000000</td>\n",
       "      <td>0.000409</td>\n",
       "      <td>0.000000</td>\n",
       "      <td>0.000409</td>\n",
       "      <td>0.000409</td>\n",
       "      <td>0.000818</td>\n",
       "      <td>0.000409</td>\n",
       "      <td>0.002454</td>\n",
       "      <td>0.380311</td>\n",
       "      <td>0.792324</td>\n",
       "      <td>0.411501</td>\n",
       "      <td>0.241338</td>\n",
       "    </tr>\n",
       "    <tr>\n",
       "      <th>4</th>\n",
       "      <td>0.000544</td>\n",
       "      <td>0.0</td>\n",
       "      <td>0.000000</td>\n",
       "      <td>0.000544</td>\n",
       "      <td>0.00000</td>\n",
       "      <td>0.000000</td>\n",
       "      <td>0.000544</td>\n",
       "      <td>0.000544</td>\n",
       "      <td>0.000000</td>\n",
       "      <td>0.000544</td>\n",
       "      <td>0.001087</td>\n",
       "      <td>0.000544</td>\n",
       "      <td>0.002175</td>\n",
       "      <td>0.500757</td>\n",
       "      <td>0.226184</td>\n",
       "      <td>0.328401</td>\n",
       "      <td>0.768263</td>\n",
       "    </tr>\n",
       "  </tbody>\n",
       "</table>\n",
       "</div>"
      ],
      "text/plain": [
       "   income_level  overdraft_protection  credit_rating  own_your_home  \\\n",
       "0      0.000712                   0.0       0.001425       0.000712   \n",
       "1      0.000878                   0.0       0.000000       0.000439   \n",
       "2      0.000380                   0.0       0.000380       0.000000   \n",
       "3      0.000818                   0.0       0.000818       0.000409   \n",
       "4      0.000544                   0.0       0.000000       0.000544   \n",
       "\n",
       "   reward_Air Miles  reward_Cash Back  reward_Points  mailer_type_Letter  \\\n",
       "0           0.00000          0.000712       0.000000            0.000712   \n",
       "1           0.00000          0.000439       0.000000            0.000000   \n",
       "2           0.00038          0.000000       0.000000            0.000000   \n",
       "3           0.00000          0.000000       0.000409            0.000000   \n",
       "4           0.00000          0.000000       0.000544            0.000544   \n",
       "\n",
       "   mailer_type_Postcard  nr_of_bank_accounts_open  credit_cards_held  \\\n",
       "0              0.000000                  0.001425           0.001425   \n",
       "1              0.000439                  0.000439           0.000878   \n",
       "2              0.000380                  0.000759           0.000759   \n",
       "3              0.000409                  0.000409           0.000818   \n",
       "4              0.000000                  0.000544           0.001087   \n",
       "\n",
       "   nr_of_homes_owned  household_size  average_balance  balance_q1  balance_q2  \\\n",
       "0           0.000712        0.003561         0.465814    0.647439    0.383193   \n",
       "1           0.000439        0.000878         0.435373    0.357690    0.374368   \n",
       "2           0.000380        0.001898         0.408407    0.739383    0.452815   \n",
       "3           0.000409        0.002454         0.380311    0.792324    0.411501   \n",
       "4           0.000544        0.002175         0.500757    0.226184    0.328401   \n",
       "\n",
       "   balance_q3  \n",
       "0    0.465814  \n",
       "1    0.736447  \n",
       "2    0.285429  \n",
       "3    0.241338  \n",
       "4    0.768263  "
      ]
     },
     "execution_count": 249,
     "metadata": {},
     "output_type": "execute_result"
    }
   ],
   "source": [
    "# Fit transform trainset with downsampling\n",
    "X_resampled_down_norm, y_resampled_down_norm = samplings(X_norm_train_df,y_train,'downsampling')\n",
    "X_resampled_down_norm.head()"
   ]
  },
  {
   "cell_type": "code",
   "execution_count": 250,
   "metadata": {},
   "outputs": [
    {
     "data": {
      "text/html": [
       "<div>\n",
       "<style scoped>\n",
       "    .dataframe tbody tr th:only-of-type {\n",
       "        vertical-align: middle;\n",
       "    }\n",
       "\n",
       "    .dataframe tbody tr th {\n",
       "        vertical-align: top;\n",
       "    }\n",
       "\n",
       "    .dataframe thead th {\n",
       "        text-align: right;\n",
       "    }\n",
       "</style>\n",
       "<table border=\"1\" class=\"dataframe\">\n",
       "  <thead>\n",
       "    <tr style=\"text-align: right;\">\n",
       "      <th></th>\n",
       "      <th>income_level</th>\n",
       "      <th>overdraft_protection</th>\n",
       "      <th>credit_rating</th>\n",
       "      <th>own_your_home</th>\n",
       "      <th>reward_Air Miles</th>\n",
       "      <th>reward_Cash Back</th>\n",
       "      <th>reward_Points</th>\n",
       "      <th>mailer_type_Letter</th>\n",
       "      <th>mailer_type_Postcard</th>\n",
       "      <th>nr_of_bank_accounts_open</th>\n",
       "      <th>credit_cards_held</th>\n",
       "      <th>nr_of_homes_owned</th>\n",
       "      <th>household_size</th>\n",
       "      <th>average_balance</th>\n",
       "      <th>balance_q1</th>\n",
       "      <th>balance_q2</th>\n",
       "      <th>balance_q3</th>\n",
       "    </tr>\n",
       "  </thead>\n",
       "  <tbody>\n",
       "    <tr>\n",
       "      <th>0</th>\n",
       "      <td>0.035649</td>\n",
       "      <td>-0.419501</td>\n",
       "      <td>-1.267512</td>\n",
       "      <td>0.737128</td>\n",
       "      <td>1.421664</td>\n",
       "      <td>-0.712508</td>\n",
       "      <td>-0.705422</td>\n",
       "      <td>-0.988228</td>\n",
       "      <td>0.988228</td>\n",
       "      <td>-0.555212</td>\n",
       "      <td>-1.238767</td>\n",
       "      <td>2.036746</td>\n",
       "      <td>-0.443052</td>\n",
       "      <td>0.519172</td>\n",
       "      <td>1.450323</td>\n",
       "      <td>0.264052</td>\n",
       "      <td>-0.463279</td>\n",
       "    </tr>\n",
       "    <tr>\n",
       "      <th>1</th>\n",
       "      <td>1.373303</td>\n",
       "      <td>-0.419501</td>\n",
       "      <td>-1.267512</td>\n",
       "      <td>0.737128</td>\n",
       "      <td>1.421664</td>\n",
       "      <td>-0.712508</td>\n",
       "      <td>-0.705422</td>\n",
       "      <td>1.011912</td>\n",
       "      <td>-1.011912</td>\n",
       "      <td>-0.555212</td>\n",
       "      <td>-1.238767</td>\n",
       "      <td>-0.490718</td>\n",
       "      <td>-1.354395</td>\n",
       "      <td>-1.794758</td>\n",
       "      <td>-1.385837</td>\n",
       "      <td>-1.224577</td>\n",
       "      <td>-2.103339</td>\n",
       "    </tr>\n",
       "    <tr>\n",
       "      <th>2</th>\n",
       "      <td>0.035649</td>\n",
       "      <td>-0.419501</td>\n",
       "      <td>0.086405</td>\n",
       "      <td>-1.356616</td>\n",
       "      <td>-0.703401</td>\n",
       "      <td>1.403492</td>\n",
       "      <td>-0.705422</td>\n",
       "      <td>1.011912</td>\n",
       "      <td>-1.011912</td>\n",
       "      <td>-0.555212</td>\n",
       "      <td>0.280740</td>\n",
       "      <td>-0.490718</td>\n",
       "      <td>2.200940</td>\n",
       "      <td>0.574306</td>\n",
       "      <td>0.816120</td>\n",
       "      <td>1.228752</td>\n",
       "      <td>-0.363478</td>\n",
       "    </tr>\n",
       "    <tr>\n",
       "      <th>3</th>\n",
       "      <td>1.373303</td>\n",
       "      <td>-0.419501</td>\n",
       "      <td>-1.267512</td>\n",
       "      <td>0.737128</td>\n",
       "      <td>-0.703401</td>\n",
       "      <td>1.403492</td>\n",
       "      <td>-0.705422</td>\n",
       "      <td>-0.988228</td>\n",
       "      <td>0.988228</td>\n",
       "      <td>1.796803</td>\n",
       "      <td>0.280740</td>\n",
       "      <td>-0.490718</td>\n",
       "      <td>0.451005</td>\n",
       "      <td>0.814147</td>\n",
       "      <td>0.061635</td>\n",
       "      <td>1.497025</td>\n",
       "      <td>0.331638</td>\n",
       "    </tr>\n",
       "    <tr>\n",
       "      <th>4</th>\n",
       "      <td>1.373303</td>\n",
       "      <td>-0.419501</td>\n",
       "      <td>1.172347</td>\n",
       "      <td>0.737128</td>\n",
       "      <td>1.421664</td>\n",
       "      <td>-0.712508</td>\n",
       "      <td>-0.705422</td>\n",
       "      <td>-0.988228</td>\n",
       "      <td>0.988228</td>\n",
       "      <td>1.796803</td>\n",
       "      <td>0.280740</td>\n",
       "      <td>-0.490718</td>\n",
       "      <td>-0.443052</td>\n",
       "      <td>-0.432907</td>\n",
       "      <td>0.229083</td>\n",
       "      <td>-0.814515</td>\n",
       "      <td>-0.193597</td>\n",
       "    </tr>\n",
       "  </tbody>\n",
       "</table>\n",
       "</div>"
      ],
      "text/plain": [
       "   income_level  overdraft_protection  credit_rating  own_your_home  \\\n",
       "0      0.035649             -0.419501      -1.267512       0.737128   \n",
       "1      1.373303             -0.419501      -1.267512       0.737128   \n",
       "2      0.035649             -0.419501       0.086405      -1.356616   \n",
       "3      1.373303             -0.419501      -1.267512       0.737128   \n",
       "4      1.373303             -0.419501       1.172347       0.737128   \n",
       "\n",
       "   reward_Air Miles  reward_Cash Back  reward_Points  mailer_type_Letter  \\\n",
       "0          1.421664         -0.712508      -0.705422           -0.988228   \n",
       "1          1.421664         -0.712508      -0.705422            1.011912   \n",
       "2         -0.703401          1.403492      -0.705422            1.011912   \n",
       "3         -0.703401          1.403492      -0.705422           -0.988228   \n",
       "4          1.421664         -0.712508      -0.705422           -0.988228   \n",
       "\n",
       "   mailer_type_Postcard  nr_of_bank_accounts_open  credit_cards_held  \\\n",
       "0              0.988228                 -0.555212          -1.238767   \n",
       "1             -1.011912                 -0.555212          -1.238767   \n",
       "2             -1.011912                 -0.555212           0.280740   \n",
       "3              0.988228                  1.796803           0.280740   \n",
       "4              0.988228                  1.796803           0.280740   \n",
       "\n",
       "   nr_of_homes_owned  household_size  average_balance  balance_q1  balance_q2  \\\n",
       "0           2.036746       -0.443052         0.519172    1.450323    0.264052   \n",
       "1          -0.490718       -1.354395        -1.794758   -1.385837   -1.224577   \n",
       "2          -0.490718        2.200940         0.574306    0.816120    1.228752   \n",
       "3          -0.490718        0.451005         0.814147    0.061635    1.497025   \n",
       "4          -0.490718       -0.443052        -0.432907    0.229083   -0.814515   \n",
       "\n",
       "   balance_q3  \n",
       "0   -0.463279  \n",
       "1   -2.103339  \n",
       "2   -0.363478  \n",
       "3    0.331638  \n",
       "4   -0.193597  "
      ]
     },
     "execution_count": 250,
     "metadata": {},
     "output_type": "execute_result"
    }
   ],
   "source": [
    "X_resampled_down_pt, y_resampled_down_pt = samplings(X_pt_train_df,y_train,'downsampling')\n",
    "X_resampled_down_pt.head()"
   ]
  },
  {
   "cell_type": "code",
   "execution_count": 251,
   "metadata": {},
   "outputs": [
    {
     "data": {
      "text/html": [
       "<div>\n",
       "<style scoped>\n",
       "    .dataframe tbody tr th:only-of-type {\n",
       "        vertical-align: middle;\n",
       "    }\n",
       "\n",
       "    .dataframe tbody tr th {\n",
       "        vertical-align: top;\n",
       "    }\n",
       "\n",
       "    .dataframe thead th {\n",
       "        text-align: right;\n",
       "    }\n",
       "</style>\n",
       "<table border=\"1\" class=\"dataframe\">\n",
       "  <thead>\n",
       "    <tr style=\"text-align: right;\">\n",
       "      <th></th>\n",
       "      <th>income_level</th>\n",
       "      <th>overdraft_protection</th>\n",
       "      <th>credit_rating</th>\n",
       "      <th>own_your_home</th>\n",
       "      <th>reward_Air Miles</th>\n",
       "      <th>reward_Cash Back</th>\n",
       "      <th>reward_Points</th>\n",
       "      <th>mailer_type_Letter</th>\n",
       "      <th>mailer_type_Postcard</th>\n",
       "      <th>nr_of_bank_accounts_open</th>\n",
       "      <th>credit_cards_held</th>\n",
       "      <th>nr_of_homes_owned</th>\n",
       "      <th>household_size</th>\n",
       "      <th>average_balance</th>\n",
       "      <th>balance_q1</th>\n",
       "      <th>balance_q2</th>\n",
       "      <th>balance_q3</th>\n",
       "    </tr>\n",
       "  </thead>\n",
       "  <tbody>\n",
       "    <tr>\n",
       "      <th>0</th>\n",
       "      <td>0.5</td>\n",
       "      <td>0.0</td>\n",
       "      <td>0.5</td>\n",
       "      <td>1.0</td>\n",
       "      <td>0.0</td>\n",
       "      <td>0.0</td>\n",
       "      <td>1.0</td>\n",
       "      <td>1.0</td>\n",
       "      <td>0.0</td>\n",
       "      <td>0.0</td>\n",
       "      <td>0.333333</td>\n",
       "      <td>0.0</td>\n",
       "      <td>0.285714</td>\n",
       "      <td>0.069997</td>\n",
       "      <td>0.053913</td>\n",
       "      <td>0.149969</td>\n",
       "      <td>0.064609</td>\n",
       "    </tr>\n",
       "    <tr>\n",
       "      <th>1</th>\n",
       "      <td>0.5</td>\n",
       "      <td>0.0</td>\n",
       "      <td>0.0</td>\n",
       "      <td>1.0</td>\n",
       "      <td>1.0</td>\n",
       "      <td>0.0</td>\n",
       "      <td>0.0</td>\n",
       "      <td>0.0</td>\n",
       "      <td>1.0</td>\n",
       "      <td>0.0</td>\n",
       "      <td>0.000000</td>\n",
       "      <td>0.5</td>\n",
       "      <td>0.285714</td>\n",
       "      <td>0.265145</td>\n",
       "      <td>0.119710</td>\n",
       "      <td>0.141879</td>\n",
       "      <td>0.572849</td>\n",
       "    </tr>\n",
       "    <tr>\n",
       "      <th>2</th>\n",
       "      <td>0.0</td>\n",
       "      <td>0.0</td>\n",
       "      <td>1.0</td>\n",
       "      <td>0.0</td>\n",
       "      <td>0.0</td>\n",
       "      <td>0.0</td>\n",
       "      <td>1.0</td>\n",
       "      <td>1.0</td>\n",
       "      <td>0.0</td>\n",
       "      <td>0.5</td>\n",
       "      <td>0.000000</td>\n",
       "      <td>0.0</td>\n",
       "      <td>0.285714</td>\n",
       "      <td>0.192963</td>\n",
       "      <td>0.174493</td>\n",
       "      <td>0.213441</td>\n",
       "      <td>0.170808</td>\n",
       "    </tr>\n",
       "    <tr>\n",
       "      <th>3</th>\n",
       "      <td>1.0</td>\n",
       "      <td>0.0</td>\n",
       "      <td>1.0</td>\n",
       "      <td>1.0</td>\n",
       "      <td>0.0</td>\n",
       "      <td>1.0</td>\n",
       "      <td>0.0</td>\n",
       "      <td>0.0</td>\n",
       "      <td>1.0</td>\n",
       "      <td>0.0</td>\n",
       "      <td>0.000000</td>\n",
       "      <td>0.0</td>\n",
       "      <td>0.285714</td>\n",
       "      <td>0.213231</td>\n",
       "      <td>0.219130</td>\n",
       "      <td>0.286870</td>\n",
       "      <td>0.157730</td>\n",
       "    </tr>\n",
       "    <tr>\n",
       "      <th>4</th>\n",
       "      <td>0.0</td>\n",
       "      <td>0.0</td>\n",
       "      <td>0.5</td>\n",
       "      <td>1.0</td>\n",
       "      <td>0.0</td>\n",
       "      <td>1.0</td>\n",
       "      <td>0.0</td>\n",
       "      <td>1.0</td>\n",
       "      <td>0.0</td>\n",
       "      <td>0.0</td>\n",
       "      <td>0.333333</td>\n",
       "      <td>0.5</td>\n",
       "      <td>0.285714</td>\n",
       "      <td>0.334991</td>\n",
       "      <td>0.117681</td>\n",
       "      <td>0.456441</td>\n",
       "      <td>0.277792</td>\n",
       "    </tr>\n",
       "  </tbody>\n",
       "</table>\n",
       "</div>"
      ],
      "text/plain": [
       "   income_level  overdraft_protection  credit_rating  own_your_home  \\\n",
       "0           0.5                   0.0            0.5            1.0   \n",
       "1           0.5                   0.0            0.0            1.0   \n",
       "2           0.0                   0.0            1.0            0.0   \n",
       "3           1.0                   0.0            1.0            1.0   \n",
       "4           0.0                   0.0            0.5            1.0   \n",
       "\n",
       "   reward_Air Miles  reward_Cash Back  reward_Points  mailer_type_Letter  \\\n",
       "0               0.0               0.0            1.0                 1.0   \n",
       "1               1.0               0.0            0.0                 0.0   \n",
       "2               0.0               0.0            1.0                 1.0   \n",
       "3               0.0               1.0            0.0                 0.0   \n",
       "4               0.0               1.0            0.0                 1.0   \n",
       "\n",
       "   mailer_type_Postcard  nr_of_bank_accounts_open  credit_cards_held  \\\n",
       "0                   0.0                       0.0           0.333333   \n",
       "1                   1.0                       0.0           0.000000   \n",
       "2                   0.0                       0.5           0.000000   \n",
       "3                   1.0                       0.0           0.000000   \n",
       "4                   0.0                       0.0           0.333333   \n",
       "\n",
       "   nr_of_homes_owned  household_size  average_balance  balance_q1  balance_q2  \\\n",
       "0                0.0        0.285714         0.069997    0.053913    0.149969   \n",
       "1                0.5        0.285714         0.265145    0.119710    0.141879   \n",
       "2                0.0        0.285714         0.192963    0.174493    0.213441   \n",
       "3                0.0        0.285714         0.213231    0.219130    0.286870   \n",
       "4                0.5        0.285714         0.334991    0.117681    0.456441   \n",
       "\n",
       "   balance_q3  \n",
       "0    0.064609  \n",
       "1    0.572849  \n",
       "2    0.170808  \n",
       "3    0.157730  \n",
       "4    0.277792  "
      ]
     },
     "execution_count": 251,
     "metadata": {},
     "output_type": "execute_result"
    }
   ],
   "source": [
    "X_resampled_down_mm, y_resampled_down_mm = samplings(X_mm_train_df,y_train,'downsampling')\n",
    "X_resampled_down_mm.head()"
   ]
  },
  {
   "cell_type": "code",
   "execution_count": 252,
   "metadata": {},
   "outputs": [
    {
     "ename": "TypeError",
     "evalue": "samplings() missing 1 required positional argument: 'sampling'",
     "output_type": "error",
     "traceback": [
      "\u001b[1;31m---------------------------------------------------------------------------\u001b[0m",
      "\u001b[1;31mTypeError\u001b[0m                                 Traceback (most recent call last)",
      "\u001b[1;32m<ipython-input-252-00e4d6172880>\u001b[0m in \u001b[0;36m<module>\u001b[1;34m\u001b[0m\n\u001b[0;32m      1\u001b[0m \u001b[1;31m# Fit transform trainset with tomeklinks\u001b[0m\u001b[1;33m\u001b[0m\u001b[1;33m\u001b[0m\u001b[1;33m\u001b[0m\u001b[0m\n\u001b[1;32m----> 2\u001b[1;33m \u001b[0msamplings\u001b[0m\u001b[1;33m(\u001b[0m\u001b[0mX_ss_train_df\u001b[0m\u001b[1;33m,\u001b[0m\u001b[1;34m'tomeklinks'\u001b[0m\u001b[1;33m)\u001b[0m\u001b[1;33m\u001b[0m\u001b[1;33m\u001b[0m\u001b[0m\n\u001b[0m",
      "\u001b[1;31mTypeError\u001b[0m: samplings() missing 1 required positional argument: 'sampling'"
     ]
    }
   ],
   "source": [
    "# Fit transform trainset with tomeklinks\n",
    "samplings(X_ss_train_df,'tomeklinks')"
   ]
  },
  {
   "cell_type": "markdown",
   "metadata": {},
   "source": [
    "## Predict model"
   ]
  },
  {
   "cell_type": "code",
   "execution_count": 253,
   "metadata": {},
   "outputs": [
    {
     "name": "stdout",
     "output_type": "stream",
     "text": [
      "The accuracy of the model is:  0.67\n",
      "The kappa of the model is:  0.38\n"
     ]
    }
   ],
   "source": [
    "from sklearn.linear_model import LogisticRegression\n",
    "from sklearn.metrics import cohen_kappa_score\n",
    "# Fit and predict trainset\n",
    "classification = LogisticRegression(random_state=0, solver='lbfgs',\n",
    "                        multi_class='ovr').fit(X_resampled_up, y_resampled_up)\n",
    "                        \n",
    "print(\"The accuracy of the model is: \",round(classification.score(X_ss_test_df, y_test),2))\n",
    "print(\"The kappa of the model is: \",round(cohen_kappa_score(y_resampled_up,classification.predict(X_resampled_up)),2))"
   ]
  },
  {
   "cell_type": "markdown",
   "metadata": {},
   "source": [
    "### Confusion matrix"
   ]
  },
  {
   "cell_type": "code",
   "execution_count": 254,
   "metadata": {},
   "outputs": [
    {
     "data": {
      "text/plain": [
       "array([[3389, 1690],\n",
       "       [  81,  233]], dtype=int64)"
      ]
     },
     "execution_count": 254,
     "metadata": {},
     "output_type": "execute_result"
    }
   ],
   "source": [
    "from sklearn.metrics import confusion_matrix, plot_confusion_matrix\n",
    "confusion_matrix(y_test, classification.predict(X_ss_test_df))"
   ]
  },
  {
   "cell_type": "code",
   "execution_count": 255,
   "metadata": {},
   "outputs": [
    {
     "data": {
      "text/plain": [
       "<sklearn.metrics._plot.confusion_matrix.ConfusionMatrixDisplay at 0x2bf50d26d30>"
      ]
     },
     "execution_count": 255,
     "metadata": {},
     "output_type": "execute_result"
    },
    {
     "data": {
      "image/png": "[encoded data removed]",
      "text/plain": [
       "<Figure size 432x288 with 2 Axes>"
      ]
     },
     "metadata": {
      "needs_background": "light"
     },
     "output_type": "display_data"
    }
   ],
   "source": [
    "plot_confusion_matrix(classification, X_ss_test_df, y_test)"
   ]
  },
  {
   "cell_type": "markdown",
   "metadata": {},
   "source": [
    "### ROC curves and AUC\n",
    "The function takes both the true outcomes (0,1) from the test set and the predicted probabilities for the 1 class. The function returns the false positive rates for each threshold, true positive rates for each threshold and thresholds.\n",
    "\n",
    "ROC curves should be used when there are roughly equal numbers of observations for each class."
   ]
  },
  {
   "cell_type": "code",
   "execution_count": 257,
   "metadata": {},
   "outputs": [
    {
     "name": "stdout",
     "output_type": "stream",
     "text": [
      "No Skill: ROC AUC=0.500\n",
      "Logistic: ROC AUC=0.776\n"
     ]
    },
    {
     "data": {
      "image/png": "[encoded data removed]",
      "text/plain": [
       "<Figure size 432x288 with 1 Axes>"
      ]
     },
     "metadata": {
      "needs_background": "light"
     },
     "output_type": "display_data"
    }
   ],
   "source": [
    "from sklearn.metrics import roc_curve\n",
    "from sklearn.metrics import roc_auc_score\n",
    "from matplotlib import pyplot\n",
    "# generate a no skill prediction (majority class)\n",
    "ns_probs = [0 for _ in range(len(y_test))]\n",
    "# predict probabilities\n",
    "lr_probs = classification.predict_proba(X_ss_test_df)\n",
    "# keep probabilities for the positive outcome only\n",
    "lr_probs = lr_probs[:, 1]\n",
    "# calculate scores\n",
    "ns_auc = roc_auc_score(y_test, ns_probs)\n",
    "lr_auc = roc_auc_score(y_test, lr_probs)\n",
    "# summarize scores\n",
    "print('No Skill: ROC AUC=%.3f' % (ns_auc))\n",
    "print('Logistic: ROC AUC=%.3f' % (lr_auc))\n",
    "# calculate roc curves\n",
    "ns_fpr, ns_tpr, _ = roc_curve(y_test, ns_probs)\n",
    "lr_fpr, lr_tpr, _ = roc_curve(y_test, lr_probs)\n",
    "# plot the roc curve for the model\n",
    "pyplot.plot(ns_fpr, ns_tpr, linestyle='--', label='No Skill')\n",
    "pyplot.plot(lr_fpr, lr_tpr, marker='.', label='Logistic')\n",
    "# axis labels\n",
    "pyplot.xlabel('False Positive Rate')\n",
    "pyplot.ylabel('True Positive Rate')\n",
    "# show the legend\n",
    "pyplot.legend()\n",
    "# show the plot\n",
    "pyplot.show()"
   ]
  },
  {
   "cell_type": "markdown",
   "metadata": {},
   "source": [
    "### Precision-Recall curves\n",
    "The precision and recall can be calculated for thresholds that takes the true output values and the probabilities for the positive class as input and returns the precision, recall and threshold values.\n",
    "\n",
    "Precision-Recall curves should be used when there is a moderate to large class imbalance."
   ]
  },
  {
   "cell_type": "code",
   "execution_count": 260,
   "metadata": {},
   "outputs": [
    {
     "name": "stdout",
     "output_type": "stream",
     "text": [
      "Logistic: f1=0.208 auc=0.173\n"
     ]
    },
    {
     "data": {
      "image/png": "[encoded data removed]",
      "text/plain": [
       "<Figure size 432x288 with 1 Axes>"
      ]
     },
     "metadata": {
      "needs_background": "light"
     },
     "output_type": "display_data"
    }
   ],
   "source": [
    "# calculate precision-recall curve\n",
    "#precision, recall, thresholds = precision_recall_curve(y_test, probs)\n",
    "# calculate F1 score\n",
    "#f1 = f1_score(y_test, yhat)\n",
    "# calculate precision-recall AUC\n",
    "\n",
    "from sklearn.metrics import precision_recall_curve\n",
    "from sklearn.metrics import f1_score\n",
    "from sklearn.metrics import auc\n",
    "#auc = auc(recall, precision)\n",
    "# predict class values\n",
    "yhat = classification.predict(X_ss_test_df)\n",
    "lr_precision, lr_recall, _ = precision_recall_curve(y_test, lr_probs)\n",
    "lr_f1, lr_auc = f1_score(y_test, yhat), auc(lr_recall, lr_precision)\n",
    "# summarize scores\n",
    "print('Logistic: f1=%.3f auc=%.3f' % (lr_f1, lr_auc))\n",
    "# plot the precision-recall curves\n",
    "no_skill = len(y_test[y_test==1]) / len(y_test)\n",
    "pyplot.plot([0, 1], [no_skill, no_skill], linestyle='--', label='No Skill')\n",
    "pyplot.plot(lr_recall, lr_precision, marker='.', label='Logistic')\n",
    "# axis labels\n",
    "pyplot.xlabel('Recall')\n",
    "pyplot.ylabel('Precision')\n",
    "# show the legend\n",
    "pyplot.legend()\n",
    "# show the plot\n",
    "pyplot.show()"
   ]
  },
  {
   "cell_type": "code",
   "execution_count": 100,
   "metadata": {},
   "outputs": [
    {
     "name": "stdout",
     "output_type": "stream",
     "text": [
      "The accuracy of the model in the TEST set is:  0.67\n",
      "The kappa of the model is:  0.3829572246547659\n"
     ]
    }
   ],
   "source": [
    "classification = LogisticRegression(random_state=0, solver='lbfgs',multi_class='ovr').fit(X_resampled_up, y_resampled_up)\n",
    "        \n",
    "print(\"The accuracy of the model in the TEST set is: \", round(classification.score(X_ss_test_df, y_test),2))\n",
    "print(\"The kappa of the model is: \", cohen_kappa_score(y_resampled_up,classification.predict(X_resampled_up)))"
   ]
  },
  {
   "cell_type": "code",
   "execution_count": null,
   "metadata": {},
   "outputs": [],
   "source": [
    "classification = LogisticRegression(random_state=0, solver='lbfgs',multi_class='ovr').fit(X_resampled_down, y_resampled_down)\n",
    "        \n",
    "print(\"The accuracy of the model in the TEST set is: \", round(classification.score(X_ss_test_df, y_test),2))\n",
    "print(\"The kappa of the model is: \", cohen_kappa_score(y_resampled_down,classification.predict(X_resampled_down)))"
   ]
  },
  {
   "cell_type": "code",
   "execution_count": null,
   "metadata": {},
   "outputs": [],
   "source": [
    "classification = LogisticRegression(random_state=0, solver='lbfgs',multi_class='ovr').fit(X_resampled_down_norm, y_resampled_down_norm)\n",
    "        \n",
    "print(\"The accuracy of the model in the TEST set is: \", round(classification.score(X_norm_test_df, y_test),2))\n",
    "print(\"The kappa of the model is: \", cohen_kappa_score(y_resampled_down_norm,classification.predict(X_resampled_down_norm)))"
   ]
  },
  {
   "cell_type": "code",
   "execution_count": null,
   "metadata": {},
   "outputs": [],
   "source": [
    "classification = LogisticRegression(random_state=0, solver='lbfgs',multi_class='ovr').fit(X_resampled_down_pt, y_resampled_down_pt)\n",
    "        \n",
    "print(\"The accuracy of the model in the TEST set is: \", round(classification.score(X_pt_test_df, y_test),2))\n",
    "print(\"The kappa of the model is: \", cohen_kappa_score(y_resampled_down_pt,classification.predict(X_resampled_down_pt)))"
   ]
  },
  {
   "cell_type": "code",
   "execution_count": null,
   "metadata": {},
   "outputs": [],
   "source": [
    "classification = LogisticRegression(random_state=0, solver='lbfgs',multi_class='ovr').fit(X_resampled_down_mm, y_resampled_down_mm)\n",
    "        \n",
    "print(\"The accuracy of the model in the TEST set is: \", round(classification.score(X_mm_test_df, y_test),2))\n",
    "print(\"The kappa of the model is: \", cohen_kappa_score(y_resampled_down_mm,classification.predict(X_resampled_down_mm)))"
   ]
  },
  {
   "cell_type": "code",
   "execution_count": null,
   "metadata": {},
   "outputs": [],
   "source": [
    "# Predict testset"
   ]
  }
 ],
 "metadata": {
  "kernelspec": {
   "display_name": "Python 3",
   "language": "python",
   "name": "python3"
  },
  "language_info": {
   "codemirror_mode": {
    "name": "ipython",
    "version": 3
   },
   "file_extension": ".py",
   "mimetype": "text/x-python",
   "name": "python",
   "nbconvert_exporter": "python",
   "pygments_lexer": "ipython3",
   "version": "3.8.5"
  }
 },
 "nbformat": 4,
 "nbformat_minor": 4
}
