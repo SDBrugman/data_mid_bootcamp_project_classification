{
 "cells": [
  {
   "cell_type": "code",
   "execution_count": null,
   "metadata": {
    "id": "3cY85ktb7-g5"
   },
   "outputs": [],
   "source": [
    "# Import pandas, numpy\n",
    "import pandas as pd\n",
    "import numpy as np\n",
    "\n",
    "# Import warnings\n",
    "import warnings\n",
    "warnings.filterwarnings('ignore')\n",
    "\n",
    "# Import matplotlib for plots\n",
    "import matplotlib.pyplot as plt\n",
    "import seaborn as sns\n",
    "%matplotlib inline\n",
    "\n",
    "# Import VIF\n",
    "from statsmodels.stats.outliers_influence import variance_inflation_factor\n",
    "\n",
    "# Import libraries\n",
    "from sklearn.model_selection import train_test_split\n",
    "from sklearn.preprocessing import Normalizer\n",
    "from sklearn.preprocessing import StandardScaler\n",
    "from sklearn.preprocessing import MinMaxScaler\n",
    "from sklearn.preprocessing import PowerTransformer\n",
    "from sklearn.preprocessing import StandardScaler\n",
    "from imblearn.under_sampling import RandomUnderSampler\n",
    "from imblearn.over_sampling import RandomOverSampler\n",
    "from imblearn.under_sampling import TomekLinks\n",
    "from sklearn.linear_model import LogisticRegression\n",
    "from sklearn.metrics import cohen_kappa_score \n",
    "from sklearn.tree import DecisionTreeClassifier\n",
    "from sklearn.neighbors import KNeighborsClassifier\n",
    "from sklearn.metrics import confusion_matrix, plot_confusion_matrix\n",
    "# feature importance\n",
    "from sklearn.datasets import make_classification\n",
    "from sklearn.tree import DecisionTreeRegressor\n",
    "from matplotlib import pyplot\n",
    "\n",
    "pd.set_option('display.max_columns', 500)"
   ]
  },
  {
   "cell_type": "code",
   "execution_count": null,
   "metadata": {
    "colab": {
     "base_uri": "https://localhost:8080/",
     "height": 301
    },
    "id": "kZlsQ6DK8V_l",
    "outputId": "4ffa1ab0-93ec-4eb1-be58-e0e8ceb06217"
   },
   "outputs": [
    {
     "data": {
      "text/html": [
       "<div>\n",
       "<style scoped>\n",
       "    .dataframe tbody tr th:only-of-type {\n",
       "        vertical-align: middle;\n",
       "    }\n",
       "\n",
       "    .dataframe tbody tr th {\n",
       "        vertical-align: top;\n",
       "    }\n",
       "\n",
       "    .dataframe thead th {\n",
       "        text-align: right;\n",
       "    }\n",
       "</style>\n",
       "<table border=\"1\" class=\"dataframe\">\n",
       "  <thead>\n",
       "    <tr style=\"text-align: right;\">\n",
       "      <th></th>\n",
       "      <th>offer_accepted</th>\n",
       "      <th>reward</th>\n",
       "      <th>mailer_type</th>\n",
       "      <th>income_level</th>\n",
       "      <th>bank_accounts_open</th>\n",
       "      <th>overdraft_protection</th>\n",
       "      <th>credit_rating</th>\n",
       "      <th>credit_cards_held</th>\n",
       "      <th>homes_owned</th>\n",
       "      <th>household_size</th>\n",
       "      <th>own_your_home</th>\n",
       "      <th>avg_balance</th>\n",
       "      <th>q1_balance</th>\n",
       "      <th>q2_balance</th>\n",
       "      <th>q3_balance</th>\n",
       "      <th>q4_balance</th>\n",
       "    </tr>\n",
       "  </thead>\n",
       "  <tbody>\n",
       "    <tr>\n",
       "      <th>1</th>\n",
       "      <td>No</td>\n",
       "      <td>Air Miles</td>\n",
       "      <td>Letter</td>\n",
       "      <td>High</td>\n",
       "      <td>1</td>\n",
       "      <td>No</td>\n",
       "      <td>High</td>\n",
       "      <td>2</td>\n",
       "      <td>1</td>\n",
       "      <td>4</td>\n",
       "      <td>No</td>\n",
       "      <td>1160.75</td>\n",
       "      <td>1669.0</td>\n",
       "      <td>877.0</td>\n",
       "      <td>1095.0</td>\n",
       "      <td>1002.0</td>\n",
       "    </tr>\n",
       "    <tr>\n",
       "      <th>2</th>\n",
       "      <td>No</td>\n",
       "      <td>Air Miles</td>\n",
       "      <td>Letter</td>\n",
       "      <td>Medium</td>\n",
       "      <td>1</td>\n",
       "      <td>No</td>\n",
       "      <td>Medium</td>\n",
       "      <td>2</td>\n",
       "      <td>2</td>\n",
       "      <td>5</td>\n",
       "      <td>Yes</td>\n",
       "      <td>147.25</td>\n",
       "      <td>39.0</td>\n",
       "      <td>106.0</td>\n",
       "      <td>78.0</td>\n",
       "      <td>366.0</td>\n",
       "    </tr>\n",
       "    <tr>\n",
       "      <th>3</th>\n",
       "      <td>No</td>\n",
       "      <td>Air Miles</td>\n",
       "      <td>Postcard</td>\n",
       "      <td>High</td>\n",
       "      <td>2</td>\n",
       "      <td>No</td>\n",
       "      <td>Medium</td>\n",
       "      <td>2</td>\n",
       "      <td>1</td>\n",
       "      <td>2</td>\n",
       "      <td>Yes</td>\n",
       "      <td>276.50</td>\n",
       "      <td>367.0</td>\n",
       "      <td>352.0</td>\n",
       "      <td>145.0</td>\n",
       "      <td>242.0</td>\n",
       "    </tr>\n",
       "    <tr>\n",
       "      <th>4</th>\n",
       "      <td>No</td>\n",
       "      <td>Air Miles</td>\n",
       "      <td>Letter</td>\n",
       "      <td>Medium</td>\n",
       "      <td>2</td>\n",
       "      <td>No</td>\n",
       "      <td>High</td>\n",
       "      <td>1</td>\n",
       "      <td>1</td>\n",
       "      <td>4</td>\n",
       "      <td>No</td>\n",
       "      <td>1219.00</td>\n",
       "      <td>1578.0</td>\n",
       "      <td>1760.0</td>\n",
       "      <td>1119.0</td>\n",
       "      <td>419.0</td>\n",
       "    </tr>\n",
       "    <tr>\n",
       "      <th>5</th>\n",
       "      <td>No</td>\n",
       "      <td>Air Miles</td>\n",
       "      <td>Letter</td>\n",
       "      <td>Medium</td>\n",
       "      <td>1</td>\n",
       "      <td>No</td>\n",
       "      <td>Medium</td>\n",
       "      <td>2</td>\n",
       "      <td>1</td>\n",
       "      <td>6</td>\n",
       "      <td>Yes</td>\n",
       "      <td>1211.00</td>\n",
       "      <td>2140.0</td>\n",
       "      <td>1357.0</td>\n",
       "      <td>982.0</td>\n",
       "      <td>365.0</td>\n",
       "    </tr>\n",
       "  </tbody>\n",
       "</table>\n",
       "</div>"
      ],
      "text/plain": [
       "  offer_accepted     reward mailer_type income_level  bank_accounts_open  \\\n",
       "1             No  Air Miles      Letter         High                   1   \n",
       "2             No  Air Miles      Letter       Medium                   1   \n",
       "3             No  Air Miles    Postcard         High                   2   \n",
       "4             No  Air Miles      Letter       Medium                   2   \n",
       "5             No  Air Miles      Letter       Medium                   1   \n",
       "\n",
       "  overdraft_protection credit_rating  credit_cards_held  homes_owned  \\\n",
       "1                   No          High                  2            1   \n",
       "2                   No        Medium                  2            2   \n",
       "3                   No        Medium                  2            1   \n",
       "4                   No          High                  1            1   \n",
       "5                   No        Medium                  2            1   \n",
       "\n",
       "   household_size own_your_home  avg_balance  q1_balance  q2_balance  \\\n",
       "1               4            No      1160.75      1669.0       877.0   \n",
       "2               5           Yes       147.25        39.0       106.0   \n",
       "3               2           Yes       276.50       367.0       352.0   \n",
       "4               4            No      1219.00      1578.0      1760.0   \n",
       "5               6           Yes      1211.00      2140.0      1357.0   \n",
       "\n",
       "   q3_balance  q4_balance  \n",
       "1      1095.0      1002.0  \n",
       "2        78.0       366.0  \n",
       "3       145.0       242.0  \n",
       "4      1119.0       419.0  \n",
       "5       982.0       365.0  "
      ]
     },
     "execution_count": 315,
     "metadata": {
      "tags": []
     },
     "output_type": "execute_result"
    }
   ],
   "source": [
    "df = pd.read_csv('/content/drive/MyDrive/creditcardmarketing.csv', names= ['offer_accepted','reward','mailer_type','income_level','bank_accounts_open','overdraft_protection','credit_rating','credit_cards_held','homes_owned','household_size','own_your_home','avg_balance','q1_balance','q2_balance','q3_balance','q4_balance'])\n",
    "df.head()\n"
   ]
  },
  {
   "cell_type": "code",
   "execution_count": null,
   "metadata": {
    "id": "_znuqplN8gF3"
   },
   "outputs": [],
   "source": [
    "df.columns = ['offer_accepted','reward','mailer_type','income_level','nr_of_bank_accounts_open','overdraft_protection','credit_rating','credit_cards_held','nr_of_homes_owned','household_size','own_your_home','average_balance','balance_q1','balance_q2','balance_q3','balance_q4']"
   ]
  },
  {
   "cell_type": "code",
   "execution_count": null,
   "metadata": {
    "id": "78QS3u0x9BPD"
   },
   "outputs": [],
   "source": [
    "df.drop('balance_q4',axis=1,inplace=True)"
   ]
  },
  {
   "cell_type": "code",
   "execution_count": null,
   "metadata": {
    "id": "_2BkCqK39IoX"
   },
   "outputs": [],
   "source": [
    "df.dropna(inplace= True)"
   ]
  },
  {
   "cell_type": "markdown",
   "metadata": {
    "id": "WM5v5dWaOd4h"
   },
   "source": [
    "#### **1.1 Creating functions for data exploring** "
   ]
  },
  {
   "cell_type": "code",
   "execution_count": null,
   "metadata": {
    "id": "PkgPnnik9dxc"
   },
   "outputs": [],
   "source": [
    "def basic_information(df):\n",
    "    df_cols=list(df.columns)\n",
    "    print(\"Basic information\")\n",
    "    print(\"Shape of DF:\", df.shape)\n",
    "\n",
    "    for col in df_cols:\n",
    "        print(\"Name: {}\".format(df[col].name))\n",
    "        print(\"Type: {}\".format(df[col].dtype))\n",
    "        print(\"Unique values: {}\".format(len(df[col].unique())))\n",
    "        print(\"NaN values: {}\".format(df[col].isna().sum()))\n",
    "        print(\"0 values: {}\".format(df[col].isin([0]).sum()))\n",
    "        plt.hist(df[col],bins=20)\n",
    "        plt.show()\n",
    "        print(\"Value counts:\\n{}\".format(df[col].value_counts()))\n",
    "        print (\" \")\n",
    "        print(\"==========================================\")\n",
    "        print(\" \")"
   ]
  },
  {
   "cell_type": "code",
   "execution_count": null,
   "metadata": {
    "id": "cLPiggXLAQOw"
   },
   "outputs": [],
   "source": [
    "def gettingzeros(df):\n",
    "  df_cols=list(df.columns)\n",
    "  print(\"Checking Null Values\")\n",
    "  print(\" \")\n",
    "  storage_balance = []\n",
    "  \n",
    "  for col in df_cols:\n",
    "    print(\"Name: {}\".format(df[col].name))\n",
    "    print(\"NaN values: {}\".format(df[col].isna().sum()))\n",
    "    print(\"0 values: {}\".format(df[col].isin([0]).sum()))\n",
    "    print(\" \")"
   ]
  },
  {
   "cell_type": "code",
   "execution_count": null,
   "metadata": {
    "id": "12spw0JOGEWb"
   },
   "outputs": [],
   "source": [
    "def explore_data(df):\n",
    "  basic_information(df)\n",
    "  gettingzeros(df)"
   ]
  },
  {
   "cell_type": "code",
   "execution_count": null,
   "metadata": {
    "id": "7ke6wF6EJTjU"
   },
   "outputs": [],
   "source": [
    " def cleaning_nulls(df):\n",
    "  df = df[df['balance_q1'] > 0]\n",
    "  df = df[df['balance_q2'] > 0]\n",
    "  df = df[df['balance_q3'] > 0]\n",
    "  return df"
   ]
  },
  {
   "cell_type": "code",
   "execution_count": null,
   "metadata": {
    "id": "sRrQe_9pJz45"
   },
   "outputs": [],
   "source": [
    "def dropping(df,drop_list=None):\n",
    "  df.drop_duplicates()\n",
    "  if drop_list != None:\n",
    "    df.drop(drop_list=None, axis = 1, inplace = True)\n",
    "  return df"
   ]
  },
  {
   "cell_type": "code",
   "execution_count": null,
   "metadata": {
    "id": "FsFghm9vKMuG"
   },
   "outputs": [],
   "source": [
    "def clean_household_size(x):\n",
    "  if x > 5:\n",
    "    return 6\n",
    "  else:\n",
    "    return x\n",
    "\n",
    "def clean_cc_held(x):\n",
    "  if x > 2:\n",
    "    return 2\n",
    "  else:\n",
    "    return x\n",
    "\n",
    "def clustering_columns(df):\n",
    "  df.household_size = list(map(clean_household_size, df.household_size))\n",
    "  df.credit_cards_held = list(map(clean_cc_held, df.credit_cards_held))\n",
    "  df.nr_of_bank_accounts_open = list(map(lambda x: 1 if x == 1 else 2,df.nr_of_bank_accounts_open))\n",
    "  df.nr_of_homes_owned = list(map(lambda x: 1 if x == 1 else 2,df.nr_of_homes_owned))\n",
    "  return df"
   ]
  },
  {
   "cell_type": "code",
   "execution_count": null,
   "metadata": {
    "id": "pU9Iq_3qM8sx"
   },
   "outputs": [],
   "source": [
    "def cleaning_columns(df, drop_list=None):\n",
    "  df = cleaning_nulls(df)\n",
    "  df = dropping(df,drop_list=None)\n",
    "  df = clustering_columns(df)\n",
    "  return df"
   ]
  },
  {
   "cell_type": "markdown",
   "metadata": {
    "id": "zvfsVPWaQRh2"
   },
   "source": [
    "#### **2.1 Creating functions for data categories**"
   ]
  },
  {
   "cell_type": "code",
   "execution_count": null,
   "metadata": {
    "id": "ThEFcbLzOtoM"
   },
   "outputs": [],
   "source": [
    "# data separation in types\n",
    "def data_sep(df,types, target=None):\n",
    "    num_discrete = []\n",
    "    num_continuous = []\n",
    "    num = df.select_dtypes(include = np.number)\n",
    "    for i in num.columns:\n",
    "        if 'balance' in i:\n",
    "            num_continuous.append(i)\n",
    "        else:\n",
    "            num_discrete.append(i)\n",
    "    if types == 'numerical':\n",
    "        return num\n",
    "    elif types == 'discrete':\n",
    "        return df[num_discrete]\n",
    "    elif types == 'continuous':\n",
    "        return df[num_continuous]\n",
    "    else:\n",
    "        cat = df.select_dtypes(include = np.object)\n",
    "        #cat = cat.drop(target, axis = 1)\n",
    "        return cat"
   ]
  },
  {
   "cell_type": "code",
   "execution_count": null,
   "metadata": {
    "id": "bd1VYSXiE4TW"
   },
   "outputs": [],
   "source": [
    "# Plots from different data categories\n",
    "def plots(df, types):\n",
    "    import seaborn as sns\n",
    "    if types == 'correlation matrix':\n",
    "      corr_matrix=df.corr(method='pearson')\n",
    "      fig, ax = plt.subplots(figsize=(10, 8))\n",
    "      mask = np.zeros_like(corr_matrix)\n",
    "      mask[np.triu_indices_from(mask)] = True\n",
    "      ax = sns.heatmap(corr_matrix, mask=mask, annot=True)\n",
    "      return plt.show()\n",
    "    elif types == 'describe':\n",
    "      print(df.describe().T)\n",
    "      print(\" \")\n",
    "      return df.describe()\n",
    "    for i in df.columns:\n",
    "      print('Column: ',i)\n",
    "      if types == 'continuous':\n",
    "        sns.distplot(df[i])\n",
    "      elif types == 'categorical' or types == 'discrete':\n",
    "        sns.countplot(x=i,data=df)\n",
    "      elif types == 'boxplot':\n",
    "        sns.boxplot(x=i, data=df)\n",
    "      plt.show()\n",
    "      print('====================')"
   ]
  },
  {
   "cell_type": "code",
   "execution_count": null,
   "metadata": {
    "id": "tE5Zh1SgSuMh"
   },
   "outputs": [],
   "source": [
    "def plot_master():\n",
    "  print(\"** PLOTTING NUM DESCRIBE **\")\n",
    "  plots(df,'describe')\n",
    "  \n",
    "  print(\"** PLOTING CATEGORICAL VARIABLES **\")\n",
    "  plots(cat,'categorical')\n",
    "  print(\" \")\n",
    "\n",
    "  print(\"** PLOTING CONTINUOUS VARIABLES **\")\n",
    "  plots(num_cont, 'continuous')\n",
    "  print(\" \")\n",
    "\n",
    "  print(\"** PLOTTING DISCRETE VARIABLES **\")\n",
    "  plots(num_disc,'discrete')\n",
    "  print(\" \")\n",
    "\n",
    "  print(\"** PLOTTING CORRELATION MATRIX **\")\n",
    "  plots(num,'correlation matrix')"
   ]
  },
  {
   "cell_type": "code",
   "execution_count": null,
   "metadata": {
    "id": "apI3IaSHFwUE"
   },
   "outputs": [],
   "source": [
    "def skew_df(df):\n",
    "    from scipy.stats import skew\n",
    "    \n",
    "    cols=list(df.columns)\n",
    "    \n",
    "    for col in cols:\n",
    "        sk=df[col].skew()\n",
    "        print(\"the skew of {} is: {}\".format(col,sk))"
   ]
  },
  {
   "cell_type": "code",
   "execution_count": null,
   "metadata": {
    "id": "VZo_J4mMFzNY"
   },
   "outputs": [],
   "source": [
    "def vif_scores(df):\n",
    "    VIF_Scores = pd.DataFrame()\n",
    "    VIF_Scores['independent_features'] = num.columns\n",
    "    VIF_Scores['vif_score'] = [variance_inflation_factor(num.values,i) for i in range(num.shape[1])]\n",
    "    return VIF_Scores"
   ]
  },
  {
   "cell_type": "code",
   "execution_count": null,
   "metadata": {
    "id": "IKJYhg46Fvbd"
   },
   "outputs": [],
   "source": [
    "# Categorical dependency with chi-test\n",
    "def chi_test(df,x,y):\n",
    "    from scipy.stats import chi2_contingency\n",
    "    from scipy.stats import chi2\n",
    "    # contingency table\n",
    "    table = pd.crosstab(df[x], df[y])\n",
    "    print(table)\n",
    "    stat, p, dof, expected = chi2_contingency(table)\n",
    "    print('dof=%d' % dof)\n",
    "    print(expected)\n",
    "    # interpret test-statistic\n",
    "    prob = 0.95\n",
    "    critical = chi2.ppf(prob, dof)\n",
    "    print('probability=%.3f, critical=%.3f, stat=%.3f' % (prob, critical, stat))\n",
    "    if abs(stat) >= critical:\n",
    "        print('Dependent (reject H0)')\n",
    "    else:\n",
    "        print('Independent (fail to reject H0)')\n",
    "    # interpret p-value\n",
    "    alpha = 1.0 - prob\n",
    "    print('significance=%.3f, p=%.3f' % (alpha, p))\n",
    "    if p <= alpha:\n",
    "        print('!!!!! DEPENDENT (reject H0)')\n",
    "    else:\n",
    "        print('Independent (fail to reject H0)')\n",
    "    print('==========================================================')"
   ]
  },
  {
   "cell_type": "code",
   "execution_count": null,
   "metadata": {
    "id": "-v7UxEp7VsGo"
   },
   "outputs": [],
   "source": [
    "def applying_chi_test(cat):\n",
    "  for i in cat.columns:\n",
    "    for v in cat.columns:\n",
    "        if i != v:\n",
    "            print('==========================================================')\n",
    "            print('RELATIONSHIP {} and {}'.format(i.upper(),v.upper()))\n",
    "            chi_test(cat,i,v)"
   ]
  },
  {
   "cell_type": "markdown",
   "metadata": {
    "id": "82fBDaiTXGT-"
   },
   "source": [
    "#### **3.1 Creating functions for data encoding**"
   ]
  },
  {
   "cell_type": "code",
   "execution_count": null,
   "metadata": {
    "id": "XKHKjvghQDN-"
   },
   "outputs": [],
   "source": [
    "# Convert ordinals to numericals\n",
    "def ordinals_conversor(df,convert_list=None):\n",
    "  df2 = df.copy()\n",
    "  # original DF: convert_list=['income_level','overdraft_protection','credit_rating','own_your_home']\n",
    "  if convert_list == None:\n",
    "    return df2\n",
    "  else:\n",
    "    for col in convert_list:\n",
    "      if len(df2[col].unique()) > 2:\n",
    "        # df2[col] = np.where(df2[col] == 'High',2, np.where(df2[col]== 'Low',0, 1))\n",
    "        df2[col]= list(map(lambda x: 2 if x == 'High' else (0 if x == 'Low' else 1),df2[col]))\n",
    "      else:\n",
    "        df2[col]= list(map(lambda x: 1 if x =='Yes' else 0,df2[col]))\n",
    "    return df2"
   ]
  },
  {
   "cell_type": "code",
   "execution_count": null,
   "metadata": {
    "id": "QOsK2fGhX-q8"
   },
   "outputs": [],
   "source": [
    "def converting_categoricals(cat, convert_list1 = None, convert_list2 = None):\n",
    "  df = cat.copy()\n",
    "  # Convert ordinals to numericals\n",
    "  #print(\"antes\")\n",
    "  #display(cat.head())\n",
    "  if convert_list1 != None:\n",
    "    df = ordinals_conversor(df,convert_list1)\n",
    "    #print(\"despues\")\n",
    "    #display(cat.head())\n",
    "  # Dummifying categorical nominals\n",
    "  if convert_list2 != None:\n",
    "    df = pd.get_dummies(df, columns=convert_list2)\n",
    "\n",
    "  return df"
   ]
  },
  {
   "cell_type": "markdown",
   "metadata": {
    "id": "h1eYJywhn3ZR"
   },
   "source": [
    "#### **4.1 Creating functions for prediction**"
   ]
  },
  {
   "cell_type": "code",
   "execution_count": null,
   "metadata": {
    "id": "jW13GrEJpQvR"
   },
   "outputs": [],
   "source": [
    "def split_xy(cat,num):\n",
    "  #Concatenating numericals and categoricals \n",
    "  df = pd.concat([cat,num],axis=1)\n",
    "  y = pd.DataFrame(df['offer_accepted'])\n",
    "  X = df.drop(['offer_accepted'],axis=1)\n",
    "  #returning X (features) and y (target) dataframes\n",
    "  return X,y\n"
   ]
  },
  {
   "cell_type": "code",
   "execution_count": null,
   "metadata": {
    "id": "Lv7AcuacvPHc"
   },
   "outputs": [],
   "source": [
    "# splitting data\n",
    "def splitting_data(X,y):\n",
    "\n",
    "  X_train, X_test, y_train, y_test = train_test_split(X, y, test_size=0.3, random_state=42)\n",
    "\n",
    "  return X_train, X_test, y_train, y_test"
   ]
  },
  {
   "cell_type": "code",
   "execution_count": null,
   "metadata": {
    "id": "Ef4sT8YboMPm"
   },
   "outputs": [],
   "source": [
    "#scalers functions\n",
    "def scalers(X_train, X_test, scaler):\n",
    "    if scaler == 'normalizer':\n",
    "        transformer = Normalizer().fit(X_train)\n",
    "        X_train_t = transformer.transform(X_train)\n",
    "        X_test_t = transformer.transform(X_test) \n",
    "    elif scaler == 'standard':\n",
    "        transformer = StandardScaler().fit(X_train)\n",
    "        X_train_t = transformer.transform(X_train)\n",
    "        X_test_t = transformer.transform(X_test)\n",
    "    elif scaler == 'minmax':\n",
    "        transformer = MinMaxScaler().fit(X_train)\n",
    "        X_train_t = transformer.transform(X_train)\n",
    "        X_test_t = transformer.transform(X_test)\n",
    "    elif scaler == 'power':\n",
    "        transformer = PowerTransformer().fit(X_train)\n",
    "        X_train_t = transformer.transform(X_train)\n",
    "        X_test_t = transformer.transform(X_test)\n",
    "\n",
    "    X_train_t = pd.DataFrame(X_train_t, columns = X_train.columns)\n",
    "    X_test_t = pd.DataFrame(X_test_t, columns = X_test.columns)\n",
    "\n",
    "    return X_train_t, X_test_t"
   ]
  },
  {
   "cell_type": "code",
   "execution_count": null,
   "metadata": {
    "id": "QZWuEXUCo3tu"
   },
   "outputs": [],
   "source": [
    "#sampling functions\n",
    "def samplings_type(X_train, y_train, samp):\n",
    "    if samp =='downsampling':\n",
    "        s = RandomUnderSampler()\n",
    "    elif samp == 'upsampling':\n",
    "        s = RandomOverSampler()\n",
    "    elif  samp == 'tomeklinks':\n",
    "        s = TomekLinks('majority')\n",
    "\n",
    "    X_s, y_s = s.fit_sample(X_train, y_train)\n",
    "    X_train_s = pd.DataFrame(X_s, columns = X_train.columns)\n",
    "    y_train_s = pd.DataFrame(y_s, columns = ['offer_accepted'])\n",
    "\n",
    "    return X_train_s, y_train_s"
   ]
  },
  {
   "cell_type": "code",
   "execution_count": null,
   "metadata": {
    "id": "7jpNGjAeo6Rd"
   },
   "outputs": [],
   "source": [
    "#function predict\n",
    "def fit_predict(X_train, X_test, y_train, y_test, model='logistic', k=None):\n",
    "    import sys\n",
    "    from sklearn.metrics import accuracy_score, precision_score\n",
    "    if ( model == 'logistic' ):\n",
    "        classification = LogisticRegression(random_state=0, solver='lbfgs',multi_class='ovr').fit(X_train, y_train)\n",
    "    elif ( model == 'decision_tree' ):\n",
    "        classification = DecisionTreeClassifier().fit(X_train, y_train)\n",
    "    elif ( model == 'k-nn' ):\n",
    "        classification = KNeighborsClassifier(n_neighbors=k).fit(X_train, y_train)\n",
    "    else:\n",
    "        print('Incorrect input model')\n",
    "        sys.exit()\n",
    "\n",
    "    y_train_pred = classification.predict(X_train)\n",
    "    y_test_pred  = classification.predict(X_test)\n",
    "\n",
    "    accuracy_train = round(accuracy_score(y_train, y_train_pred),2)\n",
    "    accuracy_test  = round(accuracy_score(y_test, y_test_pred),2)\n",
    "\n",
    "    kappa_train = round(cohen_kappa_score(y_train, y_train_pred),2)\n",
    "    kappa_test  = round(cohen_kappa_score(y_test, y_test_pred),2)\n",
    "\n",
    "    return accuracy_train, accuracy_test, kappa_train, kappa_test"
   ]
  },
  {
   "cell_type": "code",
   "execution_count": null,
   "metadata": {
    "id": "cPt4BEt9pCRg"
   },
   "outputs": [],
   "source": [
    "def y_predict(X_train, X_test, y_train, y_test, model='logistic', k=None):\n",
    "    import sys\n",
    "\n",
    "    if ( model == 'logistic' ):\n",
    "        classification = LogisticRegression(random_state=0, solver='lbfgs',multi_class='ovr').fit(X_train, y_train)\n",
    "        #classification.to_pickle('')\n",
    "    elif ( model == 'decision_tree' ):\n",
    "        classification = DecisionTreeClassifier().fit(X_train, y_train)\n",
    "\n",
    "    elif ( model == 'k-nn' ):\n",
    "        classification = KNeighborsClassifier(n_neighbors=k).fit(X_train, y_train)\n",
    "    else:\n",
    "        print('Incorrect input model')\n",
    "        sys.exit()\n",
    "\n",
    "    y_train_pred = classification.predict(X_train)\n",
    "    y_test_pred  = classification.predict(X_test)\n",
    "    return y_test_pred"
   ]
  },
  {
   "cell_type": "code",
   "execution_count": null,
   "metadata": {
    "id": "f4se25dzpGxL"
   },
   "outputs": [],
   "source": [
    "# applying scaling, sampling and predicting\n",
    "def get_scores(X,y, model):\n",
    "    from sklearn.metrics import precision_score, recall_score\n",
    "    X_train, X_test, y_train, y_test = splitting_data(X,y)\n",
    "\n",
    "    my_dict =  {'scaler': [], 'sampling': [], 'precision':[],'recall':[],'accuracy': [], 'kappa': [], 'set': []}\n",
    "\n",
    "    for scaler in ['normalizer','standard','minmax','power']:\n",
    "        for sampling in ['downsampling','upsampling','tomeklinks']:\n",
    "\n",
    "            X_train_t, X_test_t = scalers(X_train, X_test, scaler)\n",
    "            X_train_s, y_train_s = samplings_type(X_train_t, y_train, sampling)\n",
    "\n",
    "            accuracy_train, accuracy_test, kappa_train, kappa_test = fit_predict(X_train_s, X_test_t, y_train_s, y_test, model)\n",
    "            y_pred = y_predict(X_train_s, X_test_t, y_train_s, y_test, model)\n",
    "            precision = precision_score(y_test, y_pred)\n",
    "            recall = recall_score(y_test, y_pred)\n",
    "\n",
    "            my_dict['scaler'].append(scaler)\n",
    "            my_dict['sampling'].append(sampling)\n",
    "            my_dict['precision'].append('-')\n",
    "            my_dict['recall'].append('-')\n",
    "            my_dict['accuracy'].append(accuracy_train)\n",
    "            #my_dict['accuracy'].append('-')\n",
    "            my_dict['kappa'].append(kappa_train)\n",
    "            my_dict['set'].append('train')\n",
    "\n",
    "            my_dict['scaler'].append(scaler)\n",
    "            my_dict['sampling'].append(sampling)\n",
    "            my_dict['precision'].append(precision)\n",
    "            my_dict['recall'].append(recall)\n",
    "            my_dict['accuracy'].append(accuracy_test)\n",
    "            my_dict['kappa'].append(kappa_test)\n",
    "            #my_dict['kappa'].append('-')\n",
    "            my_dict['set'].append('test')\n",
    "\n",
    "    results = pd.DataFrame(my_dict)\n",
    "    return results"
   ]
  },
  {
   "cell_type": "code",
   "execution_count": null,
   "metadata": {
    "id": "KkeVCMQ2X0iA"
   },
   "outputs": [],
   "source": [
    "# confusion matrix information\n",
    "def confusion_matrix_info(X,y,scaler,samp,model):\n",
    "  X_train = splitting_data(X,y)[0]\n",
    "  y_train = splitting_data(X,y)[2]\n",
    "  X_test = splitting_data(X,y)[1]\n",
    "  y_test = splitting_data(X,y)[3]\n",
    "\n",
    "  X_train_t = scalers(X_train, X_test,scaler)[0]\n",
    "  X_test_t = scalers(X_train, X_test,scaler)[1]\n",
    "\n",
    "  X_train_s = samplings_type(X_train_t, y_train, samp)[0]\n",
    "  y_train_s  = samplings_type(X_train_t, y_train, samp)[1]\n",
    "\n",
    "  if ( model == 'logistic' ):\n",
    "    classification = LogisticRegression(random_state=0, solver='lbfgs',multi_class='ovr').fit(X_train_s, y_train_s)\n",
    "  elif ( model == 'decision_tree' ):\n",
    "    classification = DecisionTreeClassifier().fit(X_train_s, y_train_s)\n",
    "  elif ( model == 'k-nn' ):\n",
    "    classification = KNeighborsClassifier(n_neighbors=k).fit(X_train_s, y_train_s)\n",
    "\n",
    "  predictions = classification.predict(X_test)\n",
    "  print('\\033[1m'+\"The classification score is {}\".format(round(classification.score(X_test, y_test),2)))\n",
    "  print(\" \")\n",
    "  print('\\033[1m'+\"The y test value counts are\"+'\\033[0m'+ \"\\n {}\".format(round(y_test.value_counts(),2)))\n",
    "  print(\" \")\n",
    "  print('\\033[1m'+\"Confusion matrix y_test,predictions\"+'\\033[0m')\n",
    "  print(confusion_matrix(y_test, predictions))\n",
    "  print(\" \")\n",
    "  print('\\033[1m'+\"Confusion matrix X_test_t,y_test\"+'\\033[0m')\n",
    "  return plot_confusion_matrix(classification, X_test_t, y_test)"
   ]
  },
  {
   "cell_type": "code",
   "execution_count": null,
   "metadata": {
    "id": "BmqhSYsKqRgq"
   },
   "outputs": [],
   "source": [
    "def feature_importance(X,y,model):\n",
    "  # define and fit the model\n",
    "  # get importance\n",
    "  if model == 'logistic':\n",
    "    model = LogisticRegression().fit(X,y)\n",
    "    importance = model.coef_[0]\n",
    "  elif model ==  'decision_tree':\n",
    "    model = DecisionTreeRegressor().fit(X,y)\n",
    "    importance = model.feature_importances_\n",
    "\n",
    "  # summarize feature importance\n",
    "  for i,v in enumerate(importance):\n",
    "      print('Feature: %0d, Score: %.5f' % (i,v))\n",
    "  # plot feature importance\n",
    "  pyplot.bar([x for x in range(len(importance))], importance)\n",
    "  pyplot.show()"
   ]
  },
  {
   "cell_type": "markdown",
   "metadata": {
    "id": "cG-jhuR89yk3"
   },
   "source": [
    "# **1. Data Exploration**"
   ]
  },
  {
   "cell_type": "markdown",
   "metadata": {
    "id": "ojVKhmDkN1HZ"
   },
   "source": [
    "#### **1.2 Applying cleaner and basic information**"
   ]
  },
  {
   "cell_type": "code",
   "execution_count": null,
   "metadata": {
    "colab": {
     "base_uri": "https://localhost:8080/",
     "height": 1000
    },
    "id": "FMtIQBgqN4LX",
    "outputId": "d53836ff-c1f3-48af-ad73-286c75bc9152"
   },
   "outputs": [
    {
     "name": "stdout",
     "output_type": "stream",
     "text": [
      "Basic information\n",
      "Shape of DF: (17976, 15)\n",
      "Name: offer_accepted\n",
      "Type: object\n",
      "Unique values: 2\n",
      "NaN values: 0\n",
      "0 values: 0\n"
     ]
    },
    {
     "data": {
      "image/png": "[encoded data removed]",
      "text/plain": [
       "<Figure size 432x288 with 1 Axes>"
      ]
     },
     "metadata": {
      "needs_background": "light",
      "tags": []
     },
     "output_type": "display_data"
    },
    {
     "name": "stdout",
     "output_type": "stream",
     "text": [
      "Value counts:\n",
      "No     16955\n",
      "Yes     1021\n",
      "Name: offer_accepted, dtype: int64\n",
      " \n",
      "==========================================\n",
      " \n",
      "Name: reward\n",
      "Type: object\n",
      "Unique values: 3\n",
      "NaN values: 0\n",
      "0 values: 0\n"
     ]
    },
    {
     "data": {
      "image/png": "[encoded data removed]",
      "text/plain": [
       "<Figure size 432x288 with 1 Axes>"
      ]
     },
     "metadata": {
      "needs_background": "light",
      "tags": []
     },
     "output_type": "display_data"
    },
    {
     "name": "stdout",
     "output_type": "stream",
     "text": [
      "Value counts:\n",
      "Air Miles    6047\n",
      "Cash Back    5995\n",
      "Points       5934\n",
      "Name: reward, dtype: int64\n",
      " \n",
      "==========================================\n",
      " \n",
      "Name: mailer_type\n",
      "Type: object\n",
      "Unique values: 2\n",
      "NaN values: 0\n",
      "0 values: 0\n"
     ]
    },
    {
     "data": {
      "image/png": "[encoded data removed]",
      "text/plain": [
       "<Figure size 432x288 with 1 Axes>"
      ]
     },
     "metadata": {
      "needs_background": "light",
      "tags": []
     },
     "output_type": "display_data"
    },
    {
     "name": "stdout",
     "output_type": "stream",
     "text": [
      "Value counts:\n",
      "Postcard    9134\n",
      "Letter      8842\n",
      "Name: mailer_type, dtype: int64\n",
      " \n",
      "==========================================\n",
      " \n",
      "Name: income_level\n",
      "Type: object\n",
      "Unique values: 3\n",
      "NaN values: 0\n",
      "0 values: 0\n"
     ]
    },
    {
     "data": {
      "image/png": "[encoded data removed]",
      "text/plain": [
       "<Figure size 432x288 with 1 Axes>"
      ]
     },
     "metadata": {
      "needs_background": "light",
      "tags": []
     },
     "output_type": "display_data"
    },
    {
     "name": "stdout",
     "output_type": "stream",
     "text": [
      "Value counts:\n",
      "Medium    9002\n",
      "High      4519\n",
      "Low       4455\n",
      "Name: income_level, dtype: int64\n",
      " \n",
      "==========================================\n",
      " \n",
      "Name: nr_of_bank_accounts_open\n",
      "Type: int64\n",
      "Unique values: 3\n",
      "NaN values: 0\n",
      "0 values: 0\n"
     ]
    },
    {
     "data": {
      "image/png": "[encoded data removed]",
      "text/plain": [
       "<Figure size 432x288 with 1 Axes>"
      ]
     },
     "metadata": {
      "needs_background": "light",
      "tags": []
     },
     "output_type": "display_data"
    },
    {
     "name": "stdout",
     "output_type": "stream",
     "text": [
      "Value counts:\n",
      "1    13674\n",
      "2     4007\n",
      "3      295\n",
      "Name: nr_of_bank_accounts_open, dtype: int64\n",
      " \n",
      "==========================================\n",
      " \n",
      "Name: overdraft_protection\n",
      "Type: object\n",
      "Unique values: 2\n",
      "NaN values: 0\n",
      "0 values: 0\n"
     ]
    },
    {
     "data": {
      "image/png": "[encoded data removed]",
      "text/plain": [
       "<Figure size 432x288 with 1 Axes>"
      ]
     },
     "metadata": {
      "needs_background": "light",
      "tags": []
     },
     "output_type": "display_data"
    },
    {
     "name": "stdout",
     "output_type": "stream",
     "text": [
      "Value counts:\n",
      "No     15300\n",
      "Yes     2676\n",
      "Name: overdraft_protection, dtype: int64\n",
      " \n",
      "==========================================\n",
      " \n",
      "Name: credit_rating\n",
      "Type: object\n",
      "Unique values: 3\n",
      "NaN values: 0\n",
      "0 values: 0\n"
     ]
    },
    {
     "data": {
      "image/png": "[encoded data removed]",
      "text/plain": [
       "<Figure size 432x288 with 1 Axes>"
      ]
     },
     "metadata": {
      "needs_background": "light",
      "tags": []
     },
     "output_type": "display_data"
    },
    {
     "name": "stdout",
     "output_type": "stream",
     "text": [
      "Value counts:\n",
      "High      6064\n",
      "Medium    5964\n",
      "Low       5948\n",
      "Name: credit_rating, dtype: int64\n",
      " \n",
      "==========================================\n",
      " \n",
      "Name: credit_cards_held\n",
      "Type: int64\n",
      "Unique values: 4\n",
      "NaN values: 0\n",
      "0 values: 0\n"
     ]
    },
    {
     "data": {
      "image/png": "[encoded data removed]",
      "text/plain": [
       "<Figure size 432x288 with 1 Axes>"
      ]
     },
     "metadata": {
      "needs_background": "light",
      "tags": []
     },
     "output_type": "display_data"
    },
    {
     "name": "stdout",
     "output_type": "stream",
     "text": [
      "Value counts:\n",
      "2    7933\n",
      "1    6147\n",
      "3    3381\n",
      "4     515\n",
      "Name: credit_cards_held, dtype: int64\n",
      " \n",
      "==========================================\n",
      " \n",
      "Name: nr_of_homes_owned\n",
      "Type: int64\n",
      "Unique values: 3\n",
      "NaN values: 0\n",
      "0 values: 0\n"
     ]
    },
    {
     "data": {
      "image/png": "[encoded data removed]",
      "text/plain": [
       "<Figure size 432x288 with 1 Axes>"
      ]
     },
     "metadata": {
      "needs_background": "light",
      "tags": []
     },
     "output_type": "display_data"
    },
    {
     "name": "stdout",
     "output_type": "stream",
     "text": [
      "Value counts:\n",
      "1    14502\n",
      "2     3289\n",
      "3      185\n",
      "Name: nr_of_homes_owned, dtype: int64\n",
      " \n",
      "==========================================\n",
      " \n",
      "Name: household_size\n",
      "Type: int64\n",
      "Unique values: 8\n",
      "NaN values: 0\n",
      "0 values: 0\n"
     ]
    },
    {
     "data": {
      "image/png": "[encoded data removed]",
      "text/plain": [
       "<Figure size 432x288 with 1 Axes>"
      ]
     },
     "metadata": {
      "needs_background": "light",
      "tags": []
     },
     "output_type": "display_data"
    },
    {
     "name": "stdout",
     "output_type": "stream",
     "text": [
      "Value counts:\n",
      "3    5705\n",
      "4    5532\n",
      "5    2851\n",
      "2    2809\n",
      "1     539\n",
      "6     538\n",
      "9       1\n",
      "8       1\n",
      "Name: household_size, dtype: int64\n",
      " \n",
      "==========================================\n",
      " \n",
      "Name: own_your_home\n",
      "Type: object\n",
      "Unique values: 2\n",
      "NaN values: 0\n",
      "0 values: 0\n"
     ]
    },
    {
     "data": {
      "image/png": "[encoded data removed]",
      "text/plain": [
       "<Figure size 432x288 with 1 Axes>"
      ]
     },
     "metadata": {
      "needs_background": "light",
      "tags": []
     },
     "output_type": "display_data"
    },
    {
     "name": "stdout",
     "output_type": "stream",
     "text": [
      "Value counts:\n",
      "Yes    11636\n",
      "No      6340\n",
      "Name: own_your_home, dtype: int64\n",
      " \n",
      "==========================================\n",
      " \n",
      "Name: average_balance\n",
      "Type: float64\n",
      "Unique values: 4728\n",
      "NaN values: 0\n",
      "0 values: 0\n"
     ]
    },
    {
     "data": {
      "image/png": "[encoded data removed]",
      "text/plain": [
       "<Figure size 432x288 with 1 Axes>"
      ]
     },
     "metadata": {
      "needs_background": "light",
      "tags": []
     },
     "output_type": "display_data"
    },
    {
     "name": "stdout",
     "output_type": "stream",
     "text": [
      "Value counts:\n",
      "1127.00    17\n",
      "1053.50    16\n",
      "1078.50    16\n",
      "1036.00    16\n",
      "1033.00    16\n",
      "           ..\n",
      "596.75      1\n",
      "379.50      1\n",
      "1514.00     1\n",
      "375.75      1\n",
      "177.25      1\n",
      "Name: average_balance, Length: 4728, dtype: int64\n",
      " \n",
      "==========================================\n",
      " \n",
      "Name: balance_q1\n",
      "Type: float64\n",
      "Unique values: 2158\n",
      "NaN values: 0\n",
      "0 values: 5\n"
     ]
    },
    {
     "data": {
      "image/png": "[encoded data removed]",
      "text/plain": [
       "<Figure size 432x288 with 1 Axes>"
      ]
     },
     "metadata": {
      "needs_background": "light",
      "tags": []
     },
     "output_type": "display_data"
    },
    {
     "name": "stdout",
     "output_type": "stream",
     "text": [
      "Value counts:\n",
      "675.0     23\n",
      "81.0      23\n",
      "823.0     22\n",
      "676.0     22\n",
      "557.0     21\n",
      "          ..\n",
      "1126.0     1\n",
      "2002.0     1\n",
      "2123.0     1\n",
      "1199.0     1\n",
      "1073.0     1\n",
      "Name: balance_q1, Length: 2158, dtype: int64\n",
      " \n",
      "==========================================\n",
      " \n",
      "Name: balance_q2\n",
      "Type: float64\n",
      "Unique values: 1945\n",
      "NaN values: 0\n",
      "0 values: 1\n"
     ]
    },
    {
     "data": {
      "image/png": "[encoded data removed]",
      "text/plain": [
       "<Figure size 432x288 with 1 Axes>"
      ]
     },
     "metadata": {
      "needs_background": "light",
      "tags": []
     },
     "output_type": "display_data"
    },
    {
     "name": "stdout",
     "output_type": "stream",
     "text": [
      "Value counts:\n",
      "1060.0    30\n",
      "1197.0    26\n",
      "1271.0    25\n",
      "1132.0    24\n",
      "826.0     24\n",
      "          ..\n",
      "1954.0     1\n",
      "1850.0     1\n",
      "1907.0     1\n",
      "77.0       1\n",
      "1862.0     1\n",
      "Name: balance_q2, Length: 1945, dtype: int64\n",
      " \n",
      "==========================================\n",
      " \n",
      "Name: balance_q3\n",
      "Type: float64\n",
      "Unique values: 2281\n",
      "NaN values: 0\n",
      "0 values: 1\n"
     ]
    },
    {
     "data": {
      "image/png": "[encoded data removed]",
      "text/plain": [
       "<Figure size 432x288 with 1 Axes>"
      ]
     },
     "metadata": {
      "needs_background": "light",
      "tags": []
     },
     "output_type": "display_data"
    },
    {
     "name": "stdout",
     "output_type": "stream",
     "text": [
      "Value counts:\n",
      "809.0     30\n",
      "833.0     27\n",
      "972.0     26\n",
      "842.0     26\n",
      "997.0     26\n",
      "          ..\n",
      "1196.0     1\n",
      "2152.0     1\n",
      "2576.0     1\n",
      "2229.0     1\n",
      "342.0      1\n",
      "Name: balance_q3, Length: 2281, dtype: int64\n",
      " \n",
      "==========================================\n",
      " \n",
      "Checking Null Values\n",
      " \n",
      "Name: offer_accepted\n",
      "NaN values: 0\n",
      "0 values: 0\n",
      " \n",
      "Name: reward\n",
      "NaN values: 0\n",
      "0 values: 0\n",
      " \n",
      "Name: mailer_type\n",
      "NaN values: 0\n",
      "0 values: 0\n",
      " \n",
      "Name: income_level\n",
      "NaN values: 0\n",
      "0 values: 0\n",
      " \n",
      "Name: nr_of_bank_accounts_open\n",
      "NaN values: 0\n",
      "0 values: 0\n",
      " \n",
      "Name: overdraft_protection\n",
      "NaN values: 0\n",
      "0 values: 0\n",
      " \n",
      "Name: credit_rating\n",
      "NaN values: 0\n",
      "0 values: 0\n",
      " \n",
      "Name: credit_cards_held\n",
      "NaN values: 0\n",
      "0 values: 0\n",
      " \n",
      "Name: nr_of_homes_owned\n",
      "NaN values: 0\n",
      "0 values: 0\n",
      " \n",
      "Name: household_size\n",
      "NaN values: 0\n",
      "0 values: 0\n",
      " \n",
      "Name: own_your_home\n",
      "NaN values: 0\n",
      "0 values: 0\n",
      " \n",
      "Name: average_balance\n",
      "NaN values: 0\n",
      "0 values: 0\n",
      " \n",
      "Name: balance_q1\n",
      "NaN values: 0\n",
      "0 values: 5\n",
      " \n",
      "Name: balance_q2\n",
      "NaN values: 0\n",
      "0 values: 1\n",
      " \n",
      "Name: balance_q3\n",
      "NaN values: 0\n",
      "0 values: 1\n",
      " \n"
     ]
    },
    {
     "data": {
      "text/html": [
       "<div>\n",
       "<style scoped>\n",
       "    .dataframe tbody tr th:only-of-type {\n",
       "        vertical-align: middle;\n",
       "    }\n",
       "\n",
       "    .dataframe tbody tr th {\n",
       "        vertical-align: top;\n",
       "    }\n",
       "\n",
       "    .dataframe thead th {\n",
       "        text-align: right;\n",
       "    }\n",
       "</style>\n",
       "<table border=\"1\" class=\"dataframe\">\n",
       "  <thead>\n",
       "    <tr style=\"text-align: right;\">\n",
       "      <th></th>\n",
       "      <th>offer_accepted</th>\n",
       "      <th>reward</th>\n",
       "      <th>mailer_type</th>\n",
       "      <th>income_level</th>\n",
       "      <th>nr_of_bank_accounts_open</th>\n",
       "      <th>overdraft_protection</th>\n",
       "      <th>credit_rating</th>\n",
       "      <th>credit_cards_held</th>\n",
       "      <th>nr_of_homes_owned</th>\n",
       "      <th>household_size</th>\n",
       "      <th>own_your_home</th>\n",
       "      <th>average_balance</th>\n",
       "      <th>balance_q1</th>\n",
       "      <th>balance_q2</th>\n",
       "      <th>balance_q3</th>\n",
       "    </tr>\n",
       "  </thead>\n",
       "  <tbody>\n",
       "    <tr>\n",
       "      <th>1</th>\n",
       "      <td>No</td>\n",
       "      <td>Air Miles</td>\n",
       "      <td>Letter</td>\n",
       "      <td>High</td>\n",
       "      <td>1</td>\n",
       "      <td>No</td>\n",
       "      <td>High</td>\n",
       "      <td>2</td>\n",
       "      <td>1</td>\n",
       "      <td>4</td>\n",
       "      <td>No</td>\n",
       "      <td>1160.75</td>\n",
       "      <td>1669.0</td>\n",
       "      <td>877.0</td>\n",
       "      <td>1095.0</td>\n",
       "    </tr>\n",
       "    <tr>\n",
       "      <th>2</th>\n",
       "      <td>No</td>\n",
       "      <td>Air Miles</td>\n",
       "      <td>Letter</td>\n",
       "      <td>Medium</td>\n",
       "      <td>1</td>\n",
       "      <td>No</td>\n",
       "      <td>Medium</td>\n",
       "      <td>2</td>\n",
       "      <td>2</td>\n",
       "      <td>5</td>\n",
       "      <td>Yes</td>\n",
       "      <td>147.25</td>\n",
       "      <td>39.0</td>\n",
       "      <td>106.0</td>\n",
       "      <td>78.0</td>\n",
       "    </tr>\n",
       "    <tr>\n",
       "      <th>3</th>\n",
       "      <td>No</td>\n",
       "      <td>Air Miles</td>\n",
       "      <td>Postcard</td>\n",
       "      <td>High</td>\n",
       "      <td>2</td>\n",
       "      <td>No</td>\n",
       "      <td>Medium</td>\n",
       "      <td>2</td>\n",
       "      <td>1</td>\n",
       "      <td>2</td>\n",
       "      <td>Yes</td>\n",
       "      <td>276.50</td>\n",
       "      <td>367.0</td>\n",
       "      <td>352.0</td>\n",
       "      <td>145.0</td>\n",
       "    </tr>\n",
       "    <tr>\n",
       "      <th>4</th>\n",
       "      <td>No</td>\n",
       "      <td>Air Miles</td>\n",
       "      <td>Letter</td>\n",
       "      <td>Medium</td>\n",
       "      <td>2</td>\n",
       "      <td>No</td>\n",
       "      <td>High</td>\n",
       "      <td>1</td>\n",
       "      <td>1</td>\n",
       "      <td>4</td>\n",
       "      <td>No</td>\n",
       "      <td>1219.00</td>\n",
       "      <td>1578.0</td>\n",
       "      <td>1760.0</td>\n",
       "      <td>1119.0</td>\n",
       "    </tr>\n",
       "    <tr>\n",
       "      <th>5</th>\n",
       "      <td>No</td>\n",
       "      <td>Air Miles</td>\n",
       "      <td>Letter</td>\n",
       "      <td>Medium</td>\n",
       "      <td>1</td>\n",
       "      <td>No</td>\n",
       "      <td>Medium</td>\n",
       "      <td>2</td>\n",
       "      <td>1</td>\n",
       "      <td>6</td>\n",
       "      <td>Yes</td>\n",
       "      <td>1211.00</td>\n",
       "      <td>2140.0</td>\n",
       "      <td>1357.0</td>\n",
       "      <td>982.0</td>\n",
       "    </tr>\n",
       "  </tbody>\n",
       "</table>\n",
       "</div>"
      ],
      "text/plain": [
       "  offer_accepted     reward mailer_type income_level  \\\n",
       "1             No  Air Miles      Letter         High   \n",
       "2             No  Air Miles      Letter       Medium   \n",
       "3             No  Air Miles    Postcard         High   \n",
       "4             No  Air Miles      Letter       Medium   \n",
       "5             No  Air Miles      Letter       Medium   \n",
       "\n",
       "   nr_of_bank_accounts_open overdraft_protection credit_rating  \\\n",
       "1                         1                   No          High   \n",
       "2                         1                   No        Medium   \n",
       "3                         2                   No        Medium   \n",
       "4                         2                   No          High   \n",
       "5                         1                   No        Medium   \n",
       "\n",
       "   credit_cards_held  nr_of_homes_owned  household_size own_your_home  \\\n",
       "1                  2                  1               4            No   \n",
       "2                  2                  2               5           Yes   \n",
       "3                  2                  1               2           Yes   \n",
       "4                  1                  1               4            No   \n",
       "5                  2                  1               6           Yes   \n",
       "\n",
       "   average_balance  balance_q1  balance_q2  balance_q3  \n",
       "1          1160.75      1669.0       877.0      1095.0  \n",
       "2           147.25        39.0       106.0        78.0  \n",
       "3           276.50       367.0       352.0       145.0  \n",
       "4          1219.00      1578.0      1760.0      1119.0  \n",
       "5          1211.00      2140.0      1357.0       982.0  "
      ]
     },
     "execution_count": 341,
     "metadata": {
      "tags": []
     },
     "output_type": "execute_result"
    }
   ],
   "source": [
    "explore_data(df)\n",
    "df = cleaning_columns(df)\n",
    "df.head()"
   ]
  },
  {
   "cell_type": "code",
   "execution_count": null,
   "metadata": {
    "id": "fV6uA0D0m_X-"
   },
   "outputs": [],
   "source": [
    "#dropping customer_id, not needed\n",
    "df = df.drop('customer_id',axis=1)"
   ]
  },
  {
   "cell_type": "markdown",
   "metadata": {
    "id": "h7f6cEcfGkFt"
   },
   "source": [
    "# **2. Data categories and exploration**"
   ]
  },
  {
   "cell_type": "markdown",
   "metadata": {
    "id": "3vi8ExP6QYHj"
   },
   "source": [
    "#### **2.2 Applying functions for data categories and their exploration**"
   ]
  },
  {
   "cell_type": "markdown",
   "metadata": {
    "id": "j6qKW54xQnOA"
   },
   "source": [
    "###### **2.2.1 Data categories DFs**"
   ]
  },
  {
   "cell_type": "code",
   "execution_count": null,
   "metadata": {
    "colab": {
     "base_uri": "https://localhost:8080/",
     "height": 197
    },
    "id": "a_lM57wfPgpH",
    "outputId": "1b36c21e-553f-415b-f2ce-ce549d8f305d"
   },
   "outputs": [
    {
     "data": {
      "text/html": [
       "<div>\n",
       "<style scoped>\n",
       "    .dataframe tbody tr th:only-of-type {\n",
       "        vertical-align: middle;\n",
       "    }\n",
       "\n",
       "    .dataframe tbody tr th {\n",
       "        vertical-align: top;\n",
       "    }\n",
       "\n",
       "    .dataframe thead th {\n",
       "        text-align: right;\n",
       "    }\n",
       "</style>\n",
       "<table border=\"1\" class=\"dataframe\">\n",
       "  <thead>\n",
       "    <tr style=\"text-align: right;\">\n",
       "      <th></th>\n",
       "      <th>nr_of_bank_accounts_open</th>\n",
       "      <th>credit_cards_held</th>\n",
       "      <th>nr_of_homes_owned</th>\n",
       "      <th>household_size</th>\n",
       "      <th>average_balance</th>\n",
       "      <th>balance_q1</th>\n",
       "      <th>balance_q2</th>\n",
       "      <th>balance_q3</th>\n",
       "    </tr>\n",
       "  </thead>\n",
       "  <tbody>\n",
       "    <tr>\n",
       "      <th>1</th>\n",
       "      <td>1</td>\n",
       "      <td>2</td>\n",
       "      <td>1</td>\n",
       "      <td>4</td>\n",
       "      <td>1160.75</td>\n",
       "      <td>1669.0</td>\n",
       "      <td>877.0</td>\n",
       "      <td>1095.0</td>\n",
       "    </tr>\n",
       "    <tr>\n",
       "      <th>2</th>\n",
       "      <td>1</td>\n",
       "      <td>2</td>\n",
       "      <td>2</td>\n",
       "      <td>5</td>\n",
       "      <td>147.25</td>\n",
       "      <td>39.0</td>\n",
       "      <td>106.0</td>\n",
       "      <td>78.0</td>\n",
       "    </tr>\n",
       "    <tr>\n",
       "      <th>3</th>\n",
       "      <td>2</td>\n",
       "      <td>2</td>\n",
       "      <td>1</td>\n",
       "      <td>2</td>\n",
       "      <td>276.50</td>\n",
       "      <td>367.0</td>\n",
       "      <td>352.0</td>\n",
       "      <td>145.0</td>\n",
       "    </tr>\n",
       "    <tr>\n",
       "      <th>4</th>\n",
       "      <td>2</td>\n",
       "      <td>1</td>\n",
       "      <td>1</td>\n",
       "      <td>4</td>\n",
       "      <td>1219.00</td>\n",
       "      <td>1578.0</td>\n",
       "      <td>1760.0</td>\n",
       "      <td>1119.0</td>\n",
       "    </tr>\n",
       "    <tr>\n",
       "      <th>5</th>\n",
       "      <td>1</td>\n",
       "      <td>2</td>\n",
       "      <td>1</td>\n",
       "      <td>6</td>\n",
       "      <td>1211.00</td>\n",
       "      <td>2140.0</td>\n",
       "      <td>1357.0</td>\n",
       "      <td>982.0</td>\n",
       "    </tr>\n",
       "  </tbody>\n",
       "</table>\n",
       "</div>"
      ],
      "text/plain": [
       "   nr_of_bank_accounts_open  credit_cards_held  nr_of_homes_owned  \\\n",
       "1                         1                  2                  1   \n",
       "2                         1                  2                  2   \n",
       "3                         2                  2                  1   \n",
       "4                         2                  1                  1   \n",
       "5                         1                  2                  1   \n",
       "\n",
       "   household_size  average_balance  balance_q1  balance_q2  balance_q3  \n",
       "1               4          1160.75      1669.0       877.0      1095.0  \n",
       "2               5           147.25        39.0       106.0        78.0  \n",
       "3               2           276.50       367.0       352.0       145.0  \n",
       "4               4          1219.00      1578.0      1760.0      1119.0  \n",
       "5               6          1211.00      2140.0      1357.0       982.0  "
      ]
     },
     "execution_count": 342,
     "metadata": {
      "tags": []
     },
     "output_type": "execute_result"
    }
   ],
   "source": [
    "# Numerical Data\n",
    "num = data_sep(df,'numerical')\n",
    "num.head()\n"
   ]
  },
  {
   "cell_type": "code",
   "execution_count": null,
   "metadata": {
    "colab": {
     "base_uri": "https://localhost:8080/",
     "height": 197
    },
    "id": "UfvohsAKPrfc",
    "outputId": "b832881d-4e57-40e8-d249-7f3852b7079c"
   },
   "outputs": [
    {
     "data": {
      "text/html": [
       "<div>\n",
       "<style scoped>\n",
       "    .dataframe tbody tr th:only-of-type {\n",
       "        vertical-align: middle;\n",
       "    }\n",
       "\n",
       "    .dataframe tbody tr th {\n",
       "        vertical-align: top;\n",
       "    }\n",
       "\n",
       "    .dataframe thead th {\n",
       "        text-align: right;\n",
       "    }\n",
       "</style>\n",
       "<table border=\"1\" class=\"dataframe\">\n",
       "  <thead>\n",
       "    <tr style=\"text-align: right;\">\n",
       "      <th></th>\n",
       "      <th>nr_of_bank_accounts_open</th>\n",
       "      <th>credit_cards_held</th>\n",
       "      <th>nr_of_homes_owned</th>\n",
       "      <th>household_size</th>\n",
       "    </tr>\n",
       "  </thead>\n",
       "  <tbody>\n",
       "    <tr>\n",
       "      <th>1</th>\n",
       "      <td>1</td>\n",
       "      <td>2</td>\n",
       "      <td>1</td>\n",
       "      <td>4</td>\n",
       "    </tr>\n",
       "    <tr>\n",
       "      <th>2</th>\n",
       "      <td>1</td>\n",
       "      <td>2</td>\n",
       "      <td>2</td>\n",
       "      <td>5</td>\n",
       "    </tr>\n",
       "    <tr>\n",
       "      <th>3</th>\n",
       "      <td>2</td>\n",
       "      <td>2</td>\n",
       "      <td>1</td>\n",
       "      <td>2</td>\n",
       "    </tr>\n",
       "    <tr>\n",
       "      <th>4</th>\n",
       "      <td>2</td>\n",
       "      <td>1</td>\n",
       "      <td>1</td>\n",
       "      <td>4</td>\n",
       "    </tr>\n",
       "    <tr>\n",
       "      <th>5</th>\n",
       "      <td>1</td>\n",
       "      <td>2</td>\n",
       "      <td>1</td>\n",
       "      <td>6</td>\n",
       "    </tr>\n",
       "  </tbody>\n",
       "</table>\n",
       "</div>"
      ],
      "text/plain": [
       "   nr_of_bank_accounts_open  credit_cards_held  nr_of_homes_owned  \\\n",
       "1                         1                  2                  1   \n",
       "2                         1                  2                  2   \n",
       "3                         2                  2                  1   \n",
       "4                         2                  1                  1   \n",
       "5                         1                  2                  1   \n",
       "\n",
       "   household_size  \n",
       "1               4  \n",
       "2               5  \n",
       "3               2  \n",
       "4               4  \n",
       "5               6  "
      ]
     },
     "execution_count": 343,
     "metadata": {
      "tags": []
     },
     "output_type": "execute_result"
    }
   ],
   "source": [
    "# Discrete data\n",
    "num_disc = data_sep(df, 'discrete')\n",
    "num_disc.head()"
   ]
  },
  {
   "cell_type": "code",
   "execution_count": null,
   "metadata": {
    "colab": {
     "base_uri": "https://localhost:8080/",
     "height": 197
    },
    "id": "zGhPbdsxPukg",
    "outputId": "ba5b0bf2-2bd3-41e4-9e11-fedfcd5a335c"
   },
   "outputs": [
    {
     "data": {
      "text/html": [
       "<div>\n",
       "<style scoped>\n",
       "    .dataframe tbody tr th:only-of-type {\n",
       "        vertical-align: middle;\n",
       "    }\n",
       "\n",
       "    .dataframe tbody tr th {\n",
       "        vertical-align: top;\n",
       "    }\n",
       "\n",
       "    .dataframe thead th {\n",
       "        text-align: right;\n",
       "    }\n",
       "</style>\n",
       "<table border=\"1\" class=\"dataframe\">\n",
       "  <thead>\n",
       "    <tr style=\"text-align: right;\">\n",
       "      <th></th>\n",
       "      <th>average_balance</th>\n",
       "      <th>balance_q1</th>\n",
       "      <th>balance_q2</th>\n",
       "      <th>balance_q3</th>\n",
       "    </tr>\n",
       "  </thead>\n",
       "  <tbody>\n",
       "    <tr>\n",
       "      <th>1</th>\n",
       "      <td>1160.75</td>\n",
       "      <td>1669.0</td>\n",
       "      <td>877.0</td>\n",
       "      <td>1095.0</td>\n",
       "    </tr>\n",
       "    <tr>\n",
       "      <th>2</th>\n",
       "      <td>147.25</td>\n",
       "      <td>39.0</td>\n",
       "      <td>106.0</td>\n",
       "      <td>78.0</td>\n",
       "    </tr>\n",
       "    <tr>\n",
       "      <th>3</th>\n",
       "      <td>276.50</td>\n",
       "      <td>367.0</td>\n",
       "      <td>352.0</td>\n",
       "      <td>145.0</td>\n",
       "    </tr>\n",
       "    <tr>\n",
       "      <th>4</th>\n",
       "      <td>1219.00</td>\n",
       "      <td>1578.0</td>\n",
       "      <td>1760.0</td>\n",
       "      <td>1119.0</td>\n",
       "    </tr>\n",
       "    <tr>\n",
       "      <th>5</th>\n",
       "      <td>1211.00</td>\n",
       "      <td>2140.0</td>\n",
       "      <td>1357.0</td>\n",
       "      <td>982.0</td>\n",
       "    </tr>\n",
       "  </tbody>\n",
       "</table>\n",
       "</div>"
      ],
      "text/plain": [
       "   average_balance  balance_q1  balance_q2  balance_q3\n",
       "1          1160.75      1669.0       877.0      1095.0\n",
       "2           147.25        39.0       106.0        78.0\n",
       "3           276.50       367.0       352.0       145.0\n",
       "4          1219.00      1578.0      1760.0      1119.0\n",
       "5          1211.00      2140.0      1357.0       982.0"
      ]
     },
     "execution_count": 344,
     "metadata": {
      "tags": []
     },
     "output_type": "execute_result"
    }
   ],
   "source": [
    "# Continuous data\n",
    "num_cont = data_sep(df, 'continuous')\n",
    "num_cont.head()"
   ]
  },
  {
   "cell_type": "code",
   "execution_count": null,
   "metadata": {
    "colab": {
     "base_uri": "https://localhost:8080/",
     "height": 197
    },
    "id": "IM6jFeCAPxmh",
    "outputId": "54da835b-4961-4060-cf63-7edd81f46609"
   },
   "outputs": [
    {
     "data": {
      "text/html": [
       "<div>\n",
       "<style scoped>\n",
       "    .dataframe tbody tr th:only-of-type {\n",
       "        vertical-align: middle;\n",
       "    }\n",
       "\n",
       "    .dataframe tbody tr th {\n",
       "        vertical-align: top;\n",
       "    }\n",
       "\n",
       "    .dataframe thead th {\n",
       "        text-align: right;\n",
       "    }\n",
       "</style>\n",
       "<table border=\"1\" class=\"dataframe\">\n",
       "  <thead>\n",
       "    <tr style=\"text-align: right;\">\n",
       "      <th></th>\n",
       "      <th>offer_accepted</th>\n",
       "      <th>reward</th>\n",
       "      <th>mailer_type</th>\n",
       "      <th>income_level</th>\n",
       "      <th>overdraft_protection</th>\n",
       "      <th>credit_rating</th>\n",
       "      <th>own_your_home</th>\n",
       "    </tr>\n",
       "  </thead>\n",
       "  <tbody>\n",
       "    <tr>\n",
       "      <th>1</th>\n",
       "      <td>No</td>\n",
       "      <td>Air Miles</td>\n",
       "      <td>Letter</td>\n",
       "      <td>High</td>\n",
       "      <td>No</td>\n",
       "      <td>High</td>\n",
       "      <td>No</td>\n",
       "    </tr>\n",
       "    <tr>\n",
       "      <th>2</th>\n",
       "      <td>No</td>\n",
       "      <td>Air Miles</td>\n",
       "      <td>Letter</td>\n",
       "      <td>Medium</td>\n",
       "      <td>No</td>\n",
       "      <td>Medium</td>\n",
       "      <td>Yes</td>\n",
       "    </tr>\n",
       "    <tr>\n",
       "      <th>3</th>\n",
       "      <td>No</td>\n",
       "      <td>Air Miles</td>\n",
       "      <td>Postcard</td>\n",
       "      <td>High</td>\n",
       "      <td>No</td>\n",
       "      <td>Medium</td>\n",
       "      <td>Yes</td>\n",
       "    </tr>\n",
       "    <tr>\n",
       "      <th>4</th>\n",
       "      <td>No</td>\n",
       "      <td>Air Miles</td>\n",
       "      <td>Letter</td>\n",
       "      <td>Medium</td>\n",
       "      <td>No</td>\n",
       "      <td>High</td>\n",
       "      <td>No</td>\n",
       "    </tr>\n",
       "    <tr>\n",
       "      <th>5</th>\n",
       "      <td>No</td>\n",
       "      <td>Air Miles</td>\n",
       "      <td>Letter</td>\n",
       "      <td>Medium</td>\n",
       "      <td>No</td>\n",
       "      <td>Medium</td>\n",
       "      <td>Yes</td>\n",
       "    </tr>\n",
       "  </tbody>\n",
       "</table>\n",
       "</div>"
      ],
      "text/plain": [
       "  offer_accepted     reward mailer_type income_level overdraft_protection  \\\n",
       "1             No  Air Miles      Letter         High                   No   \n",
       "2             No  Air Miles      Letter       Medium                   No   \n",
       "3             No  Air Miles    Postcard         High                   No   \n",
       "4             No  Air Miles      Letter       Medium                   No   \n",
       "5             No  Air Miles      Letter       Medium                   No   \n",
       "\n",
       "  credit_rating own_your_home  \n",
       "1          High            No  \n",
       "2        Medium           Yes  \n",
       "3        Medium           Yes  \n",
       "4          High            No  \n",
       "5        Medium           Yes  "
      ]
     },
     "execution_count": 345,
     "metadata": {
      "tags": []
     },
     "output_type": "execute_result"
    }
   ],
   "source": [
    "# Categorical data\n",
    "cat = data_sep(df,'cat','offer_accepted')\n",
    "cat.head()"
   ]
  },
  {
   "cell_type": "markdown",
   "metadata": {
    "id": "Ed653ThyRJym"
   },
   "source": [
    "###### 1.2.2 Data categories exploration"
   ]
  },
  {
   "cell_type": "code",
   "execution_count": null,
   "metadata": {
    "colab": {
     "base_uri": "https://localhost:8080/",
     "height": 1000
    },
    "id": "CqmKXuFPRGYK",
    "outputId": "bde1c1e0-1782-4b6d-f8e6-57e46f579b54"
   },
   "outputs": [
    {
     "name": "stdout",
     "output_type": "stream",
     "text": [
      "** PLOTTING NUM DESCRIBE **\n",
      "                            count         mean         std    min     25%  \\\n",
      "nr_of_bank_accounts_open  17969.0     1.239357    0.426703   1.00    1.00   \n",
      "credit_cards_held         17969.0     1.658078    0.474367   1.00    1.00   \n",
      "nr_of_homes_owned         17969.0     1.193333    0.394923   1.00    1.00   \n",
      "household_size            17969.0     3.498803    1.113500   1.00    3.00   \n",
      "average_balance           17969.0   940.757875  350.093745  48.25  787.75   \n",
      "balance_q1                17969.0   910.785408  619.962699   1.00  393.00   \n",
      "balance_q2                17969.0   999.604430  457.254096   1.00  663.00   \n",
      "balance_q3                17969.0  1042.295286  553.310560   1.00  633.00   \n",
      "\n",
      "                             50%      75%      max  \n",
      "nr_of_bank_accounts_open     1.0     1.00     2.00  \n",
      "credit_cards_held            2.0     2.00     2.00  \n",
      "nr_of_homes_owned            1.0     1.00     2.00  \n",
      "household_size               3.0     4.00     6.00  \n",
      "average_balance           1007.0  1153.25  3366.25  \n",
      "balance_q1                 772.0  1522.00  3450.00  \n",
      "balance_q2                1032.0  1342.00  3421.00  \n",
      "balance_q3                 946.0  1463.00  3823.00  \n",
      " \n",
      "** PLOTING CATEGORICAL VARIABLES **\n",
      "Column:  offer_accepted\n"
     ]
    },
    {
     "data": {
      "image/png": "[encoded data removed]",
      "text/plain": [
       "<Figure size 432x288 with 1 Axes>"
      ]
     },
     "metadata": {
      "needs_background": "light",
      "tags": []
     },
     "output_type": "display_data"
    },
    {
     "name": "stdout",
     "output_type": "stream",
     "text": [
      "====================\n",
      "Column:  reward\n"
     ]
    },
    {
     "data": {
      "image/png": "[encoded data removed]",
      "text/plain": [
       "<Figure size 432x288 with 1 Axes>"
      ]
     },
     "metadata": {
      "needs_background": "light",
      "tags": []
     },
     "output_type": "display_data"
    },
    {
     "name": "stdout",
     "output_type": "stream",
     "text": [
      "====================\n",
      "Column:  mailer_type\n"
     ]
    },
    {
     "data": {
      "image/png": "[encoded data removed]",
      "text/plain": [
       "<Figure size 432x288 with 1 Axes>"
      ]
     },
     "metadata": {
      "needs_background": "light",
      "tags": []
     },
     "output_type": "display_data"
    },
    {
     "name": "stdout",
     "output_type": "stream",
     "text": [
      "====================\n",
      "Column:  income_level\n"
     ]
    },
    {
     "data": {
      "image/png": "[encoded data removed]",
      "text/plain": [
       "<Figure size 432x288 with 1 Axes>"
      ]
     },
     "metadata": {
      "needs_background": "light",
      "tags": []
     },
     "output_type": "display_data"
    },
    {
     "name": "stdout",
     "output_type": "stream",
     "text": [
      "====================\n",
      "Column:  overdraft_protection\n"
     ]
    },
    {
     "data": {
      "image/png": "[encoded data removed]",
      "text/plain": [
       "<Figure size 432x288 with 1 Axes>"
      ]
     },
     "metadata": {
      "needs_background": "light",
      "tags": []
     },
     "output_type": "display_data"
    },
    {
     "name": "stdout",
     "output_type": "stream",
     "text": [
      "====================\n",
      "Column:  credit_rating\n"
     ]
    },
    {
     "data": {
      "image/png": "[encoded data removed]",
      "text/plain": [
       "<Figure size 432x288 with 1 Axes>"
      ]
     },
     "metadata": {
      "needs_background": "light",
      "tags": []
     },
     "output_type": "display_data"
    },
    {
     "name": "stdout",
     "output_type": "stream",
     "text": [
      "====================\n",
      "Column:  own_your_home\n"
     ]
    },
    {
     "data": {
      "image/png": "[encoded data removed]",
      "text/plain": [
       "<Figure size 432x288 with 1 Axes>"
      ]
     },
     "metadata": {
      "needs_background": "light",
      "tags": []
     },
     "output_type": "display_data"
    },
    {
     "name": "stdout",
     "output_type": "stream",
     "text": [
      "====================\n",
      " \n",
      "** PLOTING CONTINUOUS VARIABLES **\n",
      "Column:  average_balance\n"
     ]
    },
    {
     "data": {
      "image/png": "[encoded data removed]",
      "text/plain": [
       "<Figure size 432x288 with 1 Axes>"
      ]
     },
     "metadata": {
      "needs_background": "light",
      "tags": []
     },
     "output_type": "display_data"
    },
    {
     "name": "stdout",
     "output_type": "stream",
     "text": [
      "====================\n",
      "Column:  balance_q1\n"
     ]
    },
    {
     "data": {
      "image/png": "[encoded data removed]",
      "text/plain": [
       "<Figure size 432x288 with 1 Axes>"
      ]
     },
     "metadata": {
      "needs_background": "light",
      "tags": []
     },
     "output_type": "display_data"
    },
    {
     "name": "stdout",
     "output_type": "stream",
     "text": [
      "====================\n",
      "Column:  balance_q2\n"
     ]
    },
    {
     "data": {
      "image/png": "[encoded data removed]",
      "text/plain": [
       "<Figure size 432x288 with 1 Axes>"
      ]
     },
     "metadata": {
      "needs_background": "light",
      "tags": []
     },
     "output_type": "display_data"
    },
    {
     "name": "stdout",
     "output_type": "stream",
     "text": [
      "====================\n",
      "Column:  balance_q3\n"
     ]
    },
    {
     "data": {
      "image/png": "[encoded data removed]",
      "text/plain": [
       "<Figure size 432x288 with 1 Axes>"
      ]
     },
     "metadata": {
      "needs_background": "light",
      "tags": []
     },
     "output_type": "display_data"
    },
    {
     "name": "stdout",
     "output_type": "stream",
     "text": [
      "====================\n",
      " \n",
      "** PLOTTING DISCRETE VARIABLES **\n",
      "Column:  nr_of_bank_accounts_open\n"
     ]
    },
    {
     "data": {
      "image/png": "[encoded data removed]",
      "text/plain": [
       "<Figure size 432x288 with 1 Axes>"
      ]
     },
     "metadata": {
      "needs_background": "light",
      "tags": []
     },
     "output_type": "display_data"
    },
    {
     "name": "stdout",
     "output_type": "stream",
     "text": [
      "====================\n",
      "Column:  credit_cards_held\n"
     ]
    },
    {
     "data": {
      "image/png": "[encoded data removed]",
      "text/plain": [
       "<Figure size 432x288 with 1 Axes>"
      ]
     },
     "metadata": {
      "needs_background": "light",
      "tags": []
     },
     "output_type": "display_data"
    },
    {
     "name": "stdout",
     "output_type": "stream",
     "text": [
      "====================\n",
      "Column:  nr_of_homes_owned\n"
     ]
    },
    {
     "data": {
      "image/png": "[encoded data removed]",
      "text/plain": [
       "<Figure size 432x288 with 1 Axes>"
      ]
     },
     "metadata": {
      "needs_background": "light",
      "tags": []
     },
     "output_type": "display_data"
    },
    {
     "name": "stdout",
     "output_type": "stream",
     "text": [
      "====================\n",
      "Column:  household_size\n"
     ]
    },
    {
     "data": {
      "image/png": "[encoded data removed]",
      "text/plain": [
       "<Figure size 432x288 with 1 Axes>"
      ]
     },
     "metadata": {
      "needs_background": "light",
      "tags": []
     },
     "output_type": "display_data"
    },
    {
     "name": "stdout",
     "output_type": "stream",
     "text": [
      "====================\n",
      " \n",
      "** PLOTTING CORRELATION MATRIX **\n"
     ]
    },
    {
     "data": {
      "image/png": "[encoded data removed]",
      "text/plain": [
       "<Figure size 720x576 with 2 Axes>"
      ]
     },
     "metadata": {
      "needs_background": "light",
      "tags": []
     },
     "output_type": "display_data"
    }
   ],
   "source": [
    "plot_master()"
   ]
  },
  {
   "cell_type": "code",
   "execution_count": null,
   "metadata": {
    "colab": {
     "base_uri": "https://localhost:8080/"
    },
    "id": "S7vdtdbtVIku",
    "outputId": "83421dfd-1964-4413-930f-74371c585daa"
   },
   "outputs": [
    {
     "name": "stdout",
     "output_type": "stream",
     "text": [
      "==========================================================\n",
      "RELATIONSHIP OFFER_ACCEPTED and REWARD\n",
      "reward          Air Miles  Cash Back  Points\n",
      "offer_accepted                              \n",
      "No                   5583       5787    5578\n",
      "Yes                   463        206     352\n",
      "dof=2\n",
      "[[5702.46580221 5652.4772664  5593.05693138]\n",
      " [ 343.53419779  340.5227336   336.94306862]]\n",
      "probability=0.950, critical=5.991, stat=101.105\n",
      "Dependent (reject H0)\n",
      "significance=0.050, p=0.000\n",
      "!!!!! DEPENDENT (reject H0)\n",
      "==========================================================\n",
      "==========================================================\n",
      "RELATIONSHIP OFFER_ACCEPTED and MAILER_TYPE\n",
      "mailer_type     Letter  Postcard\n",
      "offer_accepted                  \n",
      "No                8540      8408\n",
      "Yes                300       721\n",
      "dof=1\n",
      "[[8337.71050142 8610.28949858]\n",
      " [ 502.28949858  518.71050142]]\n",
      "probability=0.950, critical=3.841, stat=169.180\n",
      "Dependent (reject H0)\n",
      "significance=0.050, p=0.000\n",
      "!!!!! DEPENDENT (reject H0)\n",
      "==========================================================\n",
      "==========================================================\n",
      "RELATIONSHIP OFFER_ACCEPTED and INCOME_LEVEL\n",
      "income_level    High   Low  Medium\n",
      "offer_accepted                    \n",
      "No              4352  4067    8529\n",
      "Yes              165   387     469\n",
      "dof=2\n",
      "[[4260.34370304 4200.92336802 8486.73292893]\n",
      " [ 256.65629696  253.07663198  511.26707107]]\n",
      "probability=0.950, critical=5.991, stat=113.548\n",
      "Dependent (reject H0)\n",
      "significance=0.050, p=0.000\n",
      "!!!!! DEPENDENT (reject H0)\n",
      "==========================================================\n",
      "==========================================================\n",
      "RELATIONSHIP OFFER_ACCEPTED and OVERDRAFT_PROTECTION\n",
      "overdraft_protection     No   Yes\n",
      "offer_accepted                   \n",
      "No                    14422  2526\n",
      "Yes                     873   148\n",
      "dof=1\n",
      "[[14425.93689131  2522.06310869]\n",
      " [  869.06310869   151.93689131]]\n",
      "probability=0.950, critical=3.841, stat=0.097\n",
      "Independent (fail to reject H0)\n",
      "significance=0.050, p=0.756\n",
      "Independent (fail to reject H0)\n",
      "==========================================================\n",
      "==========================================================\n",
      "RELATIONSHIP OFFER_ACCEPTED and CREDIT_RATING\n",
      "credit_rating   High   Low  Medium\n",
      "offer_accepted                    \n",
      "No              5943  5312    5693\n",
      "Yes              119   633     269\n",
      "dof=2\n",
      "[[5717.55668095 5607.2046302  5623.23868885]\n",
      " [ 344.44331905  337.7953698   338.76131115]]\n",
      "probability=0.950, critical=5.991, stat=445.202\n",
      "Dependent (reject H0)\n",
      "significance=0.050, p=0.000\n",
      "!!!!! DEPENDENT (reject H0)\n",
      "==========================================================\n",
      "==========================================================\n",
      "RELATIONSHIP OFFER_ACCEPTED and OWN_YOUR_HOME\n",
      "own_your_home     No    Yes\n",
      "offer_accepted             \n",
      "No              5979  10969\n",
      "Yes              360    661\n",
      "dof=1\n",
      "[[ 5978.81751906 10969.18248094]\n",
      " [  360.18248094   660.81751906]]\n",
      "probability=0.950, critical=3.841, stat=0.000\n",
      "Independent (fail to reject H0)\n",
      "significance=0.050, p=0.983\n",
      "Independent (fail to reject H0)\n",
      "==========================================================\n",
      "==========================================================\n",
      "RELATIONSHIP REWARD and OFFER_ACCEPTED\n",
      "offer_accepted    No  Yes\n",
      "reward                   \n",
      "Air Miles       5583  463\n",
      "Cash Back       5787  206\n",
      "Points          5578  352\n",
      "dof=2\n",
      "[[5702.46580221  343.53419779]\n",
      " [5652.4772664   340.5227336 ]\n",
      " [5593.05693138  336.94306862]]\n",
      "probability=0.950, critical=5.991, stat=101.105\n",
      "Dependent (reject H0)\n",
      "significance=0.050, p=0.000\n",
      "!!!!! DEPENDENT (reject H0)\n",
      "==========================================================\n",
      "==========================================================\n",
      "RELATIONSHIP REWARD and MAILER_TYPE\n",
      "mailer_type  Letter  Postcard\n",
      "reward                       \n",
      "Air Miles      2945      3101\n",
      "Cash Back      2965      3028\n",
      "Points         2930      3000\n",
      "dof=2\n",
      "[[2974.38032167 3071.61967833]\n",
      " [2948.30652791 3044.69347209]\n",
      " [2917.31315043 3012.68684957]]\n",
      "probability=0.950, critical=5.991, stat=0.866\n",
      "Independent (fail to reject H0)\n",
      "significance=0.050, p=0.649\n",
      "Independent (fail to reject H0)\n",
      "==========================================================\n",
      "==========================================================\n",
      "RELATIONSHIP REWARD and INCOME_LEVEL\n",
      "income_level  High   Low  Medium\n",
      "reward                          \n",
      "Air Miles     1491  1532    3023\n",
      "Cash Back     1534  1466    2993\n",
      "Points        1492  1456    2982\n",
      "dof=4\n",
      "[[1519.82759196 1498.63008515 3027.54232289]\n",
      " [1506.50459124 1485.49290445 3001.00250431]\n",
      " [1490.6678168  1469.87701041 2969.4551728 ]]\n",
      "probability=0.950, critical=9.488, stat=2.261\n",
      "Independent (fail to reject H0)\n",
      "significance=0.050, p=0.688\n",
      "Independent (fail to reject H0)\n",
      "==========================================================\n",
      "==========================================================\n",
      "RELATIONSHIP REWARD and OVERDRAFT_PROTECTION\n",
      "overdraft_protection    No  Yes\n",
      "reward                         \n",
      "Air Miles             5121  925\n",
      "Cash Back             5101  892\n",
      "Points                5073  857\n",
      "dof=2\n",
      "[[5146.28359953  899.71640047]\n",
      " [5101.17062719  891.82937281]\n",
      " [5047.54577328  882.45422672]]\n",
      "probability=0.950, critical=5.991, stat=1.697\n",
      "Independent (fail to reject H0)\n",
      "significance=0.050, p=0.428\n",
      "Independent (fail to reject H0)\n",
      "==========================================================\n",
      "==========================================================\n",
      "RELATIONSHIP REWARD and CREDIT_RATING\n",
      "credit_rating  High   Low  Medium\n",
      "reward                           \n",
      "Air Miles      2075  1991    1980\n",
      "Cash Back      2012  2002    1979\n",
      "Points         1975  1952    2003\n",
      "dof=4\n",
      "[[2039.67121153 2000.30441316 2006.02437531]\n",
      " [2021.79119595 1982.7694919  1988.43931215]\n",
      " [2000.53759252 1961.92609494 1967.53631254]]\n",
      "probability=0.950, critical=9.488, stat=2.287\n",
      "Independent (fail to reject H0)\n",
      "significance=0.050, p=0.683\n",
      "Independent (fail to reject H0)\n",
      "==========================================================\n",
      "==========================================================\n",
      "RELATIONSHIP REWARD and OWN_YOUR_HOME\n",
      "own_your_home    No   Yes\n",
      "reward                   \n",
      "Air Miles      2126  3920\n",
      "Cash Back      2153  3840\n",
      "Points         2060  3870\n",
      "dof=2\n",
      "[[2132.87294785 3913.12705215]\n",
      " [2114.17591407 3878.82408593]\n",
      " [2091.95113807 3838.04886193]]\n",
      "probability=0.950, critical=5.991, stat=1.890\n",
      "Independent (fail to reject H0)\n",
      "significance=0.050, p=0.389\n",
      "Independent (fail to reject H0)\n",
      "==========================================================\n",
      "==========================================================\n",
      "RELATIONSHIP MAILER_TYPE and OFFER_ACCEPTED\n",
      "offer_accepted    No  Yes\n",
      "mailer_type              \n",
      "Letter          8540  300\n",
      "Postcard        8408  721\n",
      "dof=1\n",
      "[[8337.71050142  502.28949858]\n",
      " [8610.28949858  518.71050142]]\n",
      "probability=0.950, critical=3.841, stat=169.180\n",
      "Dependent (reject H0)\n",
      "significance=0.050, p=0.000\n",
      "!!!!! DEPENDENT (reject H0)\n",
      "==========================================================\n",
      "==========================================================\n",
      "RELATIONSHIP MAILER_TYPE and REWARD\n",
      "reward       Air Miles  Cash Back  Points\n",
      "mailer_type                              \n",
      "Letter            2945       2965    2930\n",
      "Postcard          3101       3028    3000\n",
      "dof=2\n",
      "[[2974.38032167 2948.30652791 2917.31315043]\n",
      " [3071.61967833 3044.69347209 3012.68684957]]\n",
      "probability=0.950, critical=5.991, stat=0.866\n",
      "Independent (fail to reject H0)\n",
      "significance=0.050, p=0.649\n",
      "Independent (fail to reject H0)\n",
      "==========================================================\n",
      "==========================================================\n",
      "RELATIONSHIP MAILER_TYPE and INCOME_LEVEL\n",
      "income_level  High   Low  Medium\n",
      "mailer_type                     \n",
      "Letter        2201  2217    4422\n",
      "Postcard      2316  2237    4576\n",
      "dof=2\n",
      "[[2222.17596973 2191.18259224 4426.64143803]\n",
      " [2294.82403027 2262.81740776 4571.35856197]]\n",
      "probability=0.950, critical=5.991, stat=1.006\n",
      "Independent (fail to reject H0)\n",
      "significance=0.050, p=0.605\n",
      "Independent (fail to reject H0)\n",
      "==========================================================\n",
      "==========================================================\n",
      "RELATIONSHIP MAILER_TYPE and OVERDRAFT_PROTECTION\n",
      "overdraft_protection    No   Yes\n",
      "mailer_type                     \n",
      "Letter                7533  1307\n",
      "Postcard              7762  1367\n",
      "dof=1\n",
      "[[7524.50331126 1315.49668874]\n",
      " [7770.49668874 1358.50331126]]\n",
      "probability=0.950, critical=3.841, stat=0.112\n",
      "Independent (fail to reject H0)\n",
      "significance=0.050, p=0.737\n",
      "Independent (fail to reject H0)\n",
      "==========================================================\n",
      "==========================================================\n",
      "RELATIONSHIP MAILER_TYPE and CREDIT_RATING\n",
      "credit_rating  High   Low  Medium\n",
      "mailer_type                      \n",
      "Letter         2971  2910    2959\n",
      "Postcard       3091  3035    3003\n",
      "dof=2\n",
      "[[2982.25165563 2924.69252602 2933.05581835]\n",
      " [3079.74834437 3020.30747398 3028.94418165]]\n",
      "probability=0.950, critical=5.991, stat=0.681\n",
      "Independent (fail to reject H0)\n",
      "significance=0.050, p=0.712\n",
      "Independent (fail to reject H0)\n",
      "==========================================================\n",
      "==========================================================\n",
      "RELATIONSHIP MAILER_TYPE and OWN_YOUR_HOME\n",
      "own_your_home    No   Yes\n",
      "mailer_type              \n",
      "Letter         3100  5740\n",
      "Postcard       3239  5890\n",
      "dof=1\n",
      "[[3118.52412488 5721.47587512]\n",
      " [3220.47587512 5908.52412488]]\n",
      "probability=0.950, critical=3.841, stat=0.317\n",
      "Independent (fail to reject H0)\n",
      "significance=0.050, p=0.574\n",
      "Independent (fail to reject H0)\n",
      "==========================================================\n",
      "==========================================================\n",
      "RELATIONSHIP INCOME_LEVEL and OFFER_ACCEPTED\n",
      "offer_accepted    No  Yes\n",
      "income_level             \n",
      "High            4352  165\n",
      "Low             4067  387\n",
      "Medium          8529  469\n",
      "dof=2\n",
      "[[4260.34370304  256.65629696]\n",
      " [4200.92336802  253.07663198]\n",
      " [8486.73292893  511.26707107]]\n",
      "probability=0.950, critical=5.991, stat=113.548\n",
      "Dependent (reject H0)\n",
      "significance=0.050, p=0.000\n",
      "!!!!! DEPENDENT (reject H0)\n",
      "==========================================================\n",
      "==========================================================\n",
      "RELATIONSHIP INCOME_LEVEL and REWARD\n",
      "reward        Air Miles  Cash Back  Points\n",
      "income_level                              \n",
      "High               1491       1534    1492\n",
      "Low                1532       1466    1456\n",
      "Medium             3023       2993    2982\n",
      "dof=4\n",
      "[[1519.82759196 1506.50459124 1490.6678168 ]\n",
      " [1498.63008515 1485.49290445 1469.87701041]\n",
      " [3027.54232289 3001.00250431 2969.4551728 ]]\n",
      "probability=0.950, critical=9.488, stat=2.261\n",
      "Independent (fail to reject H0)\n",
      "significance=0.050, p=0.688\n",
      "Independent (fail to reject H0)\n",
      "==========================================================\n",
      "==========================================================\n",
      "RELATIONSHIP INCOME_LEVEL and MAILER_TYPE\n",
      "mailer_type   Letter  Postcard\n",
      "income_level                  \n",
      "High            2201      2316\n",
      "Low             2217      2237\n",
      "Medium          4422      4576\n",
      "dof=2\n",
      "[[2222.17596973 2294.82403027]\n",
      " [2191.18259224 2262.81740776]\n",
      " [4426.64143803 4571.35856197]]\n",
      "probability=0.950, critical=5.991, stat=1.006\n",
      "Independent (fail to reject H0)\n",
      "significance=0.050, p=0.605\n",
      "Independent (fail to reject H0)\n",
      "==========================================================\n",
      "==========================================================\n",
      "RELATIONSHIP INCOME_LEVEL and OVERDRAFT_PROTECTION\n",
      "overdraft_protection    No   Yes\n",
      "income_level                    \n",
      "High                  3868   649\n",
      "Low                   3781   673\n",
      "Medium                7646  1352\n",
      "dof=2\n",
      "[[3844.8169069   672.1830931 ]\n",
      " [3791.19205298  662.80794702]\n",
      " [7658.99104012 1339.00895988]]\n",
      "probability=0.950, critical=5.991, stat=1.272\n",
      "Independent (fail to reject H0)\n",
      "significance=0.050, p=0.530\n",
      "Independent (fail to reject H0)\n",
      "==========================================================\n",
      "==========================================================\n",
      "RELATIONSHIP INCOME_LEVEL and CREDIT_RATING\n",
      "credit_rating  High   Low  Medium\n",
      "income_level                     \n",
      "High           1512  1524    1481\n",
      "Low            1538  1439    1477\n",
      "Medium         3012  2982    3004\n",
      "dof=4\n",
      "[[1523.84962992 1494.43847738 1498.7118927 ]\n",
      " [1502.59602649 1473.59508042 1477.80889309]\n",
      " [3035.55434359 2976.96644221 2985.4792142 ]]\n",
      "probability=0.950, critical=9.488, stat=2.839\n",
      "Independent (fail to reject H0)\n",
      "significance=0.050, p=0.585\n",
      "Independent (fail to reject H0)\n",
      "==========================================================\n",
      "==========================================================\n",
      "RELATIONSHIP INCOME_LEVEL and OWN_YOUR_HOME\n",
      "own_your_home    No   Yes\n",
      "income_level             \n",
      "High           1634  2883\n",
      "Low            1551  2903\n",
      "Medium         3154  5844\n",
      "dof=2\n",
      "[[1593.481162 2923.518838]\n",
      " [1571.256386 2882.743614]\n",
      " [3174.262452 5823.737548]]\n",
      "probability=0.950, critical=5.991, stat=2.195\n",
      "Independent (fail to reject H0)\n",
      "significance=0.050, p=0.334\n",
      "Independent (fail to reject H0)\n",
      "==========================================================\n",
      "==========================================================\n",
      "RELATIONSHIP OVERDRAFT_PROTECTION and OFFER_ACCEPTED\n",
      "offer_accepted           No  Yes\n",
      "overdraft_protection            \n",
      "No                    14422  873\n",
      "Yes                    2526  148\n",
      "dof=1\n",
      "[[14425.93689131   869.06310869]\n",
      " [ 2522.06310869   151.93689131]]\n",
      "probability=0.950, critical=3.841, stat=0.097\n",
      "Independent (fail to reject H0)\n",
      "significance=0.050, p=0.756\n",
      "Independent (fail to reject H0)\n",
      "==========================================================\n",
      "==========================================================\n",
      "RELATIONSHIP OVERDRAFT_PROTECTION and REWARD\n",
      "reward                Air Miles  Cash Back  Points\n",
      "overdraft_protection                              \n",
      "No                         5121       5101    5073\n",
      "Yes                         925        892     857\n",
      "dof=2\n",
      "[[5146.28359953 5101.17062719 5047.54577328]\n",
      " [ 899.71640047  891.82937281  882.45422672]]\n",
      "probability=0.950, critical=5.991, stat=1.697\n",
      "Independent (fail to reject H0)\n",
      "significance=0.050, p=0.428\n",
      "Independent (fail to reject H0)\n",
      "==========================================================\n",
      "==========================================================\n",
      "RELATIONSHIP OVERDRAFT_PROTECTION and MAILER_TYPE\n",
      "mailer_type           Letter  Postcard\n",
      "overdraft_protection                  \n",
      "No                      7533      7762\n",
      "Yes                     1307      1367\n",
      "dof=1\n",
      "[[7524.50331126 7770.49668874]\n",
      " [1315.49668874 1358.50331126]]\n",
      "probability=0.950, critical=3.841, stat=0.112\n",
      "Independent (fail to reject H0)\n",
      "significance=0.050, p=0.737\n",
      "Independent (fail to reject H0)\n",
      "==========================================================\n",
      "==========================================================\n",
      "RELATIONSHIP OVERDRAFT_PROTECTION and INCOME_LEVEL\n",
      "income_level          High   Low  Medium\n",
      "overdraft_protection                    \n",
      "No                    3868  3781    7646\n",
      "Yes                    649   673    1352\n",
      "dof=2\n",
      "[[3844.8169069  3791.19205298 7658.99104012]\n",
      " [ 672.1830931   662.80794702 1339.00895988]]\n",
      "probability=0.950, critical=5.991, stat=1.272\n",
      "Independent (fail to reject H0)\n",
      "significance=0.050, p=0.530\n",
      "Independent (fail to reject H0)\n",
      "==========================================================\n",
      "==========================================================\n",
      "RELATIONSHIP OVERDRAFT_PROTECTION and CREDIT_RATING\n",
      "credit_rating         High   Low  Medium\n",
      "overdraft_protection                    \n",
      "No                    5178  5067    5050\n",
      "Yes                    884   878     912\n",
      "dof=2\n",
      "[[5159.90261005 5060.31359564 5074.78379431]\n",
      " [ 902.09738995  884.68640436  887.21620569]]\n",
      "probability=0.950, critical=5.991, stat=1.299\n",
      "Independent (fail to reject H0)\n",
      "significance=0.050, p=0.522\n",
      "Independent (fail to reject H0)\n",
      "==========================================================\n",
      "==========================================================\n",
      "RELATIONSHIP OVERDRAFT_PROTECTION and OWN_YOUR_HOME\n",
      "own_your_home           No   Yes\n",
      "overdraft_protection            \n",
      "No                    5421  9874\n",
      "Yes                    918  1756\n",
      "dof=1\n",
      "[[5395.68172965 9899.31827035]\n",
      " [ 943.31827035 1730.68172965]]\n",
      "probability=0.950, critical=3.841, stat=1.185\n",
      "Independent (fail to reject H0)\n",
      "significance=0.050, p=0.276\n",
      "Independent (fail to reject H0)\n",
      "==========================================================\n",
      "==========================================================\n",
      "RELATIONSHIP CREDIT_RATING and OFFER_ACCEPTED\n",
      "offer_accepted    No  Yes\n",
      "credit_rating            \n",
      "High            5943  119\n",
      "Low             5312  633\n",
      "Medium          5693  269\n",
      "dof=2\n",
      "[[5717.55668095  344.44331905]\n",
      " [5607.2046302   337.7953698 ]\n",
      " [5623.23868885  338.76131115]]\n",
      "probability=0.950, critical=5.991, stat=445.202\n",
      "Dependent (reject H0)\n",
      "significance=0.050, p=0.000\n",
      "!!!!! DEPENDENT (reject H0)\n",
      "==========================================================\n",
      "==========================================================\n",
      "RELATIONSHIP CREDIT_RATING and REWARD\n",
      "reward         Air Miles  Cash Back  Points\n",
      "credit_rating                              \n",
      "High                2075       2012    1975\n",
      "Low                 1991       2002    1952\n",
      "Medium              1980       1979    2003\n",
      "dof=4\n",
      "[[2039.67121153 2021.79119595 2000.53759252]\n",
      " [2000.30441316 1982.7694919  1961.92609494]\n",
      " [2006.02437531 1988.43931215 1967.53631254]]\n",
      "probability=0.950, critical=9.488, stat=2.287\n",
      "Independent (fail to reject H0)\n",
      "significance=0.050, p=0.683\n",
      "Independent (fail to reject H0)\n",
      "==========================================================\n",
      "==========================================================\n",
      "RELATIONSHIP CREDIT_RATING and MAILER_TYPE\n",
      "mailer_type    Letter  Postcard\n",
      "credit_rating                  \n",
      "High             2971      3091\n",
      "Low              2910      3035\n",
      "Medium           2959      3003\n",
      "dof=2\n",
      "[[2982.25165563 3079.74834437]\n",
      " [2924.69252602 3020.30747398]\n",
      " [2933.05581835 3028.94418165]]\n",
      "probability=0.950, critical=5.991, stat=0.681\n",
      "Independent (fail to reject H0)\n",
      "significance=0.050, p=0.712\n",
      "Independent (fail to reject H0)\n",
      "==========================================================\n",
      "==========================================================\n",
      "RELATIONSHIP CREDIT_RATING and INCOME_LEVEL\n",
      "income_level   High   Low  Medium\n",
      "credit_rating                    \n",
      "High           1512  1538    3012\n",
      "Low            1524  1439    2982\n",
      "Medium         1481  1477    3004\n",
      "dof=4\n",
      "[[1523.84962992 1502.59602649 3035.55434359]\n",
      " [1494.43847738 1473.59508042 2976.96644221]\n",
      " [1498.7118927  1477.80889309 2985.4792142 ]]\n",
      "probability=0.950, critical=9.488, stat=2.839\n",
      "Independent (fail to reject H0)\n",
      "significance=0.050, p=0.585\n",
      "Independent (fail to reject H0)\n",
      "==========================================================\n",
      "==========================================================\n",
      "RELATIONSHIP CREDIT_RATING and OVERDRAFT_PROTECTION\n",
      "overdraft_protection    No  Yes\n",
      "credit_rating                  \n",
      "High                  5178  884\n",
      "Low                   5067  878\n",
      "Medium                5050  912\n",
      "dof=2\n",
      "[[5159.90261005  902.09738995]\n",
      " [5060.31359564  884.68640436]\n",
      " [5074.78379431  887.21620569]]\n",
      "probability=0.950, critical=5.991, stat=1.299\n",
      "Independent (fail to reject H0)\n",
      "significance=0.050, p=0.522\n",
      "Independent (fail to reject H0)\n",
      "==========================================================\n",
      "==========================================================\n",
      "RELATIONSHIP CREDIT_RATING and OWN_YOUR_HOME\n",
      "own_your_home    No   Yes\n",
      "credit_rating            \n",
      "High           2139  3923\n",
      "Low            2124  3821\n",
      "Medium         2076  3886\n",
      "dof=2\n",
      "[[2138.51733541 3923.48266459]\n",
      " [2097.24275141 3847.75724859]\n",
      " [2103.23991318 3858.76008682]]\n",
      "probability=0.950, critical=5.991, stat=1.073\n",
      "Independent (fail to reject H0)\n",
      "significance=0.050, p=0.585\n",
      "Independent (fail to reject H0)\n",
      "==========================================================\n",
      "==========================================================\n",
      "RELATIONSHIP OWN_YOUR_HOME and OFFER_ACCEPTED\n",
      "offer_accepted     No  Yes\n",
      "own_your_home             \n",
      "No               5979  360\n",
      "Yes             10969  661\n",
      "dof=1\n",
      "[[ 5978.81751906   360.18248094]\n",
      " [10969.18248094   660.81751906]]\n",
      "probability=0.950, critical=3.841, stat=0.000\n",
      "Independent (fail to reject H0)\n",
      "significance=0.050, p=0.983\n",
      "Independent (fail to reject H0)\n",
      "==========================================================\n",
      "==========================================================\n",
      "RELATIONSHIP OWN_YOUR_HOME and REWARD\n",
      "reward         Air Miles  Cash Back  Points\n",
      "own_your_home                              \n",
      "No                  2126       2153    2060\n",
      "Yes                 3920       3840    3870\n",
      "dof=2\n",
      "[[2132.87294785 2114.17591407 2091.95113807]\n",
      " [3913.12705215 3878.82408593 3838.04886193]]\n",
      "probability=0.950, critical=5.991, stat=1.890\n",
      "Independent (fail to reject H0)\n",
      "significance=0.050, p=0.389\n",
      "Independent (fail to reject H0)\n",
      "==========================================================\n",
      "==========================================================\n",
      "RELATIONSHIP OWN_YOUR_HOME and MAILER_TYPE\n",
      "mailer_type    Letter  Postcard\n",
      "own_your_home                  \n",
      "No               3100      3239\n",
      "Yes              5740      5890\n",
      "dof=1\n",
      "[[3118.52412488 3220.47587512]\n",
      " [5721.47587512 5908.52412488]]\n",
      "probability=0.950, critical=3.841, stat=0.317\n",
      "Independent (fail to reject H0)\n",
      "significance=0.050, p=0.574\n",
      "Independent (fail to reject H0)\n",
      "==========================================================\n",
      "==========================================================\n",
      "RELATIONSHIP OWN_YOUR_HOME and INCOME_LEVEL\n",
      "income_level   High   Low  Medium\n",
      "own_your_home                    \n",
      "No             1634  1551    3154\n",
      "Yes            2883  2903    5844\n",
      "dof=2\n",
      "[[1593.481162 1571.256386 3174.262452]\n",
      " [2923.518838 2882.743614 5823.737548]]\n",
      "probability=0.950, critical=5.991, stat=2.195\n",
      "Independent (fail to reject H0)\n",
      "significance=0.050, p=0.334\n",
      "Independent (fail to reject H0)\n",
      "==========================================================\n",
      "==========================================================\n",
      "RELATIONSHIP OWN_YOUR_HOME and OVERDRAFT_PROTECTION\n",
      "overdraft_protection    No   Yes\n",
      "own_your_home                   \n",
      "No                    5421   918\n",
      "Yes                   9874  1756\n",
      "dof=1\n",
      "[[5395.68172965  943.31827035]\n",
      " [9899.31827035 1730.68172965]]\n",
      "probability=0.950, critical=3.841, stat=1.185\n",
      "Independent (fail to reject H0)\n",
      "significance=0.050, p=0.276\n",
      "Independent (fail to reject H0)\n",
      "==========================================================\n",
      "==========================================================\n",
      "RELATIONSHIP OWN_YOUR_HOME and CREDIT_RATING\n",
      "credit_rating  High   Low  Medium\n",
      "own_your_home                    \n",
      "No             2139  2124    2076\n",
      "Yes            3923  3821    3886\n",
      "dof=2\n",
      "[[2138.51733541 2097.24275141 2103.23991318]\n",
      " [3923.48266459 3847.75724859 3858.76008682]]\n",
      "probability=0.950, critical=5.991, stat=1.073\n",
      "Independent (fail to reject H0)\n",
      "significance=0.050, p=0.585\n",
      "Independent (fail to reject H0)\n",
      "==========================================================\n"
     ]
    }
   ],
   "source": [
    "# Looking at dependency between categoricals with Chi-test \n",
    "applying_chi_test(cat)"
   ]
  },
  {
   "cell_type": "code",
   "execution_count": null,
   "metadata": {
    "colab": {
     "base_uri": "https://localhost:8080/"
    },
    "id": "3Ni8TbrFV4HX",
    "outputId": "3cf36cb0-f2d2-4ca6-c23c-01f2d204bf48"
   },
   "outputs": [
    {
     "name": "stdout",
     "output_type": "stream",
     "text": [
      "the skew of nr_of_bank_accounts_open is: 1.2217984501304657\n",
      "the skew of credit_cards_held is: -0.6665532757050514\n",
      "the skew of nr_of_homes_owned is: 1.5532209563157695\n",
      "the skew of household_size is: 0.008691848016518754\n",
      "the skew of average_balance is: -0.5722743460162316\n",
      "the skew of balance_q1 is: 0.4107547643914719\n",
      "the skew of balance_q2 is: -0.18305623801164111\n",
      "the skew of balance_q3 is: 0.28995754500514986\n"
     ]
    }
   ],
   "source": [
    "# Skewness for numerical variables\n",
    "skew_df(num)"
   ]
  },
  {
   "cell_type": "code",
   "execution_count": null,
   "metadata": {
    "colab": {
     "base_uri": "https://localhost:8080/",
     "height": 287
    },
    "id": "eZaSSkD2WCBt",
    "outputId": "400b95d6-68ff-481e-fcfe-2a054227f69c"
   },
   "outputs": [
    {
     "data": {
      "text/html": [
       "<div>\n",
       "<style scoped>\n",
       "    .dataframe tbody tr th:only-of-type {\n",
       "        vertical-align: middle;\n",
       "    }\n",
       "\n",
       "    .dataframe tbody tr th {\n",
       "        vertical-align: top;\n",
       "    }\n",
       "\n",
       "    .dataframe thead th {\n",
       "        text-align: right;\n",
       "    }\n",
       "</style>\n",
       "<table border=\"1\" class=\"dataframe\">\n",
       "  <thead>\n",
       "    <tr style=\"text-align: right;\">\n",
       "      <th></th>\n",
       "      <th>independent_features</th>\n",
       "      <th>vif_score</th>\n",
       "    </tr>\n",
       "  </thead>\n",
       "  <tbody>\n",
       "    <tr>\n",
       "      <th>0</th>\n",
       "      <td>nr_of_bank_accounts_open</td>\n",
       "      <td>7.772057</td>\n",
       "    </tr>\n",
       "    <tr>\n",
       "      <th>1</th>\n",
       "      <td>credit_cards_held</td>\n",
       "      <td>9.775468</td>\n",
       "    </tr>\n",
       "    <tr>\n",
       "      <th>2</th>\n",
       "      <td>nr_of_homes_owned</td>\n",
       "      <td>8.310816</td>\n",
       "    </tr>\n",
       "    <tr>\n",
       "      <th>3</th>\n",
       "      <td>household_size</td>\n",
       "      <td>8.657988</td>\n",
       "    </tr>\n",
       "    <tr>\n",
       "      <th>4</th>\n",
       "      <td>average_balance</td>\n",
       "      <td>79.665624</td>\n",
       "    </tr>\n",
       "    <tr>\n",
       "      <th>5</th>\n",
       "      <td>balance_q1</td>\n",
       "      <td>8.921909</td>\n",
       "    </tr>\n",
       "    <tr>\n",
       "      <th>6</th>\n",
       "      <td>balance_q2</td>\n",
       "      <td>17.575137</td>\n",
       "    </tr>\n",
       "    <tr>\n",
       "      <th>7</th>\n",
       "      <td>balance_q3</td>\n",
       "      <td>24.012667</td>\n",
       "    </tr>\n",
       "  </tbody>\n",
       "</table>\n",
       "</div>"
      ],
      "text/plain": [
       "       independent_features  vif_score\n",
       "0  nr_of_bank_accounts_open   7.772057\n",
       "1         credit_cards_held   9.775468\n",
       "2         nr_of_homes_owned   8.310816\n",
       "3            household_size   8.657988\n",
       "4           average_balance  79.665624\n",
       "5                balance_q1   8.921909\n",
       "6                balance_q2  17.575137\n",
       "7                balance_q3  24.012667"
      ]
     },
     "execution_count": 349,
     "metadata": {
      "tags": []
     },
     "output_type": "execute_result"
    }
   ],
   "source": [
    "# VIF scores for numerical variables\n",
    "vif_scores(num)"
   ]
  },
  {
   "cell_type": "markdown",
   "metadata": {
    "id": "L1KfeRhYW1Wu"
   },
   "source": [
    "# **3. Data encoding**"
   ]
  },
  {
   "cell_type": "markdown",
   "metadata": {
    "id": "BNFR6p0jXdak"
   },
   "source": [
    "#### **3.2 Applying functions for data encoding**"
   ]
  },
  {
   "cell_type": "code",
   "execution_count": null,
   "metadata": {
    "colab": {
     "base_uri": "https://localhost:8080/",
     "height": 234
    },
    "id": "eVI8QakAXVsM",
    "outputId": "5da33462-10d7-4dbc-ae6c-e98f55f11556"
   },
   "outputs": [
    {
     "data": {
      "text/html": [
       "<div>\n",
       "<style scoped>\n",
       "    .dataframe tbody tr th:only-of-type {\n",
       "        vertical-align: middle;\n",
       "    }\n",
       "\n",
       "    .dataframe tbody tr th {\n",
       "        vertical-align: top;\n",
       "    }\n",
       "\n",
       "    .dataframe thead th {\n",
       "        text-align: right;\n",
       "    }\n",
       "</style>\n",
       "<table border=\"1\" class=\"dataframe\">\n",
       "  <thead>\n",
       "    <tr style=\"text-align: right;\">\n",
       "      <th></th>\n",
       "      <th>offer_accepted</th>\n",
       "      <th>income_level</th>\n",
       "      <th>overdraft_protection</th>\n",
       "      <th>credit_rating</th>\n",
       "      <th>own_your_home</th>\n",
       "      <th>reward_Air Miles</th>\n",
       "      <th>reward_Cash Back</th>\n",
       "      <th>reward_Points</th>\n",
       "      <th>mailer_type_Letter</th>\n",
       "      <th>mailer_type_Postcard</th>\n",
       "    </tr>\n",
       "  </thead>\n",
       "  <tbody>\n",
       "    <tr>\n",
       "      <th>1</th>\n",
       "      <td>0</td>\n",
       "      <td>2</td>\n",
       "      <td>0</td>\n",
       "      <td>2</td>\n",
       "      <td>0</td>\n",
       "      <td>1</td>\n",
       "      <td>0</td>\n",
       "      <td>0</td>\n",
       "      <td>1</td>\n",
       "      <td>0</td>\n",
       "    </tr>\n",
       "    <tr>\n",
       "      <th>2</th>\n",
       "      <td>0</td>\n",
       "      <td>1</td>\n",
       "      <td>0</td>\n",
       "      <td>1</td>\n",
       "      <td>1</td>\n",
       "      <td>1</td>\n",
       "      <td>0</td>\n",
       "      <td>0</td>\n",
       "      <td>1</td>\n",
       "      <td>0</td>\n",
       "    </tr>\n",
       "    <tr>\n",
       "      <th>3</th>\n",
       "      <td>0</td>\n",
       "      <td>2</td>\n",
       "      <td>0</td>\n",
       "      <td>1</td>\n",
       "      <td>1</td>\n",
       "      <td>1</td>\n",
       "      <td>0</td>\n",
       "      <td>0</td>\n",
       "      <td>0</td>\n",
       "      <td>1</td>\n",
       "    </tr>\n",
       "    <tr>\n",
       "      <th>4</th>\n",
       "      <td>0</td>\n",
       "      <td>1</td>\n",
       "      <td>0</td>\n",
       "      <td>2</td>\n",
       "      <td>0</td>\n",
       "      <td>1</td>\n",
       "      <td>0</td>\n",
       "      <td>0</td>\n",
       "      <td>1</td>\n",
       "      <td>0</td>\n",
       "    </tr>\n",
       "    <tr>\n",
       "      <th>5</th>\n",
       "      <td>0</td>\n",
       "      <td>1</td>\n",
       "      <td>0</td>\n",
       "      <td>1</td>\n",
       "      <td>1</td>\n",
       "      <td>1</td>\n",
       "      <td>0</td>\n",
       "      <td>0</td>\n",
       "      <td>1</td>\n",
       "      <td>0</td>\n",
       "    </tr>\n",
       "  </tbody>\n",
       "</table>\n",
       "</div>"
      ],
      "text/plain": [
       "   offer_accepted  income_level  overdraft_protection  credit_rating  \\\n",
       "1               0             2                     0              2   \n",
       "2               0             1                     0              1   \n",
       "3               0             2                     0              1   \n",
       "4               0             1                     0              2   \n",
       "5               0             1                     0              1   \n",
       "\n",
       "   own_your_home  reward_Air Miles  reward_Cash Back  reward_Points  \\\n",
       "1              0                 1                 0              0   \n",
       "2              1                 1                 0              0   \n",
       "3              1                 1                 0              0   \n",
       "4              0                 1                 0              0   \n",
       "5              1                 1                 0              0   \n",
       "\n",
       "   mailer_type_Letter  mailer_type_Postcard  \n",
       "1                   1                     0  \n",
       "2                   1                     0  \n",
       "3                   0                     1  \n",
       "4                   1                     0  \n",
       "5                   1                     0  "
      ]
     },
     "execution_count": 350,
     "metadata": {
      "tags": []
     },
     "output_type": "execute_result"
    }
   ],
   "source": [
    "convert_list = ['offer_accepted','income_level','overdraft_protection','credit_rating','own_your_home']\n",
    "convert_list_dummies = ['reward', 'mailer_type']\n",
    "#Originals lists:\n",
    "#convert_list = ['income_level','overdraft_protection','credit_rating','own_your_home']\n",
    "#convert_list_dummies = ['reward', 'mailer_type']\n",
    "cat = converting_categoricals(cat, convert_list1 = convert_list, convert_list2 = convert_list_dummies)\n",
    "cat.head()"
   ]
  },
  {
   "cell_type": "markdown",
   "metadata": {
    "id": "G29vtcxrnpei"
   },
   "source": [
    "# **4. Prediction**"
   ]
  },
  {
   "cell_type": "markdown",
   "metadata": {
    "id": "42BJGA4AnuyG"
   },
   "source": [
    "#### **4.2 Applying functions for prediction**"
   ]
  },
  {
   "cell_type": "code",
   "execution_count": null,
   "metadata": {
    "id": "RPBZqTHbn_Ky"
   },
   "outputs": [],
   "source": [
    "#Getting X (features) and Y (target)\n",
    "X = split_xy(cat,num)[0]\n",
    "y = split_xy(cat,num)[1]"
   ]
  },
  {
   "cell_type": "code",
   "execution_count": null,
   "metadata": {
    "colab": {
     "base_uri": "https://localhost:8080/",
     "height": 767
    },
    "id": "HfaTsII0smIk",
    "outputId": "5ff0f82d-2e11-4c74-8c99-64b7d3df687a"
   },
   "outputs": [
    {
     "data": {
      "text/html": [
       "<div>\n",
       "<style scoped>\n",
       "    .dataframe tbody tr th:only-of-type {\n",
       "        vertical-align: middle;\n",
       "    }\n",
       "\n",
       "    .dataframe tbody tr th {\n",
       "        vertical-align: top;\n",
       "    }\n",
       "\n",
       "    .dataframe thead th {\n",
       "        text-align: right;\n",
       "    }\n",
       "</style>\n",
       "<table border=\"1\" class=\"dataframe\">\n",
       "  <thead>\n",
       "    <tr style=\"text-align: right;\">\n",
       "      <th></th>\n",
       "      <th>scaler</th>\n",
       "      <th>sampling</th>\n",
       "      <th>precision</th>\n",
       "      <th>recall</th>\n",
       "      <th>accuracy</th>\n",
       "      <th>kappa</th>\n",
       "      <th>set</th>\n",
       "    </tr>\n",
       "  </thead>\n",
       "  <tbody>\n",
       "    <tr>\n",
       "      <th>0</th>\n",
       "      <td>normalizer</td>\n",
       "      <td>downsampling</td>\n",
       "      <td>-</td>\n",
       "      <td>-</td>\n",
       "      <td>0.51</td>\n",
       "      <td>0.03</td>\n",
       "      <td>train</td>\n",
       "    </tr>\n",
       "    <tr>\n",
       "      <th>1</th>\n",
       "      <td>normalizer</td>\n",
       "      <td>downsampling</td>\n",
       "      <td>0.0656652</td>\n",
       "      <td>0.479624</td>\n",
       "      <td>0.57</td>\n",
       "      <td>0.01</td>\n",
       "      <td>test</td>\n",
       "    </tr>\n",
       "    <tr>\n",
       "      <th>2</th>\n",
       "      <td>normalizer</td>\n",
       "      <td>upsampling</td>\n",
       "      <td>-</td>\n",
       "      <td>-</td>\n",
       "      <td>0.52</td>\n",
       "      <td>0.03</td>\n",
       "      <td>train</td>\n",
       "    </tr>\n",
       "    <tr>\n",
       "      <th>3</th>\n",
       "      <td>normalizer</td>\n",
       "      <td>upsampling</td>\n",
       "      <td>0.0658013</td>\n",
       "      <td>0.460815</td>\n",
       "      <td>0.58</td>\n",
       "      <td>0.01</td>\n",
       "      <td>test</td>\n",
       "    </tr>\n",
       "    <tr>\n",
       "      <th>4</th>\n",
       "      <td>normalizer</td>\n",
       "      <td>tomeklinks</td>\n",
       "      <td>-</td>\n",
       "      <td>-</td>\n",
       "      <td>0.94</td>\n",
       "      <td>0.00</td>\n",
       "      <td>train</td>\n",
       "    </tr>\n",
       "    <tr>\n",
       "      <th>5</th>\n",
       "      <td>normalizer</td>\n",
       "      <td>tomeklinks</td>\n",
       "      <td>0</td>\n",
       "      <td>0</td>\n",
       "      <td>0.94</td>\n",
       "      <td>0.00</td>\n",
       "      <td>test</td>\n",
       "    </tr>\n",
       "    <tr>\n",
       "      <th>6</th>\n",
       "      <td>standard</td>\n",
       "      <td>downsampling</td>\n",
       "      <td>-</td>\n",
       "      <td>-</td>\n",
       "      <td>0.68</td>\n",
       "      <td>0.36</td>\n",
       "      <td>train</td>\n",
       "    </tr>\n",
       "    <tr>\n",
       "      <th>7</th>\n",
       "      <td>standard</td>\n",
       "      <td>downsampling</td>\n",
       "      <td>0.122732</td>\n",
       "      <td>0.721003</td>\n",
       "      <td>0.68</td>\n",
       "      <td>0.12</td>\n",
       "      <td>test</td>\n",
       "    </tr>\n",
       "    <tr>\n",
       "      <th>8</th>\n",
       "      <td>standard</td>\n",
       "      <td>upsampling</td>\n",
       "      <td>-</td>\n",
       "      <td>-</td>\n",
       "      <td>0.70</td>\n",
       "      <td>0.39</td>\n",
       "      <td>train</td>\n",
       "    </tr>\n",
       "    <tr>\n",
       "      <th>9</th>\n",
       "      <td>standard</td>\n",
       "      <td>upsampling</td>\n",
       "      <td>0.120457</td>\n",
       "      <td>0.727273</td>\n",
       "      <td>0.67</td>\n",
       "      <td>0.12</td>\n",
       "      <td>test</td>\n",
       "    </tr>\n",
       "    <tr>\n",
       "      <th>10</th>\n",
       "      <td>standard</td>\n",
       "      <td>tomeklinks</td>\n",
       "      <td>-</td>\n",
       "      <td>-</td>\n",
       "      <td>0.94</td>\n",
       "      <td>0.00</td>\n",
       "      <td>train</td>\n",
       "    </tr>\n",
       "    <tr>\n",
       "      <th>11</th>\n",
       "      <td>standard</td>\n",
       "      <td>tomeklinks</td>\n",
       "      <td>0</td>\n",
       "      <td>0</td>\n",
       "      <td>0.94</td>\n",
       "      <td>0.00</td>\n",
       "      <td>test</td>\n",
       "    </tr>\n",
       "    <tr>\n",
       "      <th>12</th>\n",
       "      <td>minmax</td>\n",
       "      <td>downsampling</td>\n",
       "      <td>-</td>\n",
       "      <td>-</td>\n",
       "      <td>0.72</td>\n",
       "      <td>0.43</td>\n",
       "      <td>train</td>\n",
       "    </tr>\n",
       "    <tr>\n",
       "      <th>13</th>\n",
       "      <td>minmax</td>\n",
       "      <td>downsampling</td>\n",
       "      <td>0.11811</td>\n",
       "      <td>0.752351</td>\n",
       "      <td>0.65</td>\n",
       "      <td>0.11</td>\n",
       "      <td>test</td>\n",
       "    </tr>\n",
       "    <tr>\n",
       "      <th>14</th>\n",
       "      <td>minmax</td>\n",
       "      <td>upsampling</td>\n",
       "      <td>-</td>\n",
       "      <td>-</td>\n",
       "      <td>0.69</td>\n",
       "      <td>0.39</td>\n",
       "      <td>train</td>\n",
       "    </tr>\n",
       "    <tr>\n",
       "      <th>15</th>\n",
       "      <td>minmax</td>\n",
       "      <td>upsampling</td>\n",
       "      <td>0.118731</td>\n",
       "      <td>0.727273</td>\n",
       "      <td>0.66</td>\n",
       "      <td>0.11</td>\n",
       "      <td>test</td>\n",
       "    </tr>\n",
       "    <tr>\n",
       "      <th>16</th>\n",
       "      <td>minmax</td>\n",
       "      <td>tomeklinks</td>\n",
       "      <td>-</td>\n",
       "      <td>-</td>\n",
       "      <td>0.94</td>\n",
       "      <td>0.00</td>\n",
       "      <td>train</td>\n",
       "    </tr>\n",
       "    <tr>\n",
       "      <th>17</th>\n",
       "      <td>minmax</td>\n",
       "      <td>tomeklinks</td>\n",
       "      <td>0</td>\n",
       "      <td>0</td>\n",
       "      <td>0.94</td>\n",
       "      <td>0.00</td>\n",
       "      <td>test</td>\n",
       "    </tr>\n",
       "    <tr>\n",
       "      <th>18</th>\n",
       "      <td>power</td>\n",
       "      <td>downsampling</td>\n",
       "      <td>-</td>\n",
       "      <td>-</td>\n",
       "      <td>0.71</td>\n",
       "      <td>0.42</td>\n",
       "      <td>train</td>\n",
       "    </tr>\n",
       "    <tr>\n",
       "      <th>19</th>\n",
       "      <td>power</td>\n",
       "      <td>downsampling</td>\n",
       "      <td>0.11867</td>\n",
       "      <td>0.727273</td>\n",
       "      <td>0.66</td>\n",
       "      <td>0.11</td>\n",
       "      <td>test</td>\n",
       "    </tr>\n",
       "    <tr>\n",
       "      <th>20</th>\n",
       "      <td>power</td>\n",
       "      <td>upsampling</td>\n",
       "      <td>-</td>\n",
       "      <td>-</td>\n",
       "      <td>0.69</td>\n",
       "      <td>0.38</td>\n",
       "      <td>train</td>\n",
       "    </tr>\n",
       "    <tr>\n",
       "      <th>21</th>\n",
       "      <td>power</td>\n",
       "      <td>upsampling</td>\n",
       "      <td>0.118776</td>\n",
       "      <td>0.717868</td>\n",
       "      <td>0.67</td>\n",
       "      <td>0.11</td>\n",
       "      <td>test</td>\n",
       "    </tr>\n",
       "    <tr>\n",
       "      <th>22</th>\n",
       "      <td>power</td>\n",
       "      <td>tomeklinks</td>\n",
       "      <td>-</td>\n",
       "      <td>-</td>\n",
       "      <td>0.94</td>\n",
       "      <td>0.00</td>\n",
       "      <td>train</td>\n",
       "    </tr>\n",
       "    <tr>\n",
       "      <th>23</th>\n",
       "      <td>power</td>\n",
       "      <td>tomeklinks</td>\n",
       "      <td>0</td>\n",
       "      <td>0</td>\n",
       "      <td>0.94</td>\n",
       "      <td>0.00</td>\n",
       "      <td>test</td>\n",
       "    </tr>\n",
       "  </tbody>\n",
       "</table>\n",
       "</div>"
      ],
      "text/plain": [
       "        scaler      sampling  precision    recall  accuracy  kappa    set\n",
       "0   normalizer  downsampling          -         -      0.51   0.03  train\n",
       "1   normalizer  downsampling  0.0656652  0.479624      0.57   0.01   test\n",
       "2   normalizer    upsampling          -         -      0.52   0.03  train\n",
       "3   normalizer    upsampling  0.0658013  0.460815      0.58   0.01   test\n",
       "4   normalizer    tomeklinks          -         -      0.94   0.00  train\n",
       "5   normalizer    tomeklinks          0         0      0.94   0.00   test\n",
       "6     standard  downsampling          -         -      0.68   0.36  train\n",
       "7     standard  downsampling   0.122732  0.721003      0.68   0.12   test\n",
       "8     standard    upsampling          -         -      0.70   0.39  train\n",
       "9     standard    upsampling   0.120457  0.727273      0.67   0.12   test\n",
       "10    standard    tomeklinks          -         -      0.94   0.00  train\n",
       "11    standard    tomeklinks          0         0      0.94   0.00   test\n",
       "12      minmax  downsampling          -         -      0.72   0.43  train\n",
       "13      minmax  downsampling    0.11811  0.752351      0.65   0.11   test\n",
       "14      minmax    upsampling          -         -      0.69   0.39  train\n",
       "15      minmax    upsampling   0.118731  0.727273      0.66   0.11   test\n",
       "16      minmax    tomeklinks          -         -      0.94   0.00  train\n",
       "17      minmax    tomeklinks          0         0      0.94   0.00   test\n",
       "18       power  downsampling          -         -      0.71   0.42  train\n",
       "19       power  downsampling    0.11867  0.727273      0.66   0.11   test\n",
       "20       power    upsampling          -         -      0.69   0.38  train\n",
       "21       power    upsampling   0.118776  0.717868      0.67   0.11   test\n",
       "22       power    tomeklinks          -         -      0.94   0.00  train\n",
       "23       power    tomeklinks          0         0      0.94   0.00   test"
      ]
     },
     "execution_count": 382,
     "metadata": {
      "tags": []
     },
     "output_type": "execute_result"
    }
   ],
   "source": [
    "#get metrics for every model, scaler and sampling to choose the best one\n",
    "metric = 'logistic'\n",
    "get_scores(X,y,metric)"
   ]
  },
  {
   "cell_type": "code",
   "execution_count": null,
   "metadata": {
    "colab": {
     "base_uri": "https://localhost:8080/",
     "height": 527
    },
    "id": "3DfdRZWXu_dF",
    "outputId": "6c041f97-0bdd-471a-e937-939ca3b5b03d"
   },
   "outputs": [
    {
     "name": "stdout",
     "output_type": "stream",
     "text": [
      "\u001b[1mThe classification score is 0.91\n",
      " \n",
      "\u001b[1mThe y test value counts are\u001b[0m\n",
      " offer_accepted\n",
      "0                 5072\n",
      "1                  319\n",
      "dtype: int64\n",
      " \n",
      "\u001b[1mConfusion matrix y_test,predictions\u001b[0m\n",
      "[[4896  176]\n",
      " [ 306   13]]\n",
      " \n",
      "\u001b[1mConfusion matrix X_test_t,y_test\u001b[0m\n"
     ]
    },
    {
     "data": {
      "text/plain": [
       "<sklearn.metrics._plot.confusion_matrix.ConfusionMatrixDisplay at 0x7fbb22aa1da0>"
      ]
     },
     "execution_count": 417,
     "metadata": {
      "tags": []
     },
     "output_type": "execute_result"
    },
    {
     "data": {
      "image/png": "[encoded data removed]",
      "text/plain": [
       "<Figure size 432x288 with 2 Axes>"
      ]
     },
     "metadata": {
      "needs_background": "light",
      "tags": []
     },
     "output_type": "display_data"
    }
   ],
   "source": [
    "# confusion matrix information\n",
    "# possible scalers: normalizer, standard, minmax, power\n",
    "# possible samp: upsampling, downsampling, tomeklinks\n",
    "# possible model: logistic, decision_tree, k-nn\n",
    "scaler = 'standard'\n",
    "samp  = 'upsampling'\n",
    "model = 'logistic'\n",
    "\n",
    "confusion_matrix_info(X,y,scaler,samp,model)"
   ]
  },
  {
   "cell_type": "code",
   "execution_count": null,
   "metadata": {
    "colab": {
     "base_uri": "https://localhost:8080/",
     "height": 406
    },
    "id": "fCVSnBt2YqJv",
    "outputId": "149b9685-b959-45fd-960b-04a52903d355"
   },
   "outputs": [
    {
     "data": {
      "text/html": [
       "<div>\n",
       "<style scoped>\n",
       "    .dataframe tbody tr th:only-of-type {\n",
       "        vertical-align: middle;\n",
       "    }\n",
       "\n",
       "    .dataframe tbody tr th {\n",
       "        vertical-align: top;\n",
       "    }\n",
       "\n",
       "    .dataframe thead th {\n",
       "        text-align: right;\n",
       "    }\n",
       "</style>\n",
       "<table border=\"1\" class=\"dataframe\">\n",
       "  <thead>\n",
       "    <tr style=\"text-align: right;\">\n",
       "      <th></th>\n",
       "      <th>offers_accepted_prediction</th>\n",
       "      <th>offers_accepted</th>\n",
       "    </tr>\n",
       "  </thead>\n",
       "  <tbody>\n",
       "    <tr>\n",
       "      <th>0</th>\n",
       "      <td>0</td>\n",
       "      <td>0</td>\n",
       "    </tr>\n",
       "    <tr>\n",
       "      <th>1</th>\n",
       "      <td>0</td>\n",
       "      <td>0</td>\n",
       "    </tr>\n",
       "    <tr>\n",
       "      <th>2</th>\n",
       "      <td>1</td>\n",
       "      <td>0</td>\n",
       "    </tr>\n",
       "    <tr>\n",
       "      <th>3</th>\n",
       "      <td>0</td>\n",
       "      <td>0</td>\n",
       "    </tr>\n",
       "    <tr>\n",
       "      <th>4</th>\n",
       "      <td>0</td>\n",
       "      <td>0</td>\n",
       "    </tr>\n",
       "    <tr>\n",
       "      <th>...</th>\n",
       "      <td>...</td>\n",
       "      <td>...</td>\n",
       "    </tr>\n",
       "    <tr>\n",
       "      <th>5386</th>\n",
       "      <td>0</td>\n",
       "      <td>0</td>\n",
       "    </tr>\n",
       "    <tr>\n",
       "      <th>5387</th>\n",
       "      <td>0</td>\n",
       "      <td>0</td>\n",
       "    </tr>\n",
       "    <tr>\n",
       "      <th>5388</th>\n",
       "      <td>0</td>\n",
       "      <td>0</td>\n",
       "    </tr>\n",
       "    <tr>\n",
       "      <th>5389</th>\n",
       "      <td>0</td>\n",
       "      <td>0</td>\n",
       "    </tr>\n",
       "    <tr>\n",
       "      <th>5390</th>\n",
       "      <td>0</td>\n",
       "      <td>0</td>\n",
       "    </tr>\n",
       "  </tbody>\n",
       "</table>\n",
       "<p>5391 rows × 2 columns</p>\n",
       "</div>"
      ],
      "text/plain": [
       "      offers_accepted_prediction  offers_accepted\n",
       "0                              0                0\n",
       "1                              0                0\n",
       "2                              1                0\n",
       "3                              0                0\n",
       "4                              0                0\n",
       "...                          ...              ...\n",
       "5386                           0                0\n",
       "5387                           0                0\n",
       "5388                           0                0\n",
       "5389                           0                0\n",
       "5390                           0                0\n",
       "\n",
       "[5391 rows x 2 columns]"
      ]
     },
     "execution_count": 440,
     "metadata": {
      "tags": []
     },
     "output_type": "execute_result"
    }
   ],
   "source": [
    "X_train_t, X_test_t = scalers(X_train, X_test, scaler)\n",
    "X_train_s, y_train_s = samplings_type(X_train_t, y_train, samp)\n",
    "y_test = splitting_data(X,y)[3]\n",
    "y_prediction = y_predict(X_train_s, X_test, y_train_s, y_test, model, k=None)\n",
    "y_pred = pd.DataFrame(y_prediction).reset_index(drop=True)\n",
    "y_test = pd.DataFrame(y_test).reset_index(drop=True)\n",
    "y_pred_test = pd.concat([y_pred,y_test],axis=1,ignore_index=True)\n",
    "y_pred_test.columns = ['offers_accepted_prediction','offers_accepted']\n",
    "y_pred_test"
   ]
  },
  {
   "cell_type": "code",
   "execution_count": null,
   "metadata": {
    "colab": {
     "base_uri": "https://localhost:8080/",
     "height": 566
    },
    "id": "P7fcqAAhos57",
    "outputId": "c62ee9be-254d-436f-cda4-6b1e1affc88e"
   },
   "outputs": [
    {
     "name": "stdout",
     "output_type": "stream",
     "text": [
      "Feature: 0, Score: -0.53817\n",
      "Feature: 1, Score: -0.04223\n",
      "Feature: 2, Score: -0.96007\n",
      "Feature: 3, Score: -0.05025\n",
      "Feature: 4, Score: 0.28692\n",
      "Feature: 5, Score: -0.49354\n",
      "Feature: 6, Score: -0.01784\n",
      "Feature: 7, Score: -0.60442\n",
      "Feature: 8, Score: 0.37996\n",
      "Feature: 9, Score: -0.13957\n",
      "Feature: 10, Score: -0.18915\n",
      "Feature: 11, Score: -0.14160\n",
      "Feature: 12, Score: -0.12566\n",
      "Feature: 13, Score: -0.00035\n",
      "Feature: 14, Score: -0.00010\n",
      "Feature: 15, Score: 0.00009\n",
      "Feature: 16, Score: 0.00011\n"
     ]
    },
    {
     "data": {
      "image/png": "[encoded data removed]",
      "text/plain": [
       "<Figure size 432x288 with 1 Axes>"
      ]
     },
     "metadata": {
      "needs_background": "light",
      "tags": []
     },
     "output_type": "display_data"
    }
   ],
   "source": [
    "model = 'logistic'\n",
    "feature_importance(X,y,model)"
   ]
  }
 ],
 "metadata": {
  "colab": {
   "collapsed_sections": [],
   "name": "Copia de final.ipynb",
   "provenance": []
  },
  "kernelspec": {
   "display_name": "Python 3",
   "language": "python",
   "name": "python3"
  },
  "language_info": {
   "codemirror_mode": {
    "name": "ipython",
    "version": 3
   },
   "file_extension": ".py",
   "mimetype": "text/x-python",
   "name": "python",
   "nbconvert_exporter": "python",
   "pygments_lexer": "ipython3",
   "version": "3.8.5"
  }
 },
 "nbformat": 4,
 "nbformat_minor": 1
}
