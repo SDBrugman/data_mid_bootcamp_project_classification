{
 "cells": [
  {
   "cell_type": "markdown",
   "metadata": {},
   "source": [
    "# Project classification"
   ]
  },
  {
   "cell_type": "markdown",
   "metadata": {},
   "source": [
    "## Import libraries"
   ]
  },
  {
   "cell_type": "code",
   "execution_count": 59,
   "metadata": {},
   "outputs": [],
   "source": [
    "# Import pandas, numpy\n",
    "import pandas as pd\n",
    "import numpy as np\n",
    "\n",
    "# Import warnings\n",
    "import warnings\n",
    "warnings.filterwarnings('ignore')\n",
    "\n",
    "# Import matplotlib for plots\n",
    "import matplotlib.pyplot as plt\n",
    "import seaborn as sns\n",
    "%matplotlib inline\n",
    "\n",
    "pd.set_option('display.max_columns', 500)"
   ]
  },
  {
   "cell_type": "markdown",
   "metadata": {},
   "source": [
    "## Expore csv file before importing in SQL"
   ]
  },
  {
   "cell_type": "code",
   "execution_count": 60,
   "metadata": {},
   "outputs": [
    {
     "data": {
      "text/html": [
       "<div>\n",
       "<style scoped>\n",
       "    .dataframe tbody tr th:only-of-type {\n",
       "        vertical-align: middle;\n",
       "    }\n",
       "\n",
       "    .dataframe tbody tr th {\n",
       "        vertical-align: top;\n",
       "    }\n",
       "\n",
       "    .dataframe thead th {\n",
       "        text-align: right;\n",
       "    }\n",
       "</style>\n",
       "<table border=\"1\" class=\"dataframe\">\n",
       "  <thead>\n",
       "    <tr style=\"text-align: right;\">\n",
       "      <th></th>\n",
       "      <th>1</th>\n",
       "      <th>No</th>\n",
       "      <th>Air Miles</th>\n",
       "      <th>Letter</th>\n",
       "      <th>High</th>\n",
       "      <th>1.1</th>\n",
       "      <th>No.1</th>\n",
       "      <th>High.1</th>\n",
       "      <th>2</th>\n",
       "      <th>1.2</th>\n",
       "      <th>4</th>\n",
       "      <th>No.2</th>\n",
       "      <th>1160.75</th>\n",
       "      <th>1669</th>\n",
       "      <th>877</th>\n",
       "      <th>1095</th>\n",
       "      <th>1002</th>\n",
       "    </tr>\n",
       "  </thead>\n",
       "  <tbody>\n",
       "    <tr>\n",
       "      <th>0</th>\n",
       "      <td>2</td>\n",
       "      <td>No</td>\n",
       "      <td>Air Miles</td>\n",
       "      <td>Letter</td>\n",
       "      <td>Medium</td>\n",
       "      <td>1</td>\n",
       "      <td>No</td>\n",
       "      <td>Medium</td>\n",
       "      <td>2</td>\n",
       "      <td>2</td>\n",
       "      <td>5</td>\n",
       "      <td>Yes</td>\n",
       "      <td>147.25</td>\n",
       "      <td>39.0</td>\n",
       "      <td>106.0</td>\n",
       "      <td>78.0</td>\n",
       "      <td>366.0</td>\n",
       "    </tr>\n",
       "    <tr>\n",
       "      <th>1</th>\n",
       "      <td>3</td>\n",
       "      <td>No</td>\n",
       "      <td>Air Miles</td>\n",
       "      <td>Postcard</td>\n",
       "      <td>High</td>\n",
       "      <td>2</td>\n",
       "      <td>No</td>\n",
       "      <td>Medium</td>\n",
       "      <td>2</td>\n",
       "      <td>1</td>\n",
       "      <td>2</td>\n",
       "      <td>Yes</td>\n",
       "      <td>276.50</td>\n",
       "      <td>367.0</td>\n",
       "      <td>352.0</td>\n",
       "      <td>145.0</td>\n",
       "      <td>242.0</td>\n",
       "    </tr>\n",
       "    <tr>\n",
       "      <th>2</th>\n",
       "      <td>4</td>\n",
       "      <td>No</td>\n",
       "      <td>Air Miles</td>\n",
       "      <td>Letter</td>\n",
       "      <td>Medium</td>\n",
       "      <td>2</td>\n",
       "      <td>No</td>\n",
       "      <td>High</td>\n",
       "      <td>1</td>\n",
       "      <td>1</td>\n",
       "      <td>4</td>\n",
       "      <td>No</td>\n",
       "      <td>1219.00</td>\n",
       "      <td>1578.0</td>\n",
       "      <td>1760.0</td>\n",
       "      <td>1119.0</td>\n",
       "      <td>419.0</td>\n",
       "    </tr>\n",
       "    <tr>\n",
       "      <th>3</th>\n",
       "      <td>5</td>\n",
       "      <td>No</td>\n",
       "      <td>Air Miles</td>\n",
       "      <td>Letter</td>\n",
       "      <td>Medium</td>\n",
       "      <td>1</td>\n",
       "      <td>No</td>\n",
       "      <td>Medium</td>\n",
       "      <td>2</td>\n",
       "      <td>1</td>\n",
       "      <td>6</td>\n",
       "      <td>Yes</td>\n",
       "      <td>1211.00</td>\n",
       "      <td>2140.0</td>\n",
       "      <td>1357.0</td>\n",
       "      <td>982.0</td>\n",
       "      <td>365.0</td>\n",
       "    </tr>\n",
       "    <tr>\n",
       "      <th>4</th>\n",
       "      <td>6</td>\n",
       "      <td>No</td>\n",
       "      <td>Air Miles</td>\n",
       "      <td>Letter</td>\n",
       "      <td>Medium</td>\n",
       "      <td>1</td>\n",
       "      <td>No</td>\n",
       "      <td>High</td>\n",
       "      <td>3</td>\n",
       "      <td>1</td>\n",
       "      <td>4</td>\n",
       "      <td>No</td>\n",
       "      <td>1114.75</td>\n",
       "      <td>1847.0</td>\n",
       "      <td>1365.0</td>\n",
       "      <td>750.0</td>\n",
       "      <td>497.0</td>\n",
       "    </tr>\n",
       "  </tbody>\n",
       "</table>\n",
       "</div>"
      ],
      "text/plain": [
       "   1  No  Air Miles    Letter    High  1.1 No.1  High.1  2  1.2  4 No.2  \\\n",
       "0  2  No  Air Miles    Letter  Medium    1   No  Medium  2    2  5  Yes   \n",
       "1  3  No  Air Miles  Postcard    High    2   No  Medium  2    1  2  Yes   \n",
       "2  4  No  Air Miles    Letter  Medium    2   No    High  1    1  4   No   \n",
       "3  5  No  Air Miles    Letter  Medium    1   No  Medium  2    1  6  Yes   \n",
       "4  6  No  Air Miles    Letter  Medium    1   No    High  3    1  4   No   \n",
       "\n",
       "   1160.75    1669     877    1095   1002  \n",
       "0   147.25    39.0   106.0    78.0  366.0  \n",
       "1   276.50   367.0   352.0   145.0  242.0  \n",
       "2  1219.00  1578.0  1760.0  1119.0  419.0  \n",
       "3  1211.00  2140.0  1357.0   982.0  365.0  \n",
       "4  1114.75  1847.0  1365.0   750.0  497.0  "
      ]
     },
     "execution_count": 60,
     "metadata": {},
     "output_type": "execute_result"
    }
   ],
   "source": [
    "df = pd.read_csv(\"../data_files/creditcardmarketing.csv\")\n",
    "df.head()"
   ]
  },
  {
   "cell_type": "code",
   "execution_count": 61,
   "metadata": {},
   "outputs": [
    {
     "data": {
      "text/plain": [
       "1              int64\n",
       "No            object\n",
       "Air Miles     object\n",
       "Letter        object\n",
       "High          object\n",
       "1.1            int64\n",
       "No.1          object\n",
       "High.1        object\n",
       "2              int64\n",
       "1.2            int64\n",
       "4              int64\n",
       "No.2          object\n",
       "1160.75      float64\n",
       "1669         float64\n",
       "877          float64\n",
       "1095         float64\n",
       "1002         float64\n",
       "dtype: object"
      ]
     },
     "execution_count": 61,
     "metadata": {},
     "output_type": "execute_result"
    }
   ],
   "source": [
    "df.dtypes"
   ]
  },
  {
   "cell_type": "markdown",
   "metadata": {},
   "source": [
    "## Import library for SQL connection"
   ]
  },
  {
   "cell_type": "code",
   "execution_count": 62,
   "metadata": {},
   "outputs": [
    {
     "name": "stdout",
     "output_type": "stream",
     "text": [
      "········\n"
     ]
    }
   ],
   "source": [
    "# Import for connection SQL\n",
    "import pymysql\n",
    "from sqlalchemy import create_engine\n",
    "import getpass  # To get the password without showing the input\n",
    "password = getpass.getpass()"
   ]
  },
  {
   "cell_type": "code",
   "execution_count": 118,
   "metadata": {},
   "outputs": [
    {
     "data": {
      "text/html": [
       "<div>\n",
       "<style scoped>\n",
       "    .dataframe tbody tr th:only-of-type {\n",
       "        vertical-align: middle;\n",
       "    }\n",
       "\n",
       "    .dataframe tbody tr th {\n",
       "        vertical-align: top;\n",
       "    }\n",
       "\n",
       "    .dataframe thead th {\n",
       "        text-align: right;\n",
       "    }\n",
       "</style>\n",
       "<table border=\"1\" class=\"dataframe\">\n",
       "  <thead>\n",
       "    <tr style=\"text-align: right;\">\n",
       "      <th></th>\n",
       "      <th>customer_id</th>\n",
       "      <th>offer_accepted</th>\n",
       "      <th>reward</th>\n",
       "      <th>mailer_type</th>\n",
       "      <th>income_level</th>\n",
       "      <th>nr_of_bank_accounts_open</th>\n",
       "      <th>overdraft_protection</th>\n",
       "      <th>credit_rating</th>\n",
       "      <th>credit_cards_held</th>\n",
       "      <th>nr_of_homes_owned</th>\n",
       "      <th>household_size</th>\n",
       "      <th>own_your_home</th>\n",
       "      <th>average_balance</th>\n",
       "      <th>balance_q1</th>\n",
       "      <th>balance_q2</th>\n",
       "      <th>balance_q3</th>\n",
       "    </tr>\n",
       "  </thead>\n",
       "  <tbody>\n",
       "    <tr>\n",
       "      <th>0</th>\n",
       "      <td>1</td>\n",
       "      <td>No</td>\n",
       "      <td>Air Miles</td>\n",
       "      <td>Letter</td>\n",
       "      <td>High</td>\n",
       "      <td>1</td>\n",
       "      <td>No</td>\n",
       "      <td>High</td>\n",
       "      <td>2</td>\n",
       "      <td>1</td>\n",
       "      <td>4</td>\n",
       "      <td>No</td>\n",
       "      <td>1160.75</td>\n",
       "      <td>1669.0</td>\n",
       "      <td>877.0</td>\n",
       "      <td>1095.0</td>\n",
       "    </tr>\n",
       "    <tr>\n",
       "      <th>1</th>\n",
       "      <td>2</td>\n",
       "      <td>No</td>\n",
       "      <td>Air Miles</td>\n",
       "      <td>Letter</td>\n",
       "      <td>Medium</td>\n",
       "      <td>1</td>\n",
       "      <td>No</td>\n",
       "      <td>Medium</td>\n",
       "      <td>2</td>\n",
       "      <td>2</td>\n",
       "      <td>5</td>\n",
       "      <td>Yes</td>\n",
       "      <td>147.25</td>\n",
       "      <td>39.0</td>\n",
       "      <td>106.0</td>\n",
       "      <td>78.0</td>\n",
       "    </tr>\n",
       "    <tr>\n",
       "      <th>2</th>\n",
       "      <td>3</td>\n",
       "      <td>No</td>\n",
       "      <td>Air Miles</td>\n",
       "      <td>Postcard</td>\n",
       "      <td>High</td>\n",
       "      <td>2</td>\n",
       "      <td>No</td>\n",
       "      <td>Medium</td>\n",
       "      <td>2</td>\n",
       "      <td>1</td>\n",
       "      <td>2</td>\n",
       "      <td>Yes</td>\n",
       "      <td>276.50</td>\n",
       "      <td>367.0</td>\n",
       "      <td>352.0</td>\n",
       "      <td>145.0</td>\n",
       "    </tr>\n",
       "    <tr>\n",
       "      <th>3</th>\n",
       "      <td>4</td>\n",
       "      <td>No</td>\n",
       "      <td>Air Miles</td>\n",
       "      <td>Letter</td>\n",
       "      <td>Medium</td>\n",
       "      <td>2</td>\n",
       "      <td>No</td>\n",
       "      <td>High</td>\n",
       "      <td>1</td>\n",
       "      <td>1</td>\n",
       "      <td>4</td>\n",
       "      <td>No</td>\n",
       "      <td>1219.00</td>\n",
       "      <td>1578.0</td>\n",
       "      <td>1760.0</td>\n",
       "      <td>1119.0</td>\n",
       "    </tr>\n",
       "    <tr>\n",
       "      <th>4</th>\n",
       "      <td>5</td>\n",
       "      <td>No</td>\n",
       "      <td>Air Miles</td>\n",
       "      <td>Letter</td>\n",
       "      <td>Medium</td>\n",
       "      <td>1</td>\n",
       "      <td>No</td>\n",
       "      <td>Medium</td>\n",
       "      <td>2</td>\n",
       "      <td>1</td>\n",
       "      <td>6</td>\n",
       "      <td>Yes</td>\n",
       "      <td>1211.00</td>\n",
       "      <td>2140.0</td>\n",
       "      <td>1357.0</td>\n",
       "      <td>982.0</td>\n",
       "    </tr>\n",
       "  </tbody>\n",
       "</table>\n",
       "</div>"
      ],
      "text/plain": [
       "   customer_id offer_accepted     reward mailer_type income_level  \\\n",
       "0            1             No  Air Miles      Letter         High   \n",
       "1            2             No  Air Miles      Letter       Medium   \n",
       "2            3             No  Air Miles    Postcard         High   \n",
       "3            4             No  Air Miles      Letter       Medium   \n",
       "4            5             No  Air Miles      Letter       Medium   \n",
       "\n",
       "   nr_of_bank_accounts_open overdraft_protection credit_rating  \\\n",
       "0                         1                   No          High   \n",
       "1                         1                   No        Medium   \n",
       "2                         2                   No        Medium   \n",
       "3                         2                   No          High   \n",
       "4                         1                   No        Medium   \n",
       "\n",
       "   credit_cards_held  nr_of_homes_owned  household_size own_your_home  \\\n",
       "0                  2                  1               4            No   \n",
       "1                  2                  2               5           Yes   \n",
       "2                  2                  1               2           Yes   \n",
       "3                  1                  1               4            No   \n",
       "4                  2                  1               6           Yes   \n",
       "\n",
       "   average_balance  balance_q1  balance_q2  balance_q3  \n",
       "0          1160.75      1669.0       877.0      1095.0  \n",
       "1           147.25        39.0       106.0        78.0  \n",
       "2           276.50       367.0       352.0       145.0  \n",
       "3          1219.00      1578.0      1760.0      1119.0  \n",
       "4          1211.00      2140.0      1357.0       982.0  "
      ]
     },
     "execution_count": 118,
     "metadata": {},
     "output_type": "execute_result"
    }
   ],
   "source": [
    "connection_string = 'mysql+pymysql://root:' + password + '@localhost/credit_card_classification'\n",
    "engine = create_engine(connection_string)\n",
    "df = pd.read_sql_query('SELECT * FROM credit_card_classification.credit_card_data', engine)\n",
    "df.head()"
   ]
  },
  {
   "cell_type": "markdown",
   "metadata": {},
   "source": [
    "## Explore the data"
   ]
  },
  {
   "cell_type": "markdown",
   "metadata": {},
   "source": [
    "### Function for basic information"
   ]
  },
  {
   "cell_type": "code",
   "execution_count": 119,
   "metadata": {},
   "outputs": [],
   "source": [
    "#getting basic information\n",
    "def basic_information(df):\n",
    "    df_cols=list(df.columns)\n",
    "    print(\"Basic information\")\n",
    "    print(\"Shape of DF:\", df.shape)\n",
    "\n",
    "    for col in df_cols:\n",
    "        print(\"----------------\")\n",
    "        print(\"Name: {}\".format(df[col].name))\n",
    "        print(\"Type: {}\".format(df[col].dtype))\n",
    "        print(\"Unique values: {}\".format(len(df[col].unique())))\n",
    "        print(\"NaN values: {}\".format(df[col].isna().sum()))\n",
    "        print(\"0 values: {}\".format(df[col].isin([0]).sum()))\n",
    "        plt.hist(df[col],bins=20)\n",
    "        plt.show()"
   ]
  },
  {
   "cell_type": "markdown",
   "metadata": {},
   "source": [
    "### Apply basic information"
   ]
  },
  {
   "cell_type": "code",
   "execution_count": 120,
   "metadata": {
    "scrolled": true
   },
   "outputs": [
    {
     "name": "stdout",
     "output_type": "stream",
     "text": [
      "Basic information\n",
      "Shape of DF: (18000, 16)\n",
      "----------------\n",
      "Name: customer_id\n",
      "Type: int64\n",
      "Unique values: 18000\n",
      "NaN values: 0\n",
      "0 values: 0\n"
     ]
    },
    {
     "data": {
      "image/png": "[encoded data removed]",
      "text/plain": [
       "<Figure size 432x288 with 1 Axes>"
      ]
     },
     "metadata": {
      "needs_background": "light"
     },
     "output_type": "display_data"
    },
    {
     "name": "stdout",
     "output_type": "stream",
     "text": [
      "----------------\n",
      "Name: offer_accepted\n",
      "Type: object\n",
      "Unique values: 2\n",
      "NaN values: 0\n",
      "0 values: 0\n"
     ]
    },
    {
     "data": {
      "image/png": "[encoded data removed]",
      "text/plain": [
       "<Figure size 432x288 with 1 Axes>"
      ]
     },
     "metadata": {
      "needs_background": "light"
     },
     "output_type": "display_data"
    },
    {
     "name": "stdout",
     "output_type": "stream",
     "text": [
      "----------------\n",
      "Name: reward\n",
      "Type: object\n",
      "Unique values: 3\n",
      "NaN values: 0\n",
      "0 values: 0\n"
     ]
    },
    {
     "data": {
      "image/png": "[encoded data removed]",
      "text/plain": [
       "<Figure size 432x288 with 1 Axes>"
      ]
     },
     "metadata": {
      "needs_background": "light"
     },
     "output_type": "display_data"
    },
    {
     "name": "stdout",
     "output_type": "stream",
     "text": [
      "----------------\n",
      "Name: mailer_type\n",
      "Type: object\n",
      "Unique values: 2\n",
      "NaN values: 0\n",
      "0 values: 0\n"
     ]
    },
    {
     "data": {
      "image/png": "[encoded data removed]",
      "text/plain": [
       "<Figure size 432x288 with 1 Axes>"
      ]
     },
     "metadata": {
      "needs_background": "light"
     },
     "output_type": "display_data"
    },
    {
     "name": "stdout",
     "output_type": "stream",
     "text": [
      "----------------\n",
      "Name: income_level\n",
      "Type: object\n",
      "Unique values: 3\n",
      "NaN values: 0\n",
      "0 values: 0\n"
     ]
    },
    {
     "data": {
      "image/png": "[encoded data removed]",
      "text/plain": [
       "<Figure size 432x288 with 1 Axes>"
      ]
     },
     "metadata": {
      "needs_background": "light"
     },
     "output_type": "display_data"
    },
    {
     "name": "stdout",
     "output_type": "stream",
     "text": [
      "----------------\n",
      "Name: nr_of_bank_accounts_open\n",
      "Type: int64\n",
      "Unique values: 3\n",
      "NaN values: 0\n",
      "0 values: 0\n"
     ]
    },
    {
     "data": {
      "image/png": "[encoded data removed]",
      "text/plain": [
       "<Figure size 432x288 with 1 Axes>"
      ]
     },
     "metadata": {
      "needs_background": "light"
     },
     "output_type": "display_data"
    },
    {
     "name": "stdout",
     "output_type": "stream",
     "text": [
      "----------------\n",
      "Name: overdraft_protection\n",
      "Type: object\n",
      "Unique values: 2\n",
      "NaN values: 0\n",
      "0 values: 0\n"
     ]
    },
    {
     "data": {
      "image/png": "[encoded data removed]",
      "text/plain": [
       "<Figure size 432x288 with 1 Axes>"
      ]
     },
     "metadata": {
      "needs_background": "light"
     },
     "output_type": "display_data"
    },
    {
     "name": "stdout",
     "output_type": "stream",
     "text": [
      "----------------\n",
      "Name: credit_rating\n",
      "Type: object\n",
      "Unique values: 3\n",
      "NaN values: 0\n",
      "0 values: 0\n"
     ]
    },
    {
     "data": {
      "image/png": "[encoded data removed]",
      "text/plain": [
       "<Figure size 432x288 with 1 Axes>"
      ]
     },
     "metadata": {
      "needs_background": "light"
     },
     "output_type": "display_data"
    },
    {
     "name": "stdout",
     "output_type": "stream",
     "text": [
      "----------------\n",
      "Name: credit_cards_held\n",
      "Type: int64\n",
      "Unique values: 4\n",
      "NaN values: 0\n",
      "0 values: 0\n"
     ]
    },
    {
     "data": {
      "image/png": "[encoded data removed]",
      "text/plain": [
       "<Figure size 432x288 with 1 Axes>"
      ]
     },
     "metadata": {
      "needs_background": "light"
     },
     "output_type": "display_data"
    },
    {
     "name": "stdout",
     "output_type": "stream",
     "text": [
      "----------------\n",
      "Name: nr_of_homes_owned\n",
      "Type: int64\n",
      "Unique values: 3\n",
      "NaN values: 0\n",
      "0 values: 0\n"
     ]
    },
    {
     "data": {
      "image/png": "[encoded data removed]",
      "text/plain": [
       "<Figure size 432x288 with 1 Axes>"
      ]
     },
     "metadata": {
      "needs_background": "light"
     },
     "output_type": "display_data"
    },
    {
     "name": "stdout",
     "output_type": "stream",
     "text": [
      "----------------\n",
      "Name: household_size\n",
      "Type: int64\n",
      "Unique values: 8\n",
      "NaN values: 0\n",
      "0 values: 0\n"
     ]
    },
    {
     "data": {
      "image/png": "[encoded data removed]",
      "text/plain": [
       "<Figure size 432x288 with 1 Axes>"
      ]
     },
     "metadata": {
      "needs_background": "light"
     },
     "output_type": "display_data"
    },
    {
     "name": "stdout",
     "output_type": "stream",
     "text": [
      "----------------\n",
      "Name: own_your_home\n",
      "Type: object\n",
      "Unique values: 2\n",
      "NaN values: 0\n",
      "0 values: 0\n"
     ]
    },
    {
     "data": {
      "image/png": "[encoded data removed]",
      "text/plain": [
       "<Figure size 432x288 with 1 Axes>"
      ]
     },
     "metadata": {
      "needs_background": "light"
     },
     "output_type": "display_data"
    },
    {
     "name": "stdout",
     "output_type": "stream",
     "text": [
      "----------------\n",
      "Name: average_balance\n",
      "Type: float64\n",
      "Unique values: 4729\n",
      "NaN values: 0\n",
      "0 values: 24\n"
     ]
    },
    {
     "data": {
      "image/png": "[encoded data removed]",
      "text/plain": [
       "<Figure size 432x288 with 1 Axes>"
      ]
     },
     "metadata": {
      "needs_background": "light"
     },
     "output_type": "display_data"
    },
    {
     "name": "stdout",
     "output_type": "stream",
     "text": [
      "----------------\n",
      "Name: balance_q1\n",
      "Type: float64\n",
      "Unique values: 2158\n",
      "NaN values: 0\n",
      "0 values: 29\n"
     ]
    },
    {
     "data": {
      "image/png": "[encoded data removed]",
      "text/plain": [
       "<Figure size 432x288 with 1 Axes>"
      ]
     },
     "metadata": {
      "needs_background": "light"
     },
     "output_type": "display_data"
    },
    {
     "name": "stdout",
     "output_type": "stream",
     "text": [
      "----------------\n",
      "Name: balance_q2\n",
      "Type: float64\n",
      "Unique values: 1945\n",
      "NaN values: 0\n",
      "0 values: 25\n"
     ]
    },
    {
     "data": {
      "image/png": "[encoded data removed]",
      "text/plain": [
       "<Figure size 432x288 with 1 Axes>"
      ]
     },
     "metadata": {
      "needs_background": "light"
     },
     "output_type": "display_data"
    },
    {
     "name": "stdout",
     "output_type": "stream",
     "text": [
      "----------------\n",
      "Name: balance_q3\n",
      "Type: float64\n",
      "Unique values: 2281\n",
      "NaN values: 0\n",
      "0 values: 25\n"
     ]
    },
    {
     "data": {
      "image/png": "[encoded data removed]",
      "text/plain": [
       "<Figure size 432x288 with 1 Axes>"
      ]
     },
     "metadata": {
      "needs_background": "light"
     },
     "output_type": "display_data"
    }
   ],
   "source": [
    "basic_information(df)"
   ]
  },
  {
   "cell_type": "code",
   "execution_count": 121,
   "metadata": {},
   "outputs": [
    {
     "data": {
      "text/plain": [
       "customer_id                 0\n",
       "offer_accepted              0\n",
       "reward                      0\n",
       "mailer_type                 0\n",
       "income_level                0\n",
       "nr_of_bank_accounts_open    0\n",
       "overdraft_protection        0\n",
       "credit_rating               0\n",
       "credit_cards_held           0\n",
       "nr_of_homes_owned           0\n",
       "household_size              0\n",
       "own_your_home               0\n",
       "average_balance             0\n",
       "balance_q1                  0\n",
       "balance_q2                  0\n",
       "balance_q3                  0\n",
       "dtype: int64"
      ]
     },
     "execution_count": 121,
     "metadata": {},
     "output_type": "execute_result"
    }
   ],
   "source": [
    "# Are there any NaN values\n",
    "df.isna().sum()"
   ]
  },
  {
   "cell_type": "code",
   "execution_count": 122,
   "metadata": {},
   "outputs": [
    {
     "name": "stdout",
     "output_type": "stream",
     "text": [
      "customer_id\n",
      "2047     1\n",
      "17053    1\n",
      "14994    1\n",
      "12947    1\n",
      "2708     1\n",
      "        ..\n",
      "15661    1\n",
      "13612    1\n",
      "3371     1\n",
      "1322     1\n",
      "2049     1\n",
      "Name: customer_id, Length: 18000, dtype: int64\n",
      "---------------------------\n",
      "offer_accepted\n",
      "No     16977\n",
      "Yes     1023\n",
      "Name: offer_accepted, dtype: int64\n",
      "---------------------------\n",
      "reward\n",
      "Air Miles    6061\n",
      "Cash Back    5999\n",
      "Points       5940\n",
      "Name: reward, dtype: int64\n",
      "---------------------------\n",
      "mailer_type\n",
      "Postcard    9147\n",
      "Letter      8853\n",
      "Name: mailer_type, dtype: int64\n",
      "---------------------------\n",
      "income_level\n",
      "Medium    9013\n",
      "High      4526\n",
      "Low       4461\n",
      "Name: income_level, dtype: int64\n",
      "---------------------------\n",
      "nr_of_bank_accounts_open\n",
      "1    13692\n",
      "2     4012\n",
      "3      296\n",
      "Name: nr_of_bank_accounts_open, dtype: int64\n",
      "---------------------------\n",
      "overdraft_protection\n",
      "No     15322\n",
      "Yes     2678\n",
      "Name: overdraft_protection, dtype: int64\n",
      "---------------------------\n",
      "credit_rating\n",
      "High      6071\n",
      "Medium    5972\n",
      "Low       5957\n",
      "Name: credit_rating, dtype: int64\n",
      "---------------------------\n",
      "credit_cards_held\n",
      "2    7944\n",
      "1    6154\n",
      "3    3387\n",
      "4     515\n",
      "Name: credit_cards_held, dtype: int64\n",
      "---------------------------\n",
      "nr_of_homes_owned\n",
      "1    14523\n",
      "2     3292\n",
      "3      185\n",
      "Name: nr_of_homes_owned, dtype: int64\n",
      "---------------------------\n",
      "household_size\n",
      "3    5712\n",
      "4    5543\n",
      "5    2853\n",
      "2    2813\n",
      "1     539\n",
      "6     538\n",
      "9       1\n",
      "8       1\n",
      "Name: household_size, dtype: int64\n",
      "---------------------------\n",
      "own_your_home\n",
      "Yes    11655\n",
      "No      6345\n",
      "Name: own_your_home, dtype: int64\n",
      "---------------------------\n",
      "average_balance\n",
      "0.00       24\n",
      "1127.00    17\n",
      "1033.00    16\n",
      "1036.00    16\n",
      "1053.50    16\n",
      "           ..\n",
      "596.75      1\n",
      "379.50      1\n",
      "1514.00     1\n",
      "375.75      1\n",
      "782.50      1\n",
      "Name: average_balance, Length: 4729, dtype: int64\n",
      "---------------------------\n",
      "balance_q1\n",
      "0.0       29\n",
      "675.0     23\n",
      "81.0      23\n",
      "676.0     22\n",
      "823.0     22\n",
      "          ..\n",
      "2002.0     1\n",
      "1180.0     1\n",
      "2310.0     1\n",
      "2185.0     1\n",
      "1186.0     1\n",
      "Name: balance_q1, Length: 2158, dtype: int64\n",
      "---------------------------\n",
      "balance_q2\n",
      "1060.0    30\n",
      "1197.0    26\n",
      "0.0       25\n",
      "1271.0    25\n",
      "1267.0    24\n",
      "          ..\n",
      "257.0      1\n",
      "2134.0     1\n",
      "1938.0     1\n",
      "108.0      1\n",
      "1898.0     1\n",
      "Name: balance_q2, Length: 1945, dtype: int64\n",
      "---------------------------\n",
      "balance_q3\n",
      "809.0     30\n",
      "833.0     27\n",
      "972.0     26\n",
      "842.0     26\n",
      "997.0     26\n",
      "          ..\n",
      "2039.0     1\n",
      "2242.0     1\n",
      "2209.0     1\n",
      "301.0      1\n",
      "2030.0     1\n",
      "Name: balance_q3, Length: 2281, dtype: int64\n",
      "---------------------------\n"
     ]
    }
   ],
   "source": [
    "# checking value counts in every column\n",
    "for i in df.columns:\n",
    "    print(i)\n",
    "    print(df[i].value_counts())\n",
    "    print('---------------------------')"
   ]
  },
  {
   "cell_type": "code",
   "execution_count": 123,
   "metadata": {},
   "outputs": [
    {
     "data": {
      "text/plain": [
       "customer_id                   int64\n",
       "offer_accepted               object\n",
       "reward                       object\n",
       "mailer_type                  object\n",
       "income_level                 object\n",
       "nr_of_bank_accounts_open      int64\n",
       "overdraft_protection         object\n",
       "credit_rating                object\n",
       "credit_cards_held             int64\n",
       "nr_of_homes_owned             int64\n",
       "household_size                int64\n",
       "own_your_home                object\n",
       "average_balance             float64\n",
       "balance_q1                  float64\n",
       "balance_q2                  float64\n",
       "balance_q3                  float64\n",
       "dtype: object"
      ]
     },
     "execution_count": 123,
     "metadata": {},
     "output_type": "execute_result"
    }
   ],
   "source": [
    "# Show dtypes. Are they correct?\n",
    "df.dtypes"
   ]
  },
  {
   "cell_type": "code",
   "execution_count": 124,
   "metadata": {},
   "outputs": [
    {
     "data": {
      "text/plain": [
       "customer_id                 0\n",
       "offer_accepted              0\n",
       "reward                      0\n",
       "mailer_type                 0\n",
       "income_level                0\n",
       "nr_of_bank_accounts_open    0\n",
       "overdraft_protection        0\n",
       "credit_rating               0\n",
       "credit_cards_held           0\n",
       "nr_of_homes_owned           0\n",
       "household_size              0\n",
       "own_your_home               0\n",
       "average_balance             0\n",
       "balance_q1                  0\n",
       "balance_q2                  0\n",
       "balance_q3                  0\n",
       "dtype: int64"
      ]
     },
     "execution_count": 124,
     "metadata": {},
     "output_type": "execute_result"
    }
   ],
   "source": [
    "# Show null values\n",
    "df.isnull().sum()"
   ]
  },
  {
   "cell_type": "code",
   "execution_count": 125,
   "metadata": {},
   "outputs": [],
   "source": [
    "# Drop na's\n",
    "df = df.dropna()"
   ]
  },
  {
   "cell_type": "code",
   "execution_count": 126,
   "metadata": {},
   "outputs": [
    {
     "data": {
      "text/plain": [
       "customer_id                 0\n",
       "offer_accepted              0\n",
       "reward                      0\n",
       "mailer_type                 0\n",
       "income_level                0\n",
       "nr_of_bank_accounts_open    0\n",
       "overdraft_protection        0\n",
       "credit_rating               0\n",
       "credit_cards_held           0\n",
       "nr_of_homes_owned           0\n",
       "household_size              0\n",
       "own_your_home               0\n",
       "average_balance             0\n",
       "balance_q1                  0\n",
       "balance_q2                  0\n",
       "balance_q3                  0\n",
       "dtype: int64"
      ]
     },
     "execution_count": 126,
     "metadata": {},
     "output_type": "execute_result"
    }
   ],
   "source": [
    "df.isna().sum()"
   ]
  },
  {
   "cell_type": "code",
   "execution_count": 127,
   "metadata": {},
   "outputs": [
    {
     "data": {
      "text/plain": [
       "0.00       24\n",
       "1127.00    17\n",
       "1033.00    16\n",
       "1036.00    16\n",
       "1053.50    16\n",
       "           ..\n",
       "596.75      1\n",
       "379.50      1\n",
       "1514.00     1\n",
       "375.75      1\n",
       "782.50      1\n",
       "Name: average_balance, Length: 4729, dtype: int64"
      ]
     },
     "execution_count": 127,
     "metadata": {},
     "output_type": "execute_result"
    }
   ],
   "source": [
    "df.average_balance.value_counts(dropna=False)"
   ]
  },
  {
   "cell_type": "code",
   "execution_count": 128,
   "metadata": {},
   "outputs": [],
   "source": [
    "# Drop the column customer_id\n",
    "df = df.drop(['customer_id'], axis = 1)"
   ]
  },
  {
   "cell_type": "code",
   "execution_count": 129,
   "metadata": {},
   "outputs": [
    {
     "data": {
      "text/plain": [
       "No     16977\n",
       "Yes     1023\n",
       "Name: offer_accepted, dtype: int64"
      ]
     },
     "execution_count": 129,
     "metadata": {},
     "output_type": "execute_result"
    }
   ],
   "source": [
    "# Check values target\n",
    "df.offer_accepted.value_counts()"
   ]
  },
  {
   "cell_type": "markdown",
   "metadata": {},
   "source": [
    "### Function for data separation"
   ]
  },
  {
   "cell_type": "code",
   "execution_count": 130,
   "metadata": {},
   "outputs": [],
   "source": [
    "# data separation in types\n",
    "#def data_sep(df,types, target=None):\n",
    "def data_sep(df,types):\n",
    "    num_discrete = []\n",
    "    num_continuous = []\n",
    "    num = df.select_dtypes(include = np.number)\n",
    "    for i in num.columns:\n",
    "        if 'balance' in i:\n",
    "            num_continuous.append(i)\n",
    "        else:\n",
    "            num_discrete.append(i)\n",
    "    if types == 'numerical':\n",
    "        return num\n",
    "    elif types == 'discrete':\n",
    "        return df[num_discrete]\n",
    "    elif types == 'continuous':\n",
    "        return df[num_continuous]\n",
    "    else:\n",
    "        cat = df.select_dtypes(include = np.object)\n",
    "        #cat = cat.drop(target, axis = 1)\n",
    "        return cat"
   ]
  },
  {
   "cell_type": "markdown",
   "metadata": {},
   "source": [
    "### Apply data separation"
   ]
  },
  {
   "cell_type": "code",
   "execution_count": 131,
   "metadata": {},
   "outputs": [
    {
     "data": {
      "text/html": [
       "<div>\n",
       "<style scoped>\n",
       "    .dataframe tbody tr th:only-of-type {\n",
       "        vertical-align: middle;\n",
       "    }\n",
       "\n",
       "    .dataframe tbody tr th {\n",
       "        vertical-align: top;\n",
       "    }\n",
       "\n",
       "    .dataframe thead th {\n",
       "        text-align: right;\n",
       "    }\n",
       "</style>\n",
       "<table border=\"1\" class=\"dataframe\">\n",
       "  <thead>\n",
       "    <tr style=\"text-align: right;\">\n",
       "      <th></th>\n",
       "      <th>reward</th>\n",
       "      <th>mailer_type</th>\n",
       "      <th>income_level</th>\n",
       "      <th>nr_of_bank_accounts_open</th>\n",
       "      <th>overdraft_protection</th>\n",
       "      <th>credit_rating</th>\n",
       "      <th>credit_cards_held</th>\n",
       "      <th>nr_of_homes_owned</th>\n",
       "      <th>household_size</th>\n",
       "      <th>own_your_home</th>\n",
       "      <th>average_balance</th>\n",
       "      <th>balance_q1</th>\n",
       "      <th>balance_q2</th>\n",
       "      <th>balance_q3</th>\n",
       "    </tr>\n",
       "  </thead>\n",
       "  <tbody>\n",
       "    <tr>\n",
       "      <th>0</th>\n",
       "      <td>Air Miles</td>\n",
       "      <td>Letter</td>\n",
       "      <td>High</td>\n",
       "      <td>1</td>\n",
       "      <td>No</td>\n",
       "      <td>High</td>\n",
       "      <td>2</td>\n",
       "      <td>1</td>\n",
       "      <td>4</td>\n",
       "      <td>No</td>\n",
       "      <td>1160.75</td>\n",
       "      <td>1669.0</td>\n",
       "      <td>877.0</td>\n",
       "      <td>1095.0</td>\n",
       "    </tr>\n",
       "    <tr>\n",
       "      <th>1</th>\n",
       "      <td>Air Miles</td>\n",
       "      <td>Letter</td>\n",
       "      <td>Medium</td>\n",
       "      <td>1</td>\n",
       "      <td>No</td>\n",
       "      <td>Medium</td>\n",
       "      <td>2</td>\n",
       "      <td>2</td>\n",
       "      <td>5</td>\n",
       "      <td>Yes</td>\n",
       "      <td>147.25</td>\n",
       "      <td>39.0</td>\n",
       "      <td>106.0</td>\n",
       "      <td>78.0</td>\n",
       "    </tr>\n",
       "    <tr>\n",
       "      <th>2</th>\n",
       "      <td>Air Miles</td>\n",
       "      <td>Postcard</td>\n",
       "      <td>High</td>\n",
       "      <td>2</td>\n",
       "      <td>No</td>\n",
       "      <td>Medium</td>\n",
       "      <td>2</td>\n",
       "      <td>1</td>\n",
       "      <td>2</td>\n",
       "      <td>Yes</td>\n",
       "      <td>276.50</td>\n",
       "      <td>367.0</td>\n",
       "      <td>352.0</td>\n",
       "      <td>145.0</td>\n",
       "    </tr>\n",
       "    <tr>\n",
       "      <th>3</th>\n",
       "      <td>Air Miles</td>\n",
       "      <td>Letter</td>\n",
       "      <td>Medium</td>\n",
       "      <td>2</td>\n",
       "      <td>No</td>\n",
       "      <td>High</td>\n",
       "      <td>1</td>\n",
       "      <td>1</td>\n",
       "      <td>4</td>\n",
       "      <td>No</td>\n",
       "      <td>1219.00</td>\n",
       "      <td>1578.0</td>\n",
       "      <td>1760.0</td>\n",
       "      <td>1119.0</td>\n",
       "    </tr>\n",
       "    <tr>\n",
       "      <th>4</th>\n",
       "      <td>Air Miles</td>\n",
       "      <td>Letter</td>\n",
       "      <td>Medium</td>\n",
       "      <td>1</td>\n",
       "      <td>No</td>\n",
       "      <td>Medium</td>\n",
       "      <td>2</td>\n",
       "      <td>1</td>\n",
       "      <td>6</td>\n",
       "      <td>Yes</td>\n",
       "      <td>1211.00</td>\n",
       "      <td>2140.0</td>\n",
       "      <td>1357.0</td>\n",
       "      <td>982.0</td>\n",
       "    </tr>\n",
       "    <tr>\n",
       "      <th>...</th>\n",
       "      <td>...</td>\n",
       "      <td>...</td>\n",
       "      <td>...</td>\n",
       "      <td>...</td>\n",
       "      <td>...</td>\n",
       "      <td>...</td>\n",
       "      <td>...</td>\n",
       "      <td>...</td>\n",
       "      <td>...</td>\n",
       "      <td>...</td>\n",
       "      <td>...</td>\n",
       "      <td>...</td>\n",
       "      <td>...</td>\n",
       "      <td>...</td>\n",
       "    </tr>\n",
       "    <tr>\n",
       "      <th>17995</th>\n",
       "      <td>Cash Back</td>\n",
       "      <td>Letter</td>\n",
       "      <td>High</td>\n",
       "      <td>1</td>\n",
       "      <td>No</td>\n",
       "      <td>Low</td>\n",
       "      <td>1</td>\n",
       "      <td>1</td>\n",
       "      <td>5</td>\n",
       "      <td>Yes</td>\n",
       "      <td>167.50</td>\n",
       "      <td>136.0</td>\n",
       "      <td>65.0</td>\n",
       "      <td>71.0</td>\n",
       "    </tr>\n",
       "    <tr>\n",
       "      <th>17996</th>\n",
       "      <td>Cash Back</td>\n",
       "      <td>Letter</td>\n",
       "      <td>High</td>\n",
       "      <td>1</td>\n",
       "      <td>No</td>\n",
       "      <td>Low</td>\n",
       "      <td>3</td>\n",
       "      <td>1</td>\n",
       "      <td>3</td>\n",
       "      <td>Yes</td>\n",
       "      <td>850.50</td>\n",
       "      <td>984.0</td>\n",
       "      <td>940.0</td>\n",
       "      <td>943.0</td>\n",
       "    </tr>\n",
       "    <tr>\n",
       "      <th>17997</th>\n",
       "      <td>Cash Back</td>\n",
       "      <td>Letter</td>\n",
       "      <td>High</td>\n",
       "      <td>1</td>\n",
       "      <td>No</td>\n",
       "      <td>Low</td>\n",
       "      <td>2</td>\n",
       "      <td>1</td>\n",
       "      <td>4</td>\n",
       "      <td>No</td>\n",
       "      <td>1087.25</td>\n",
       "      <td>918.0</td>\n",
       "      <td>767.0</td>\n",
       "      <td>1170.0</td>\n",
       "    </tr>\n",
       "    <tr>\n",
       "      <th>17998</th>\n",
       "      <td>Cash Back</td>\n",
       "      <td>Letter</td>\n",
       "      <td>Medium</td>\n",
       "      <td>1</td>\n",
       "      <td>No</td>\n",
       "      <td>Medium</td>\n",
       "      <td>4</td>\n",
       "      <td>2</td>\n",
       "      <td>2</td>\n",
       "      <td>Yes</td>\n",
       "      <td>1022.25</td>\n",
       "      <td>626.0</td>\n",
       "      <td>983.0</td>\n",
       "      <td>865.0</td>\n",
       "    </tr>\n",
       "    <tr>\n",
       "      <th>17999</th>\n",
       "      <td>Cash Back</td>\n",
       "      <td>Letter</td>\n",
       "      <td>Low</td>\n",
       "      <td>2</td>\n",
       "      <td>No</td>\n",
       "      <td>Medium</td>\n",
       "      <td>2</td>\n",
       "      <td>1</td>\n",
       "      <td>3</td>\n",
       "      <td>No</td>\n",
       "      <td>1056.00</td>\n",
       "      <td>265.0</td>\n",
       "      <td>1378.0</td>\n",
       "      <td>1978.0</td>\n",
       "    </tr>\n",
       "  </tbody>\n",
       "</table>\n",
       "<p>18000 rows × 14 columns</p>\n",
       "</div>"
      ],
      "text/plain": [
       "          reward mailer_type income_level  nr_of_bank_accounts_open  \\\n",
       "0      Air Miles      Letter         High                         1   \n",
       "1      Air Miles      Letter       Medium                         1   \n",
       "2      Air Miles    Postcard         High                         2   \n",
       "3      Air Miles      Letter       Medium                         2   \n",
       "4      Air Miles      Letter       Medium                         1   \n",
       "...          ...         ...          ...                       ...   \n",
       "17995  Cash Back      Letter         High                         1   \n",
       "17996  Cash Back      Letter         High                         1   \n",
       "17997  Cash Back      Letter         High                         1   \n",
       "17998  Cash Back      Letter       Medium                         1   \n",
       "17999  Cash Back      Letter          Low                         2   \n",
       "\n",
       "      overdraft_protection credit_rating  credit_cards_held  \\\n",
       "0                       No          High                  2   \n",
       "1                       No        Medium                  2   \n",
       "2                       No        Medium                  2   \n",
       "3                       No          High                  1   \n",
       "4                       No        Medium                  2   \n",
       "...                    ...           ...                ...   \n",
       "17995                   No           Low                  1   \n",
       "17996                   No           Low                  3   \n",
       "17997                   No           Low                  2   \n",
       "17998                   No        Medium                  4   \n",
       "17999                   No        Medium                  2   \n",
       "\n",
       "       nr_of_homes_owned  household_size own_your_home  average_balance  \\\n",
       "0                      1               4            No          1160.75   \n",
       "1                      2               5           Yes           147.25   \n",
       "2                      1               2           Yes           276.50   \n",
       "3                      1               4            No          1219.00   \n",
       "4                      1               6           Yes          1211.00   \n",
       "...                  ...             ...           ...              ...   \n",
       "17995                  1               5           Yes           167.50   \n",
       "17996                  1               3           Yes           850.50   \n",
       "17997                  1               4            No          1087.25   \n",
       "17998                  2               2           Yes          1022.25   \n",
       "17999                  1               3            No          1056.00   \n",
       "\n",
       "       balance_q1  balance_q2  balance_q3  \n",
       "0          1669.0       877.0      1095.0  \n",
       "1            39.0       106.0        78.0  \n",
       "2           367.0       352.0       145.0  \n",
       "3          1578.0      1760.0      1119.0  \n",
       "4          2140.0      1357.0       982.0  \n",
       "...           ...         ...         ...  \n",
       "17995       136.0        65.0        71.0  \n",
       "17996       984.0       940.0       943.0  \n",
       "17997       918.0       767.0      1170.0  \n",
       "17998       626.0       983.0       865.0  \n",
       "17999       265.0      1378.0      1978.0  \n",
       "\n",
       "[18000 rows x 14 columns]"
      ]
     },
     "metadata": {},
     "output_type": "display_data"
    },
    {
     "data": {
      "text/plain": [
       "0        0\n",
       "1        0\n",
       "2        0\n",
       "3        0\n",
       "4        0\n",
       "        ..\n",
       "17995    0\n",
       "17996    0\n",
       "17997    0\n",
       "17998    0\n",
       "17999    0\n",
       "Name: offer_accepted, Length: 18000, dtype: int64"
      ]
     },
     "metadata": {},
     "output_type": "display_data"
    }
   ],
   "source": [
    "# Convert target y to 0 and 1 and drop it\n",
    "y=df[\"offer_accepted\"].map({\"Yes\":1,\"No\":0})\n",
    "df = df.drop(\"offer_accepted\",axis=1)\n",
    "display(df)\n",
    "display(y)"
   ]
  },
  {
   "cell_type": "code",
   "execution_count": 132,
   "metadata": {},
   "outputs": [
    {
     "data": {
      "text/html": [
       "<div>\n",
       "<style scoped>\n",
       "    .dataframe tbody tr th:only-of-type {\n",
       "        vertical-align: middle;\n",
       "    }\n",
       "\n",
       "    .dataframe tbody tr th {\n",
       "        vertical-align: top;\n",
       "    }\n",
       "\n",
       "    .dataframe thead th {\n",
       "        text-align: right;\n",
       "    }\n",
       "</style>\n",
       "<table border=\"1\" class=\"dataframe\">\n",
       "  <thead>\n",
       "    <tr style=\"text-align: right;\">\n",
       "      <th></th>\n",
       "      <th>reward</th>\n",
       "      <th>mailer_type</th>\n",
       "      <th>income_level</th>\n",
       "      <th>overdraft_protection</th>\n",
       "      <th>credit_rating</th>\n",
       "      <th>own_your_home</th>\n",
       "    </tr>\n",
       "  </thead>\n",
       "  <tbody>\n",
       "    <tr>\n",
       "      <th>0</th>\n",
       "      <td>Air Miles</td>\n",
       "      <td>Letter</td>\n",
       "      <td>High</td>\n",
       "      <td>No</td>\n",
       "      <td>High</td>\n",
       "      <td>No</td>\n",
       "    </tr>\n",
       "    <tr>\n",
       "      <th>1</th>\n",
       "      <td>Air Miles</td>\n",
       "      <td>Letter</td>\n",
       "      <td>Medium</td>\n",
       "      <td>No</td>\n",
       "      <td>Medium</td>\n",
       "      <td>Yes</td>\n",
       "    </tr>\n",
       "    <tr>\n",
       "      <th>2</th>\n",
       "      <td>Air Miles</td>\n",
       "      <td>Postcard</td>\n",
       "      <td>High</td>\n",
       "      <td>No</td>\n",
       "      <td>Medium</td>\n",
       "      <td>Yes</td>\n",
       "    </tr>\n",
       "    <tr>\n",
       "      <th>3</th>\n",
       "      <td>Air Miles</td>\n",
       "      <td>Letter</td>\n",
       "      <td>Medium</td>\n",
       "      <td>No</td>\n",
       "      <td>High</td>\n",
       "      <td>No</td>\n",
       "    </tr>\n",
       "    <tr>\n",
       "      <th>4</th>\n",
       "      <td>Air Miles</td>\n",
       "      <td>Letter</td>\n",
       "      <td>Medium</td>\n",
       "      <td>No</td>\n",
       "      <td>Medium</td>\n",
       "      <td>Yes</td>\n",
       "    </tr>\n",
       "  </tbody>\n",
       "</table>\n",
       "</div>"
      ],
      "text/plain": [
       "      reward mailer_type income_level overdraft_protection credit_rating  \\\n",
       "0  Air Miles      Letter         High                   No          High   \n",
       "1  Air Miles      Letter       Medium                   No        Medium   \n",
       "2  Air Miles    Postcard         High                   No        Medium   \n",
       "3  Air Miles      Letter       Medium                   No          High   \n",
       "4  Air Miles      Letter       Medium                   No        Medium   \n",
       "\n",
       "  own_your_home  \n",
       "0            No  \n",
       "1           Yes  \n",
       "2           Yes  \n",
       "3            No  \n",
       "4           Yes  "
      ]
     },
     "execution_count": 132,
     "metadata": {},
     "output_type": "execute_result"
    }
   ],
   "source": [
    "# Show categoricals\n",
    "#cat = data_sep(df,'cat','offer_accepted')\n",
    "cat = data_sep(df,'cat')\n",
    "cat.head()"
   ]
  },
  {
   "cell_type": "code",
   "execution_count": 133,
   "metadata": {},
   "outputs": [
    {
     "data": {
      "text/html": [
       "<div>\n",
       "<style scoped>\n",
       "    .dataframe tbody tr th:only-of-type {\n",
       "        vertical-align: middle;\n",
       "    }\n",
       "\n",
       "    .dataframe tbody tr th {\n",
       "        vertical-align: top;\n",
       "    }\n",
       "\n",
       "    .dataframe thead th {\n",
       "        text-align: right;\n",
       "    }\n",
       "</style>\n",
       "<table border=\"1\" class=\"dataframe\">\n",
       "  <thead>\n",
       "    <tr style=\"text-align: right;\">\n",
       "      <th></th>\n",
       "      <th>nr_of_bank_accounts_open</th>\n",
       "      <th>credit_cards_held</th>\n",
       "      <th>nr_of_homes_owned</th>\n",
       "      <th>household_size</th>\n",
       "      <th>average_balance</th>\n",
       "      <th>balance_q1</th>\n",
       "      <th>balance_q2</th>\n",
       "      <th>balance_q3</th>\n",
       "    </tr>\n",
       "  </thead>\n",
       "  <tbody>\n",
       "    <tr>\n",
       "      <th>0</th>\n",
       "      <td>1</td>\n",
       "      <td>2</td>\n",
       "      <td>1</td>\n",
       "      <td>4</td>\n",
       "      <td>1160.75</td>\n",
       "      <td>1669.0</td>\n",
       "      <td>877.0</td>\n",
       "      <td>1095.0</td>\n",
       "    </tr>\n",
       "    <tr>\n",
       "      <th>1</th>\n",
       "      <td>1</td>\n",
       "      <td>2</td>\n",
       "      <td>2</td>\n",
       "      <td>5</td>\n",
       "      <td>147.25</td>\n",
       "      <td>39.0</td>\n",
       "      <td>106.0</td>\n",
       "      <td>78.0</td>\n",
       "    </tr>\n",
       "    <tr>\n",
       "      <th>2</th>\n",
       "      <td>2</td>\n",
       "      <td>2</td>\n",
       "      <td>1</td>\n",
       "      <td>2</td>\n",
       "      <td>276.50</td>\n",
       "      <td>367.0</td>\n",
       "      <td>352.0</td>\n",
       "      <td>145.0</td>\n",
       "    </tr>\n",
       "    <tr>\n",
       "      <th>3</th>\n",
       "      <td>2</td>\n",
       "      <td>1</td>\n",
       "      <td>1</td>\n",
       "      <td>4</td>\n",
       "      <td>1219.00</td>\n",
       "      <td>1578.0</td>\n",
       "      <td>1760.0</td>\n",
       "      <td>1119.0</td>\n",
       "    </tr>\n",
       "    <tr>\n",
       "      <th>4</th>\n",
       "      <td>1</td>\n",
       "      <td>2</td>\n",
       "      <td>1</td>\n",
       "      <td>6</td>\n",
       "      <td>1211.00</td>\n",
       "      <td>2140.0</td>\n",
       "      <td>1357.0</td>\n",
       "      <td>982.0</td>\n",
       "    </tr>\n",
       "  </tbody>\n",
       "</table>\n",
       "</div>"
      ],
      "text/plain": [
       "   nr_of_bank_accounts_open  credit_cards_held  nr_of_homes_owned  \\\n",
       "0                         1                  2                  1   \n",
       "1                         1                  2                  2   \n",
       "2                         2                  2                  1   \n",
       "3                         2                  1                  1   \n",
       "4                         1                  2                  1   \n",
       "\n",
       "   household_size  average_balance  balance_q1  balance_q2  balance_q3  \n",
       "0               4          1160.75      1669.0       877.0      1095.0  \n",
       "1               5           147.25        39.0       106.0        78.0  \n",
       "2               2           276.50       367.0       352.0       145.0  \n",
       "3               4          1219.00      1578.0      1760.0      1119.0  \n",
       "4               6          1211.00      2140.0      1357.0       982.0  "
      ]
     },
     "execution_count": 133,
     "metadata": {},
     "output_type": "execute_result"
    }
   ],
   "source": [
    "# Show numericals\n",
    "num = data_sep(df,'numerical')\n",
    "num.head()"
   ]
  },
  {
   "cell_type": "code",
   "execution_count": 134,
   "metadata": {},
   "outputs": [
    {
     "data": {
      "text/html": [
       "<div>\n",
       "<style scoped>\n",
       "    .dataframe tbody tr th:only-of-type {\n",
       "        vertical-align: middle;\n",
       "    }\n",
       "\n",
       "    .dataframe tbody tr th {\n",
       "        vertical-align: top;\n",
       "    }\n",
       "\n",
       "    .dataframe thead th {\n",
       "        text-align: right;\n",
       "    }\n",
       "</style>\n",
       "<table border=\"1\" class=\"dataframe\">\n",
       "  <thead>\n",
       "    <tr style=\"text-align: right;\">\n",
       "      <th></th>\n",
       "      <th>nr_of_bank_accounts_open</th>\n",
       "      <th>credit_cards_held</th>\n",
       "      <th>nr_of_homes_owned</th>\n",
       "      <th>household_size</th>\n",
       "    </tr>\n",
       "  </thead>\n",
       "  <tbody>\n",
       "    <tr>\n",
       "      <th>0</th>\n",
       "      <td>1</td>\n",
       "      <td>2</td>\n",
       "      <td>1</td>\n",
       "      <td>4</td>\n",
       "    </tr>\n",
       "    <tr>\n",
       "      <th>1</th>\n",
       "      <td>1</td>\n",
       "      <td>2</td>\n",
       "      <td>2</td>\n",
       "      <td>5</td>\n",
       "    </tr>\n",
       "    <tr>\n",
       "      <th>2</th>\n",
       "      <td>2</td>\n",
       "      <td>2</td>\n",
       "      <td>1</td>\n",
       "      <td>2</td>\n",
       "    </tr>\n",
       "    <tr>\n",
       "      <th>3</th>\n",
       "      <td>2</td>\n",
       "      <td>1</td>\n",
       "      <td>1</td>\n",
       "      <td>4</td>\n",
       "    </tr>\n",
       "    <tr>\n",
       "      <th>4</th>\n",
       "      <td>1</td>\n",
       "      <td>2</td>\n",
       "      <td>1</td>\n",
       "      <td>6</td>\n",
       "    </tr>\n",
       "  </tbody>\n",
       "</table>\n",
       "</div>"
      ],
      "text/plain": [
       "   nr_of_bank_accounts_open  credit_cards_held  nr_of_homes_owned  \\\n",
       "0                         1                  2                  1   \n",
       "1                         1                  2                  2   \n",
       "2                         2                  2                  1   \n",
       "3                         2                  1                  1   \n",
       "4                         1                  2                  1   \n",
       "\n",
       "   household_size  \n",
       "0               4  \n",
       "1               5  \n",
       "2               2  \n",
       "3               4  \n",
       "4               6  "
      ]
     },
     "execution_count": 134,
     "metadata": {},
     "output_type": "execute_result"
    }
   ],
   "source": [
    "# Show discrete features\n",
    "num_disc = data_sep(df, 'discrete')\n",
    "num_disc.head()"
   ]
  },
  {
   "cell_type": "code",
   "execution_count": 135,
   "metadata": {},
   "outputs": [
    {
     "data": {
      "text/html": [
       "<div>\n",
       "<style scoped>\n",
       "    .dataframe tbody tr th:only-of-type {\n",
       "        vertical-align: middle;\n",
       "    }\n",
       "\n",
       "    .dataframe tbody tr th {\n",
       "        vertical-align: top;\n",
       "    }\n",
       "\n",
       "    .dataframe thead th {\n",
       "        text-align: right;\n",
       "    }\n",
       "</style>\n",
       "<table border=\"1\" class=\"dataframe\">\n",
       "  <thead>\n",
       "    <tr style=\"text-align: right;\">\n",
       "      <th></th>\n",
       "      <th>average_balance</th>\n",
       "      <th>balance_q1</th>\n",
       "      <th>balance_q2</th>\n",
       "      <th>balance_q3</th>\n",
       "    </tr>\n",
       "  </thead>\n",
       "  <tbody>\n",
       "    <tr>\n",
       "      <th>0</th>\n",
       "      <td>1160.75</td>\n",
       "      <td>1669.0</td>\n",
       "      <td>877.0</td>\n",
       "      <td>1095.0</td>\n",
       "    </tr>\n",
       "    <tr>\n",
       "      <th>1</th>\n",
       "      <td>147.25</td>\n",
       "      <td>39.0</td>\n",
       "      <td>106.0</td>\n",
       "      <td>78.0</td>\n",
       "    </tr>\n",
       "    <tr>\n",
       "      <th>2</th>\n",
       "      <td>276.50</td>\n",
       "      <td>367.0</td>\n",
       "      <td>352.0</td>\n",
       "      <td>145.0</td>\n",
       "    </tr>\n",
       "    <tr>\n",
       "      <th>3</th>\n",
       "      <td>1219.00</td>\n",
       "      <td>1578.0</td>\n",
       "      <td>1760.0</td>\n",
       "      <td>1119.0</td>\n",
       "    </tr>\n",
       "    <tr>\n",
       "      <th>4</th>\n",
       "      <td>1211.00</td>\n",
       "      <td>2140.0</td>\n",
       "      <td>1357.0</td>\n",
       "      <td>982.0</td>\n",
       "    </tr>\n",
       "  </tbody>\n",
       "</table>\n",
       "</div>"
      ],
      "text/plain": [
       "   average_balance  balance_q1  balance_q2  balance_q3\n",
       "0          1160.75      1669.0       877.0      1095.0\n",
       "1           147.25        39.0       106.0        78.0\n",
       "2           276.50       367.0       352.0       145.0\n",
       "3          1219.00      1578.0      1760.0      1119.0\n",
       "4          1211.00      2140.0      1357.0       982.0"
      ]
     },
     "execution_count": 135,
     "metadata": {},
     "output_type": "execute_result"
    }
   ],
   "source": [
    "# Show continuous features\n",
    "num_cont = data_sep(df, 'continuous')\n",
    "num_cont.head()"
   ]
  },
  {
   "cell_type": "code",
   "execution_count": 136,
   "metadata": {},
   "outputs": [
    {
     "data": {
      "text/html": [
       "<div>\n",
       "<style scoped>\n",
       "    .dataframe tbody tr th:only-of-type {\n",
       "        vertical-align: middle;\n",
       "    }\n",
       "\n",
       "    .dataframe tbody tr th {\n",
       "        vertical-align: top;\n",
       "    }\n",
       "\n",
       "    .dataframe thead th {\n",
       "        text-align: right;\n",
       "    }\n",
       "</style>\n",
       "<table border=\"1\" class=\"dataframe\">\n",
       "  <thead>\n",
       "    <tr style=\"text-align: right;\">\n",
       "      <th></th>\n",
       "      <th>count</th>\n",
       "      <th>mean</th>\n",
       "      <th>std</th>\n",
       "      <th>min</th>\n",
       "      <th>25%</th>\n",
       "      <th>50%</th>\n",
       "      <th>75%</th>\n",
       "      <th>max</th>\n",
       "    </tr>\n",
       "  </thead>\n",
       "  <tbody>\n",
       "    <tr>\n",
       "      <th>nr_of_bank_accounts_open</th>\n",
       "      <td>18000.0</td>\n",
       "      <td>1.255778</td>\n",
       "      <td>0.472501</td>\n",
       "      <td>1.0</td>\n",
       "      <td>1.0</td>\n",
       "      <td>1.0</td>\n",
       "      <td>1.0000</td>\n",
       "      <td>3.00</td>\n",
       "    </tr>\n",
       "    <tr>\n",
       "      <th>credit_cards_held</th>\n",
       "      <td>18000.0</td>\n",
       "      <td>1.903500</td>\n",
       "      <td>0.797009</td>\n",
       "      <td>1.0</td>\n",
       "      <td>1.0</td>\n",
       "      <td>2.0</td>\n",
       "      <td>2.0000</td>\n",
       "      <td>4.00</td>\n",
       "    </tr>\n",
       "    <tr>\n",
       "      <th>nr_of_homes_owned</th>\n",
       "      <td>18000.0</td>\n",
       "      <td>1.203444</td>\n",
       "      <td>0.427341</td>\n",
       "      <td>1.0</td>\n",
       "      <td>1.0</td>\n",
       "      <td>1.0</td>\n",
       "      <td>1.0000</td>\n",
       "      <td>3.00</td>\n",
       "    </tr>\n",
       "    <tr>\n",
       "      <th>household_size</th>\n",
       "      <td>18000.0</td>\n",
       "      <td>3.499056</td>\n",
       "      <td>1.114182</td>\n",
       "      <td>1.0</td>\n",
       "      <td>3.0</td>\n",
       "      <td>3.0</td>\n",
       "      <td>4.0000</td>\n",
       "      <td>9.00</td>\n",
       "    </tr>\n",
       "    <tr>\n",
       "      <th>average_balance</th>\n",
       "      <td>18000.0</td>\n",
       "      <td>939.261542</td>\n",
       "      <td>351.742623</td>\n",
       "      <td>0.0</td>\n",
       "      <td>786.5</td>\n",
       "      <td>1006.5</td>\n",
       "      <td>1152.5625</td>\n",
       "      <td>3366.25</td>\n",
       "    </tr>\n",
       "    <tr>\n",
       "      <th>balance_q1</th>\n",
       "      <td>18000.0</td>\n",
       "      <td>909.236722</td>\n",
       "      <td>620.553532</td>\n",
       "      <td>0.0</td>\n",
       "      <td>391.0</td>\n",
       "      <td>771.0</td>\n",
       "      <td>1520.2500</td>\n",
       "      <td>3450.00</td>\n",
       "    </tr>\n",
       "    <tr>\n",
       "      <th>balance_q2</th>\n",
       "      <td>18000.0</td>\n",
       "      <td>998.059667</td>\n",
       "      <td>458.549752</td>\n",
       "      <td>0.0</td>\n",
       "      <td>662.0</td>\n",
       "      <td>1032.0</td>\n",
       "      <td>1342.0000</td>\n",
       "      <td>3421.00</td>\n",
       "    </tr>\n",
       "    <tr>\n",
       "      <th>balance_q3</th>\n",
       "      <td>18000.0</td>\n",
       "      <td>1040.644222</td>\n",
       "      <td>554.389099</td>\n",
       "      <td>0.0</td>\n",
       "      <td>631.0</td>\n",
       "      <td>945.0</td>\n",
       "      <td>1462.0000</td>\n",
       "      <td>3823.00</td>\n",
       "    </tr>\n",
       "  </tbody>\n",
       "</table>\n",
       "</div>"
      ],
      "text/plain": [
       "                            count         mean         std  min    25%  \\\n",
       "nr_of_bank_accounts_open  18000.0     1.255778    0.472501  1.0    1.0   \n",
       "credit_cards_held         18000.0     1.903500    0.797009  1.0    1.0   \n",
       "nr_of_homes_owned         18000.0     1.203444    0.427341  1.0    1.0   \n",
       "household_size            18000.0     3.499056    1.114182  1.0    3.0   \n",
       "average_balance           18000.0   939.261542  351.742623  0.0  786.5   \n",
       "balance_q1                18000.0   909.236722  620.553532  0.0  391.0   \n",
       "balance_q2                18000.0   998.059667  458.549752  0.0  662.0   \n",
       "balance_q3                18000.0  1040.644222  554.389099  0.0  631.0   \n",
       "\n",
       "                             50%        75%      max  \n",
       "nr_of_bank_accounts_open     1.0     1.0000     3.00  \n",
       "credit_cards_held            2.0     2.0000     4.00  \n",
       "nr_of_homes_owned            1.0     1.0000     3.00  \n",
       "household_size               3.0     4.0000     9.00  \n",
       "average_balance           1006.5  1152.5625  3366.25  \n",
       "balance_q1                 771.0  1520.2500  3450.00  \n",
       "balance_q2                1032.0  1342.0000  3421.00  \n",
       "balance_q3                 945.0  1462.0000  3823.00  "
      ]
     },
     "execution_count": 136,
     "metadata": {},
     "output_type": "execute_result"
    }
   ],
   "source": [
    "df.describe().T"
   ]
  },
  {
   "cell_type": "markdown",
   "metadata": {},
   "source": [
    "### Function for Plotting types"
   ]
  },
  {
   "cell_type": "code",
   "execution_count": 137,
   "metadata": {},
   "outputs": [],
   "source": [
    "# plotting types\n",
    "def plots(df, types,target=None):\n",
    "    import seaborn as sns\n",
    "    if types == 'correlation matrix':\n",
    "        corr_matrix=df.corr(method='pearson')\n",
    "        fig, ax = plt.subplots(figsize=(10, 8))\n",
    "        mask = np.zeros_like(corr_matrix)\n",
    "        mask[np.triu_indices_from(mask)] = True\n",
    "        ax = sns.heatmap(corr_matrix, mask=mask, annot=True)\n",
    "        return plt.show()\n",
    "    for i in df.columns:\n",
    "            print('Column: ',i)\n",
    "            print('====================')\n",
    "            if types == 'continuous':\n",
    "                sns.distplot(df[i])\n",
    "            elif types == 'categorical' or types == 'discrete':\n",
    "                sns.countplot(x=i,data=df)\n",
    "            elif types == 'boxplot':\n",
    "                sns.boxplot(x=i, data=df)\n",
    "            plt.show()\n",
    "            print('====================')"
   ]
  },
  {
   "cell_type": "markdown",
   "metadata": {},
   "source": [
    "### Apply plotting type"
   ]
  },
  {
   "cell_type": "code",
   "execution_count": 138,
   "metadata": {},
   "outputs": [
    {
     "name": "stdout",
     "output_type": "stream",
     "text": [
      "Column:  average_balance\n",
      "====================\n"
     ]
    },
    {
     "data": {
      "image/png": "[encoded data removed]",
      "text/plain": [
       "<Figure size 432x288 with 1 Axes>"
      ]
     },
     "metadata": {
      "needs_background": "light"
     },
     "output_type": "display_data"
    },
    {
     "name": "stdout",
     "output_type": "stream",
     "text": [
      "====================\n",
      "Column:  balance_q1\n",
      "====================\n"
     ]
    },
    {
     "data": {
      "image/png": "[encoded data removed]",
      "text/plain": [
       "<Figure size 432x288 with 1 Axes>"
      ]
     },
     "metadata": {
      "needs_background": "light"
     },
     "output_type": "display_data"
    },
    {
     "name": "stdout",
     "output_type": "stream",
     "text": [
      "====================\n",
      "Column:  balance_q2\n",
      "====================\n"
     ]
    },
    {
     "data": {
      "image/png": "[encoded data removed]",
      "text/plain": [
       "<Figure size 432x288 with 1 Axes>"
      ]
     },
     "metadata": {
      "needs_background": "light"
     },
     "output_type": "display_data"
    },
    {
     "name": "stdout",
     "output_type": "stream",
     "text": [
      "====================\n",
      "Column:  balance_q3\n",
      "====================\n"
     ]
    },
    {
     "data": {
      "image/png": "[encoded data removed]",
      "text/plain": [
       "<Figure size 432x288 with 1 Axes>"
      ]
     },
     "metadata": {
      "needs_background": "light"
     },
     "output_type": "display_data"
    },
    {
     "name": "stdout",
     "output_type": "stream",
     "text": [
      "====================\n"
     ]
    }
   ],
   "source": [
    "# plotting continuous data\n",
    "plots(num_cont,'continuous')"
   ]
  },
  {
   "cell_type": "code",
   "execution_count": 139,
   "metadata": {},
   "outputs": [
    {
     "name": "stdout",
     "output_type": "stream",
     "text": [
      "Column:  nr_of_bank_accounts_open\n",
      "====================\n"
     ]
    },
    {
     "data": {
      "image/png": "[encoded data removed]",
      "text/plain": [
       "<Figure size 432x288 with 1 Axes>"
      ]
     },
     "metadata": {
      "needs_background": "light"
     },
     "output_type": "display_data"
    },
    {
     "name": "stdout",
     "output_type": "stream",
     "text": [
      "====================\n",
      "Column:  credit_cards_held\n",
      "====================\n"
     ]
    },
    {
     "data": {
      "image/png": "[encoded data removed]",
      "text/plain": [
       "<Figure size 432x288 with 1 Axes>"
      ]
     },
     "metadata": {
      "needs_background": "light"
     },
     "output_type": "display_data"
    },
    {
     "name": "stdout",
     "output_type": "stream",
     "text": [
      "====================\n",
      "Column:  nr_of_homes_owned\n",
      "====================\n"
     ]
    },
    {
     "data": {
      "image/png": "[encoded data removed]",
      "text/plain": [
       "<Figure size 432x288 with 1 Axes>"
      ]
     },
     "metadata": {
      "needs_background": "light"
     },
     "output_type": "display_data"
    },
    {
     "name": "stdout",
     "output_type": "stream",
     "text": [
      "====================\n",
      "Column:  household_size\n",
      "====================\n"
     ]
    },
    {
     "data": {
      "image/png": "[encoded data removed]",
      "text/plain": [
       "<Figure size 432x288 with 1 Axes>"
      ]
     },
     "metadata": {
      "needs_background": "light"
     },
     "output_type": "display_data"
    },
    {
     "name": "stdout",
     "output_type": "stream",
     "text": [
      "====================\n"
     ]
    }
   ],
   "source": [
    "# plotting discrete data\n",
    "plots(num_disc,'discrete')"
   ]
  },
  {
   "cell_type": "code",
   "execution_count": 140,
   "metadata": {},
   "outputs": [
    {
     "name": "stdout",
     "output_type": "stream",
     "text": [
      "Column:  nr_of_bank_accounts_open\n",
      "====================\n"
     ]
    },
    {
     "data": {
      "image/png": "[encoded data removed]",
      "text/plain": [
       "<Figure size 432x288 with 1 Axes>"
      ]
     },
     "metadata": {
      "needs_background": "light"
     },
     "output_type": "display_data"
    },
    {
     "name": "stdout",
     "output_type": "stream",
     "text": [
      "====================\n",
      "Column:  credit_cards_held\n",
      "====================\n"
     ]
    },
    {
     "data": {
      "image/png": "[encoded data removed]",
      "text/plain": [
       "<Figure size 432x288 with 1 Axes>"
      ]
     },
     "metadata": {
      "needs_background": "light"
     },
     "output_type": "display_data"
    },
    {
     "name": "stdout",
     "output_type": "stream",
     "text": [
      "====================\n",
      "Column:  nr_of_homes_owned\n",
      "====================\n"
     ]
    },
    {
     "data": {
      "image/png": "[encoded data removed]",
      "text/plain": [
       "<Figure size 432x288 with 1 Axes>"
      ]
     },
     "metadata": {
      "needs_background": "light"
     },
     "output_type": "display_data"
    },
    {
     "name": "stdout",
     "output_type": "stream",
     "text": [
      "====================\n",
      "Column:  household_size\n",
      "====================\n"
     ]
    },
    {
     "data": {
      "image/png": "[encoded data removed]",
      "text/plain": [
       "<Figure size 432x288 with 1 Axes>"
      ]
     },
     "metadata": {
      "needs_background": "light"
     },
     "output_type": "display_data"
    },
    {
     "name": "stdout",
     "output_type": "stream",
     "text": [
      "====================\n",
      "Column:  average_balance\n",
      "====================\n"
     ]
    },
    {
     "data": {
      "image/png": "[encoded data removed]",
      "text/plain": [
       "<Figure size 432x288 with 1 Axes>"
      ]
     },
     "metadata": {
      "needs_background": "light"
     },
     "output_type": "display_data"
    },
    {
     "name": "stdout",
     "output_type": "stream",
     "text": [
      "====================\n",
      "Column:  balance_q1\n",
      "====================\n"
     ]
    },
    {
     "data": {
      "image/png": "[encoded data removed]",
      "text/plain": [
       "<Figure size 432x288 with 1 Axes>"
      ]
     },
     "metadata": {
      "needs_background": "light"
     },
     "output_type": "display_data"
    },
    {
     "name": "stdout",
     "output_type": "stream",
     "text": [
      "====================\n",
      "Column:  balance_q2\n",
      "====================\n"
     ]
    },
    {
     "data": {
      "image/png": "[encoded data removed]",
      "text/plain": [
       "<Figure size 432x288 with 1 Axes>"
      ]
     },
     "metadata": {
      "needs_background": "light"
     },
     "output_type": "display_data"
    },
    {
     "name": "stdout",
     "output_type": "stream",
     "text": [
      "====================\n",
      "Column:  balance_q3\n",
      "====================\n"
     ]
    },
    {
     "data": {
      "image/png": "[encoded data removed]",
      "text/plain": [
       "<Figure size 432x288 with 1 Axes>"
      ]
     },
     "metadata": {
      "needs_background": "light"
     },
     "output_type": "display_data"
    },
    {
     "name": "stdout",
     "output_type": "stream",
     "text": [
      "====================\n"
     ]
    }
   ],
   "source": [
    "# plotting numerical data\n",
    "plots(num,'boxplot')"
   ]
  },
  {
   "cell_type": "code",
   "execution_count": 141,
   "metadata": {},
   "outputs": [
    {
     "name": "stdout",
     "output_type": "stream",
     "text": [
      "Column:  reward\n",
      "====================\n"
     ]
    },
    {
     "data": {
      "image/png": "[encoded data removed]",
      "text/plain": [
       "<Figure size 432x288 with 1 Axes>"
      ]
     },
     "metadata": {
      "needs_background": "light"
     },
     "output_type": "display_data"
    },
    {
     "name": "stdout",
     "output_type": "stream",
     "text": [
      "====================\n",
      "Column:  mailer_type\n",
      "====================\n"
     ]
    },
    {
     "data": {
      "image/png": "[encoded data removed]",
      "text/plain": [
       "<Figure size 432x288 with 1 Axes>"
      ]
     },
     "metadata": {
      "needs_background": "light"
     },
     "output_type": "display_data"
    },
    {
     "name": "stdout",
     "output_type": "stream",
     "text": [
      "====================\n",
      "Column:  income_level\n",
      "====================\n"
     ]
    },
    {
     "data": {
      "image/png": "[encoded data removed]",
      "text/plain": [
       "<Figure size 432x288 with 1 Axes>"
      ]
     },
     "metadata": {
      "needs_background": "light"
     },
     "output_type": "display_data"
    },
    {
     "name": "stdout",
     "output_type": "stream",
     "text": [
      "====================\n",
      "Column:  overdraft_protection\n",
      "====================\n"
     ]
    },
    {
     "data": {
      "image/png": "[encoded data removed]",
      "text/plain": [
       "<Figure size 432x288 with 1 Axes>"
      ]
     },
     "metadata": {
      "needs_background": "light"
     },
     "output_type": "display_data"
    },
    {
     "name": "stdout",
     "output_type": "stream",
     "text": [
      "====================\n",
      "Column:  credit_rating\n",
      "====================\n"
     ]
    },
    {
     "data": {
      "image/png": "[encoded data removed]",
      "text/plain": [
       "<Figure size 432x288 with 1 Axes>"
      ]
     },
     "metadata": {
      "needs_background": "light"
     },
     "output_type": "display_data"
    },
    {
     "name": "stdout",
     "output_type": "stream",
     "text": [
      "====================\n",
      "Column:  own_your_home\n",
      "====================\n"
     ]
    },
    {
     "data": {
      "image/png": "[encoded data removed]",
      "text/plain": [
       "<Figure size 432x288 with 1 Axes>"
      ]
     },
     "metadata": {
      "needs_background": "light"
     },
     "output_type": "display_data"
    },
    {
     "name": "stdout",
     "output_type": "stream",
     "text": [
      "====================\n"
     ]
    }
   ],
   "source": [
    "# plotting categorical data\n",
    "plots(cat,'categorical')"
   ]
  },
  {
   "cell_type": "code",
   "execution_count": null,
   "metadata": {},
   "outputs": [],
   "source": []
  },
  {
   "cell_type": "markdown",
   "metadata": {},
   "source": [
    "### Function for converting ordinals"
   ]
  },
  {
   "cell_type": "code",
   "execution_count": 142,
   "metadata": {},
   "outputs": [],
   "source": [
    "# Convert ordinals to numericals\n",
    "def ordinals_conversor(df):\n",
    "    for col in ['income_level','overdraft_protection','credit_rating','own_your_home']:\n",
    "        if len(df[col].unique()) > 2:\n",
    "            # df2[col] = np.where(df2[col] == ‘High’,2, np.where(df2[col]== ‘Low’,0, 1))\n",
    "            df[col]= list(map(lambda x: 2 if x == 'High' else (0 if x == 'Low' else 1),df[col]))\n",
    "        else:\n",
    "            df[col]= list(map(lambda x: 1 if x =='Yes' else 0,df[col]))"
   ]
  },
  {
   "cell_type": "code",
   "execution_count": 143,
   "metadata": {},
   "outputs": [
    {
     "data": {
      "text/plain": [
       "0        0\n",
       "1        0\n",
       "2        0\n",
       "3        0\n",
       "4        0\n",
       "        ..\n",
       "17995    0\n",
       "17996    0\n",
       "17997    0\n",
       "17998    0\n",
       "17999    0\n",
       "Name: offer_accepted, Length: 18000, dtype: int64"
      ]
     },
     "metadata": {},
     "output_type": "display_data"
    }
   ],
   "source": [
    "display(y)"
   ]
  },
  {
   "cell_type": "code",
   "execution_count": 144,
   "metadata": {},
   "outputs": [
    {
     "ename": "TypeError",
     "evalue": "'NoneType' object is not subscriptable",
     "output_type": "error",
     "traceback": [
      "\u001b[1;31m---------------------------------------------------------------------------\u001b[0m",
      "\u001b[1;31mTypeError\u001b[0m                                 Traceback (most recent call last)",
      "\u001b[1;32m<ipython-input-144-d42ee5deddb2>\u001b[0m in \u001b[0;36m<module>\u001b[1;34m\u001b[0m\n\u001b[0;32m      1\u001b[0m \u001b[1;31m# Convert ordinals to numericals\u001b[0m\u001b[1;33m\u001b[0m\u001b[1;33m\u001b[0m\u001b[1;33m\u001b[0m\u001b[0m\n\u001b[0;32m      2\u001b[0m \u001b[0mcat\u001b[0m \u001b[1;33m=\u001b[0m \u001b[0mordinals_conversor\u001b[0m\u001b[1;33m(\u001b[0m\u001b[0mcat\u001b[0m\u001b[1;33m)\u001b[0m\u001b[1;33m\u001b[0m\u001b[1;33m\u001b[0m\u001b[0m\n\u001b[1;32m----> 3\u001b[1;33m \u001b[0mcat\u001b[0m\u001b[1;33m[\u001b[0m\u001b[1;33m[\u001b[0m\u001b[1;34m'income_level'\u001b[0m\u001b[1;33m,\u001b[0m\u001b[1;34m'overdraft_protection'\u001b[0m\u001b[1;33m,\u001b[0m\u001b[1;34m'credit_rating'\u001b[0m\u001b[1;33m,\u001b[0m\u001b[1;34m'own_your_home'\u001b[0m\u001b[1;33m]\u001b[0m\u001b[1;33m]\u001b[0m\u001b[1;33m.\u001b[0m\u001b[0mhead\u001b[0m\u001b[1;33m(\u001b[0m\u001b[1;33m)\u001b[0m\u001b[1;33m\u001b[0m\u001b[1;33m\u001b[0m\u001b[0m\n\u001b[0m",
      "\u001b[1;31mTypeError\u001b[0m: 'NoneType' object is not subscriptable"
     ]
    }
   ],
   "source": [
    "# Convert ordinals to numericals\n",
    "cat = ordinals_conversor(cat)\n",
    "cat[['income_level','overdraft_protection','credit_rating','own_your_home']].head()"
   ]
  },
  {
   "cell_type": "code",
   "execution_count": 117,
   "metadata": {},
   "outputs": [
    {
     "name": "stdout",
     "output_type": "stream",
     "text": [
      "Medium    9013\n",
      "High      4526\n",
      "Low       4461\n",
      "Name: income_level, dtype: int64\n",
      "No     15322\n",
      "Yes     2678\n",
      "Name: overdraft_protection, dtype: int64\n",
      "High      6071\n",
      "Medium    5972\n",
      "Low       5957\n",
      "Name: credit_rating, dtype: int64\n",
      "Yes    11655\n",
      "No      6345\n",
      "Name: own_your_home, dtype: int64\n"
     ]
    }
   ],
   "source": [
    "for i in ['income_level','overdraft_protection','credit_rating','own_your_home']:\n",
    "    print(cat[i].value_counts())\n"
   ]
  },
  {
   "cell_type": "code",
   "execution_count": 91,
   "metadata": {},
   "outputs": [
    {
     "ename": "TypeError",
     "evalue": "'NoneType' object is not subscriptable",
     "output_type": "error",
     "traceback": [
      "\u001b[1;31m---------------------------------------------------------------------------\u001b[0m",
      "\u001b[1;31mTypeError\u001b[0m                                 Traceback (most recent call last)",
      "\u001b[1;32m<ipython-input-91-7e89c987951a>\u001b[0m in \u001b[0;36m<module>\u001b[1;34m\u001b[0m\n\u001b[1;32m----> 1\u001b[1;33m \u001b[0mcat\u001b[0m\u001b[1;33m[\u001b[0m\u001b[1;34m'income_level'\u001b[0m\u001b[1;33m]\u001b[0m\u001b[1;33m.\u001b[0m\u001b[0mvalue_counts\u001b[0m\u001b[1;33m(\u001b[0m\u001b[1;33m)\u001b[0m\u001b[1;33m\u001b[0m\u001b[1;33m\u001b[0m\u001b[0m\n\u001b[0m",
      "\u001b[1;31mTypeError\u001b[0m: 'NoneType' object is not subscriptable"
     ]
    }
   ],
   "source": [
    "cat['income_level'].value_counts()"
   ]
  },
  {
   "cell_type": "code",
   "execution_count": 145,
   "metadata": {},
   "outputs": [
    {
     "ename": "AttributeError",
     "evalue": "'NoneType' object has no attribute 'head'",
     "output_type": "error",
     "traceback": [
      "\u001b[1;31m---------------------------------------------------------------------------\u001b[0m",
      "\u001b[1;31mAttributeError\u001b[0m                            Traceback (most recent call last)",
      "\u001b[1;32m<ipython-input-145-e103cbf3f8f0>\u001b[0m in \u001b[0;36m<module>\u001b[1;34m\u001b[0m\n\u001b[1;32m----> 1\u001b[1;33m \u001b[0mcat\u001b[0m\u001b[1;33m.\u001b[0m\u001b[0mhead\u001b[0m\u001b[1;33m(\u001b[0m\u001b[1;33m)\u001b[0m\u001b[1;33m\u001b[0m\u001b[1;33m\u001b[0m\u001b[0m\n\u001b[0m",
      "\u001b[1;31mAttributeError\u001b[0m: 'NoneType' object has no attribute 'head'"
     ]
    }
   ],
   "source": [
    "cat.head()"
   ]
  },
  {
   "cell_type": "code",
   "execution_count": 31,
   "metadata": {},
   "outputs": [
    {
     "data": {
      "text/html": [
       "<div>\n",
       "<style scoped>\n",
       "    .dataframe tbody tr th:only-of-type {\n",
       "        vertical-align: middle;\n",
       "    }\n",
       "\n",
       "    .dataframe tbody tr th {\n",
       "        vertical-align: top;\n",
       "    }\n",
       "\n",
       "    .dataframe thead th {\n",
       "        text-align: right;\n",
       "    }\n",
       "</style>\n",
       "<table border=\"1\" class=\"dataframe\">\n",
       "  <thead>\n",
       "    <tr style=\"text-align: right;\">\n",
       "      <th></th>\n",
       "      <th>offer_accepted</th>\n",
       "      <th>income_level</th>\n",
       "      <th>overdraft_protection</th>\n",
       "      <th>credit_rating</th>\n",
       "      <th>own_your_home</th>\n",
       "      <th>reward_Air Miles</th>\n",
       "      <th>reward_Cash Back</th>\n",
       "      <th>reward_Points</th>\n",
       "      <th>mailer_type_Letter</th>\n",
       "      <th>mailer_type_Postcard</th>\n",
       "    </tr>\n",
       "  </thead>\n",
       "  <tbody>\n",
       "    <tr>\n",
       "      <th>0</th>\n",
       "      <td>No</td>\n",
       "      <td>2</td>\n",
       "      <td>0</td>\n",
       "      <td>2</td>\n",
       "      <td>0</td>\n",
       "      <td>1</td>\n",
       "      <td>0</td>\n",
       "      <td>0</td>\n",
       "      <td>1</td>\n",
       "      <td>0</td>\n",
       "    </tr>\n",
       "    <tr>\n",
       "      <th>1</th>\n",
       "      <td>No</td>\n",
       "      <td>1</td>\n",
       "      <td>0</td>\n",
       "      <td>1</td>\n",
       "      <td>1</td>\n",
       "      <td>1</td>\n",
       "      <td>0</td>\n",
       "      <td>0</td>\n",
       "      <td>1</td>\n",
       "      <td>0</td>\n",
       "    </tr>\n",
       "    <tr>\n",
       "      <th>2</th>\n",
       "      <td>No</td>\n",
       "      <td>2</td>\n",
       "      <td>0</td>\n",
       "      <td>1</td>\n",
       "      <td>1</td>\n",
       "      <td>1</td>\n",
       "      <td>0</td>\n",
       "      <td>0</td>\n",
       "      <td>0</td>\n",
       "      <td>1</td>\n",
       "    </tr>\n",
       "    <tr>\n",
       "      <th>3</th>\n",
       "      <td>No</td>\n",
       "      <td>1</td>\n",
       "      <td>0</td>\n",
       "      <td>2</td>\n",
       "      <td>0</td>\n",
       "      <td>1</td>\n",
       "      <td>0</td>\n",
       "      <td>0</td>\n",
       "      <td>1</td>\n",
       "      <td>0</td>\n",
       "    </tr>\n",
       "    <tr>\n",
       "      <th>4</th>\n",
       "      <td>No</td>\n",
       "      <td>1</td>\n",
       "      <td>0</td>\n",
       "      <td>1</td>\n",
       "      <td>1</td>\n",
       "      <td>1</td>\n",
       "      <td>0</td>\n",
       "      <td>0</td>\n",
       "      <td>1</td>\n",
       "      <td>0</td>\n",
       "    </tr>\n",
       "    <tr>\n",
       "      <th>...</th>\n",
       "      <td>...</td>\n",
       "      <td>...</td>\n",
       "      <td>...</td>\n",
       "      <td>...</td>\n",
       "      <td>...</td>\n",
       "      <td>...</td>\n",
       "      <td>...</td>\n",
       "      <td>...</td>\n",
       "      <td>...</td>\n",
       "      <td>...</td>\n",
       "    </tr>\n",
       "    <tr>\n",
       "      <th>17995</th>\n",
       "      <td>No</td>\n",
       "      <td>2</td>\n",
       "      <td>0</td>\n",
       "      <td>0</td>\n",
       "      <td>1</td>\n",
       "      <td>0</td>\n",
       "      <td>1</td>\n",
       "      <td>0</td>\n",
       "      <td>1</td>\n",
       "      <td>0</td>\n",
       "    </tr>\n",
       "    <tr>\n",
       "      <th>17996</th>\n",
       "      <td>No</td>\n",
       "      <td>2</td>\n",
       "      <td>0</td>\n",
       "      <td>0</td>\n",
       "      <td>1</td>\n",
       "      <td>0</td>\n",
       "      <td>1</td>\n",
       "      <td>0</td>\n",
       "      <td>1</td>\n",
       "      <td>0</td>\n",
       "    </tr>\n",
       "    <tr>\n",
       "      <th>17997</th>\n",
       "      <td>No</td>\n",
       "      <td>2</td>\n",
       "      <td>0</td>\n",
       "      <td>0</td>\n",
       "      <td>0</td>\n",
       "      <td>0</td>\n",
       "      <td>1</td>\n",
       "      <td>0</td>\n",
       "      <td>1</td>\n",
       "      <td>0</td>\n",
       "    </tr>\n",
       "    <tr>\n",
       "      <th>17998</th>\n",
       "      <td>No</td>\n",
       "      <td>1</td>\n",
       "      <td>0</td>\n",
       "      <td>1</td>\n",
       "      <td>1</td>\n",
       "      <td>0</td>\n",
       "      <td>1</td>\n",
       "      <td>0</td>\n",
       "      <td>1</td>\n",
       "      <td>0</td>\n",
       "    </tr>\n",
       "    <tr>\n",
       "      <th>17999</th>\n",
       "      <td>No</td>\n",
       "      <td>0</td>\n",
       "      <td>0</td>\n",
       "      <td>1</td>\n",
       "      <td>0</td>\n",
       "      <td>0</td>\n",
       "      <td>1</td>\n",
       "      <td>0</td>\n",
       "      <td>1</td>\n",
       "      <td>0</td>\n",
       "    </tr>\n",
       "  </tbody>\n",
       "</table>\n",
       "<p>18000 rows × 10 columns</p>\n",
       "</div>"
      ],
      "text/plain": [
       "      offer_accepted  income_level  overdraft_protection  credit_rating  \\\n",
       "0                 No             2                     0              2   \n",
       "1                 No             1                     0              1   \n",
       "2                 No             2                     0              1   \n",
       "3                 No             1                     0              2   \n",
       "4                 No             1                     0              1   \n",
       "...              ...           ...                   ...            ...   \n",
       "17995             No             2                     0              0   \n",
       "17996             No             2                     0              0   \n",
       "17997             No             2                     0              0   \n",
       "17998             No             1                     0              1   \n",
       "17999             No             0                     0              1   \n",
       "\n",
       "       own_your_home  reward_Air Miles  reward_Cash Back  reward_Points  \\\n",
       "0                  0                 1                 0              0   \n",
       "1                  1                 1                 0              0   \n",
       "2                  1                 1                 0              0   \n",
       "3                  0                 1                 0              0   \n",
       "4                  1                 1                 0              0   \n",
       "...              ...               ...               ...            ...   \n",
       "17995              1                 0                 1              0   \n",
       "17996              1                 0                 1              0   \n",
       "17997              0                 0                 1              0   \n",
       "17998              1                 0                 1              0   \n",
       "17999              0                 0                 1              0   \n",
       "\n",
       "       mailer_type_Letter  mailer_type_Postcard  \n",
       "0                       1                     0  \n",
       "1                       1                     0  \n",
       "2                       0                     1  \n",
       "3                       1                     0  \n",
       "4                       1                     0  \n",
       "...                   ...                   ...  \n",
       "17995                   1                     0  \n",
       "17996                   1                     0  \n",
       "17997                   1                     0  \n",
       "17998                   1                     0  \n",
       "17999                   1                     0  \n",
       "\n",
       "[18000 rows x 10 columns]"
      ]
     },
     "execution_count": 31,
     "metadata": {},
     "output_type": "execute_result"
    }
   ],
   "source": [
    "# Dummifying categorical nominals\n",
    "cat_df = pd.get_dummies(cat, columns=['reward', 'mailer_type'])\n",
    "cat_df"
   ]
  },
  {
   "cell_type": "markdown",
   "metadata": {},
   "source": [
    "### Function Chi-square"
   ]
  },
  {
   "cell_type": "code",
   "execution_count": 33,
   "metadata": {},
   "outputs": [],
   "source": [
    "def chi_test(df,x,y):\n",
    "    from scipy.stats import chi2_contingency\n",
    "    from scipy.stats import chi2\n",
    "    # contingency table\n",
    "    table = pd.crosstab(df[x], df[y])\n",
    "    print(table)\n",
    "    stat, p, dof, expected = chi2_contingency(table)\n",
    "    print('dof=%d' % dof)\n",
    "    print(expected)\n",
    "    # interpret test-statistic\n",
    "    prob = 0.95\n",
    "    critical = chi2.ppf(prob, dof)\n",
    "    print('probability=%.3f, critical=%.3f, stat=%.3f' % (prob, critical, stat))\n",
    "    if abs(stat) >= critical:\n",
    "        print('Dependent (reject H0)')\n",
    "    else:\n",
    "        print('Independent (fail to reject H0)')\n",
    "    # interpret p-value\n",
    "    alpha = 1.0 - prob\n",
    "    print('significance=%.3f, p=%.3f' % (alpha, p))\n",
    "    if p <= alpha:\n",
    "        print('!!!!! DEPENDENT (reject H0)')\n",
    "    else:\n",
    "        print('Independent (fail to reject H0)')\n",
    "    print('==========================================================')"
   ]
  },
  {
   "cell_type": "code",
   "execution_count": 34,
   "metadata": {},
   "outputs": [
    {
     "name": "stdout",
     "output_type": "stream",
     "text": [
      "==========================================================\n",
      "RELATIONSHIP OFFER_ACCEPTED and REWARD\n",
      "reward          Air Miles  Cash Back  Points\n",
      "offer_accepted                              \n",
      "No                   5596       5793    5588\n",
      "Yes                   465        206     352\n",
      "dof=2\n",
      "[[5716.53316667 5658.05683333 5602.41      ]\n",
      " [ 344.46683333  340.94316667  337.59      ]]\n",
      "probability=0.950, critical=5.991, stat=101.998\n",
      "Dependent (reject H0)\n",
      "significance=0.050, p=0.000\n",
      "!!!!! DEPENDENT (reject H0)\n",
      "==========================================================\n",
      "==========================================================\n",
      "RELATIONSHIP OFFER_ACCEPTED and MAILER_TYPE\n",
      "mailer_type     Letter  Postcard\n",
      "offer_accepted                  \n",
      "No                8553      8424\n",
      "Yes                300       723\n",
      "dof=1\n",
      "[[8349.8545 8627.1455]\n",
      " [ 503.1455  519.8545]]\n",
      "probability=0.950, critical=3.841, stat=170.289\n",
      "Dependent (reject H0)\n",
      "significance=0.050, p=0.000\n",
      "!!!!! DEPENDENT (reject H0)\n",
      "==========================================================\n",
      "==========================================================\n",
      "RELATIONSHIP OFFER_ACCEPTED and INCOME_LEVEL\n",
      "income_level       0     1     2\n",
      "offer_accepted                  \n",
      "No              4073  8543  4361\n",
      "Yes              388   470   165\n",
      "dof=2\n",
      "[[4207.4665     8500.76116667 4268.77233333]\n",
      " [ 253.5335      512.23883333  257.22766667]]\n",
      "probability=0.950, critical=5.991, stat=114.368\n",
      "Dependent (reject H0)\n",
      "significance=0.050, p=0.000\n",
      "!!!!! DEPENDENT (reject H0)\n",
      "==========================================================\n",
      "==========================================================\n",
      "RELATIONSHIP OFFER_ACCEPTED and OVERDRAFT_PROTECTION\n",
      "overdraft_protection      0     1\n",
      "offer_accepted                   \n",
      "No                    14447  2530\n",
      "Yes                     875   148\n",
      "dof=1\n",
      "[[14451.19966667  2525.80033333]\n",
      " [  870.80033333   152.19966667]]\n",
      "probability=0.950, critical=3.841, stat=0.112\n",
      "Independent (fail to reject H0)\n",
      "significance=0.050, p=0.738\n",
      "Independent (fail to reject H0)\n",
      "==========================================================\n",
      "==========================================================\n",
      "RELATIONSHIP OFFER_ACCEPTED and CREDIT_RATING\n",
      "credit_rating      0     1     2\n",
      "offer_accepted                  \n",
      "No              5324  5701  5952\n",
      "Yes              633   271   119\n",
      "dof=2\n",
      "[[5618.44383333 5632.59133333 5725.96483333]\n",
      " [ 338.55616667  339.40866667  345.03516667]]\n",
      "probability=0.950, critical=5.991, stat=443.129\n",
      "Dependent (reject H0)\n",
      "significance=0.050, p=0.000\n",
      "!!!!! DEPENDENT (reject H0)\n",
      "==========================================================\n",
      "==========================================================\n",
      "RELATIONSHIP OFFER_ACCEPTED and OWN_YOUR_HOME\n",
      "own_your_home      0      1\n",
      "offer_accepted             \n",
      "No              5985  10992\n",
      "Yes              360    663\n",
      "dof=1\n",
      "[[ 5984.3925 10992.6075]\n",
      " [  360.6075   662.3925]]\n",
      "probability=0.950, critical=3.841, stat=0.000\n",
      "Independent (fail to reject H0)\n",
      "significance=0.050, p=0.994\n",
      "Independent (fail to reject H0)\n",
      "==========================================================\n",
      "==========================================================\n",
      "RELATIONSHIP REWARD and OFFER_ACCEPTED\n",
      "offer_accepted    No  Yes\n",
      "reward                   \n",
      "Air Miles       5596  465\n",
      "Cash Back       5793  206\n",
      "Points          5588  352\n",
      "dof=2\n",
      "[[5716.53316667  344.46683333]\n",
      " [5658.05683333  340.94316667]\n",
      " [5602.41        337.59      ]]\n",
      "probability=0.950, critical=5.991, stat=101.998\n",
      "Dependent (reject H0)\n",
      "significance=0.050, p=0.000\n",
      "!!!!! DEPENDENT (reject H0)\n",
      "==========================================================\n",
      "==========================================================\n",
      "RELATIONSHIP REWARD and MAILER_TYPE\n",
      "mailer_type  Letter  Postcard\n",
      "reward                       \n",
      "Air Miles      2951      3110\n",
      "Cash Back      2967      3032\n",
      "Points         2935      3005\n",
      "dof=2\n",
      "[[2981.00183333 3079.99816667]\n",
      " [2950.50816667 3048.49183333]\n",
      " [2921.49       3018.51      ]]\n",
      "probability=0.950, critical=5.991, stat=0.899\n",
      "Independent (fail to reject H0)\n",
      "significance=0.050, p=0.638\n",
      "Independent (fail to reject H0)\n",
      "==========================================================\n",
      "==========================================================\n",
      "RELATIONSHIP REWARD and INCOME_LEVEL\n",
      "income_level     0     1     2\n",
      "reward                        \n",
      "Air Miles     1538  3029  1494\n",
      "Cash Back     1467  2994  1538\n",
      "Points        1456  2990  1494\n",
      "dof=4\n",
      "[[1502.11783333 3034.87738889 1524.00477778]\n",
      " [1486.75216667 3003.83261111 1508.41522222]\n",
      " [1472.13       2974.29       1493.58      ]]\n",
      "probability=0.950, critical=9.488, stat=2.594\n",
      "Independent (fail to reject H0)\n",
      "significance=0.050, p=0.628\n",
      "Independent (fail to reject H0)\n",
      "==========================================================\n",
      "==========================================================\n",
      "RELATIONSHIP REWARD and OVERDRAFT_PROTECTION\n",
      "overdraft_protection     0    1\n",
      "reward                         \n",
      "Air Miles             5136  925\n",
      "Cash Back             5105  894\n",
      "Points                5081  859\n",
      "dof=2\n",
      "[[5159.25788889  901.74211111]\n",
      " [5106.48211111  892.51788889]\n",
      " [5056.26        883.74      ]]\n",
      "probability=0.950, critical=5.991, stat=1.521\n",
      "Independent (fail to reject H0)\n",
      "significance=0.050, p=0.467\n",
      "Independent (fail to reject H0)\n",
      "==========================================================\n",
      "==========================================================\n",
      "RELATIONSHIP REWARD and CREDIT_RATING\n",
      "credit_rating     0     1     2\n",
      "reward                         \n",
      "Air Miles      1995  1986  2080\n",
      "Cash Back      2006  1980  2013\n",
      "Points         1956  2006  1978\n",
      "dof=4\n",
      "[[2005.85427778 2010.90511111 2044.24061111]\n",
      " [1985.33572222 1990.33488889 2023.32938889]\n",
      " [1965.81       1970.76       2003.43      ]]\n",
      "probability=0.950, critical=9.488, stat=2.316\n",
      "Independent (fail to reject H0)\n",
      "significance=0.050, p=0.678\n",
      "Independent (fail to reject H0)\n",
      "==========================================================\n",
      "==========================================================\n",
      "RELATIONSHIP REWARD and OWN_YOUR_HOME\n",
      "own_your_home     0     1\n",
      "reward                   \n",
      "Air Miles      2129  3932\n",
      "Cash Back      2154  3845\n",
      "Points         2062  3878\n",
      "dof=2\n",
      "[[2136.5025 3924.4975]\n",
      " [2114.6475 3884.3525]\n",
      " [2093.85   3846.15  ]]\n",
      "probability=0.950, critical=5.991, stat=1.920\n",
      "Independent (fail to reject H0)\n",
      "significance=0.050, p=0.383\n",
      "Independent (fail to reject H0)\n",
      "==========================================================\n",
      "==========================================================\n",
      "RELATIONSHIP MAILER_TYPE and OFFER_ACCEPTED\n",
      "offer_accepted    No  Yes\n",
      "mailer_type              \n",
      "Letter          8553  300\n",
      "Postcard        8424  723\n",
      "dof=1\n",
      "[[8349.8545  503.1455]\n",
      " [8627.1455  519.8545]]\n",
      "probability=0.950, critical=3.841, stat=170.289\n",
      "Dependent (reject H0)\n",
      "significance=0.050, p=0.000\n",
      "!!!!! DEPENDENT (reject H0)\n",
      "==========================================================\n",
      "==========================================================\n",
      "RELATIONSHIP MAILER_TYPE and REWARD\n",
      "reward       Air Miles  Cash Back  Points\n",
      "mailer_type                              \n",
      "Letter            2951       2967    2935\n",
      "Postcard          3110       3032    3005\n",
      "dof=2\n",
      "[[2981.00183333 2950.50816667 2921.49      ]\n",
      " [3079.99816667 3048.49183333 3018.51      ]]\n",
      "probability=0.950, critical=5.991, stat=0.899\n",
      "Independent (fail to reject H0)\n",
      "significance=0.050, p=0.638\n",
      "Independent (fail to reject H0)\n",
      "==========================================================\n",
      "==========================================================\n",
      "RELATIONSHIP MAILER_TYPE and INCOME_LEVEL\n",
      "income_level     0     1     2\n",
      "mailer_type                   \n",
      "Letter        2221  4428  2204\n",
      "Postcard      2240  4585  2322\n",
      "dof=2\n",
      "[[2194.0685     4432.89383333 2226.03766667]\n",
      " [2266.9315     4580.10616667 2299.96233333]]\n",
      "probability=0.950, critical=5.991, stat=1.090\n",
      "Independent (fail to reject H0)\n",
      "significance=0.050, p=0.580\n",
      "Independent (fail to reject H0)\n",
      "==========================================================\n",
      "==========================================================\n",
      "RELATIONSHIP MAILER_TYPE and OVERDRAFT_PROTECTION\n",
      "overdraft_protection     0     1\n",
      "mailer_type                     \n",
      "Letter                7545  1308\n",
      "Postcard              7777  1370\n",
      "dof=1\n",
      "[[7535.87033333 1317.12966667]\n",
      " [7786.12966667 1360.87033333]]\n",
      "probability=0.950, critical=3.841, stat=0.131\n",
      "Independent (fail to reject H0)\n",
      "significance=0.050, p=0.718\n",
      "Independent (fail to reject H0)\n",
      "==========================================================\n",
      "==========================================================\n",
      "RELATIONSHIP MAILER_TYPE and CREDIT_RATING\n",
      "credit_rating     0     1     2\n",
      "mailer_type                    \n",
      "Letter         2916  2961  2976\n",
      "Postcard       3041  3011  3095\n",
      "dof=2\n",
      "[[2929.85116667 2937.22866667 2985.92016667]\n",
      " [3027.14883333 3034.77133333 3085.07983333]]\n",
      "probability=0.950, critical=5.991, stat=0.572\n",
      "Independent (fail to reject H0)\n",
      "significance=0.050, p=0.751\n",
      "Independent (fail to reject H0)\n",
      "==========================================================\n",
      "==========================================================\n",
      "RELATIONSHIP MAILER_TYPE and OWN_YOUR_HOME\n",
      "own_your_home     0     1\n",
      "mailer_type              \n",
      "Letter         3102  5751\n",
      "Postcard       3243  5904\n",
      "dof=1\n",
      "[[3120.6825 5732.3175]\n",
      " [3224.3175 5922.6825]]\n",
      "probability=0.950, critical=3.841, stat=0.322\n",
      "Independent (fail to reject H0)\n",
      "significance=0.050, p=0.570\n",
      "Independent (fail to reject H0)\n",
      "==========================================================\n",
      "==========================================================\n",
      "RELATIONSHIP INCOME_LEVEL and OFFER_ACCEPTED\n",
      "offer_accepted    No  Yes\n",
      "income_level             \n",
      "0               4073  388\n",
      "1               8543  470\n",
      "2               4361  165\n",
      "dof=2\n",
      "[[4207.4665      253.5335    ]\n",
      " [8500.76116667  512.23883333]\n",
      " [4268.77233333  257.22766667]]\n",
      "probability=0.950, critical=5.991, stat=114.368\n",
      "Dependent (reject H0)\n",
      "significance=0.050, p=0.000\n",
      "!!!!! DEPENDENT (reject H0)\n",
      "==========================================================\n",
      "==========================================================\n",
      "RELATIONSHIP INCOME_LEVEL and REWARD\n",
      "reward        Air Miles  Cash Back  Points\n",
      "income_level                              \n",
      "0                  1538       1467    1456\n",
      "1                  3029       2994    2990\n",
      "2                  1494       1538    1494\n",
      "dof=4\n",
      "[[1502.11783333 1486.75216667 1472.13      ]\n",
      " [3034.87738889 3003.83261111 2974.29      ]\n",
      " [1524.00477778 1508.41522222 1493.58      ]]\n",
      "probability=0.950, critical=9.488, stat=2.594\n",
      "Independent (fail to reject H0)\n",
      "significance=0.050, p=0.628\n",
      "Independent (fail to reject H0)\n",
      "==========================================================\n",
      "==========================================================\n",
      "RELATIONSHIP INCOME_LEVEL and MAILER_TYPE\n",
      "mailer_type   Letter  Postcard\n",
      "income_level                  \n",
      "0               2221      2240\n",
      "1               4428      4585\n",
      "2               2204      2322\n",
      "dof=2\n",
      "[[2194.0685     2266.9315    ]\n",
      " [4432.89383333 4580.10616667]\n",
      " [2226.03766667 2299.96233333]]\n",
      "probability=0.950, critical=5.991, stat=1.090\n",
      "Independent (fail to reject H0)\n",
      "significance=0.050, p=0.580\n",
      "Independent (fail to reject H0)\n",
      "==========================================================\n",
      "==========================================================\n",
      "RELATIONSHIP INCOME_LEVEL and OVERDRAFT_PROTECTION\n",
      "overdraft_protection     0     1\n",
      "income_level                    \n",
      "0                     3788   673\n",
      "1                     7659  1354\n",
      "2                     3875   651\n",
      "dof=2\n",
      "[[3797.30233333  663.69766667]\n",
      " [7672.06588889 1340.93411111]\n",
      " [3852.63177778  673.36822222]]\n",
      "probability=0.950, critical=5.991, stat=1.176\n",
      "Independent (fail to reject H0)\n",
      "significance=0.050, p=0.556\n",
      "Independent (fail to reject H0)\n",
      "==========================================================\n",
      "==========================================================\n",
      "RELATIONSHIP INCOME_LEVEL and CREDIT_RATING\n",
      "credit_rating     0     1     2\n",
      "income_level                   \n",
      "0              1441  1479  1541\n",
      "1              2986  3011  3016\n",
      "2              1530  1482  1514\n",
      "dof=4\n",
      "[[1476.34316667 1480.06066667 1504.59616667]\n",
      " [2982.80227778 2990.31311111 3039.88461111]\n",
      " [1497.85455556 1501.62622222 1526.51922222]]\n",
      "probability=0.950, critical=9.488, stat=3.111\n",
      "Independent (fail to reject H0)\n",
      "significance=0.050, p=0.539\n",
      "Independent (fail to reject H0)\n",
      "==========================================================\n",
      "==========================================================\n",
      "RELATIONSHIP INCOME_LEVEL and OWN_YOUR_HOME\n",
      "own_your_home     0     1\n",
      "income_level             \n",
      "0              1551  2910\n",
      "1              3159  5854\n",
      "2              1635  2891\n",
      "dof=2\n",
      "[[1572.5025 2888.4975]\n",
      " [3177.0825 5835.9175]\n",
      " [1595.415  2930.585 ]]\n",
      "probability=0.950, critical=5.991, stat=2.130\n",
      "Independent (fail to reject H0)\n",
      "significance=0.050, p=0.345\n",
      "Independent (fail to reject H0)\n",
      "==========================================================\n",
      "==========================================================\n",
      "RELATIONSHIP OVERDRAFT_PROTECTION and OFFER_ACCEPTED\n",
      "offer_accepted           No  Yes\n",
      "overdraft_protection            \n",
      "0                     14447  875\n"
     ]
    },
    {
     "name": "stdout",
     "output_type": "stream",
     "text": [
      "1                      2530  148\n",
      "dof=1\n",
      "[[14451.19966667   870.80033333]\n",
      " [ 2525.80033333   152.19966667]]\n",
      "probability=0.950, critical=3.841, stat=0.112\n",
      "Independent (fail to reject H0)\n",
      "significance=0.050, p=0.738\n",
      "Independent (fail to reject H0)\n",
      "==========================================================\n",
      "==========================================================\n",
      "RELATIONSHIP OVERDRAFT_PROTECTION and REWARD\n",
      "reward                Air Miles  Cash Back  Points\n",
      "overdraft_protection                              \n",
      "0                          5136       5105    5081\n",
      "1                           925        894     859\n",
      "dof=2\n",
      "[[5159.25788889 5106.48211111 5056.26      ]\n",
      " [ 901.74211111  892.51788889  883.74      ]]\n",
      "probability=0.950, critical=5.991, stat=1.521\n",
      "Independent (fail to reject H0)\n",
      "significance=0.050, p=0.467\n",
      "Independent (fail to reject H0)\n",
      "==========================================================\n",
      "==========================================================\n",
      "RELATIONSHIP OVERDRAFT_PROTECTION and MAILER_TYPE\n",
      "mailer_type           Letter  Postcard\n",
      "overdraft_protection                  \n",
      "0                       7545      7777\n",
      "1                       1308      1370\n",
      "dof=1\n",
      "[[7535.87033333 7786.12966667]\n",
      " [1317.12966667 1360.87033333]]\n",
      "probability=0.950, critical=3.841, stat=0.131\n",
      "Independent (fail to reject H0)\n",
      "significance=0.050, p=0.718\n",
      "Independent (fail to reject H0)\n",
      "==========================================================\n",
      "==========================================================\n",
      "RELATIONSHIP OVERDRAFT_PROTECTION and INCOME_LEVEL\n",
      "income_level             0     1     2\n",
      "overdraft_protection                  \n",
      "0                     3788  7659  3875\n",
      "1                      673  1354   651\n",
      "dof=2\n",
      "[[3797.30233333 7672.06588889 3852.63177778]\n",
      " [ 663.69766667 1340.93411111  673.36822222]]\n",
      "probability=0.950, critical=5.991, stat=1.176\n",
      "Independent (fail to reject H0)\n",
      "significance=0.050, p=0.556\n",
      "Independent (fail to reject H0)\n",
      "==========================================================\n",
      "==========================================================\n",
      "RELATIONSHIP OVERDRAFT_PROTECTION and CREDIT_RATING\n",
      "credit_rating            0     1     2\n",
      "overdraft_protection                  \n",
      "0                     5076  5059  5187\n",
      "1                      881   913   884\n",
      "dof=2\n",
      "[[5070.73077778 5083.49911111 5167.77011111]\n",
      " [ 886.26922222  888.50088889  903.22988889]]\n",
      "probability=0.950, critical=5.991, stat=1.311\n",
      "Independent (fail to reject H0)\n",
      "significance=0.050, p=0.519\n",
      "Independent (fail to reject H0)\n",
      "==========================================================\n",
      "==========================================================\n",
      "RELATIONSHIP OVERDRAFT_PROTECTION and OWN_YOUR_HOME\n",
      "own_your_home            0     1\n",
      "overdraft_protection            \n",
      "0                     5426  9896\n",
      "1                      919  1759\n",
      "dof=1\n",
      "[[5401.005 9920.995]\n",
      " [ 943.995 1734.005]]\n",
      "probability=0.950, critical=3.841, stat=1.153\n",
      "Independent (fail to reject H0)\n",
      "significance=0.050, p=0.283\n",
      "Independent (fail to reject H0)\n",
      "==========================================================\n",
      "==========================================================\n",
      "RELATIONSHIP CREDIT_RATING and OFFER_ACCEPTED\n",
      "offer_accepted    No  Yes\n",
      "credit_rating            \n",
      "0               5324  633\n",
      "1               5701  271\n",
      "2               5952  119\n",
      "dof=2\n",
      "[[5618.44383333  338.55616667]\n",
      " [5632.59133333  339.40866667]\n",
      " [5725.96483333  345.03516667]]\n",
      "probability=0.950, critical=5.991, stat=443.129\n",
      "Dependent (reject H0)\n",
      "significance=0.050, p=0.000\n",
      "!!!!! DEPENDENT (reject H0)\n",
      "==========================================================\n",
      "==========================================================\n",
      "RELATIONSHIP CREDIT_RATING and REWARD\n",
      "reward         Air Miles  Cash Back  Points\n",
      "credit_rating                              \n",
      "0                   1995       2006    1956\n",
      "1                   1986       1980    2006\n",
      "2                   2080       2013    1978\n",
      "dof=4\n",
      "[[2005.85427778 1985.33572222 1965.81      ]\n",
      " [2010.90511111 1990.33488889 1970.76      ]\n",
      " [2044.24061111 2023.32938889 2003.43      ]]\n",
      "probability=0.950, critical=9.488, stat=2.316\n",
      "Independent (fail to reject H0)\n",
      "significance=0.050, p=0.678\n",
      "Independent (fail to reject H0)\n",
      "==========================================================\n",
      "==========================================================\n",
      "RELATIONSHIP CREDIT_RATING and MAILER_TYPE\n",
      "mailer_type    Letter  Postcard\n",
      "credit_rating                  \n",
      "0                2916      3041\n",
      "1                2961      3011\n",
      "2                2976      3095\n",
      "dof=2\n",
      "[[2929.85116667 3027.14883333]\n",
      " [2937.22866667 3034.77133333]\n",
      " [2985.92016667 3085.07983333]]\n",
      "probability=0.950, critical=5.991, stat=0.572\n",
      "Independent (fail to reject H0)\n",
      "significance=0.050, p=0.751\n",
      "Independent (fail to reject H0)\n",
      "==========================================================\n",
      "==========================================================\n",
      "RELATIONSHIP CREDIT_RATING and INCOME_LEVEL\n",
      "income_level      0     1     2\n",
      "credit_rating                  \n",
      "0              1441  2986  1530\n",
      "1              1479  3011  1482\n",
      "2              1541  3016  1514\n",
      "dof=4\n",
      "[[1476.34316667 2982.80227778 1497.85455556]\n",
      " [1480.06066667 2990.31311111 1501.62622222]\n",
      " [1504.59616667 3039.88461111 1526.51922222]]\n",
      "probability=0.950, critical=9.488, stat=3.111\n",
      "Independent (fail to reject H0)\n",
      "significance=0.050, p=0.539\n",
      "Independent (fail to reject H0)\n",
      "==========================================================\n",
      "==========================================================\n",
      "RELATIONSHIP CREDIT_RATING and OVERDRAFT_PROTECTION\n",
      "overdraft_protection     0    1\n",
      "credit_rating                  \n",
      "0                     5076  881\n",
      "1                     5059  913\n",
      "2                     5187  884\n",
      "dof=2\n",
      "[[5070.73077778  886.26922222]\n",
      " [5083.49911111  888.50088889]\n",
      " [5167.77011111  903.22988889]]\n",
      "probability=0.950, critical=5.991, stat=1.311\n",
      "Independent (fail to reject H0)\n",
      "significance=0.050, p=0.519\n",
      "Independent (fail to reject H0)\n",
      "==========================================================\n",
      "==========================================================\n",
      "RELATIONSHIP CREDIT_RATING and OWN_YOUR_HOME\n",
      "own_your_home     0     1\n",
      "credit_rating            \n",
      "0              2126  3831\n",
      "1              2077  3895\n",
      "2              2142  3929\n",
      "dof=2\n",
      "[[2099.8425 3857.1575]\n",
      " [2105.13   3866.87  ]\n",
      " [2140.0275 3930.9725]]\n",
      "probability=0.950, critical=5.991, stat=1.087\n",
      "Independent (fail to reject H0)\n",
      "significance=0.050, p=0.581\n",
      "Independent (fail to reject H0)\n",
      "==========================================================\n",
      "==========================================================\n",
      "RELATIONSHIP OWN_YOUR_HOME and OFFER_ACCEPTED\n",
      "offer_accepted     No  Yes\n",
      "own_your_home             \n",
      "0                5985  360\n",
      "1               10992  663\n",
      "dof=1\n",
      "[[ 5984.3925   360.6075]\n",
      " [10992.6075   662.3925]]\n",
      "probability=0.950, critical=3.841, stat=0.000\n",
      "Independent (fail to reject H0)\n",
      "significance=0.050, p=0.994\n",
      "Independent (fail to reject H0)\n",
      "==========================================================\n",
      "==========================================================\n",
      "RELATIONSHIP OWN_YOUR_HOME and REWARD\n",
      "reward         Air Miles  Cash Back  Points\n",
      "own_your_home                              \n",
      "0                   2129       2154    2062\n",
      "1                   3932       3845    3878\n",
      "dof=2\n",
      "[[2136.5025 2114.6475 2093.85  ]\n",
      " [3924.4975 3884.3525 3846.15  ]]\n",
      "probability=0.950, critical=5.991, stat=1.920\n",
      "Independent (fail to reject H0)\n",
      "significance=0.050, p=0.383\n",
      "Independent (fail to reject H0)\n",
      "==========================================================\n",
      "==========================================================\n",
      "RELATIONSHIP OWN_YOUR_HOME and MAILER_TYPE\n",
      "mailer_type    Letter  Postcard\n",
      "own_your_home                  \n",
      "0                3102      3243\n",
      "1                5751      5904\n",
      "dof=1\n",
      "[[3120.6825 3224.3175]\n",
      " [5732.3175 5922.6825]]\n",
      "probability=0.950, critical=3.841, stat=0.322\n",
      "Independent (fail to reject H0)\n",
      "significance=0.050, p=0.570\n",
      "Independent (fail to reject H0)\n",
      "==========================================================\n",
      "==========================================================\n",
      "RELATIONSHIP OWN_YOUR_HOME and INCOME_LEVEL\n",
      "income_level      0     1     2\n",
      "own_your_home                  \n",
      "0              1551  3159  1635\n",
      "1              2910  5854  2891\n",
      "dof=2\n",
      "[[1572.5025 3177.0825 1595.415 ]\n",
      " [2888.4975 5835.9175 2930.585 ]]\n",
      "probability=0.950, critical=5.991, stat=2.130\n",
      "Independent (fail to reject H0)\n",
      "significance=0.050, p=0.345\n",
      "Independent (fail to reject H0)\n",
      "==========================================================\n",
      "==========================================================\n",
      "RELATIONSHIP OWN_YOUR_HOME and OVERDRAFT_PROTECTION\n",
      "overdraft_protection     0     1\n",
      "own_your_home                   \n",
      "0                     5426   919\n",
      "1                     9896  1759\n",
      "dof=1\n",
      "[[5401.005  943.995]\n",
      " [9920.995 1734.005]]\n",
      "probability=0.950, critical=3.841, stat=1.153\n",
      "Independent (fail to reject H0)\n",
      "significance=0.050, p=0.283\n",
      "Independent (fail to reject H0)\n",
      "==========================================================\n",
      "==========================================================\n",
      "RELATIONSHIP OWN_YOUR_HOME and CREDIT_RATING\n",
      "credit_rating     0     1     2\n",
      "own_your_home                  \n",
      "0              2126  2077  2142\n",
      "1              3831  3895  3929\n",
      "dof=2\n",
      "[[2099.8425 2105.13   2140.0275]\n",
      " [3857.1575 3866.87   3930.9725]]\n",
      "probability=0.950, critical=5.991, stat=1.087\n",
      "Independent (fail to reject H0)\n",
      "significance=0.050, p=0.581\n",
      "Independent (fail to reject H0)\n",
      "==========================================================\n"
     ]
    }
   ],
   "source": [
    "for i in cat.columns:\n",
    "    for v in cat.columns:\n",
    "        if i != v:\n",
    "            print('==========================================================')\n",
    "            print('RELATIONSHIP {} and {}'.format(i.upper(),v.upper()))\n",
    "            chi_test(cat,i,v)"
   ]
  },
  {
   "cell_type": "markdown",
   "metadata": {},
   "source": [
    "### Function skew"
   ]
  },
  {
   "cell_type": "code",
   "execution_count": 35,
   "metadata": {},
   "outputs": [],
   "source": [
    "def skew_df(df):\n",
    "    from scipy.stats import skew\n",
    "    \n",
    "    cols=list(df.columns)\n",
    "    \n",
    "    for col in cols:\n",
    "        sk=df[col].skew()\n",
    "        print(\"the skew of {} is: {}\".format(col,sk))"
   ]
  },
  {
   "cell_type": "code",
   "execution_count": 36,
   "metadata": {},
   "outputs": [
    {
     "name": "stdout",
     "output_type": "stream",
     "text": [
      "the skew of nr_of_bank_accounts_open is: 1.577755085652093\n",
      "the skew of credit_cards_held is: 0.5135425586045583\n",
      "the skew of nr_of_homes_owned is: 1.861343969931656\n",
      "the skew of household_size is: 0.016834709813279263\n",
      "the skew of average_balance is: -0.5793601989973892\n",
      "the skew of balance_q1 is: 0.4110764216763034\n",
      "the skew of balance_q2 is: -0.18646705642416395\n",
      "the skew of balance_q3 is: 0.2864429884567085\n"
     ]
    }
   ],
   "source": [
    "skew_df(num)"
   ]
  },
  {
   "cell_type": "markdown",
   "metadata": {},
   "source": [
    "## Predicting our raw data"
   ]
  },
  {
   "cell_type": "code",
   "execution_count": 37,
   "metadata": {},
   "outputs": [],
   "source": [
    "from sklearn.model_selection import train_test_split\n",
    "from sklearn.preprocessing import Normalizer\n",
    "from sklearn.preprocessing import StandardScaler\n",
    "from sklearn.preprocessing import MinMaxScaler\n",
    "from sklearn.preprocessing import PowerTransformer\n",
    "from sklearn.preprocessing import StandardScaler\n",
    "from imblearn.under_sampling import RandomUnderSampler\n",
    "from imblearn.over_sampling import RandomOverSampler\n",
    "from imblearn.under_sampling import TomekLinks\n",
    "from sklearn.linear_model import LogisticRegression\n",
    "from sklearn.metrics import cohen_kappa_score \n",
    "from sklearn.tree import DecisionTreeClassifier\n",
    "from sklearn.neighbors import KNeighborsClassifier"
   ]
  },
  {
   "cell_type": "markdown",
   "metadata": {},
   "source": [
    "### Function Split Train/Test"
   ]
  },
  {
   "cell_type": "code",
   "execution_count": 38,
   "metadata": {},
   "outputs": [],
   "source": [
    "#y = df['offer_accepted']\n",
    "X = pd.concat([cat_df,num],axis=1)"
   ]
  },
  {
   "cell_type": "code",
   "execution_count": 39,
   "metadata": {},
   "outputs": [],
   "source": [
    "#def splitting_data(X,y):\n",
    "#    X_train, X_test, y_train, y_test = train_test_split(X, y, test_size=0.3, random_state=42)\n",
    "#    return X_train, X_test, y_train, y_test"
   ]
  },
  {
   "cell_type": "markdown",
   "metadata": {},
   "source": [
    "### Function Scalers"
   ]
  },
  {
   "cell_type": "code",
   "execution_count": 40,
   "metadata": {},
   "outputs": [],
   "source": [
    "def scalers(X_train, X_test, scaler):\n",
    "    if scaler == 'normalizer':\n",
    "        transformer = Normalizer().fit(X_train)\n",
    "        X_train_t = transformer.transform(X_train)\n",
    "        X_test_t = transformer.transform(X_test) \n",
    "    elif scaler == 'standard':\n",
    "        transformer = StandardScaler().fit(X_train)\n",
    "        X_train_t = transformer.transform(X_train)\n",
    "        X_test_t = transformer.transform(X_test)\n",
    "    elif scaler == 'minmax':\n",
    "        transformer = MinMaxScaler().fit(X_train)\n",
    "        X_train_t = transformer.transform(X_train)\n",
    "        X_test_t = transformer.transform(X_test)\n",
    "    elif scaler == 'power':\n",
    "        transformer = PowerTransformer().fit(X_train)\n",
    "        X_train_t = transformer.transform(X_train)\n",
    "        X_test_t = transformer.transform(X_test)\n",
    "\n",
    "    X_train_t = pd.DataFrame(X_train_t, columns = X_train.columns)\n",
    "    X_test_t = pd.DataFrame(X_test_t, columns = X_test.columns)\n",
    "\n",
    "    return X_train_t, X_test_t"
   ]
  },
  {
   "cell_type": "markdown",
   "metadata": {},
   "source": [
    "### Function Sampling"
   ]
  },
  {
   "cell_type": "code",
   "execution_count": 41,
   "metadata": {},
   "outputs": [],
   "source": [
    "def samplings_type(X_train, y_train, samp):\n",
    "    if samp =='downsampling':\n",
    "        s = RandomUnderSampler()\n",
    "    elif samp == 'upsampling':\n",
    "        s = RandomOverSampler()\n",
    "    elif  samp == 'tomeklinks':\n",
    "        s = TomekLinks('majority')\n",
    "\n",
    "    X_s, y_s = s.fit_sample(X_train, y_train)\n",
    "    X_train_s = pd.DataFrame(X_s, columns = X_train.columns)\n",
    "    y_train_s = pd.DataFrame(y_s, columns = ['offer_accepted'])\n",
    "\n",
    "    return X_train_s, y_train_s"
   ]
  },
  {
   "cell_type": "markdown",
   "metadata": {},
   "source": [
    "### Function Predict our model"
   ]
  },
  {
   "cell_type": "code",
   "execution_count": 42,
   "metadata": {},
   "outputs": [],
   "source": [
    "def fit_predict(X_train, X_test, y_train, y_test, model='logistic', k=None):\n",
    "    import sys\n",
    "    from sklearn.metrics import accuracy_score, precision_score\n",
    "    if ( model == 'logistic' ):\n",
    "        classification = LogisticRegression(random_state=0, solver='lbfgs',multi_class='ovr').fit(X_train, y_train)\n",
    "    elif ( model == 'decision_tree' ):\n",
    "        classification = DecisionTreeClassifier().fit(X_train, y_train)\n",
    "    elif ( model == 'k-nn' ):\n",
    "        classification = KNeighborsClassifier(n_neighbors=k).fit(X_train, y_train)\n",
    "    else:\n",
    "        print('Incorrect input model')\n",
    "        sys.exit()\n",
    "\n",
    "    y_train_pred = classification.predict(X_train)\n",
    "    y_test_pred  = classification.predict(X_test)\n",
    "\n",
    "    accuracy_train = round(accuracy_score(y_train, y_train_pred),2)\n",
    "    accuracy_test  = round(accuracy_score(y_test, y_test_pred),2)\n",
    "\n",
    "    kappa_train = round(cohen_kappa_score(y_train, y_train_pred),2)\n",
    "    kappa_test  = round(cohen_kappa_score(y_test, y_test_pred),2)\n",
    "\n",
    "    return accuracy_train, accuracy_test, kappa_train, kappa_test\n",
    "\n",
    "#compare_scale_sampling(X,y)"
   ]
  },
  {
   "cell_type": "code",
   "execution_count": 43,
   "metadata": {},
   "outputs": [],
   "source": [
    "def y_predict(X_train, X_test, y_train, y_test, model='logistic', k=None):\n",
    "    import sys\n",
    "\n",
    "    if ( model == 'logistic' ):\n",
    "        classification = LogisticRegression(random_state=0, solver='lbfgs',multi_class='ovr').fit(X_train, y_train)\n",
    "        #classification.to_pickle('')\n",
    "    elif ( model == 'decision_tree' ):\n",
    "        classification = DecisionTreeClassifier().fit(X_train, y_train)\n",
    "\n",
    "    elif ( model == 'k-nn' ):\n",
    "        classification = KNeighborsClassifier(n_neighbors=k).fit(X_train, y_train)\n",
    "    else:\n",
    "        print('Incorrect input model')\n",
    "        sys.exit()\n",
    "\n",
    "    y_train_pred = classification.predict(X_train)\n",
    "    y_test_pred  = classification.predict(X_test)\n",
    "    return y_test_pred, classification"
   ]
  },
  {
   "cell_type": "code",
   "execution_count": 44,
   "metadata": {},
   "outputs": [
    {
     "data": {
      "text/plain": [
       "(18000, 10)"
      ]
     },
     "execution_count": 44,
     "metadata": {},
     "output_type": "execute_result"
    }
   ],
   "source": [
    "cat_df.shape"
   ]
  },
  {
   "cell_type": "code",
   "execution_count": 45,
   "metadata": {},
   "outputs": [
    {
     "data": {
      "text/plain": [
       "(18000,)"
      ]
     },
     "execution_count": 45,
     "metadata": {},
     "output_type": "execute_result"
    }
   ],
   "source": [
    "y.shape"
   ]
  },
  {
   "cell_type": "code",
   "execution_count": 46,
   "metadata": {},
   "outputs": [
    {
     "data": {
      "text/plain": [
       "(18000, 18)"
      ]
     },
     "execution_count": 46,
     "metadata": {},
     "output_type": "execute_result"
    }
   ],
   "source": [
    "X.shape"
   ]
  },
  {
   "cell_type": "code",
   "execution_count": 47,
   "metadata": {},
   "outputs": [
    {
     "data": {
      "text/plain": [
       "(18000,)"
      ]
     },
     "execution_count": 47,
     "metadata": {},
     "output_type": "execute_result"
    }
   ],
   "source": [
    "y.shape"
   ]
  },
  {
   "cell_type": "markdown",
   "metadata": {},
   "source": [
    "## Apply splitting, scaling, sampling and predicting "
   ]
  },
  {
   "cell_type": "code",
   "execution_count": 48,
   "metadata": {},
   "outputs": [],
   "source": [
    "def get_scores(X,y, model):\n",
    "    from sklearn.metrics import precision_score, recall_score\n",
    "    #X_train, X_test, y_train, y_test = splitting_data(X,y)\n",
    "    X_train, X_test, y_train, y_test = train_test_split(X, y, test_size=0.3, random_state=42)\n",
    "\n",
    "    my_dict =  {'scaler': [], 'sampling': [], 'precision':[],'recall':[],'accuracy': [], 'kappa': [], 'set': []}\n",
    "\n",
    "    for scaler in ['normalizer','standard','minmax','power']:\n",
    "        for sampling in ['downsampling','upsampling','tomeklinks']:\n",
    "\n",
    "            X_train_t, X_test_t = scalers(X_train, X_test, scaler)\n",
    "            X_train_s, y_train_s = samplings_type(X_train_t, y_train, sampling)\n",
    "\n",
    "            accuracy_train, accuracy_test, kappa_train, kappa_test = fit_predict(X_train_s, X_test_t, y_train_s, y_test, model)\n",
    "            y_pred = y_predict(X_train_s, X_test_t, y_train_s, y_test, model)[0]\n",
    "            precision = precision_score(y_test, y_pred)\n",
    "            recall = recall_score(y_test, y_pred)\n",
    "\n",
    "            my_dict['scaler'].append(scaler)\n",
    "            my_dict['sampling'].append(sampling)\n",
    "            my_dict['precision'].append('-')\n",
    "            my_dict['recall'].append('-')\n",
    "            my_dict['accuracy'].append(accuracy_train)\n",
    "            #my_dict['accuracy'].append('-')\n",
    "            my_dict['kappa'].append(kappa_train)\n",
    "            my_dict['set'].append('train')\n",
    "\n",
    "            my_dict['scaler'].append(scaler)\n",
    "            my_dict['sampling'].append(sampling)\n",
    "            my_dict['precision'].append(precision)\n",
    "            my_dict['recall'].append(recall)\n",
    "            my_dict['accuracy'].append(accuracy_test)\n",
    "            my_dict['kappa'].append(kappa_test)\n",
    "            #my_dict['kappa'].append('-')\n",
    "            my_dict['set'].append('test')\n",
    "\n",
    "    results = pd.DataFrame(my_dict)\n",
    "    return results"
   ]
  },
  {
   "cell_type": "code",
   "execution_count": 49,
   "metadata": {},
   "outputs": [
    {
     "ename": "ValueError",
     "evalue": "could not convert string to float: 'No'",
     "output_type": "error",
     "traceback": [
      "\u001b[1;31m---------------------------------------------------------------------------\u001b[0m",
      "\u001b[1;31mValueError\u001b[0m                                Traceback (most recent call last)",
      "\u001b[1;32m<ipython-input-49-75c8c04cb507>\u001b[0m in \u001b[0;36m<module>\u001b[1;34m\u001b[0m\n\u001b[1;32m----> 1\u001b[1;33m \u001b[0mget_scores\u001b[0m\u001b[1;33m(\u001b[0m\u001b[0mX\u001b[0m\u001b[1;33m,\u001b[0m\u001b[0my\u001b[0m\u001b[1;33m,\u001b[0m\u001b[1;34m'logistic'\u001b[0m\u001b[1;33m)\u001b[0m\u001b[1;33m\u001b[0m\u001b[1;33m\u001b[0m\u001b[0m\n\u001b[0m",
      "\u001b[1;32m<ipython-input-48-7c9616e793b2>\u001b[0m in \u001b[0;36mget_scores\u001b[1;34m(X, y, model)\u001b[0m\n\u001b[0;32m      9\u001b[0m         \u001b[1;32mfor\u001b[0m \u001b[0msampling\u001b[0m \u001b[1;32min\u001b[0m \u001b[1;33m[\u001b[0m\u001b[1;34m'downsampling'\u001b[0m\u001b[1;33m,\u001b[0m\u001b[1;34m'upsampling'\u001b[0m\u001b[1;33m,\u001b[0m\u001b[1;34m'tomeklinks'\u001b[0m\u001b[1;33m]\u001b[0m\u001b[1;33m:\u001b[0m\u001b[1;33m\u001b[0m\u001b[1;33m\u001b[0m\u001b[0m\n\u001b[0;32m     10\u001b[0m \u001b[1;33m\u001b[0m\u001b[0m\n\u001b[1;32m---> 11\u001b[1;33m             \u001b[0mX_train_t\u001b[0m\u001b[1;33m,\u001b[0m \u001b[0mX_test_t\u001b[0m \u001b[1;33m=\u001b[0m \u001b[0mscalers\u001b[0m\u001b[1;33m(\u001b[0m\u001b[0mX_train\u001b[0m\u001b[1;33m,\u001b[0m \u001b[0mX_test\u001b[0m\u001b[1;33m,\u001b[0m \u001b[0mscaler\u001b[0m\u001b[1;33m)\u001b[0m\u001b[1;33m\u001b[0m\u001b[1;33m\u001b[0m\u001b[0m\n\u001b[0m\u001b[0;32m     12\u001b[0m             \u001b[0mX_train_s\u001b[0m\u001b[1;33m,\u001b[0m \u001b[0my_train_s\u001b[0m \u001b[1;33m=\u001b[0m \u001b[0msamplings_type\u001b[0m\u001b[1;33m(\u001b[0m\u001b[0mX_train_t\u001b[0m\u001b[1;33m,\u001b[0m \u001b[0my_train\u001b[0m\u001b[1;33m,\u001b[0m \u001b[0msampling\u001b[0m\u001b[1;33m)\u001b[0m\u001b[1;33m\u001b[0m\u001b[1;33m\u001b[0m\u001b[0m\n\u001b[0;32m     13\u001b[0m \u001b[1;33m\u001b[0m\u001b[0m\n",
      "\u001b[1;32m<ipython-input-40-4427ab4d1693>\u001b[0m in \u001b[0;36mscalers\u001b[1;34m(X_train, X_test, scaler)\u001b[0m\n\u001b[0;32m      1\u001b[0m \u001b[1;32mdef\u001b[0m \u001b[0mscalers\u001b[0m\u001b[1;33m(\u001b[0m\u001b[0mX_train\u001b[0m\u001b[1;33m,\u001b[0m \u001b[0mX_test\u001b[0m\u001b[1;33m,\u001b[0m \u001b[0mscaler\u001b[0m\u001b[1;33m)\u001b[0m\u001b[1;33m:\u001b[0m\u001b[1;33m\u001b[0m\u001b[1;33m\u001b[0m\u001b[0m\n\u001b[0;32m      2\u001b[0m     \u001b[1;32mif\u001b[0m \u001b[0mscaler\u001b[0m \u001b[1;33m==\u001b[0m \u001b[1;34m'normalizer'\u001b[0m\u001b[1;33m:\u001b[0m\u001b[1;33m\u001b[0m\u001b[1;33m\u001b[0m\u001b[0m\n\u001b[1;32m----> 3\u001b[1;33m         \u001b[0mtransformer\u001b[0m \u001b[1;33m=\u001b[0m \u001b[0mNormalizer\u001b[0m\u001b[1;33m(\u001b[0m\u001b[1;33m)\u001b[0m\u001b[1;33m.\u001b[0m\u001b[0mfit\u001b[0m\u001b[1;33m(\u001b[0m\u001b[0mX_train\u001b[0m\u001b[1;33m)\u001b[0m\u001b[1;33m\u001b[0m\u001b[1;33m\u001b[0m\u001b[0m\n\u001b[0m\u001b[0;32m      4\u001b[0m         \u001b[0mX_train_t\u001b[0m \u001b[1;33m=\u001b[0m \u001b[0mtransformer\u001b[0m\u001b[1;33m.\u001b[0m\u001b[0mtransform\u001b[0m\u001b[1;33m(\u001b[0m\u001b[0mX_train\u001b[0m\u001b[1;33m)\u001b[0m\u001b[1;33m\u001b[0m\u001b[1;33m\u001b[0m\u001b[0m\n\u001b[0;32m      5\u001b[0m         \u001b[0mX_test_t\u001b[0m \u001b[1;33m=\u001b[0m \u001b[0mtransformer\u001b[0m\u001b[1;33m.\u001b[0m\u001b[0mtransform\u001b[0m\u001b[1;33m(\u001b[0m\u001b[0mX_test\u001b[0m\u001b[1;33m)\u001b[0m\u001b[1;33m\u001b[0m\u001b[1;33m\u001b[0m\u001b[0m\n",
      "\u001b[1;32m~\\Anaconda3\\lib\\site-packages\\sklearn\\preprocessing\\_data.py\u001b[0m in \u001b[0;36mfit\u001b[1;34m(self, X, y)\u001b[0m\n\u001b[0;32m   1822\u001b[0m         \u001b[0mX\u001b[0m \u001b[1;33m:\u001b[0m \u001b[0marray\u001b[0m\u001b[1;33m-\u001b[0m\u001b[0mlike\u001b[0m\u001b[1;33m\u001b[0m\u001b[1;33m\u001b[0m\u001b[0m\n\u001b[0;32m   1823\u001b[0m         \"\"\"\n\u001b[1;32m-> 1824\u001b[1;33m         \u001b[0mself\u001b[0m\u001b[1;33m.\u001b[0m\u001b[0m_validate_data\u001b[0m\u001b[1;33m(\u001b[0m\u001b[0mX\u001b[0m\u001b[1;33m,\u001b[0m \u001b[0maccept_sparse\u001b[0m\u001b[1;33m=\u001b[0m\u001b[1;34m'csr'\u001b[0m\u001b[1;33m)\u001b[0m\u001b[1;33m\u001b[0m\u001b[1;33m\u001b[0m\u001b[0m\n\u001b[0m\u001b[0;32m   1825\u001b[0m         \u001b[1;32mreturn\u001b[0m \u001b[0mself\u001b[0m\u001b[1;33m\u001b[0m\u001b[1;33m\u001b[0m\u001b[0m\n\u001b[0;32m   1826\u001b[0m \u001b[1;33m\u001b[0m\u001b[0m\n",
      "\u001b[1;32m~\\Anaconda3\\lib\\site-packages\\sklearn\\base.py\u001b[0m in \u001b[0;36m_validate_data\u001b[1;34m(self, X, y, reset, validate_separately, **check_params)\u001b[0m\n\u001b[0;32m    418\u001b[0m                     \u001b[1;34mf\"requires y to be passed, but the target y is None.\"\u001b[0m\u001b[1;33m\u001b[0m\u001b[1;33m\u001b[0m\u001b[0m\n\u001b[0;32m    419\u001b[0m                 )\n\u001b[1;32m--> 420\u001b[1;33m             \u001b[0mX\u001b[0m \u001b[1;33m=\u001b[0m \u001b[0mcheck_array\u001b[0m\u001b[1;33m(\u001b[0m\u001b[0mX\u001b[0m\u001b[1;33m,\u001b[0m \u001b[1;33m**\u001b[0m\u001b[0mcheck_params\u001b[0m\u001b[1;33m)\u001b[0m\u001b[1;33m\u001b[0m\u001b[1;33m\u001b[0m\u001b[0m\n\u001b[0m\u001b[0;32m    421\u001b[0m             \u001b[0mout\u001b[0m \u001b[1;33m=\u001b[0m \u001b[0mX\u001b[0m\u001b[1;33m\u001b[0m\u001b[1;33m\u001b[0m\u001b[0m\n\u001b[0;32m    422\u001b[0m         \u001b[1;32melse\u001b[0m\u001b[1;33m:\u001b[0m\u001b[1;33m\u001b[0m\u001b[1;33m\u001b[0m\u001b[0m\n",
      "\u001b[1;32m~\\Anaconda3\\lib\\site-packages\\sklearn\\utils\\validation.py\u001b[0m in \u001b[0;36minner_f\u001b[1;34m(*args, **kwargs)\u001b[0m\n\u001b[0;32m     70\u001b[0m                           FutureWarning)\n\u001b[0;32m     71\u001b[0m         \u001b[0mkwargs\u001b[0m\u001b[1;33m.\u001b[0m\u001b[0mupdate\u001b[0m\u001b[1;33m(\u001b[0m\u001b[1;33m{\u001b[0m\u001b[0mk\u001b[0m\u001b[1;33m:\u001b[0m \u001b[0marg\u001b[0m \u001b[1;32mfor\u001b[0m \u001b[0mk\u001b[0m\u001b[1;33m,\u001b[0m \u001b[0marg\u001b[0m \u001b[1;32min\u001b[0m \u001b[0mzip\u001b[0m\u001b[1;33m(\u001b[0m\u001b[0msig\u001b[0m\u001b[1;33m.\u001b[0m\u001b[0mparameters\u001b[0m\u001b[1;33m,\u001b[0m \u001b[0margs\u001b[0m\u001b[1;33m)\u001b[0m\u001b[1;33m}\u001b[0m\u001b[1;33m)\u001b[0m\u001b[1;33m\u001b[0m\u001b[1;33m\u001b[0m\u001b[0m\n\u001b[1;32m---> 72\u001b[1;33m         \u001b[1;32mreturn\u001b[0m \u001b[0mf\u001b[0m\u001b[1;33m(\u001b[0m\u001b[1;33m**\u001b[0m\u001b[0mkwargs\u001b[0m\u001b[1;33m)\u001b[0m\u001b[1;33m\u001b[0m\u001b[1;33m\u001b[0m\u001b[0m\n\u001b[0m\u001b[0;32m     73\u001b[0m     \u001b[1;32mreturn\u001b[0m \u001b[0minner_f\u001b[0m\u001b[1;33m\u001b[0m\u001b[1;33m\u001b[0m\u001b[0m\n\u001b[0;32m     74\u001b[0m \u001b[1;33m\u001b[0m\u001b[0m\n",
      "\u001b[1;32m~\\Anaconda3\\lib\\site-packages\\sklearn\\utils\\validation.py\u001b[0m in \u001b[0;36mcheck_array\u001b[1;34m(array, accept_sparse, accept_large_sparse, dtype, order, copy, force_all_finite, ensure_2d, allow_nd, ensure_min_samples, ensure_min_features, estimator)\u001b[0m\n\u001b[0;32m    596\u001b[0m                     \u001b[0marray\u001b[0m \u001b[1;33m=\u001b[0m \u001b[0marray\u001b[0m\u001b[1;33m.\u001b[0m\u001b[0mastype\u001b[0m\u001b[1;33m(\u001b[0m\u001b[0mdtype\u001b[0m\u001b[1;33m,\u001b[0m \u001b[0mcasting\u001b[0m\u001b[1;33m=\u001b[0m\u001b[1;34m\"unsafe\"\u001b[0m\u001b[1;33m,\u001b[0m \u001b[0mcopy\u001b[0m\u001b[1;33m=\u001b[0m\u001b[1;32mFalse\u001b[0m\u001b[1;33m)\u001b[0m\u001b[1;33m\u001b[0m\u001b[1;33m\u001b[0m\u001b[0m\n\u001b[0;32m    597\u001b[0m                 \u001b[1;32melse\u001b[0m\u001b[1;33m:\u001b[0m\u001b[1;33m\u001b[0m\u001b[1;33m\u001b[0m\u001b[0m\n\u001b[1;32m--> 598\u001b[1;33m                     \u001b[0marray\u001b[0m \u001b[1;33m=\u001b[0m \u001b[0mnp\u001b[0m\u001b[1;33m.\u001b[0m\u001b[0masarray\u001b[0m\u001b[1;33m(\u001b[0m\u001b[0marray\u001b[0m\u001b[1;33m,\u001b[0m \u001b[0morder\u001b[0m\u001b[1;33m=\u001b[0m\u001b[0morder\u001b[0m\u001b[1;33m,\u001b[0m \u001b[0mdtype\u001b[0m\u001b[1;33m=\u001b[0m\u001b[0mdtype\u001b[0m\u001b[1;33m)\u001b[0m\u001b[1;33m\u001b[0m\u001b[1;33m\u001b[0m\u001b[0m\n\u001b[0m\u001b[0;32m    599\u001b[0m             \u001b[1;32mexcept\u001b[0m \u001b[0mComplexWarning\u001b[0m\u001b[1;33m:\u001b[0m\u001b[1;33m\u001b[0m\u001b[1;33m\u001b[0m\u001b[0m\n\u001b[0;32m    600\u001b[0m                 raise ValueError(\"Complex data not supported\\n\"\n",
      "\u001b[1;32m~\\Anaconda3\\lib\\site-packages\\numpy\\core\\_asarray.py\u001b[0m in \u001b[0;36masarray\u001b[1;34m(a, dtype, order)\u001b[0m\n\u001b[0;32m     81\u001b[0m \u001b[1;33m\u001b[0m\u001b[0m\n\u001b[0;32m     82\u001b[0m     \"\"\"\n\u001b[1;32m---> 83\u001b[1;33m     \u001b[1;32mreturn\u001b[0m \u001b[0marray\u001b[0m\u001b[1;33m(\u001b[0m\u001b[0ma\u001b[0m\u001b[1;33m,\u001b[0m \u001b[0mdtype\u001b[0m\u001b[1;33m,\u001b[0m \u001b[0mcopy\u001b[0m\u001b[1;33m=\u001b[0m\u001b[1;32mFalse\u001b[0m\u001b[1;33m,\u001b[0m \u001b[0morder\u001b[0m\u001b[1;33m=\u001b[0m\u001b[0morder\u001b[0m\u001b[1;33m)\u001b[0m\u001b[1;33m\u001b[0m\u001b[1;33m\u001b[0m\u001b[0m\n\u001b[0m\u001b[0;32m     84\u001b[0m \u001b[1;33m\u001b[0m\u001b[0m\n\u001b[0;32m     85\u001b[0m \u001b[1;33m\u001b[0m\u001b[0m\n",
      "\u001b[1;32m~\\Anaconda3\\lib\\site-packages\\pandas\\core\\generic.py\u001b[0m in \u001b[0;36m__array__\u001b[1;34m(self, dtype)\u001b[0m\n\u001b[0;32m   1779\u001b[0m \u001b[1;33m\u001b[0m\u001b[0m\n\u001b[0;32m   1780\u001b[0m     \u001b[1;32mdef\u001b[0m \u001b[0m__array__\u001b[0m\u001b[1;33m(\u001b[0m\u001b[0mself\u001b[0m\u001b[1;33m,\u001b[0m \u001b[0mdtype\u001b[0m\u001b[1;33m=\u001b[0m\u001b[1;32mNone\u001b[0m\u001b[1;33m)\u001b[0m \u001b[1;33m->\u001b[0m \u001b[0mnp\u001b[0m\u001b[1;33m.\u001b[0m\u001b[0mndarray\u001b[0m\u001b[1;33m:\u001b[0m\u001b[1;33m\u001b[0m\u001b[1;33m\u001b[0m\u001b[0m\n\u001b[1;32m-> 1781\u001b[1;33m         \u001b[1;32mreturn\u001b[0m \u001b[0mnp\u001b[0m\u001b[1;33m.\u001b[0m\u001b[0masarray\u001b[0m\u001b[1;33m(\u001b[0m\u001b[0mself\u001b[0m\u001b[1;33m.\u001b[0m\u001b[0m_values\u001b[0m\u001b[1;33m,\u001b[0m \u001b[0mdtype\u001b[0m\u001b[1;33m=\u001b[0m\u001b[0mdtype\u001b[0m\u001b[1;33m)\u001b[0m\u001b[1;33m\u001b[0m\u001b[1;33m\u001b[0m\u001b[0m\n\u001b[0m\u001b[0;32m   1782\u001b[0m \u001b[1;33m\u001b[0m\u001b[0m\n\u001b[0;32m   1783\u001b[0m     \u001b[1;32mdef\u001b[0m \u001b[0m__array_wrap__\u001b[0m\u001b[1;33m(\u001b[0m\u001b[0mself\u001b[0m\u001b[1;33m,\u001b[0m \u001b[0mresult\u001b[0m\u001b[1;33m,\u001b[0m \u001b[0mcontext\u001b[0m\u001b[1;33m=\u001b[0m\u001b[1;32mNone\u001b[0m\u001b[1;33m)\u001b[0m\u001b[1;33m:\u001b[0m\u001b[1;33m\u001b[0m\u001b[1;33m\u001b[0m\u001b[0m\n",
      "\u001b[1;32m~\\Anaconda3\\lib\\site-packages\\numpy\\core\\_asarray.py\u001b[0m in \u001b[0;36masarray\u001b[1;34m(a, dtype, order)\u001b[0m\n\u001b[0;32m     81\u001b[0m \u001b[1;33m\u001b[0m\u001b[0m\n\u001b[0;32m     82\u001b[0m     \"\"\"\n\u001b[1;32m---> 83\u001b[1;33m     \u001b[1;32mreturn\u001b[0m \u001b[0marray\u001b[0m\u001b[1;33m(\u001b[0m\u001b[0ma\u001b[0m\u001b[1;33m,\u001b[0m \u001b[0mdtype\u001b[0m\u001b[1;33m,\u001b[0m \u001b[0mcopy\u001b[0m\u001b[1;33m=\u001b[0m\u001b[1;32mFalse\u001b[0m\u001b[1;33m,\u001b[0m \u001b[0morder\u001b[0m\u001b[1;33m=\u001b[0m\u001b[0morder\u001b[0m\u001b[1;33m)\u001b[0m\u001b[1;33m\u001b[0m\u001b[1;33m\u001b[0m\u001b[0m\n\u001b[0m\u001b[0;32m     84\u001b[0m \u001b[1;33m\u001b[0m\u001b[0m\n\u001b[0;32m     85\u001b[0m \u001b[1;33m\u001b[0m\u001b[0m\n",
      "\u001b[1;31mValueError\u001b[0m: could not convert string to float: 'No'"
     ]
    }
   ],
   "source": [
    "get_scores(X,y,'logistic')"
   ]
  },
  {
   "cell_type": "markdown",
   "metadata": {},
   "source": [
    "### Confusion matrix"
   ]
  },
  {
   "cell_type": "code",
   "execution_count": null,
   "metadata": {},
   "outputs": [],
   "source": [
    "y_pred"
   ]
  },
  {
   "cell_type": "code",
   "execution_count": null,
   "metadata": {},
   "outputs": [],
   "source": [
    "X_test_t"
   ]
  },
  {
   "cell_type": "code",
   "execution_count": null,
   "metadata": {},
   "outputs": [],
   "source": [
    "from sklearn.metrics import confusion_matrix, plot_confusion_matrix\n",
    "import seaborn as sn\n",
    "confusion_matrix(y_test, y_pred)"
   ]
  },
  {
   "cell_type": "code",
   "execution_count": null,
   "metadata": {},
   "outputs": [],
   "source": [
    "from sklearn.linear_model import LogisticRegression\n",
    "classification = y_predict(X_train_s, X_test_t, y_train_s, y_test, 'logistic')[1]\n",
    "plot_confusion_matrix(classification, X_test_t, y_test)"
   ]
  },
  {
   "cell_type": "markdown",
   "metadata": {},
   "source": [
    "### Copy df and improve the model"
   ]
  },
  {
   "cell_type": "code",
   "execution_count": null,
   "metadata": {},
   "outputs": [],
   "source": [
    "df_copy1 = df.copy()\n",
    "X2 = pd.concat([cat_df,num],axis=1)\n",
    "#df_copy1.drop(['reward','mailer_type'], axis=1, inplace = True)"
   ]
  },
  {
   "cell_type": "code",
   "execution_count": null,
   "metadata": {},
   "outputs": [],
   "source": [
    "#df_copy1.head()"
   ]
  },
  {
   "cell_type": "markdown",
   "metadata": {},
   "source": [
    "### feature importance"
   ]
  },
  {
   "cell_type": "code",
   "execution_count": null,
   "metadata": {},
   "outputs": [],
   "source": [
    "# logistic regression for feature importance\n",
    "from sklearn.datasets import make_classification\n",
    "from sklearn.linear_model import LogisticRegression\n",
    "from matplotlib import pyplot"
   ]
  },
  {
   "cell_type": "markdown",
   "metadata": {},
   "source": [
    "### Using IQR\n",
    "Dealing with outliers"
   ]
  },
  {
   "cell_type": "code",
   "execution_count": null,
   "metadata": {},
   "outputs": [],
   "source": [
    "iqr = np.percentile(df['average_balance'],75) - np.percentile(df['average_balance'],25)\n",
    "upper_limit = np.percentile(df['average_balance'],75) + 1.5*iqr"
   ]
  },
  {
   "cell_type": "code",
   "execution_count": null,
   "metadata": {},
   "outputs": [],
   "source": [
    "# Show plot after IQR\n",
    "df_iqr = df[(df['average_balance']<upper_limit)]\n",
    "sns.distplot(df_iqr['average_balance'])\n",
    "plt.show()"
   ]
  },
  {
   "cell_type": "markdown",
   "metadata": {},
   "source": [
    "### Using log transformation"
   ]
  },
  {
   "cell_type": "code",
   "execution_count": null,
   "metadata": {},
   "outputs": [],
   "source": [
    "'''def log_transfom_clean(x):\n",
    "    x = np.log(x)\n",
    "    if np.isfinite(x):\n",
    "        return x\n",
    "    else:\n",
    "        return np.NAN\n",
    "'''"
   ]
  },
  {
   "cell_type": "code",
   "execution_count": null,
   "metadata": {},
   "outputs": [],
   "source": [
    "'''for i in num.columns:\n",
    "    num[i] = list(map(log_transfom_clean, num[i]))\n",
    "    print(i)\n",
    "    sns.distplot(num[i])\n",
    "    plt.show()\n",
    "    '''"
   ]
  },
  {
   "cell_type": "markdown",
   "metadata": {},
   "source": [
    "### Function for crosstab"
   ]
  },
  {
   "cell_type": "code",
   "execution_count": null,
   "metadata": {},
   "outputs": [],
   "source": [
    "def crosstab(df,y):\n",
    "    for i in df.columns:\n",
    "        crosstab = pd.crosstab(df[i],y)\n",
    "        import scipy.stats as stats\n",
    "        [chi2, p_value, dof, arr] = stats.chi2_contingency(crosstab)\n",
    "        print('Feature ',i)\n",
    "        print(\"The p-value is: \",round(p_value,2))\n",
    "        print('The chi2 value is: ',round(chi2,2))\n",
    "        print('The degrees of freedom value is: ',round(dof,2))\n",
    "        print('The expected frequenciese are: ',arr)\n",
    "        print('=================================')\n"
   ]
  },
  {
   "cell_type": "code",
   "execution_count": null,
   "metadata": {},
   "outputs": [],
   "source": [
    "crosstab(cat_df,y)"
   ]
  },
  {
   "cell_type": "code",
   "execution_count": null,
   "metadata": {},
   "outputs": [],
   "source": [
    "y.shape"
   ]
  },
  {
   "cell_type": "markdown",
   "metadata": {},
   "source": [
    "### Multicolleanarity & VIF"
   ]
  },
  {
   "cell_type": "code",
   "execution_count": null,
   "metadata": {},
   "outputs": [],
   "source": [
    "num.isna().sum()"
   ]
  },
  {
   "cell_type": "code",
   "execution_count": null,
   "metadata": {},
   "outputs": [],
   "source": [
    "#num = num.dropna()"
   ]
  },
  {
   "cell_type": "code",
   "execution_count": null,
   "metadata": {},
   "outputs": [],
   "source": [
    "from statsmodels.stats.outliers_influence import variance_inflation_factor\n",
    "def vif_scores(df):\n",
    "    VIF_Scores = pd.DataFrame()\n",
    "    VIF_Scores['independent_features'] = num.columns\n",
    "    print(VIF_Scores)\n",
    "    VIF_Scores['vif_score'] = [variance_inflation_factor(num.values,i) for i in range(num.shape[1])]\n",
    "    return VIF_Scores"
   ]
  },
  {
   "cell_type": "code",
   "execution_count": null,
   "metadata": {
    "scrolled": true
   },
   "outputs": [],
   "source": [
    "#num_vif = num.iloc[:,:]\n",
    "vif_scores(num)"
   ]
  },
  {
   "cell_type": "code",
   "execution_count": null,
   "metadata": {},
   "outputs": [],
   "source": [
    "num3.isna().sum()"
   ]
  },
  {
   "cell_type": "code",
   "execution_count": null,
   "metadata": {},
   "outputs": [],
   "source": [
    "num1a = num.copy()\n",
    "num1b = num1a.drop(['average_balance'], axis=1)\n",
    "num1b.head()"
   ]
  },
  {
   "cell_type": "code",
   "execution_count": null,
   "metadata": {},
   "outputs": [],
   "source": [
    "def vif_scores(num1b):\n",
    "    VIF_Scores = pd.DataFrame()\n",
    "    VIF_Scores[\"independent_features\"] = num1b.columns\n",
    "    VIF_Scores[\"vif_score\"] = [variance_inflation_factor(num1b.values,i) for i in range(num1b.shape[1])]\n",
    "    return VIF_Scores\n",
    "\n",
    "#df3 = df3.iloc[:,:-1]\n",
    "vif_scores(num1b)"
   ]
  },
  {
   "cell_type": "code",
   "execution_count": null,
   "metadata": {},
   "outputs": [],
   "source": [
    "num1c = num.copy()\n",
    "num1d = num1c.drop(['balance_q1','balance_q2','balance_q3'], axis=1)\n",
    "num1d.head()"
   ]
  },
  {
   "cell_type": "code",
   "execution_count": null,
   "metadata": {},
   "outputs": [],
   "source": [
    "def vif_scores(num1d):\n",
    "    VIF_Scores = pd.DataFrame()\n",
    "    VIF_Scores[\"independent_features\"] = num1d.columns\n",
    "    VIF_Scores[\"vif_score\"] = [variance_inflation_factor(num1d.values,i) for i in range(num1d.shape[1])]\n",
    "    return VIF_Scores\n",
    "\n",
    "#df3 = df3.iloc[:,:-1]\n",
    "vif_scores(num1d)"
   ]
  },
  {
   "cell_type": "code",
   "execution_count": null,
   "metadata": {},
   "outputs": [],
   "source": [
    "#temp_df = pd.concat([num_vif,cat_df],axis=1).dropna()"
   ]
  },
  {
   "cell_type": "markdown",
   "metadata": {},
   "source": [
    "### Function for Chi-square"
   ]
  },
  {
   "cell_type": "code",
   "execution_count": null,
   "metadata": {},
   "outputs": [],
   "source": [
    "temp_df.isna().sum()"
   ]
  },
  {
   "cell_type": "code",
   "execution_count": null,
   "metadata": {},
   "outputs": [],
   "source": [
    "plots(pd.concat([num,y],axis=1), 'correlation matrix')"
   ]
  },
  {
   "cell_type": "code",
   "execution_count": null,
   "metadata": {},
   "outputs": [],
   "source": [
    "num_corr = plots(pd.concat([num1d,y],axis=1), 'correlation matrix')"
   ]
  },
  {
   "cell_type": "code",
   "execution_count": null,
   "metadata": {},
   "outputs": [],
   "source": [
    "num1d.shape"
   ]
  },
  {
   "cell_type": "code",
   "execution_count": null,
   "metadata": {},
   "outputs": [],
   "source": [
    "X1, y1 = samplings_type(X_train, y_train, 'downsampling')"
   ]
  },
  {
   "cell_type": "code",
   "execution_count": null,
   "metadata": {},
   "outputs": [],
   "source": [
    "'''model = load('model_name')\n",
    "scaler = load('scaler_name')\n",
    "\n",
    "new_client_df_processed = preprocess(new_client_df) # drop the unwanted columns, dummify_cat_cols, groups_cols_\n",
    "new_client_df_processed_scaled = scaler.transform(new_client_df_processed)\n",
    "model.predict(new_client_df_processed_scaled)'''"
   ]
  },
  {
   "cell_type": "code",
   "execution_count": null,
   "metadata": {},
   "outputs": [],
   "source": [
    "'''import pickle\n",
    "scaler.to_pickle('normalizer.pkl')\n",
    "model.to_pickle('logistic_model_with_normalizer_downsampling.pkl')\n",
    "\n",
    "scaler = load('normalizer.pkl')\n",
    "model = load('logistic_model_with_normlizer_downsampling.pkl')\n",
    "\n",
    "model.predict(scaler.transform(new_observation))\n",
    "\n",
    "results.to_pickle('logistic_model_measures')\n",
    "logistic_model_measures = pd.read_pickle('logistic_model_measures')\n",
    "logistic_model_measures'''"
   ]
  },
  {
   "cell_type": "markdown",
   "metadata": {},
   "source": [
    "### Function for test/train models "
   ]
  },
  {
   "cell_type": "code",
   "execution_count": null,
   "metadata": {},
   "outputs": [],
   "source": [
    "from sklearn.metrics import classification_report\n",
    "#print(classification_report(y_test, y_pred, target_names=['offer_accepted']))\n",
    "print(classification_report(y_test, y_pred, labels=[1, 2, 3]))"
   ]
  },
  {
   "cell_type": "markdown",
   "metadata": {},
   "source": [
    "### ROC curves and AUC\n",
    "The function takes both the true outcomes (0,1) from the test set and the predicted probabilities for the 1 class. The function returns the false positive rates for each threshold, true positive rates for each threshold and thresholds.\n",
    "\n",
    "ROC curves should be used when there are roughly equal numbers of observations for each class."
   ]
  },
  {
   "cell_type": "code",
   "execution_count": null,
   "metadata": {},
   "outputs": [],
   "source": [
    "from sklearn.metrics import roc_curve\n",
    "from sklearn.metrics import roc_auc_score\n",
    "from matplotlib import pyplot\n",
    "# generate a no skill prediction (majority class)\n",
    "ns_probs = [0 for _ in range(len(y_test))]\n",
    "# predict probabilities\n",
    "lr_probs = classification.predict_proba(X_ss_test_df)\n",
    "# keep probabilities for the positive outcome only\n",
    "lr_probs = lr_probs[:, 1]\n",
    "# calculate scores\n",
    "ns_auc = roc_auc_score(y_test, ns_probs)\n",
    "lr_auc = roc_auc_score(y_test, lr_probs)\n",
    "# summarize scores\n",
    "print('No Skill: ROC AUC=%.3f' % (ns_auc))\n",
    "print('Logistic: ROC AUC=%.3f' % (lr_auc))\n",
    "# calculate roc curves\n",
    "ns_fpr, ns_tpr, _ = roc_curve(y_test, ns_probs)\n",
    "lr_fpr, lr_tpr, _ = roc_curve(y_test, lr_probs)\n",
    "# plot the roc curve for the model\n",
    "pyplot.plot(ns_fpr, ns_tpr, linestyle='--', label='No Skill')\n",
    "pyplot.plot(lr_fpr, lr_tpr, marker='.', label='Logistic')\n",
    "# axis labels\n",
    "pyplot.xlabel('False Positive Rate')\n",
    "pyplot.ylabel('True Positive Rate')\n",
    "# show the legend\n",
    "pyplot.legend()\n",
    "# show the plot\n",
    "pyplot.show()"
   ]
  },
  {
   "cell_type": "markdown",
   "metadata": {},
   "source": [
    "### Precision-Recall curves\n",
    "The precision and recall can be calculated for thresholds that takes the true output values and the probabilities for the positive class as input and returns the precision, recall and threshold values.\n",
    "\n",
    "Precision-Recall curves should be used when there is a moderate to large class imbalance."
   ]
  },
  {
   "cell_type": "code",
   "execution_count": null,
   "metadata": {},
   "outputs": [],
   "source": [
    "# calculate precision-recall curve\n",
    "#precision, recall, thresholds = precision_recall_curve(y_test, probs)\n",
    "# calculate F1 score\n",
    "#f1 = f1_score(y_test, yhat)\n",
    "# calculate precision-recall AUC\n",
    "\n",
    "from sklearn.metrics import precision_recall_curve\n",
    "from sklearn.metrics import f1_score\n",
    "from sklearn.metrics import auc\n",
    "#auc = auc(recall, precision)\n",
    "# predict class values\n",
    "yhat = classification.predict(X_ss_test_df)\n",
    "lr_precision, lr_recall, _ = precision_recall_curve(y_test, lr_probs)\n",
    "lr_f1, lr_auc = f1_score(y_test, yhat), auc(lr_recall, lr_precision)\n",
    "# summarize scores\n",
    "print('Logistic: f1=%.3f auc=%.3f' % (lr_f1, lr_auc))\n",
    "# plot the precision-recall curves\n",
    "no_skill = len(y_test[y_test==1]) / len(y_test)\n",
    "pyplot.plot([0, 1], [no_skill, no_skill], linestyle='--', label='No Skill')\n",
    "pyplot.plot(lr_recall, lr_precision, marker='.', label='Logistic')\n",
    "# axis labels\n",
    "pyplot.xlabel('Recall')\n",
    "pyplot.ylabel('Precision')\n",
    "# show the legend\n",
    "pyplot.legend()\n",
    "# show the plot\n",
    "pyplot.show()"
   ]
  },
  {
   "cell_type": "code",
   "execution_count": null,
   "metadata": {},
   "outputs": [],
   "source": [
    "# Predict testset"
   ]
  }
 ],
 "metadata": {
  "kernelspec": {
   "display_name": "Python 3",
   "language": "python",
   "name": "python3"
  },
  "language_info": {
   "codemirror_mode": {
    "name": "ipython",
    "version": 3
   },
   "file_extension": ".py",
   "mimetype": "text/x-python",
   "name": "python",
   "nbconvert_exporter": "python",
   "pygments_lexer": "ipython3",
   "version": "3.8.5"
  }
 },
 "nbformat": 4,
 "nbformat_minor": 4
}
